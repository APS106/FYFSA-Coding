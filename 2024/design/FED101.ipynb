{
 "cells": [
  {
   "cell_type": "markdown",
   "id": "6e17c1d5",
   "metadata": {},
   "source": [
    "# Fabrication and Engineering Design 101\n",
    "\n",
    "## Python Fundamentals\n",
    "\n",
    "### Lecture Structure\n",
    "1. [Using Python as a Calculator](#section1)\n",
    "2. [Variables and Memory](#section2)\n",
    "3. [Different Types of Variables](#section3)\n",
    "4. [Augmented Assignment Operators](#section4)\n",
    "5. [Let's Code!](#section5)"
   ]
  },
  {
   "cell_type": "markdown",
   "id": "b33f50f3",
   "metadata": {},
   "source": [
    "<a id='section1'></a>\n",
    "\n",
    "## 1. Using Python as a Calculator\n",
    "\n",
    "Unlike some other languages, Python is dynamically typed.  It is interpreted language and can run line by line.  "
   ]
  },
  {
   "cell_type": "markdown",
   "id": "8eaf2f77",
   "metadata": {},
   "source": [
    "### Arithmetic Operators\n",
    "\n",
    "| Operator | Operation | Expression | English | Result |\n",
    "| --- | --- | --- | --- | --- |\n",
    "| + | addition | 11 + 23 | 11 plus 23 | 34 |\n",
    "| - | subtraction | 23 - 52 | 23 minus 52 | -29 |\n",
    "| * | multiplication | 4 * 5 | 4 times 5 | 20 |\n",
    "| / | division | 9 / 2 | 9 divided by 2 | 4.5 |\n",
    "| // | integer division | 9 // 2 | 9 divided by 2 | 4 |\n",
    "| ** | exponentiation | 2 ** 5 | 2 to the power 5 | 32 |\n",
    "| % | modulo (remainder) | 9 % 2 | 9 mod 2 | 1 |\n",
    "\n",
    "The first 3 (addition, subtraction, multiplication) should be easy - with the slight issue that multiplication is represented by `*`. This is pretty common in (almost) all programming languages.\n",
    "\n",
    "#### Division\n",
    "\n",
    "Division comes in two flavours.\n",
    "\n",
    "First, the `/` operator divides a number by another number (integer or decimal) and returns and represents the result **as a `float`** (a value type with decimal places - we'll discuss later this lecture).\n",
    "\n",
    "The second division operator is integer division. It divides the first number by the second with the result being **truncated** to an integer value. \"Truncated\" means that everything after the decimal is thrown away.  NOTE THAT WE SAID TRUNCATED, NOT ROUNDED.\n",
    "\n",
    "If the two operands of `//` (the two numbers being divided) are both `int`, then the result will be an `int`. If either of the two operands is a `float`, then the result will be a `float` (even though it will have a whole number value).\n",
    "\n",
    "#### Exponentiation\n",
    "\n",
    "Python has a nice exponentiation operator `**`\n",
    "\n",
    "#### Modulo\n",
    "\n",
    "The last operator may be new to you. It is the modulo operator repesented by `%`. It is also a kind of division but it results in the **remainder** after dividing the operands. "
   ]
  },
  {
   "cell_type": "code",
   "execution_count": null,
   "id": "850f4f06",
   "metadata": {},
   "outputs": [],
   "source": [
    "3+4"
   ]
  },
  {
   "cell_type": "code",
   "execution_count": null,
   "id": "d2e96477",
   "metadata": {},
   "outputs": [],
   "source": [
    "4*5"
   ]
  },
  {
   "cell_type": "code",
   "execution_count": null,
   "id": "07ba6ffa",
   "metadata": {},
   "outputs": [],
   "source": [
    "10/3"
   ]
  },
  {
   "cell_type": "code",
   "execution_count": null,
   "id": "b052639f",
   "metadata": {},
   "outputs": [],
   "source": [
    "2**3"
   ]
  },
  {
   "cell_type": "code",
   "execution_count": null,
   "id": "433af21c",
   "metadata": {},
   "outputs": [],
   "source": [
    "10%3"
   ]
  },
  {
   "cell_type": "markdown",
   "id": "273d1378",
   "metadata": {},
   "source": [
    "### Arithmetic Operator Precedence\n",
    "\n",
    "Just as you learned in high school, when you have a complicated expression some of the operators are executed before others. In Python the operator precedence is as follows.\n",
    "\n",
    "| Operator | Precedence |\n",
    "| --- | --- | \n",
    "| ** | highest | \n",
    "| - (negation) | | \n",
    "| \\*, /, //, % | (evaluate left-to-right) | \n",
    "| + (addition, - (subtraction) | lowest (evaluate left-to-right) |\n",
    "See Gries, Table 2, p. 15."
   ]
  },
  {
   "cell_type": "code",
   "execution_count": null,
   "id": "4809b586",
   "metadata": {},
   "outputs": [],
   "source": [
    "25 + 30 / 6"
   ]
  },
  {
   "cell_type": "code",
   "execution_count": null,
   "id": "46db7417",
   "metadata": {},
   "outputs": [],
   "source": [
    "5 + 4 ** 2"
   ]
  },
  {
   "cell_type": "markdown",
   "id": "fcca3792",
   "metadata": {},
   "source": [
    "<a id='section2'></a>\n",
    "\n",
    "## 2. Variables and Memory\n",
    "\n",
    "The most basic thing you can do in a computer program is to assign a value to a variable. We'll get into more detail later in this lecture, but for now, you can think of a variable as a **named** location in memory and the value as the bits (i.e., 0/1 values) that represents the quantity that is stored in that location.\n",
    "\n",
    "Here are two lines in a Python program. Each line does 3 things:\n",
    "- creates a variable\n",
    "- gives it a name\n",
    "- assigns a value"
   ]
  },
  {
   "cell_type": "code",
   "execution_count": null,
   "id": "dc26fb3d",
   "metadata": {},
   "outputs": [],
   "source": [
    "base = 20\n",
    "height = 12\n",
    "area = base*height"
   ]
  },
  {
   "cell_type": "markdown",
   "id": "fe11bb38",
   "metadata": {},
   "source": [
    "So now we have a variable named `base` with a value of 20 and a variable named `height` with a value of 12.  There is also a variable named area with a value of 20 x 12 (which equals 240).  But we didn't get any output?!\n",
    "\n",
    "### Output: The `print` statement\n",
    "\n",
    "You will have noticed when I ran the above code, it didn't look like anything happened. Stuff did happen (as described above) but since there was no output, you couldn't tell. \n",
    "\n",
    "We'll get into this in (much more) depth later in the course. For now, you should know that there exists a function called `print` which prints a value to the screen. Whenever you need to output something, you will need to use a `print` function.\n",
    "\n",
    "For example:"
   ]
  },
  {
   "cell_type": "code",
   "execution_count": null,
   "id": "35e5934d",
   "metadata": {},
   "outputs": [],
   "source": [
    "print(20)"
   ]
  },
  {
   "cell_type": "code",
   "execution_count": null,
   "id": "18a23968",
   "metadata": {},
   "outputs": [],
   "source": [
    "print(base)"
   ]
  },
  {
   "cell_type": "code",
   "execution_count": null,
   "id": "d2ef3d79",
   "metadata": {},
   "outputs": [],
   "source": [
    "print(height)"
   ]
  },
  {
   "cell_type": "code",
   "execution_count": null,
   "id": "225fcb68",
   "metadata": {},
   "outputs": [],
   "source": [
    "print(base*height)\n",
    "print(area)"
   ]
  },
  {
   "cell_type": "markdown",
   "id": "a3f3f301",
   "metadata": {},
   "source": [
    "### Variable Names\n",
    "\n",
    "Python has a two rules for legal variable names:\n",
    "1. Names must start with a letter or \\_ (an underscore).\n",
    "2. Names must contain only letters, digits, and \\_. [No emojis in your variables names!]\n",
    "\n",
    "By convention, it is good Python style to use `pothole_case`. Create meaningful variables names with underscore separating the \"words\" in the name (if there is more than one meaningful word)."
   ]
  },
  {
   "cell_type": "code",
   "execution_count": null,
   "id": "45cde6b9",
   "metadata": {},
   "outputs": [],
   "source": [
    "time_to_launch = 20 # maybe used in some sort of aerospace application?\n",
    "\n",
    "family_name = \"Smith\" # for a human resources application\n",
    "\n",
    "learning_rate = 0.01 # for machine learning code\n",
    "\n",
    "#HINT: THE FOLLOWING ARE NOT HELPFUL NAMES\n",
    "nom = 1.2\n",
    "nomnomnom = 0.0000012\n",
    "nomnomnomnomnom = 5\n",
    "nomnomnomnomnomnomnom = 'nomnom string'"
   ]
  },
  {
   "cell_type": "markdown",
   "id": "7484d2ad",
   "metadata": {},
   "source": [
    "### Memory Locations\n",
    "\n",
    "*Everything* in Python has a location in memory. **This is different than most languages!** Each location in memory has an *address*. You can think of this as similar to a house address. Just as \"40 St. George St\" refers to a location in Toronto, each location has a corresponding \"id\" which maps to its location in memory.\n",
    "\n",
    "For example:"
   ]
  },
  {
   "cell_type": "code",
   "execution_count": null,
   "id": "76a04356",
   "metadata": {},
   "outputs": [],
   "source": [
    "print(id(base))"
   ]
  },
  {
   "cell_type": "code",
   "execution_count": null,
   "id": "60b5e69c",
   "metadata": {},
   "outputs": [],
   "source": [
    "print(id(20))"
   ]
  },
  {
   "cell_type": "markdown",
   "id": "8a02ddc2",
   "metadata": {},
   "source": [
    "### Assignment Statements\n",
    "\n",
    "<div class=\"alert alert-block alert-warning\">\n",
    "This is a frequent source of error and mis-understanding.\n",
    "</div>\n",
    "\n",
    "An assignment statement is always executed as follows:\n",
    "1. The expression to the right of the `=` sign is evaluated. \"Evaluated\" means that the computer figures out what quantity it represents. That quantity is someplace in memory (i.e., it has a memory address) and that address is figured out.\n",
    "2. The memory address of the evaluated expression is then stored in the variable on the left side of the `=` sign.\n",
    "\n",
    "The notion of evaluation may sound strange at the moment because a numeric constant (like 20) just evaluates to itself. So it seems like this is more complicated than it has to be. As we will see, we can have more than just a constant on the right-hand side of an assignment. And memorizing the following rule will help you in those more complicated cases: \n",
    "\n",
    "<font color=red>first evaluate the thing on the right, then assign its address to the thing on the left</font>.\n",
    "\n",
    "Let's go through a simple example."
   ]
  },
  {
   "cell_type": "code",
   "execution_count": null,
   "id": "7ad74701",
   "metadata": {},
   "outputs": [],
   "source": [
    "difference = 20\n",
    "print(difference)"
   ]
  },
  {
   "cell_type": "markdown",
   "id": "c98418d2",
   "metadata": {},
   "source": [
    "Following our rule, the thing in the right of the `=` is evaluated (to 20, obviously) and then it's address is figured out. The address of 20 is:"
   ]
  },
  {
   "cell_type": "code",
   "execution_count": null,
   "id": "2a1bac89",
   "metadata": {
    "scrolled": true
   },
   "outputs": [],
   "source": [
    "print(id(difference))\n",
    "print(id(20))\n"
   ]
  },
  {
   "cell_type": "code",
   "execution_count": null,
   "id": "5812c114",
   "metadata": {},
   "outputs": [],
   "source": [
    "double = 2 * difference\n",
    "print(double)"
   ]
  },
  {
   "cell_type": "code",
   "execution_count": null,
   "id": "5cafdf71",
   "metadata": {},
   "outputs": [],
   "source": [
    "print(id(double))\n",
    "print(id(40))"
   ]
  },
  {
   "cell_type": "code",
   "execution_count": null,
   "id": "dffd34e5",
   "metadata": {},
   "outputs": [],
   "source": [
    "difference = 5\n",
    "print(difference)"
   ]
  },
  {
   "cell_type": "code",
   "execution_count": null,
   "id": "1b2c51cb",
   "metadata": {},
   "outputs": [],
   "source": [
    "print(id(difference))\n",
    "print(id(5))\n",
    "print(id(20))"
   ]
  },
  {
   "cell_type": "markdown",
   "id": "50b263c8",
   "metadata": {},
   "source": [
    "<a id='section3'></a>\n",
    "<div class=\"alert alert-block alert-info\">\n",
    "<big><b>Where Are We So Far</b></big>\n",
    "<ul>  \n",
    "    <li><tt>print</tt> statements to output something to the screen</li>  \n",
    " <li>assignment statements that create a variable and assign it a value</li>  \n",
    " <li>the rule for figuring out what assignment statements are really doing</li>  \n",
    "</ul>  \n",
    "</div>\n",
    "\n",
    "### 3. Different Types of Variables\n",
    "\n",
    "So far we've mostly seen examples of assigning numbers to variables. And mostly, we've only seen a sub-class of numbers being assigned: integers.\n",
    "\n",
    "To start, let's talk about 3 types of variables: `int` (represents integers), `float` (represents continuous numbers), and `str` (represents a strong of one or more characters).\n",
    "\n",
    "A *type* is a set of values and a set of operations (e.g., +,-, etc. we'll see more of these in a second) that can be performed on the values. \n",
    "\n",
    "#### Types `int` and `float`\n",
    "\n",
    "Numeric values are represented in Python as `int` and `float` type. (`float` is short for \"floating-point\" number which has to do with how you represent fractional numbers with only bits. Not something we have to be concerned about for now.) We've seen examples of `int` variables, here are a couple of `float` variables."
   ]
  },
  {
   "cell_type": "code",
   "execution_count": null,
   "id": "59798774",
   "metadata": {},
   "outputs": [],
   "source": [
    "distance = 5.3\n",
    "print(distance)\n",
    "time = 13.4\n",
    "print(time)\n",
    "print(type(time))"
   ]
  },
  {
   "cell_type": "code",
   "execution_count": null,
   "id": "fce8d73f",
   "metadata": {},
   "outputs": [],
   "source": [
    "approx_time = 13\n",
    "print(type(approx_time))"
   ]
  },
  {
   "cell_type": "markdown",
   "id": "6536ed02",
   "metadata": {},
   "source": [
    "#### Type `str`\n",
    "\n",
    "A *string literal* is a sequence of characters. In Python, this type is called `str`. Strings in Python start and end with a single quotes (') or double quotes (\") (or even triple quotes - but we'll get to that later). Just remember that you need to start and end a string literal with the same quote mark. A string can be made up of letters, numbers, and special characters. For example:"
   ]
  },
  {
   "cell_type": "code",
   "execution_count": null,
   "id": "72320649",
   "metadata": {},
   "outputs": [],
   "source": [
    "greeting = 'hello'\n",
    "print(greeting)\n",
    "print(\"hello\\nagain\")\n",
    "\n",
    "print('how are you?')\n",
    "print(\"short- and long-term\")"
   ]
  },
  {
   "cell_type": "markdown",
   "id": "288307f5",
   "metadata": {},
   "source": [
    "If you start a string literal with a single-quote you need to end it with a single-quote. Similarly, if it starts with a double-quote, a double-quote ends it."
   ]
  },
  {
   "cell_type": "code",
   "execution_count": null,
   "id": "ad264ce1",
   "metadata": {},
   "outputs": [],
   "source": [
    "welcome = \"Welcome to 'APS106'!\"\n",
    "print(welcome)"
   ]
  },
  {
   "cell_type": "code",
   "execution_count": null,
   "id": "6724a447",
   "metadata": {},
   "outputs": [],
   "source": [
    "bad_str = 'Start and end\"\n",
    "print(bad_str)"
   ]
  },
  {
   "cell_type": "markdown",
   "id": "5631e906",
   "metadata": {},
   "source": [
    "Just like an `int` and `float` variables store integers and floating point values, a `str` variable stores string literals.\n",
    "\n",
    "### Expressions\n",
    "\n",
    "You already know about mathematical expressions like `2+5-13`. Such expressions: evaluate to some value and are made up of *operators* (e.g., +, -) and *operands* (the values that the operators operate on).\n",
    "\n",
    "Actually, expressions do not have to have operators. A number by itself or a variable is an expression. When we talked about evaluating the thing after the = sign in an assignment statement, that thing is an expression. So this means we can expand our assignment statements to have any expression on the right-hand side."
   ]
  },
  {
   "cell_type": "code",
   "execution_count": null,
   "id": "a88ce33c",
   "metadata": {},
   "outputs": [],
   "source": [
    "base = 20\n",
    "height = 12\n",
    "area = base * height / 2\n",
    "print(area)"
   ]
  },
  {
   "cell_type": "code",
   "execution_count": null,
   "id": "e4173ccb",
   "metadata": {},
   "outputs": [],
   "source": [
    "celsius = 22\n",
    "fahrenheit = celsius * 9/5 + 32\n",
    "print(fahrenheit)"
   ]
  },
  {
   "cell_type": "markdown",
   "id": "200bf777",
   "metadata": {},
   "source": [
    "Notice that the examples above have a variable to the right of the = sign. This is fine as a variable will just evaluate to the value that it has been assigned.\n",
    "\n",
    "The rules for figuring out what assignments statements are doing remain the same. The change is that the evaluation of the expression on the right-hand side is more complicated when you have something other than a number. \n",
    "\n",
    "### Arithmetic Operators\n",
    "\n",
    "So what are the operators on `int`s and `float`s?\n",
    "\n",
    "| Operator | Operation | Expression | English | Result |\n",
    "| --- | --- | --- | --- | --- |\n",
    "| + | addition | 11 + 23 | 11 plus 23 | 34 |\n",
    "| - | subtraction | 23 - 52 | 23 minus 52 | -29 |\n",
    "| * | multiplication | 4 * 5 | 4 times 5 | 20 |\n",
    "| / | division | 9 / 2 | 9 divided by 2 | 4.5 |\n",
    "| // | integer division | 9 // 2 | 9 divided by 2 | 4 |\n",
    "| ** | exponentiation | 2 ** 5 | 2 to the power 5 | 32 |\n",
    "| % | modulo (remainder) | 9 % 2 | 9 mod 2 | 1 |\n",
    "See Gries, Table 1, p. 13.\n",
    "\n",
    "#### Division\n",
    "\n",
    "Division comes in two flavours.\n",
    "\n",
    "First, the `/` operator divides a number (`int` or `float`) by another number  (`int` or `float`) and returns and represents the result **as a `float`**."
   ]
  },
  {
   "cell_type": "code",
   "execution_count": null,
   "id": "75595a7f",
   "metadata": {},
   "outputs": [],
   "source": [
    "x = 9 / 2\n",
    "print(x)\n",
    "y = x / 5\n",
    "print(y)"
   ]
  },
  {
   "cell_type": "markdown",
   "id": "bac18c58",
   "metadata": {},
   "source": [
    "**Q: What happens if the result is an integer?**"
   ]
  },
  {
   "cell_type": "code",
   "execution_count": null,
   "id": "c9e8b919",
   "metadata": {},
   "outputs": [],
   "source": [
    "x = 8/2\n",
    "print(x)"
   ]
  },
  {
   "cell_type": "markdown",
   "id": "fddb10ce",
   "metadata": {},
   "source": [
    "**A: ??**"
   ]
  },
  {
   "cell_type": "markdown",
   "id": "7b1ebd14",
   "metadata": {},
   "source": [
    "The second division operator is integer division. It divides the first number (`int` or `float`) by the second (`int` or `float`) with the result being **truncated** to an integer value. \"Truncated\" means that everything after the decimal is thrown away. "
   ]
  },
  {
   "cell_type": "code",
   "execution_count": null,
   "id": "4a8f86a4",
   "metadata": {},
   "outputs": [],
   "source": [
    "print(3/1.1)\n",
    "print(3//1.1)"
   ]
  },
  {
   "cell_type": "code",
   "execution_count": null,
   "id": "93026415",
   "metadata": {},
   "outputs": [],
   "source": [
    "x = 8//2\n",
    "print(x)\n",
    "y = x // 3\n",
    "print(y)\n",
    "z = x / 3\n",
    "print(z)"
   ]
  },
  {
   "cell_type": "markdown",
   "id": "6da9f3cf",
   "metadata": {},
   "source": [
    "If the two operands of `//` (the two numbers being divided) are both `int`, then the result will be an `int`. If either of the two operands is a `float`, then the result will be a `float` (even though it will have a whole number value)."
   ]
  },
  {
   "cell_type": "code",
   "execution_count": null,
   "id": "083daaa0",
   "metadata": {},
   "outputs": [],
   "source": [
    "x = 7//2\n",
    "print(x)\n",
    "y = 7.0//2\n",
    "print(y)\n",
    "z = 7//2.0\n",
    "print(z)"
   ]
  },
  {
   "cell_type": "markdown",
   "id": "e5c34ad5",
   "metadata": {
    "scrolled": true
   },
   "source": [
    "#### Exponentiation\n",
    "\n",
    "Python has a nice exponentiation operator `**` that takes `int`s and `float`s."
   ]
  },
  {
   "cell_type": "code",
   "execution_count": null,
   "id": "53eedf50",
   "metadata": {},
   "outputs": [],
   "source": [
    "x = 2**5\n",
    "print(x)\n",
    "y = 3.5**5.7\n",
    "print(y)"
   ]
  },
  {
   "cell_type": "markdown",
   "id": "f6b0061c",
   "metadata": {
    "scrolled": true
   },
   "source": [
    "#### Modulo\n",
    "\n",
    "The last operator may be new to you. It is the modulo operator repesented by `%`. It is also a kind of division but it results in the **remainder** after dividing the operands. "
   ]
  },
  {
   "cell_type": "code",
   "execution_count": null,
   "id": "cc9cf388",
   "metadata": {},
   "outputs": [],
   "source": [
    "x = 8 % 3\n",
    "print(x)\n",
    "y = 9 % 3\n",
    "print(y)\n",
    "z = 137 % 52\n",
    "print(z)"
   ]
  },
  {
   "cell_type": "markdown",
   "id": "67a11b7a",
   "metadata": {},
   "source": [
    "The modulo operator can also take negative numbers and `float`s! It gets a bit complicated. See Gries, p. 11 and 12.\n",
    "\n",
    "### Arithmetic Operator Precedence\n",
    "\n",
    "Just as you learned in high school, when you have a complicated expression some of the operators are executed before others. In Python the operator precedence is as follows.\n",
    "\n",
    "| Operator | Precedence |\n",
    "| --- | --- | \n",
    "| ** | highest | \n",
    "| - (negation) | | \n",
    "| \\*, /, //, % | (evaluate left-to-right) | \n",
    "| + (addition, - (subtraction) | lowest (evaluate left-to-right) |\n",
    "See Gries, Table 2, p. 15."
   ]
  },
  {
   "cell_type": "code",
   "execution_count": null,
   "id": "bc777735",
   "metadata": {},
   "outputs": [],
   "source": [
    "x = 2 + 5 * 2**2\n",
    "print(x)\n",
    "y = x % 10 * 3 + 40 / 6\n",
    "print(y)"
   ]
  },
  {
   "cell_type": "markdown",
   "id": "5a786d84",
   "metadata": {},
   "source": [
    "You can use parenthesis to over-ride the default precedence and this is often a good idea in order to write code that can be understood."
   ]
  },
  {
   "cell_type": "code",
   "execution_count": null,
   "id": "006f4a7c",
   "metadata": {},
   "outputs": [],
   "source": [
    "y = x % 10 * (3 + 40) / 6\n",
    "print(y)"
   ]
  },
  {
   "cell_type": "code",
   "execution_count": null,
   "id": "192ca7d7",
   "metadata": {},
   "outputs": [],
   "source": [
    "#fahrenheit = celsius * 9/5 + 32\n",
    "\n",
    "fahr = 212\n",
    "celsius = fahr - 32 * 5 / 9\n",
    "print(celsius)"
   ]
  },
  {
   "cell_type": "code",
   "execution_count": null,
   "id": "245db8fa",
   "metadata": {},
   "outputs": [],
   "source": [
    "#celsius = (fahrenheit-32) / (9/5)\n",
    "\n",
    "fahr = 212\n",
    "celsius = (fahr - 32) * 5 / 9\n",
    "print(celsius)"
   ]
  },
  {
   "cell_type": "code",
   "execution_count": null,
   "id": "a81b0384",
   "metadata": {},
   "outputs": [],
   "source": [
    "fahr = 212\n",
    "celsius = (fahr - 32) * (5/9)\n",
    "print(celsius)"
   ]
  },
  {
   "cell_type": "markdown",
   "id": "951998e9",
   "metadata": {},
   "source": [
    "It is generally a good idea to use parenthesis for any statement beyond the most trivial. Make if clear what you mean will help when you are trying to debug your code later."
   ]
  },
  {
   "cell_type": "markdown",
   "id": "04f81ab3",
   "metadata": {},
   "source": [
    "<a id='section4'></a>\n",
    "## 4. Augmented Assignment Operators\n",
    "\n",
    "\n",
    "| Operator | Expression | Identical Expression | \n",
    "| --- | --- | --- | \n",
    "| += | x += 2 | x = x + 2 |\n",
    "| -= | x -= 3 | x = x - 3 |\n",
    "| \\*= | x \\*= 5 | x = x * 5 |\n",
    "| /= | x /= 2 | x = x / 2 | \n",
    "| //= | x //= 2 | x = x // 2 |\n",
    "| \\*\\*= | x \\*\\*= 3 | x = x ** 3 |\n",
    "| %= | x %= 3 | x = x % 3 |\n",
    "See Gries, Table 3, p. 22.\n",
    "\n",
    "The thing to the right of the augmented operator is just an expression and so you can do more complicated things.\n",
    "\n",
    "It is often the case that we want to evaluate some expression using a variable and store that calculation back in the same variable. For example, if you wanted to count something (like the number of perfect squares less than or equal to some number that a user enters), it makes sense to add one to a variable every time you find another perfect square.\n",
    "\n",
    "Let's write that code."
   ]
  },
  {
   "cell_type": "code",
   "execution_count": null,
   "id": "5b999e7d",
   "metadata": {},
   "outputs": [],
   "source": [
    "max_num = int(input(\"Give me an integer: \"))\n",
    "\n",
    "base = 1\n",
    "count = 0\n",
    "while base * base <= max_num:\n",
    "    count = count + 1\n",
    "    base = base + 1\n",
    "\n",
    "print(\"There are\", count, \"perfect squares less than\", max_num)\n"
   ]
  },
  {
   "cell_type": "markdown",
   "id": "32442976",
   "metadata": {},
   "source": [
    "We can re-write the above code using \"augmented operators\" that combine `+` and `=`."
   ]
  },
  {
   "cell_type": "code",
   "execution_count": null,
   "id": "b1007c9f",
   "metadata": {
    "scrolled": true
   },
   "outputs": [],
   "source": [
    "max_num = int(input(\"Give me an integer: \"))\n",
    "\n",
    "base = 1\n",
    "count = 0\n",
    "while base * base <= max_num:\n",
    "    count += 1\n",
    "    base += 1\n",
    "\n",
    "print(\"There are\", count, \"perfect squares less than\", max_num)"
   ]
  },
  {
   "cell_type": "markdown",
   "id": "f9d939f5",
   "metadata": {},
   "source": [
    "This code does exactly the same thing: we've just abbreviated by using augmented operators."
   ]
  },
  {
   "cell_type": "markdown",
   "id": "c9d30183",
   "metadata": {},
   "source": [
    "We can do this with all the standard arithmetic operators."
   ]
  },
  {
   "cell_type": "code",
   "execution_count": null,
   "id": "6b6b5fcc",
   "metadata": {},
   "outputs": [],
   "source": [
    "x = 17\n",
    "x //= 3\n",
    "print(x)"
   ]
  },
  {
   "cell_type": "code",
   "execution_count": null,
   "id": "ea7c81fa",
   "metadata": {},
   "outputs": [],
   "source": [
    "y = 7\n",
    "y *= 2\n",
    "print(y)"
   ]
  },
  {
   "cell_type": "code",
   "execution_count": null,
   "id": "8eb18b2d",
   "metadata": {},
   "outputs": [],
   "source": [
    "z = 20\n",
    "z %= 6\n",
    "print(z)"
   ]
  },
  {
   "cell_type": "code",
   "execution_count": null,
   "id": "1ea45472",
   "metadata": {},
   "outputs": [],
   "source": [
    "#remember: evaluate right hand side of equation first\n",
    "\n",
    "x = 7\n",
    "y = 3\n",
    "x += y**2 - (4 * 3) - y\n",
    "print(x)"
   ]
  },
  {
   "cell_type": "markdown",
   "id": "8e0ba64a",
   "metadata": {},
   "source": [
    "The standard rules apply: evaluate the expression on the right-hand side and then increment (in the case of `+=`) the variable on the left-hand side."
   ]
  },
  {
   "cell_type": "markdown",
   "id": "9292cb84",
   "metadata": {},
   "source": [
    "<div class=\"alert alert-block alert-info\">\n",
    "<big><b>Where Are We Now</b></big>\n",
    "<ul>  \n",
    "    <li>Three variables types: <tt>int</tt>, <tt>float</tt>, and <tt>str</tt></li>\n",
    "    <li>Arithmetic expression combine operators, variables, constants</li>\n",
    "    <li>Arithmetic operators have precedence which can be over-ridden with parentheses</li>\n",
    "        <li>Augmented operators combine an operator with an assignment back to the variable being operated on</li>\n",
    "\n",
    "</ul>  \n",
    "</div>\n"
   ]
  },
  {
   "cell_type": "markdown",
   "id": "e13e5aea",
   "metadata": {},
   "source": [
    "# Functions, Input & Output, Importing Modules\n",
    "\n",
    "### Structure\n",
    "1. [Why do we write functions?](#section1)\n",
    "2. [Function Call](#section2)\n",
    "3. [Back to Evaluation and Expressions](#section3)\n",
    "4. [Breakout Session 1](#section4)\n",
    "5. [Built-in Functions](#section5)\n",
    "6. [Function Help](#section6)\n",
    "7. [Output](#section7)\n",
    "8. [Input](#section8)\n",
    "9. [Breakout Session 2](#section9)\n",
    "10. [Importing Functions and Modules](#section10)\n",
    "11. [Defining Your Own Functions](#section11)"
   ]
  },
  {
   "cell_type": "markdown",
   "id": "7b4de121",
   "metadata": {},
   "source": [
    "<a id='section1'></a>\n",
    "## 1. Why do we write functions?\n",
    "Let's imagine that the algorithm takes 10 lines of code. It would be painful and inefficient if you had to write the exact same 10 lines of code everytime you wanted to calculate sine."
   ]
  },
  {
   "cell_type": "markdown",
   "id": "8582ea41",
   "metadata": {},
   "source": [
    "```python\n",
    "# Note: this code won't run as it is just a sketch of what you would need to do\n",
    "# without functions\n",
    "\n",
    "angle1 = 1.57 # radians\n",
    "# 10 lines to calculate sin\n",
    "# sin_angle1 = <something>\n",
    "\n",
    "angle2 = 3.14 # radians\n",
    "# 10 lines to calculate sin\n",
    "# sin_angle2 = <something>\n",
    "\n",
    "result = sin_angle1 + sin_angle2\n",
    "print(result)\n",
    "```"
   ]
  },
  {
   "cell_type": "markdown",
   "id": "a4107488",
   "metadata": {},
   "source": [
    "Does anyone actually know how to calculate sine? This is what the code above would look like if I actually incerted code to compute the sine of an angle."
   ]
  },
  {
   "cell_type": "code",
   "execution_count": null,
   "id": "33a7eeec",
   "metadata": {},
   "outputs": [],
   "source": [
    "# The first angle\n",
    "angle1 = 1.57 # radians \n",
    "\n",
    "\"\"\"\n",
    "Code to compute sine (start)\n",
    "\"\"\"\n",
    "multiplier = -1.0\n",
    "sin_angle1 = angle1\n",
    "n = 21\n",
    "factorials = []\n",
    "memoized_to = n\n",
    "prev = 1\n",
    "factorials.append(1)\n",
    "\n",
    "for i in range(1, n + 1):\n",
    "    factorials.append(i * prev)\n",
    "    prev = factorials[i]\n",
    "\n",
    "for currentdegree in range(3, (n + 1), 2):\n",
    "\n",
    "    sin_angle1 += ( (angle1 ** currentdegree) / factorials[currentdegree] * multiplier )\n",
    "\n",
    "    multiplier *= -1\n",
    "\"\"\"\n",
    "Code to compute sine (end)\n",
    "\"\"\"\n",
    "\n",
    "# The second angle\n",
    "angle2 = 3.14 # radians\n",
    "\n",
    "\"\"\"\n",
    "Code to compute sine (start)\n",
    "\"\"\"\n",
    "multiplier = -1.0\n",
    "sin_angle2 = angle2\n",
    "n = 16\n",
    "factorials = []\n",
    "memoized_to = n\n",
    "prev = 1\n",
    "factorials.append(1)\n",
    "\n",
    "for i in range(1, n + 1):\n",
    "    factorials.append(i * prev)\n",
    "    prev = factorials[i]\n",
    "\n",
    "for currentdegree in range(3, (n + 1), 2):\n",
    "\n",
    "    sin_angle2 += ( (angle2 ** currentdegree) / factorials[currentdegree] * multiplier )\n",
    "\n",
    "    multiplier *= -1  \n",
    "\"\"\"\n",
    "Code to compute sine (start)\n",
    "\"\"\"\n",
    "\n",
    "# Let's add the two sines\n",
    "result = sin_angle1 + sin_angle2\n",
    "\n",
    "# And print the results\n",
    "print('{:.4f}'.format(result))"
   ]
  },
  {
   "cell_type": "markdown",
   "id": "58a09fe8",
   "metadata": {},
   "source": [
    "This is code hurts my head just looking at it. Instead, you could create (or, in fact, someone else has already created) a function called `sin` that you can \"call\" (i.e., execute the code) whenever you want to calculate the sine of an angle.\n",
    "\n",
    "And so you can write code like this (you won't understand everything in this code until the end of this lecture)."
   ]
  },
  {
   "cell_type": "code",
   "execution_count": null,
   "id": "4a8a09f0",
   "metadata": {},
   "outputs": [],
   "source": [
    "import math\n",
    "\n",
    "angle1 = 1.57 # radians\n",
    "angle2 = 3.14 # radians\n",
    "\n",
    "result = math.sin(angle1) + math.sin(angle2)\n",
    "\n",
    "print(result)"
   ]
  },
  {
   "cell_type": "markdown",
   "id": "34084853",
   "metadata": {},
   "source": [
    "The take away is simple. Functions make code:\n",
    "- easy to ready\n",
    "- easy to maintain\n",
    "- easy to write\n",
    "- easy to share\n",
    "\n",
    "You'll also notice that the above code calls the function `sin()` twice in the same expression! (As well as the the `+` operator.)"
   ]
  },
  {
   "cell_type": "markdown",
   "id": "09094e6a",
   "metadata": {},
   "source": [
    "<a id='section2'></a>\n",
    "## 2. Function Call\n",
    "#### Examples\n",
    "In the example below `abs()` is the **`function`** we are **`calling`** and `-20` is the **`argument`** that we're passing to the function."
   ]
  },
  {
   "cell_type": "code",
   "execution_count": null,
   "id": "fb49b765",
   "metadata": {},
   "outputs": [],
   "source": [
    "x = abs(-20)\n",
    "print(x)"
   ]
  },
  {
   "cell_type": "markdown",
   "id": "bbec6725",
   "metadata": {},
   "source": [
    "And, `20` is what the function **`returns`**.\n",
    "\n",
    "In the example below, you can see we're using two functions calls in the same line of code."
   ]
  },
  {
   "cell_type": "code",
   "execution_count": null,
   "id": "11cc0153",
   "metadata": {},
   "outputs": [],
   "source": [
    "y = abs(-20) + abs(-3)\n",
    "print(y)"
   ]
  },
  {
   "cell_type": "markdown",
   "id": "b88c3526",
   "metadata": {},
   "source": [
    "Both `print()` and `abs()` are built-in function in Python."
   ]
  },
  {
   "cell_type": "markdown",
   "id": "8bbedeaa",
   "metadata": {},
   "source": [
    "<a id='section3'></a>\n",
    "## 3. Back to Evaluation and Expressions\n",
    "Let's take the simpler case first."
   ]
  },
  {
   "cell_type": "code",
   "execution_count": null,
   "id": "d7123bbf",
   "metadata": {},
   "outputs": [],
   "source": [
    "x = abs(-20)\n",
    "print(x)"
   ]
  },
  {
   "cell_type": "markdown",
   "id": "b724b646",
   "metadata": {},
   "source": [
    "Let's make it a bit more complicated."
   ]
  },
  {
   "cell_type": "code",
   "execution_count": null,
   "id": "5544aa7a",
   "metadata": {},
   "outputs": [],
   "source": [
    "y = -20\n",
    "x = abs(y)\n",
    "print(x)"
   ]
  },
  {
   "cell_type": "markdown",
   "id": "488e6e52",
   "metadata": {},
   "source": [
    "Now the argument of the function call is not a constant (`-20`) but rather a variable (`y`). The rules for function calls are that each argument needs to be evaluated and then the function is called. \n",
    "\n",
    "1. `y` gets evaluated to its value (-20) \n",
    "2. -20 is passed to the function\n",
    "3. The function is evaluated and returns 20\n",
    "4. 20 is assignned to the variable `x`\n",
    "\n",
    "How about this?"
   ]
  },
  {
   "cell_type": "code",
   "execution_count": null,
   "id": "82b729f3",
   "metadata": {},
   "outputs": [],
   "source": [
    "y = -20\n",
    "z = -5\n",
    "x = abs(y + z)\n",
    "print(x)"
   ]
  },
  {
   "cell_type": "markdown",
   "id": "5cb25130",
   "metadata": {},
   "source": [
    "The thing in the parenthesis is an expression! And so it can be evaluated following the normal rules. That means that:\n",
    "1. `y` is evalulated to -20\n",
    "2. z is evaluated to -5\n",
    "3. the `+` operator is evaluated with -20 and -5 to result in -25\n",
    "4. -25 is passed to the `abs` function\n",
    "5. 25 is returned from the `abs` function\n",
    "6. 25 is assigned to `x`"
   ]
  },
  {
   "cell_type": "markdown",
   "id": "5e43c91c",
   "metadata": {},
   "source": [
    "<a id='section4'></a>\n",
    "## 4. Breakout Session 1\n",
    "Write the following expression in the cell below and use the built-in `print()` function to print the answer.\n",
    "\n",
    "**$x = \\frac{|y + z| + |y * z|}{y^\\alpha}$**\n",
    "\n",
    "where,\n",
    "- $y$ = -20\n",
    "- $z$ = -100\n",
    "- $\\alpha$ = 2"
   ]
  },
  {
   "cell_type": "code",
   "execution_count": null,
   "id": "790347ec",
   "metadata": {},
   "outputs": [],
   "source": [
    "# write your code here\n",
    "y = -20\n",
    "z = -100\n",
    "alpha = 2 # Note: Use descriptive names not 'a'.\n",
    "\n",
    "numerator = abs(y + z) + abs(y * z)\n",
    "denominator = y**alpha\n",
    "\n",
    "x = numerator / denominator\n",
    "\n",
    "print(x)"
   ]
  },
  {
   "cell_type": "markdown",
   "id": "967a8003",
   "metadata": {},
   "source": [
    "<a id='section5'></a>\n",
    "## 5. Built-in Functions"
   ]
  },
  {
   "cell_type": "markdown",
   "id": "cc7d3b00",
   "metadata": {},
   "source": [
    "You can see a list of built-in functions by using the function `dir`.\n",
    "\n",
    "##### Function: `dir`\n",
    "Returns list of the attributes and methods of any object. "
   ]
  },
  {
   "cell_type": "code",
   "execution_count": null,
   "id": "aa1a244b",
   "metadata": {
    "scrolled": true
   },
   "outputs": [],
   "source": [
    "dir(__builtins__)"
   ]
  },
  {
   "cell_type": "markdown",
   "id": "61da2a48",
   "metadata": {},
   "source": [
    "Many of these will not make sense to you at this point - that is fine. \n",
    "\n",
    "Here are a few useful built-in functions.\n",
    "\n",
    "#### `pow()` raises a number to the power of another number"
   ]
  },
  {
   "cell_type": "code",
   "execution_count": null,
   "id": "ee79fc7f",
   "metadata": {},
   "outputs": [],
   "source": [
    "x = pow(2, 5)\n",
    "print(x)\n",
    "\n",
    "y = pow(x, 2)\n",
    "print(y)"
   ]
  },
  {
   "cell_type": "markdown",
   "id": "4133ae97",
   "metadata": {},
   "source": [
    "#### `int()` converts a number to an integer - throwing away everything after the decimal"
   ]
  },
  {
   "cell_type": "code",
   "execution_count": null,
   "id": "37f22fa2",
   "metadata": {},
   "outputs": [],
   "source": [
    "z = int(4.2)\n",
    "print(z)\n",
    "\n",
    "w = int(3.999)\n",
    "print(w)\n",
    "\n",
    "y = int('2')\n",
    "print(y)"
   ]
  },
  {
   "cell_type": "markdown",
   "id": "e5057395",
   "metadata": {},
   "source": [
    "Because,\n",
    "\n",
    "1. **arguments of functions are expressions** \n",
    "\n",
    "2. **function calls are just expressions**\n",
    "\n",
    "we can call functions with the output of other functions like this:"
   ]
  },
  {
   "cell_type": "code",
   "execution_count": null,
   "id": "85e21225",
   "metadata": {},
   "outputs": [],
   "source": [
    "x = pow(int(5.2), abs(-2))\n",
    "print(x)"
   ]
  },
  {
   "cell_type": "markdown",
   "id": "928a909f",
   "metadata": {},
   "source": [
    "Remember: before a function is called, its arguments must be all evaluated. \n",
    "\n",
    "And so what happens above?\n",
    "\n",
    "1. `int()` is called with the value 5.2 and returns 5\n",
    "2. `abs()` is called with the value -2 and returns 2\n",
    "3. `pow()` is called with the values 5 and 2 and returns 25"
   ]
  },
  {
   "cell_type": "markdown",
   "id": "f4b34896",
   "metadata": {},
   "source": [
    "So, `x = pow(int(5.2), abs(-2))` is the same as:"
   ]
  },
  {
   "cell_type": "code",
   "execution_count": null,
   "id": "fa28618d",
   "metadata": {},
   "outputs": [],
   "source": [
    "x = pow(5, 2)\n",
    "print(x)"
   ]
  },
  {
   "cell_type": "markdown",
   "id": "effd2f39",
   "metadata": {},
   "source": [
    "You can go even further with these expressions."
   ]
  },
  {
   "cell_type": "code",
   "execution_count": null,
   "id": "a236ea9e",
   "metadata": {},
   "outputs": [],
   "source": [
    "x = pow(abs(int(-5.2)), abs(-2) + 12 - pow(3, 2))\n",
    "print(x)"
   ]
  },
  {
   "cell_type": "markdown",
   "id": "b242e235",
   "metadata": {},
   "source": [
    "#### Important Note\n",
    "This isn't very good code because it is hard to understand. But it is legal! **Just because Python will let you do something doesn't mean its the best way to do it.**"
   ]
  },
  {
   "cell_type": "markdown",
   "id": "5e2fbac9",
   "metadata": {},
   "source": [
    "<a id='section6'></a>\n",
    "## 6. Function Help\n",
    "One very useful function is `help()` which gives you documentation on functions."
   ]
  },
  {
   "cell_type": "code",
   "execution_count": null,
   "id": "1722fc5b",
   "metadata": {},
   "outputs": [],
   "source": [
    "help(abs)"
   ]
  },
  {
   "cell_type": "code",
   "execution_count": null,
   "id": "cff95be0",
   "metadata": {},
   "outputs": [],
   "source": [
    "help(pow)"
   ]
  },
  {
   "cell_type": "code",
   "execution_count": null,
   "id": "20d093d4",
   "metadata": {},
   "outputs": [],
   "source": [
    "help(help)"
   ]
  },
  {
   "cell_type": "markdown",
   "id": "ef731fdd",
   "metadata": {},
   "source": [
    "Another alternative is to type **```SHIFT-TAB```** inside the function parentheses."
   ]
  },
  {
   "cell_type": "code",
   "execution_count": null,
   "id": "ac2b43f5",
   "metadata": {},
   "outputs": [],
   "source": [
    "pow()"
   ]
  },
  {
   "cell_type": "markdown",
   "id": "6aba0695",
   "metadata": {},
   "source": [
    "<a id='section7'></a>\n",
    "## 7. Ouput\n",
    "`print()` can do things like this."
   ]
  },
  {
   "cell_type": "code",
   "execution_count": null,
   "id": "8bc09353",
   "metadata": {},
   "outputs": [],
   "source": [
    "print(3 + 7 + abs(-5))"
   ]
  },
  {
   "cell_type": "markdown",
   "id": "61054c7a",
   "metadata": {},
   "source": [
    "`print()` can take more than one argument and its default behavior is to print each argument out, separated by a space."
   ]
  },
  {
   "cell_type": "code",
   "execution_count": null,
   "id": "bd34cc28",
   "metadata": {},
   "outputs": [],
   "source": [
    "print(\"hello\", \"there\")"
   ]
  },
  {
   "cell_type": "code",
   "execution_count": null,
   "id": "5ac3777e",
   "metadata": {},
   "outputs": [],
   "source": [
    "print(\"hello\", \"there\", \"how\", \"are\", 'you')"
   ]
  },
  {
   "cell_type": "markdown",
   "id": "93925c55",
   "metadata": {},
   "source": [
    "We can mix different constant and variable types."
   ]
  },
  {
   "cell_type": "code",
   "execution_count": null,
   "id": "d8fe76eb",
   "metadata": {},
   "outputs": [],
   "source": [
    "name = 'Sebastian'\n",
    "age = 36\n",
    "print(\"Hello, my name is\", name, \"and I am age\", age, \"years old.\")"
   ]
  },
  {
   "cell_type": "markdown",
   "id": "73fb7d45",
   "metadata": {},
   "source": [
    "<a id='section8'></a>\n",
    "## 8. Input\n",
    "It is also important to be able to input values to a program. Python does this via the `input()` function.\n",
    "\n",
    "The function `input()` is a built-in function that prompts the user to enter some input. The program waits for the user to enter the input (and press Enter), before continuing. **The value returned from this function is always a string.**\n",
    "\n",
    "For example:"
   ]
  },
  {
   "cell_type": "code",
   "execution_count": null,
   "id": "452f2ecc",
   "metadata": {},
   "outputs": [],
   "source": [
    "name = input(\"What is your name? \")\n",
    "print(\"Hello, my name is\", name)"
   ]
  },
  {
   "cell_type": "markdown",
   "id": "b9bdccd0",
   "metadata": {},
   "source": [
    "The value returned from `input` is **always** a string."
   ]
  },
  {
   "cell_type": "code",
   "execution_count": null,
   "id": "916ef608",
   "metadata": {},
   "outputs": [],
   "source": [
    "number = input(\"Input a number \")\n",
    "number + 5"
   ]
  },
  {
   "cell_type": "markdown",
   "id": "72bd5e70",
   "metadata": {},
   "source": [
    "<a id='section9'></a>\n",
    "## 9. Breakout Session 2\n",
    "Write code to print out the following text:\n",
    "\n",
    "```\"Hello, my name is {} and I'm hoping to get a grade of {} in APS106 this term.\"```\n",
    "\n",
    "Where you see curly brackets `{}` you need to use the `input` function to prompt the user to enter that information."
   ]
  },
  {
   "cell_type": "code",
   "execution_count": null,
   "id": "f4a36ffb",
   "metadata": {},
   "outputs": [],
   "source": [
    "# write your code here\n",
    "name = input('What is your name ')\n",
    "grade = input('What grade do you hope to get ')\n",
    "print(\"Hello, my name is\", name, \n",
    "      \"and I'm hoping to get a grade of\", grade, \n",
    "      \"in APS106 this term.\")"
   ]
  },
  {
   "cell_type": "code",
   "execution_count": null,
   "id": "ab87aa22",
   "metadata": {},
   "outputs": [],
   "source": [
    "help(math)"
   ]
  },
  {
   "cell_type": "markdown",
   "id": "d8e5df0b",
   "metadata": {},
   "source": [
    "You can access the functions in a module by using the syntax:\n",
    "\n",
    "**`module_name.function_name(arguments)`**\n",
    "\n",
    "So for example:"
   ]
  },
  {
   "cell_type": "markdown",
   "id": "afbc21b8",
   "metadata": {},
   "source": [
    "<a id='section5'></a>\n",
    "## 5. Modules\n",
    "### What is a Module?\n",
    "A module in Python is a file containing Python definitions and statements. A module can define functions, classes, and variables, and it can also include executable code. You can use a module in your code by importing it. Python comes with many built-in modules, such as the `math`, `random`, `csv`, and `turtle` modules that we have learned about thus far in the course.\n",
    "\n",
    "### Importing Modules\n",
    "To use a module in your code, you need to import it. The syntax for importing a module is:\n",
    "\n",
    "```python\n",
    "import module_name\n",
    "```\n",
    "For example, let's import the `math` module."
   ]
  },
  {
   "cell_type": "code",
   "execution_count": null,
   "id": "47ea978e",
   "metadata": {},
   "outputs": [],
   "source": [
    "import math"
   ]
  },
  {
   "cell_type": "code",
   "execution_count": null,
   "id": "054d255e",
   "metadata": {},
   "outputs": [],
   "source": [
    "help(math)"
   ]
  },
  {
   "cell_type": "markdown",
   "id": "a5da1c38",
   "metadata": {},
   "source": [
    "Once you have imported a module, you can use its functions and variables by prefixing them with the module name. For example, to use the `pi` constant from the `math` module, you would use:"
   ]
  },
  {
   "cell_type": "code",
   "execution_count": null,
   "id": "05752388",
   "metadata": {},
   "outputs": [],
   "source": [
    "print(math.pi)"
   ]
  },
  {
   "cell_type": "markdown",
   "id": "e2b04cd0",
   "metadata": {},
   "source": [
    "Or, we can use functions to calculate the sine of an angle."
   ]
  },
  {
   "cell_type": "code",
   "execution_count": null,
   "id": "a7564713",
   "metadata": {},
   "outputs": [],
   "source": [
    "print(math.sin(math.radians(90)))"
   ]
  },
  {
   "cell_type": "markdown",
   "id": "77f8c11e",
   "metadata": {},
   "source": [
    "#### from X import Y Syntax\n",
    "Sometimes, you might only want to import specific functions or variables from a module, rather than importing the entire module. In this case, you can use the `from X import Y` syntax. The syntax for using this syntax is:\n",
    "```python\n",
    "from module_name import variable_name\n",
    "from module_name import function_name\n",
    "from module_name import class_name\n",
    "```\n",
    "For example, to import only the `pi` constant from the `math` module, you would use:"
   ]
  },
  {
   "cell_type": "code",
   "execution_count": null,
   "id": "ba503430",
   "metadata": {},
   "outputs": [],
   "source": [
    "from math import pi\n",
    "\n",
    "print(pi)"
   ]
  },
  {
   "cell_type": "markdown",
   "id": "f7f0fc3e",
   "metadata": {},
   "source": [
    "This creates a variable named `pi` in the global space with the value `3.141592653589793` of type `float`."
   ]
  },
  {
   "cell_type": "code",
   "execution_count": null,
   "id": "dd6d5cdc",
   "metadata": {},
   "outputs": [],
   "source": [
    "type(pi)"
   ]
  },
  {
   "cell_type": "markdown",
   "id": "df6417f6",
   "metadata": {},
   "source": [
    "You can also import multiple functions or variables from a module by separating them with commas, like this:"
   ]
  },
  {
   "cell_type": "code",
   "execution_count": null,
   "id": "b40c207b",
   "metadata": {},
   "outputs": [],
   "source": [
    "from math import pi, sqrt\n",
    "\n",
    "print(pi)\n",
    "print(sqrt(4))"
   ]
  },
  {
   "cell_type": "markdown",
   "id": "5a3f64fd",
   "metadata": {},
   "source": [
    "In this case, there is now a function definition called `sqrt` in the global space that is callable.\n",
    "\n",
    "You'll notice that when you import functions, classes or variables in this way, we no longer need to access them using `math.`"
   ]
  },
  {
   "cell_type": "markdown",
   "id": "31977ed9",
   "metadata": {},
   "source": [
    "#### from X import * Syntax\n",
    "In Python, the from X import * syntax allows you to import all functions and variables from a module into your current namespace. This means that you can use the imported functions and variables without prefixing them with the module name (`math.`). For example, if you import all functions and variables from the math module, you could use `pi` directly, like this:"
   ]
  },
  {
   "cell_type": "code",
   "execution_count": null,
   "id": "77f20871",
   "metadata": {},
   "outputs": [],
   "source": [
    "from math import *\n",
    "\n",
    "print(pi)"
   ]
  },
  {
   "cell_type": "markdown",
   "id": "0a70640b",
   "metadata": {},
   "source": [
    "However, using the from `X import * syntax` is generally not recommended for several reasons.\n",
    "\n",
    "1. It can make your code harder to read and understand. When you use the `from X import *` syntax, it’s not always clear where a function or variable is coming from. This can make it difficult to trace the source of bugs and errors in your code.\n",
    "\n",
    "2. It can lead to naming conflicts. If you import all functions and variables from two different modules that have the same name, you’ll end up with naming conflicts. For example, if you import all functions and variables from both the `math` module and the `statistics` module, you’ll end up with two functions named `fabs()`. This can cause confusion and errors in your code.\n",
    "\n",
    "3. It can make your code less efficient. When you use the `from X import *` syntax, Python has to load and compile all the functions and variables from the module, even if you’re only going to use a few of them. This can slow down the loading time of your program and use up more memory than necessary.\n",
    "\n",
    "In general, it’s better to be explicit about which functions and variables you’re importing from a module. This makes your code easier to read and understand, reduces the risk of naming conflicts, and can make your code more efficient. If you need to import a large number of functions and variables from a module, it’s better to import them explicitly, like this:"
   ]
  },
  {
   "cell_type": "code",
   "execution_count": null,
   "id": "2691d481",
   "metadata": {},
   "outputs": [],
   "source": [
    "from math import pi, sin, cos, tan"
   ]
  },
  {
   "cell_type": "markdown",
   "id": "e3ce9540",
   "metadata": {},
   "source": [
    "This way, you can be sure which functions and variables you’re using and avoid naming conflicts.\n",
    "\n",
    "#### import X as Syntax\n",
    "The default name given to modules in your code is the name of the module. For example, `math`, `random`, etc.\n",
    "\n",
    "However, you can override the default module name using the `as` keyword. This is useful if the name of a module conflicts with a variable you have declared in your code. It is also useful if you want to reference another module that shares the same name.\n",
    "\n",
    "Suppose we want to import the `turtle` module into your code but you already have a function called `turtle`."
   ]
  },
  {
   "cell_type": "code",
   "execution_count": null,
   "id": "2a9d4c1e",
   "metadata": {},
   "outputs": [],
   "source": [
    "turtle = 'Stewart'\n",
    "\n",
    "import turtle\n",
    "\n",
    "print(turtle)"
   ]
  },
  {
   "cell_type": "code",
   "execution_count": null,
   "id": "8f953b41",
   "metadata": {},
   "outputs": [],
   "source": [
    "import turtle\n",
    "\n",
    "turtle = 'Stewart'\n",
    "\n",
    "print(turtle.Turtle())  #error because it thinks turtle is the string Stewart!"
   ]
  },
  {
   "cell_type": "markdown",
   "id": "55718176",
   "metadata": {},
   "source": [
    "Not I have overwritten the variable `turtle` with the module `tutle`. So avoid this error, I would use an alias when importing the `turtle` module. The syntax for importing a module is an alias is:\n",
    "\n",
    "```python\n",
    "import module_name as alias_name\n",
    "```"
   ]
  },
  {
   "cell_type": "code",
   "execution_count": null,
   "id": "5fd8c346",
   "metadata": {},
   "outputs": [],
   "source": [
    "turtle = 'Stewart'\n",
    "\n",
    "import turtle as t\n",
    "\n",
    "print(turtle)"
   ]
  },
  {
   "cell_type": "markdown",
   "id": "a03787ae",
   "metadata": {},
   "source": [
    "<a id='section11'></a>\n",
    "## 11. Defining Your Own Functions\n",
    "Let's try writing a function to take the square of a number."
   ]
  },
  {
   "cell_type": "code",
   "execution_count": null,
   "id": "62d2e0e9",
   "metadata": {},
   "outputs": [],
   "source": [
    "def square(x):\n",
    "    return x*x"
   ]
  },
  {
   "cell_type": "code",
   "execution_count": null,
   "id": "c050bc31",
   "metadata": {},
   "outputs": [],
   "source": [
    "num = 4\n",
    "num_sq = square(num)\n",
    "print(num, num_sq)"
   ]
  },
  {
   "cell_type": "markdown",
   "id": "f14ae990",
   "metadata": {},
   "source": [
    "And let's try one more."
   ]
  },
  {
   "cell_type": "code",
   "execution_count": null,
   "id": "d2fd621f",
   "metadata": {},
   "outputs": [],
   "source": [
    "print(square(8))"
   ]
  },
  {
   "cell_type": "markdown",
   "id": "cd371eda",
   "metadata": {},
   "source": [
    "In the code above, you'll note that the variable inside the function does not have to be the same name as the variable you pass in (e.g. `square(x)` and `square(num)`).\n",
    "\n",
    "In the code code below, you will notice that the variable inside the function does not conflict with variable names outside the function. Even if they have the same name, they are different variables.\n",
    "\n",
    "Remember our simple `square` function."
   ]
  },
  {
   "cell_type": "code",
   "execution_count": null,
   "id": "d2168222",
   "metadata": {},
   "outputs": [],
   "source": [
    "def square(x):\n",
    "    return x*x"
   ]
  },
  {
   "cell_type": "markdown",
   "id": "055f585f",
   "metadata": {},
   "source": [
    "In the code below, we have a variable `x` defined outside the function and a variable `x` in the function."
   ]
  },
  {
   "cell_type": "code",
   "execution_count": null,
   "id": "204c86fd",
   "metadata": {},
   "outputs": [],
   "source": [
    "x = 4\n",
    "num_sq = square(8)\n",
    "print(x, num_sq)"
   ]
  },
  {
   "cell_type": "markdown",
   "id": "56f8b024",
   "metadata": {},
   "source": [
    "Let's be a bit more explicit with this important concept."
   ]
  },
  {
   "cell_type": "code",
   "execution_count": null,
   "id": "3acc3fb1",
   "metadata": {},
   "outputs": [],
   "source": [
    "def square(x):\n",
    "    print(\"Inside function. x = \", x)\n",
    "    return x*x"
   ]
  },
  {
   "cell_type": "code",
   "execution_count": null,
   "id": "0026ff3b",
   "metadata": {},
   "outputs": [],
   "source": [
    "x = 4\n",
    "print(\"Outside function. x = \", x)\n",
    "num_sq = square(8)\n",
    "print(\"Outside function. x = \", x)"
   ]
  },
  {
   "cell_type": "markdown",
   "id": "ebe60405",
   "metadata": {},
   "source": [
    "# Booleans, Conditionals, and if Statements"
   ]
  },
  {
   "cell_type": "markdown",
   "id": "4fabd474",
   "metadata": {},
   "source": [
    "\n",
    "### Lecture Structure\n",
    "1. [Introducing Booleans](#section1)\n",
    "2. [Logical Operators](#section2)\n",
    "3. [Lazy Evaluation](#section3)\n",
    "4. [The if Statement](#section4)\n"
   ]
  },
  {
   "cell_type": "markdown",
   "id": "5181b7fa",
   "metadata": {},
   "source": [
    "<a id='section1'></a>\n",
    "\n",
    "## 1. Introducing Booleans\n",
    "\n",
    "So far we've seen 3 data types in Python: `int'` for integers, `float` for real numbers, and `str` for strings of characters. Programming languages typically also have a data type that is dedicated to representing values of true and false. In Python this type is called `bool`. You can think of it as a strange type of variable with only possible values: True and False. Here are some examples of Boolean assignment:"
   ]
  },
  {
   "cell_type": "code",
   "execution_count": null,
   "id": "92029591",
   "metadata": {
    "scrolled": true
   },
   "outputs": [],
   "source": [
    "case = True\n",
    "print(True)\n",
    "print(case)#Notice I don't need quotes! It's not a string."
   ]
  },
  {
   "cell_type": "code",
   "execution_count": null,
   "id": "e29b19d6",
   "metadata": {},
   "outputs": [],
   "source": [
    "state = False\n",
    "print(state)\n",
    "print(type(state))"
   ]
  },
  {
   "cell_type": "code",
   "execution_count": null,
   "id": "0e426275",
   "metadata": {},
   "outputs": [],
   "source": [
    "print(int(case))\n",
    "print(int(state))"
   ]
  },
  {
   "cell_type": "code",
   "execution_count": null,
   "id": "877621d2",
   "metadata": {},
   "outputs": [],
   "source": [
    "state = bool(False+1)\n",
    "print(state)\n",
    "print(type(state))"
   ]
  },
  {
   "cell_type": "markdown",
   "id": "51a44e3f",
   "metadata": {},
   "source": [
    "There real power of `bool` comes when they are combined with comparison operators.\n",
    "\n",
    "**Comparison operators**\n",
    "\n",
    "Think back to the usual mathematical operators like `+`. This operator takes two numeric types (`int` or `float`) and produces a new value of a numeric type (again, `int` or `float`) depending on the types of the input values.\n",
    "\n",
    "Comparison operators (like `<`) take two values and produce a `bool` valuye.\n",
    "\n",
    "| Description  | Operator | Example | Result |\n",
    "|--------------|----------|---------|--------|\n",
    "| less than    | `<`        | 3 < 4.3   | True   |\n",
    "| greater than | `>`        | 3 > 4   | False  |\n",
    "| equal to     | `==`       | 3 == 4  | False  |\n",
    "| greater than or equal to | `>=` | 3.0 >= 4 |False |\n",
    "| less than or equal to | `<=` | 3 <= 4 | True |\n",
    "| not equal to | `!=`       | 3 != 4 | True |\n",
    "\n",
    "Examples:"
   ]
  },
  {
   "cell_type": "code",
   "execution_count": null,
   "id": "073aeb6a",
   "metadata": {},
   "outputs": [],
   "source": [
    "print(1 == 1) #Uses 2 equal signs, i.e. NOT doing variable assignment, but comparing"
   ]
  },
  {
   "cell_type": "code",
   "execution_count": null,
   "id": "2ee3dccb",
   "metadata": {},
   "outputs": [],
   "source": [
    "print(2 > 3)  #These comparison operators take two operands and produce a bool"
   ]
  },
  {
   "cell_type": "code",
   "execution_count": null,
   "id": "91134953",
   "metadata": {},
   "outputs": [],
   "source": [
    "print(1 != 1)"
   ]
  },
  {
   "cell_type": "code",
   "execution_count": null,
   "id": "4b67aa8f",
   "metadata": {},
   "outputs": [],
   "source": [
    "print(2*3 == 5)"
   ]
  },
  {
   "cell_type": "code",
   "execution_count": null,
   "id": "5569b847",
   "metadata": {},
   "outputs": [],
   "source": [
    "print(2*3 != 5)"
   ]
  },
  {
   "cell_type": "markdown",
   "id": "4b92fa0f",
   "metadata": {},
   "source": [
    "We can, of course, do the same comparisons with variables."
   ]
  },
  {
   "cell_type": "code",
   "execution_count": null,
   "id": "96147975",
   "metadata": {},
   "outputs": [],
   "source": [
    "x = 5\n",
    "y = 3\n",
    "print(x == y)"
   ]
  },
  {
   "cell_type": "code",
   "execution_count": null,
   "id": "f023cd5a",
   "metadata": {},
   "outputs": [],
   "source": [
    "print(x > y)"
   ]
  },
  {
   "cell_type": "markdown",
   "id": "a74b2761",
   "metadata": {},
   "source": [
    "**IMPORTANT: Note the difference between `=` and `==`!**\n",
    "\n",
    "As we have seen, `=` is an assignment. You assign the value of the thing on the right-hand side (rhs) to the thing on the left-hand side (lhs)."
   ]
  },
  {
   "cell_type": "code",
   "execution_count": null,
   "id": "fc521db1",
   "metadata": {},
   "outputs": [],
   "source": [
    "x = 5\n",
    "print(x)"
   ]
  },
  {
   "cell_type": "markdown",
   "id": "fd68d494",
   "metadata": {},
   "source": [
    "`==` is a comparison. It compares the value of the thing on the rhs to the value of the thing on the lhs and returns True if they are the same and False if they are different. "
   ]
  },
  {
   "cell_type": "code",
   "execution_count": null,
   "id": "57530fa4",
   "metadata": {},
   "outputs": [],
   "source": [
    "print(x == 5)"
   ]
  },
  {
   "cell_type": "code",
   "execution_count": null,
   "id": "285e73cc",
   "metadata": {},
   "outputs": [],
   "source": [
    "print(x == 3)"
   ]
  },
  {
   "cell_type": "code",
   "execution_count": null,
   "id": "c6465051",
   "metadata": {},
   "outputs": [],
   "source": [
    "print(x)"
   ]
  },
  {
   "cell_type": "markdown",
   "id": "a384e0ea",
   "metadata": {},
   "source": [
    "<a id='section2'></a>\n",
    "\n",
    "## 2. Logical Operators\n",
    "\n",
    "Just as numeric operators (like `+`) combine numeric types to produce numeric types, there are also three logical operators that allow us to combine Boolean values to produce Boolean values: `and`, `or`, and `not`. "
   ]
  },
  {
   "cell_type": "code",
   "execution_count": null,
   "id": "2cdd2088",
   "metadata": {},
   "outputs": [],
   "source": [
    "print(not (80 >= 50))"
   ]
  },
  {
   "cell_type": "code",
   "execution_count": null,
   "id": "7f7aa937",
   "metadata": {},
   "outputs": [],
   "source": [
    "print((80 >= 50) and (70 <= 50))"
   ]
  },
  {
   "cell_type": "code",
   "execution_count": null,
   "id": "083b899b",
   "metadata": {},
   "outputs": [],
   "source": [
    "print((80 >= 50) or (70 <= 50))"
   ]
  },
  {
   "cell_type": "code",
   "execution_count": null,
   "id": "586bbea1",
   "metadata": {},
   "outputs": [],
   "source": [
    "print(4 > 3 and 2 > 1)  #Arithmetic -> Relational -> Logical Operators"
   ]
  },
  {
   "cell_type": "code",
   "execution_count": null,
   "id": "518674b7",
   "metadata": {},
   "outputs": [],
   "source": [
    "grade1 = 80\n",
    "grade2 = 90\n",
    "passed = (grade1 >= 50) and (grade2 >= 50)\n",
    "print(passed)"
   ]
  },
  {
   "cell_type": "markdown",
   "id": "9d3b99fa",
   "metadata": {},
   "source": [
    "**The `and` Logic Table**\n",
    "\n",
    "The `and` operator evaluates to `True` if and only if both of its operands are `True`.\n",
    "\n",
    "| expr1 | expr2 | expr1 `and` expr2 |\n",
    "|-------|-------|-------------------|\n",
    "| True  | True  | True |\n",
    "| True  | False | False |\n",
    "| False  | True  | False |\n",
    "| False  | False | False |\n",
    "\n",
    "**The `or` Logic Table**\n",
    "\n",
    "The `or` operator evaluates to `True` if one (or both) of its operands are `True`.\n",
    "\n",
    "| expr1 | expr2 | expr1 `or` expr2 |\n",
    "|-------|-------|-------------------|\n",
    "| True  | True  | True |\n",
    "| True  | False | True |\n",
    "| False  | True  | True |\n",
    "| False  | False | False |\n",
    "\n",
    "**The ` not` Logic Table**\n",
    "\n",
    "The `not` operator evaluates to `True` if and only if its operand is `False`.\n",
    "\n",
    "| expr1 | `not` expr1 |\n",
    "|-------|-------------------|\n",
    "| True  | False |\n",
    "| False  | True |\n",
    "\n",
    "**Examples**"
   ]
  },
  {
   "cell_type": "code",
   "execution_count": null,
   "id": "d8c5fbd2",
   "metadata": {},
   "outputs": [],
   "source": [
    "print(True and True)"
   ]
  },
  {
   "cell_type": "code",
   "execution_count": null,
   "id": "4cb4c358",
   "metadata": {},
   "outputs": [],
   "source": [
    "print(True and False)"
   ]
  },
  {
   "cell_type": "code",
   "execution_count": null,
   "id": "9d75ee8c",
   "metadata": {},
   "outputs": [],
   "source": [
    "print(False or True)"
   ]
  },
  {
   "cell_type": "code",
   "execution_count": null,
   "id": "0fb712da",
   "metadata": {},
   "outputs": [],
   "source": [
    "print(False or not True)  #not is highest in precedence"
   ]
  },
  {
   "cell_type": "code",
   "execution_count": null,
   "id": "56891d3c",
   "metadata": {
    "scrolled": true
   },
   "outputs": [],
   "source": [
    "print(False or not not not not not True) # this is a very bad idea"
   ]
  },
  {
   "cell_type": "markdown",
   "id": "55480e90",
   "metadata": {},
   "source": [
    "Using multiple combinations of `not` operators may be valid, but will lead to confusion and should be avoided. Whenever you can try to make your code readable.\n",
    "\n",
    "What is the result of the following?"
   ]
  },
  {
   "cell_type": "code",
   "execution_count": null,
   "id": "16803255",
   "metadata": {
    "scrolled": true
   },
   "outputs": [],
   "source": [
    "print(0 > 5 or \"t\" > \"a\" and 'c' != 'd')  #We'll get into why \"t\" > \"a\" next class"
   ]
  },
  {
   "cell_type": "code",
   "execution_count": null,
   "id": "ef5520c7",
   "metadata": {},
   "outputs": [],
   "source": [
    "print(10 < 9 and \"t\" > \"a\" and not 'c' == 'd') #not has highest logical operator precedence"
   ]
  },
  {
   "cell_type": "code",
   "execution_count": null,
   "id": "f4eade92",
   "metadata": {},
   "outputs": [],
   "source": [
    "print((10 < 9 and \"t\" > \"a\") or not \"c\" == \"d\") "
   ]
  },
  {
   "cell_type": "markdown",
   "id": "04aef722",
   "metadata": {},
   "source": [
    "The relevant issue is not why the code gives the result it does by what the programmer actually meant in writing such code.\n",
    "\n",
    "It is always a good idea to use parentheses for clarity - even if they are not needed for correctness.\n",
    "\n",
    "**Order of Precedence for Logical Operators**\n",
    "\n",
    "The order of precedence for logical operators is: `not`, `and`, then `or`.\n",
    "\n",
    "We can override precedence using parentheses and parentheses can also be added to make things easier to read and understand.\n",
    "For example, the `not` operator is applied before the `or` operator in the following code."
   ]
  },
  {
   "cell_type": "code",
   "execution_count": null,
   "id": "56798cdd",
   "metadata": {},
   "outputs": [],
   "source": [
    "grade = 80\n",
    "grade2 = 90\n",
    "print(not grade >= 50 or grade2 >= 50)"
   ]
  },
  {
   "cell_type": "markdown",
   "id": "5892b86d",
   "metadata": {},
   "source": [
    "Parentheses make the intention clear."
   ]
  },
  {
   "cell_type": "code",
   "execution_count": null,
   "id": "f21caf2b",
   "metadata": {},
   "outputs": [],
   "source": [
    "print((not grade >= 50) or (grade2 >= 50))"
   ]
  },
  {
   "cell_type": "markdown",
   "id": "6894820f",
   "metadata": {},
   "source": [
    "Alternatively, parentheses can be added to change the order of operations and therefore the meaning of the statement:"
   ]
  },
  {
   "cell_type": "code",
   "execution_count": null,
   "id": "e5b2d8b7",
   "metadata": {},
   "outputs": [],
   "source": [
    "print(not ((grade >= 50) or (grade2 >= 50)))"
   ]
  },
  {
   "cell_type": "code",
   "execution_count": null,
   "id": "10145359",
   "metadata": {},
   "outputs": [],
   "source": [
    "not ((grade >= 50) or (grade2 >= 50))"
   ]
  },
  {
   "cell_type": "markdown",
   "id": "4cbd9487",
   "metadata": {},
   "source": [
    "<a id='section3'></a>\n",
    "\n",
    "## 3. Lazy Evaluation\n",
    "\n",
    "The `or` operator evaluates to True if and only if at least one operand is True. So if the first operand is True, it is unnecessary to look at the second operand: it is already known that the expression will produce True.\n",
    "\n",
    "And this is what Python does. If the first operand of `or` evaluates to True, it doesn't even look at the second one.\n",
    "\n",
    "To demonstrate this, we can create a function that will print, “function called” and return False. If the portion after the or operator is evaluated, we should see the output, “function called”. "
   ]
  },
  {
   "cell_type": "code",
   "execution_count": null,
   "id": "c34e1469",
   "metadata": {},
   "outputs": [],
   "source": [
    "def func():\n",
    "    print(\"function called\")\n",
    "    return False"
   ]
  },
  {
   "cell_type": "code",
   "execution_count": null,
   "id": "74e0c324",
   "metadata": {},
   "outputs": [],
   "source": [
    "print(True or func())"
   ]
  },
  {
   "cell_type": "markdown",
   "id": "5caf8e99",
   "metadata": {},
   "source": [
    "Wait a second! How can you do `True or func()`? What the heck does that mean?\n",
    "\n",
    "Just like with numbers, booleans and boolean operators are expressions. And so the rules you know about evaluating expressions apply here. Before `print()` is called the expression in the parenthesis is evaluated. That means the `or` operator is evaluated. And `or` is evaluated by first evaluating the first operand (the `True`) and then, **only if necessary**, evaluating the second operand (the `func()`).\n",
    "\n",
    "Abover `func()` is not evaluated due to lazy evaluation: if the first operand of an `or` evaluates to `True` evaluation stops."
   ]
  },
  {
   "cell_type": "code",
   "execution_count": null,
   "id": "61141904",
   "metadata": {},
   "outputs": [],
   "source": [
    "print(False or func())"
   ]
  },
  {
   "cell_type": "code",
   "execution_count": null,
   "id": "c38c03f8",
   "metadata": {},
   "outputs": [],
   "source": [
    "print((func()) or True)"
   ]
  },
  {
   "cell_type": "code",
   "execution_count": null,
   "id": "2e1c1caf",
   "metadata": {},
   "outputs": [],
   "source": [
    "print(func() or False)"
   ]
  },
  {
   "cell_type": "markdown",
   "id": "67cadefb",
   "metadata": {},
   "source": [
    "Please stop and think about this for a moment. Do you understand why you get the output above?\n",
    "\n",
    "The `and` operator produces True if and only if both expressions are True. So if the first operand is False, the second operand doesn't matter **and will not even be checked**: it is already known that the expression will be False.\n",
    "\n",
    "Examples:"
   ]
  },
  {
   "cell_type": "code",
   "execution_count": null,
   "id": "7d1d6fd6",
   "metadata": {},
   "outputs": [],
   "source": [
    "print(False and func())"
   ]
  },
  {
   "cell_type": "code",
   "execution_count": null,
   "id": "a583cc2b",
   "metadata": {},
   "outputs": [],
   "source": [
    "print(True and func())"
   ]
  },
  {
   "cell_type": "markdown",
   "id": "b616c6b1",
   "metadata": {},
   "source": [
    "This is something you need to know. But it can also be useful in your code.\n",
    "\n",
    "Imagine you have a condition that you want to evaluate to True of x >= 2 and x/y > 2. This is pretty easy to write."
   ]
  },
  {
   "cell_type": "code",
   "execution_count": null,
   "id": "e67af7dc",
   "metadata": {},
   "outputs": [],
   "source": [
    "x = 4\n",
    "y = 0\n",
    "\n",
    "print((x >= 2) and (x/y > 2))"
   ]
  },
  {
   "cell_type": "markdown",
   "id": "ffd01806",
   "metadata": {},
   "source": [
    "OK. But what if y could be zero?"
   ]
  },
  {
   "cell_type": "code",
   "execution_count": null,
   "id": "b6534881",
   "metadata": {},
   "outputs": [],
   "source": [
    "x = 4\n",
    "y = 0\n",
    "print((x >= 2) and (x/y > 2))"
   ]
  },
  {
   "cell_type": "markdown",
   "id": "f99756d9",
   "metadata": {},
   "source": [
    "We need to check for this case (and do whatever the right thing is). An easy way to do so is to exploit lazy evaluation.\n"
   ]
  },
  {
   "cell_type": "code",
   "execution_count": null,
   "id": "29f62745",
   "metadata": {},
   "outputs": [],
   "source": [
    "x = 4\n",
    "y = 0\n",
    "print((x >=2) and (y != 0) and (x/y > 2))"
   ]
  },
  {
   "cell_type": "code",
   "execution_count": null,
   "id": "6d9ee990",
   "metadata": {},
   "outputs": [],
   "source": [
    "x = 4\n",
    "y = 0\n",
    "print((x >=2) and (x/y > 2) and (y != 0))"
   ]
  },
  {
   "cell_type": "markdown",
   "id": "3b5096b0",
   "metadata": {},
   "source": [
    "**`bool` is a Subtype of `int`**\n",
    "\n",
    "`bool` is also a subtype of `int`, where True == 1 and False == 0. What happens when you enter the following code?"
   ]
  },
  {
   "cell_type": "code",
   "execution_count": null,
   "id": "30877790",
   "metadata": {
    "scrolled": true
   },
   "outputs": [],
   "source": [
    "print(True + 1)\n",
    "False==0"
   ]
  },
  {
   "cell_type": "code",
   "execution_count": null,
   "id": "f8aea8df",
   "metadata": {
    "scrolled": true
   },
   "outputs": [],
   "source": [
    "print(False - 1)"
   ]
  },
  {
   "cell_type": "code",
   "execution_count": null,
   "id": "3ed1f9fd",
   "metadata": {
    "scrolled": true
   },
   "outputs": [],
   "source": [
    "print((False + 3) * 4 - True)"
   ]
  },
  {
   "cell_type": "markdown",
   "id": "1c2d40b3",
   "metadata": {},
   "source": [
    "<a id='section4'></a>\n",
    "\n",
    "## 4. The `if` Statement\n",
    "\n",
    "So what can we do with booleans? They are at the core of the first important “control structure” we will study in programming. Rather than having to execute a sequence of statements, like we’ve been doing so far, we can use the booleans and comparison operators to decide which statements to execute.\n",
    "\n",
    "Imagine you are writing code to control a self-driving car. One standard desire is to keep the car going at the speed that has been set by the driver. Depending on if you are going up a hill, down a hill, or on a flat stretch of road, you may have to decide to provide more acceleration or to brake. In pseudocode this could look something like:\n",
    "\n",
    "- Get current speed\n",
    "- If current speed is above the set speed: brake\n",
    "- If current speed is below the set speed: accelerate\n",
    "\n",
    "This can be translated almost directly into Python."
   ]
  },
  {
   "cell_type": "code",
   "execution_count": null,
   "id": "4836e183",
   "metadata": {
    "scrolled": true
   },
   "outputs": [],
   "source": [
    "current_speed = get_current_speed()\n",
    "set_speed = get_set_speed()\n",
    "if current_speed > set_speed:\n",
    "    brake()\n",
    "\n",
    "if current_speed < set_speed:\n",
    "    accelerate()"
   ]
  },
  {
   "cell_type": "markdown",
   "id": "91d0a9cd",
   "metadata": {},
   "source": [
    "(Of course, you need to implement the functions `get_current_speed`, `get_set_speed`, `brake`, and `accelerate`.)\n",
    "\n",
    "`if` statements can be used to control which instructions are executed by creating a “branch” in the code. The `if` statement evaluates a Boolean expression, and if it is True, then it runs the code under it, otherwise it skips it. A simple general form of an if statement is as follows:\n",
    "\n",
    "```\n",
    "if condition:\n",
    "    block\n",
    "``` \n",
    "\n",
    "`if` statements are always followed by a colon (:), this is how Python knows you are going to create a new block of code. Indenting four spaces tells Python what lines of code are in that block. You must indent a block!! A block can contain any number of lines and they all must be indented.\n",
    "\n",
    "Another example."
   ]
  },
  {
   "cell_type": "code",
   "execution_count": null,
   "id": "30b5360f",
   "metadata": {},
   "outputs": [],
   "source": [
    "people = 20\n",
    "cats = 30\n",
    "dogs = 15\n",
    "\n",
    "if people < cats:\n",
    "    print(\"Too many cats! The world is doomed!\")\n",
    "\n",
    "if people >= cats:\n",
    "    print(\"Not many cats! The world is saved!\")\n",
    "\n",
    "if people < dogs:\n",
    "    print(\"The world is drooled on!\")\n",
    "\n",
    "if people >= dogs:\n",
    "    print(\"The world is dry!\")\n",
    "\n",
    "\n"
   ]
  },
  {
   "cell_type": "markdown",
   "id": "d06987e3",
   "metadata": {},
   "source": [
    "In the above example, we have two `if` statements that are logically related. That is, the last two if-statements cannot both be true because the number of people will never be both less than and greater than or equal to the number of dogs. Thus, we can merge if statements using  else. (Same with the fist two if-statements).\n",
    "\n",
    "We can re-write the example as follows."
   ]
  },
  {
   "cell_type": "code",
   "execution_count": null,
   "id": "1723e23f",
   "metadata": {},
   "outputs": [],
   "source": [
    "people = 40\n",
    "cats = 2\n",
    "dogs = 1\n",
    "\n",
    "if people < cats:\n",
    "    print(\"Too many cats! The world is doomed!\")\n",
    "\n",
    "else:\n",
    "    print('do something when if statement is False')\n",
    "    \n",
    "    \n",
    "'''\n",
    "if people < dogs:\n",
    "    print(\"The world is drooled on!\")\n",
    "else:\n",
    "    print(\"The world is dry!\")\n",
    "'''\n",
    "    \n",
    "#Find a set of 3 numbers that will produce the following output:\n",
    "#Not many cats! The world is saved!\n",
    "#The world is dry!"
   ]
  },
  {
   "cell_type": "markdown",
   "id": "938cdad1",
   "metadata": {},
   "source": [
    "The general form of an if-else is:\n",
    "```\n",
    "if condition:\n",
    "    block1\n",
    "else:\n",
    "    block2\n",
    "```\n",
    "\n",
    "Exactly one of block1 and block2 will be executed. **Note that the colons and indentation are required!**"
   ]
  },
  {
   "cell_type": "markdown",
   "id": "b1d5c0d1",
   "metadata": {},
   "source": [
    "# More on if Statements\n",
    "\n",
    "### Lecture Structure\n",
    "1. [String Comparisons](#section1)\n",
    "2. [More on if Statements](#section2)\n",
    "3. [Nested ifs](#section3)"
   ]
  },
  {
   "cell_type": "markdown",
   "id": "29f3c14e",
   "metadata": {},
   "source": [
    "<a id='section1'></a>\n",
    "## 1. String Comparisons\n",
    "\n",
    "The equality and inequality operators can be applied to strings."
   ]
  },
  {
   "cell_type": "code",
   "execution_count": null,
   "id": "c70700aa",
   "metadata": {},
   "outputs": [],
   "source": [
    "print('a' == 'a')"
   ]
  },
  {
   "cell_type": "code",
   "execution_count": null,
   "id": "9cc1942d",
   "metadata": {},
   "outputs": [],
   "source": [
    "print('ant' == 'ace')"
   ]
  },
  {
   "cell_type": "code",
   "execution_count": null,
   "id": "abb85689",
   "metadata": {},
   "outputs": [],
   "source": [
    "print('a' == 'b')"
   ]
  },
  {
   "cell_type": "code",
   "execution_count": null,
   "id": "393c9993",
   "metadata": {
    "scrolled": true
   },
   "outputs": [],
   "source": [
    "print('a' != 'b')"
   ]
  },
  {
   "cell_type": "markdown",
   "id": "8e223dca",
   "metadata": {},
   "source": [
    "We can compare two strings for their dictionary order, comparing them letter-by-letter:"
   ]
  },
  {
   "cell_type": "code",
   "execution_count": null,
   "id": "445480f6",
   "metadata": {},
   "outputs": [],
   "source": [
    "print('abracadabra' < 'ace')"
   ]
  },
  {
   "cell_type": "code",
   "execution_count": null,
   "id": "a8b994c0",
   "metadata": {},
   "outputs": [],
   "source": [
    "print('abracadabra' > 'a')"
   ]
  },
  {
   "cell_type": "code",
   "execution_count": null,
   "id": "c5b69380",
   "metadata": {},
   "outputs": [],
   "source": [
    "print('a' <= 'a')"
   ]
  },
  {
   "cell_type": "code",
   "execution_count": null,
   "id": "4e12a3ae",
   "metadata": {},
   "outputs": [],
   "source": [
    "print('a' < 'B')"
   ]
  },
  {
   "cell_type": "markdown",
   "id": "9428db9e",
   "metadata": {},
   "source": [
    "Each character in a string is actually represented by integers following the ASCII encoding (http://simple.wikipedia.org/wiki/ASCII). Therefore when you compare two strings, what you are really doing is comparing their numerical representations. \n",
    "\n",
    "For example in ASCII the characters ‘a’ and ‘w’ are encoded as 97 and 119 respectively. The comparison 'a' > 'w' would translates to 97 > 119 to give the result False.\n",
    "\n",
    "Capitalization matters, and capital letters are less than lowercase letters.\n"
   ]
  },
  {
   "cell_type": "code",
   "execution_count": null,
   "id": "2d21db30",
   "metadata": {},
   "outputs": [],
   "source": [
    "print('a' != 'A')"
   ]
  },
  {
   "cell_type": "code",
   "execution_count": null,
   "id": "d9f2fd51",
   "metadata": {},
   "outputs": [],
   "source": [
    "print('a' < 'A')"
   ]
  },
  {
   "cell_type": "markdown",
   "id": "8f8fa9c0",
   "metadata": {},
   "source": [
    "Every character can be compared:"
   ]
  },
  {
   "cell_type": "code",
   "execution_count": null,
   "id": "cf85ba35",
   "metadata": {},
   "outputs": [],
   "source": [
    "print('@' < '3')"
   ]
  },
  {
   "cell_type": "markdown",
   "id": "5ae41240",
   "metadata": {},
   "source": [
    "We can't compare values of two different types."
   ]
  },
  {
   "cell_type": "code",
   "execution_count": null,
   "id": "123e4847",
   "metadata": {},
   "outputs": [],
   "source": [
    "#print('s' <= 33)\n",
    "print('s' <= '33')"
   ]
  },
  {
   "cell_type": "markdown",
   "id": "3ba55103",
   "metadata": {},
   "source": [
    "To obtain the ASCII (integer) representation, we can use the built-in function `ord()`."
   ]
  },
  {
   "cell_type": "code",
   "execution_count": null,
   "id": "301864a2",
   "metadata": {},
   "outputs": [],
   "source": [
    "print(ord(\"a\"))"
   ]
  },
  {
   "cell_type": "code",
   "execution_count": null,
   "id": "93638b90",
   "metadata": {},
   "outputs": [],
   "source": [
    "print(ord(\"A\"))"
   ]
  },
  {
   "cell_type": "markdown",
   "id": "c94789b4",
   "metadata": {},
   "source": [
    "The built-in function `ord` is expecting a character, and will produce an error if used on a string of more than one character."
   ]
  },
  {
   "cell_type": "code",
   "execution_count": null,
   "id": "aa15c7e5",
   "metadata": {},
   "outputs": [],
   "source": [
    "print(ord(\"b\")) #ord expects 1 single character"
   ]
  },
  {
   "cell_type": "markdown",
   "id": "0089e9b4",
   "metadata": {},
   "source": [
    "To convert from the ASCII integer representation back to a string, we can use the built-in function `chr()`."
   ]
  },
  {
   "cell_type": "code",
   "execution_count": null,
   "id": "5b1051c3",
   "metadata": {},
   "outputs": [],
   "source": [
    "print(chr(97))"
   ]
  },
  {
   "cell_type": "code",
   "execution_count": null,
   "id": "801fc834",
   "metadata": {},
   "outputs": [],
   "source": [
    "print(chr(90))"
   ]
  },
  {
   "cell_type": "markdown",
   "id": "0be2baf3",
   "metadata": {},
   "source": [
    "'ord' and 'chr' are, of course, inverses of each other (i.e., like addition and subtraction)."
   ]
  },
  {
   "cell_type": "code",
   "execution_count": null,
   "id": "273e3c64",
   "metadata": {},
   "outputs": [],
   "source": [
    "print(ord(chr(90)))"
   ]
  },
  {
   "cell_type": "code",
   "execution_count": null,
   "id": "47cd48cf",
   "metadata": {},
   "outputs": [],
   "source": [
    "print(chr(ord(\"A\")+10))"
   ]
  },
  {
   "cell_type": "markdown",
   "id": "d6676206",
   "metadata": {},
   "source": [
    "**Testing For Substrings**\n",
    "\n",
    "The operator `in` checks whether a string appears anywhere inside another one (that is, whether a string is a substring of another)."
   ]
  },
  {
   "cell_type": "code",
   "execution_count": null,
   "id": "f834f281",
   "metadata": {},
   "outputs": [],
   "source": [
    "print('c' in 'aeiouaelkvjsagoliwaejtcljk;lkj')"
   ]
  },
  {
   "cell_type": "code",
   "execution_count": null,
   "id": "eb5d58b5",
   "metadata": {},
   "outputs": [],
   "source": [
    "print('cad' in 'abracadabra')"
   ]
  },
  {
   "cell_type": "code",
   "execution_count": null,
   "id": "c05980e0",
   "metadata": {},
   "outputs": [],
   "source": [
    "print('zoo' in 'ooze')"
   ]
  },
  {
   "cell_type": "markdown",
   "id": "27d09e62",
   "metadata": {},
   "source": [
    "### Summary\n",
    "\n",
    "| Description | Operator | Example | Result |\n",
    "|-------------|----------|---------|--------|\n",
    "| equality | == | 'cat' == 'cat' ||\n",
    "| inequality | != | 'cat' != 'Cat' ||\n",
    "| less than | < | 'A' < 'a\" ||\n",
    "| greater than | > | 'a' > 'A' ||\n",
    "| less than or equal | <= | 'a' <= 'A'||\n",
    "| greater than or equal | >= | 'a' >= 'A' ||\n",
    "| contains | in | 'cad' in 'abracadabra' | |\n",
    "| length of string | len() | len(\"abc\") | |"
   ]
  },
  {
   "cell_type": "markdown",
   "id": "421c5957",
   "metadata": {},
   "source": [
    "<a id='section2'></a>\n",
    "## 2. More on if Statements\n",
    "\n",
    "The most general form for if-statements is:\n",
    "```\n",
    "if expression1:    \n",
    "    body1\n",
    "\n",
    "elif expression2:      \n",
    "    body2\n",
    "\n",
    "elif expression3:      \n",
    "    body3\n",
    "\n",
    "\t.\n",
    "\t.\n",
    "\t.\n",
    "\n",
    "else:                \n",
    "    bodyN\n",
    "```\n"
   ]
  },
  {
   "cell_type": "markdown",
   "id": "90ab8832",
   "metadata": {},
   "source": [
    "`elif` stands for \"else if\", so this forms a chain of conditions. To execute an if-statement:\n",
    "- evaluate each expression in order from top to bottom\n",
    "- If an expression produces `True`, execute the body of that clause and then skip the rest.\n",
    "- If there is an `else`, and none of the expressions produce `True`, then execute the body of the else.\n",
    "\n",
    "**Example**"
   ]
  },
  {
   "cell_type": "code",
   "execution_count": null,
   "id": "705baf66",
   "metadata": {},
   "outputs": [],
   "source": [
    "people = 30\n",
    "cars = 20\n",
    "trucks = 1\n",
    "\n",
    "if cars > people:\n",
    "    print(\"We should take the car.\")\n",
    "elif trucks == 0:\n",
    "    print(\"We should not take the car.\")\n",
    "else:\n",
    "    print(\"We can't decide.\")\n",
    "    \n",
    "#continued here..."
   ]
  },
  {
   "cell_type": "markdown",
   "id": "c6543f94",
   "metadata": {},
   "source": [
    "**`if-elif` vs. `if-if`**\n",
    "\n",
    "An `if` statement with an `elif` clause is a single statement. The expressions are evaluated from top to bottom until one produces True or until there are no expressions left to evaluate. When an expression produces True, the body associated with it is executed and then the whole statement exits. Any subsequent expressions are ignored. For example:"
   ]
  },
  {
   "cell_type": "code",
   "execution_count": null,
   "id": "9cb999b8",
   "metadata": {
    "scrolled": true
   },
   "outputs": [],
   "source": [
    "grade1 = 70\n",
    "grade2 = 80\n",
    "\n",
    "if grade1 >= 50:\n",
    "    print('You passed a course1 with grade: ', grade1)\n",
    "elif grade2 >= 50:\n",
    "    print('You passed a course2 with grade: ', grade2)\n"
   ]
  },
  {
   "cell_type": "markdown",
   "id": "81daa8b1",
   "metadata": {},
   "source": [
    "The if statement condition `grade1 >= 50` evaluates to True, so the body associated with the if is executed and then the if exits. The elif condition is not even evaluated in this case.\n",
    "\n",
    "It is possible, of course, for if statements to appear one after another in a program. Although they may be adjacent to each other, they are completely independent of each other and it is possible for the body of each if to be executed. For example:"
   ]
  },
  {
   "cell_type": "code",
   "execution_count": null,
   "id": "afd51752",
   "metadata": {},
   "outputs": [],
   "source": [
    "grade1 = 70\n",
    "grade2 = 80\n",
    "\n",
    "if grade1 >= 50:\n",
    "    print('You passed a course1 with grade: ', grade1)\n",
    "if grade2 >= 50:\n",
    "    print('You passed a course2 with grade: ', grade2)"
   ]
  },
  {
   "cell_type": "markdown",
   "id": "0cd68445",
   "metadata": {},
   "source": [
    "In the program above, the condition associated with the first if statement `grade1 >= 50` produces True, so the body associated with it is executed. The condition associated with the second if statement `grade2 >= 50` also produces True, so the body associated with it is also executed."
   ]
  },
  {
   "cell_type": "code",
   "execution_count": null,
   "id": "af91213f",
   "metadata": {
    "scrolled": true
   },
   "outputs": [],
   "source": [
    "final_grade = 95\n",
    "\n",
    "if final_grade > 90:\n",
    "    ACORN_grade = 'A+'\n",
    "if final_grade > 80:\n",
    "    ACORN_grade = 'A'\n",
    "if final_grade > 70:\n",
    "    ACORN_grade = 'B'\n",
    "if final_grade > 60:\n",
    "    ACORN_grade = 'C'\n",
    "if final_grade >= 50:\n",
    "    ACORN_grade = 'D'\n",
    "if final_grade < 50:\n",
    "    print('You failed!')\n",
    "    \n",
    "print(ACORN_grade)"
   ]
  },
  {
   "cell_type": "markdown",
   "id": "a072bbd8",
   "metadata": {},
   "source": [
    "That clearly doesn't do a good job telling us our final grade.  Let's try again with a better structure:"
   ]
  },
  {
   "cell_type": "code",
   "execution_count": null,
   "id": "dd0dd808",
   "metadata": {},
   "outputs": [],
   "source": [
    "final_grade = '.90'\n",
    "\n",
    "if final_grade > 90:\n",
    "    print('A+')\n",
    "elif final_grade > 80:\n",
    "    print('A')\n",
    "elif final_grade > 70:\n",
    "    print('B')\n",
    "elif final_grade > 60:\n",
    "    print('C')\n",
    "elif final_grade >= 50:\n",
    "    print('D')\n",
    "else:\n",
    "    print('You failed!')"
   ]
  },
  {
   "cell_type": "markdown",
   "id": "aed95c8e",
   "metadata": {},
   "source": [
    "That looks better! But how about if there's weird inputs? Sometimes you need to help manage typos or silly user input:"
   ]
  },
  {
   "cell_type": "code",
   "execution_count": null,
   "id": "8c6383a0",
   "metadata": {},
   "outputs": [],
   "source": [
    "final_grade = '90' #or if they accidentally hit 900 instead of 90\n",
    "\n",
    "if 100 >= final_grade >= 90:\n",
    "    print('A+')\n",
    "elif 90 > final_grade >= 80:\n",
    "    print('A')\n",
    "elif 80 > final_grade >= 70:\n",
    "    print('B')\n",
    "elif 70 > final_grade >= 60:\n",
    "    print('C')\n",
    "elif 60 > final_grade >= 50:\n",
    "    print('D')\n",
    "elif 0 <= final_grade < 50:\n",
    "    print('You failed!')\n",
    "else:\n",
    "    print('You typed an incorrect number')"
   ]
  },
  {
   "cell_type": "markdown",
   "id": "4ee276f8",
   "metadata": {},
   "source": [
    "**A Note on functions: Sometimes No if Required**\n",
    "\n",
    "It is common for new programmers to write code like the following:"
   ]
  },
  {
   "cell_type": "code",
   "execution_count": null,
   "id": "8ed38c1b",
   "metadata": {},
   "outputs": [],
   "source": [
    "def is_even(num):\n",
    "    if num % 2 == 0:\n",
    "        return True\n",
    "    else:\n",
    "        return False"
   ]
  },
  {
   "cell_type": "markdown",
   "id": "8ea6cecc",
   "metadata": {},
   "source": [
    "This works, but is stylistically questionable. It's also more typing and reading than is necessary!\n",
    "\n",
    "`num % 2 == 0` produces True or False, so that expression can be used with the return statement. This function does **exactly** the same thing as the one above."
   ]
  },
  {
   "cell_type": "code",
   "execution_count": null,
   "id": "db230049",
   "metadata": {},
   "outputs": [],
   "source": [
    "def is_even(num):\n",
    "    return num % 2 == 0\n",
    "\n",
    "\n",
    "print(is_even(3))"
   ]
  },
  {
   "cell_type": "markdown",
   "id": "fcd1b5cf",
   "metadata": {},
   "source": [
    "<a id='section3'></a>\n",
    "## 3. Nested ifs\n",
    "\n",
    "It is possible to place an if statement within the body of another if statement. For example:"
   ]
  },
  {
   "cell_type": "code",
   "execution_count": null,
   "id": "a0b21b30",
   "metadata": {},
   "outputs": [],
   "source": [
    "precipitation = False\n",
    "temperature = -5\n",
    "if precipitation:\n",
    "    if temperature > 0:\n",
    "        print('Bring your umbrella!')\n",
    "    else:\n",
    "        print('Wear your snow boots and winter coat!')   "
   ]
  },
  {
   "cell_type": "markdown",
   "id": "d5f9a7a3",
   "metadata": {},
   "source": [
    "The message 'Bring your umbrella!' is printed only when both of the if statement conditions are True. The message 'Wear your snow boots and winter coat!' is printed only when the outer if condition is True, but the inner if condition is False. \n",
    "\n",
    "The following is equivalent to the code above:"
   ]
  },
  {
   "cell_type": "code",
   "execution_count": null,
   "id": "2ce752d2",
   "metadata": {},
   "outputs": [],
   "source": [
    "precipitation = True\n",
    "temperature = -5\n",
    "\n",
    "if precipitation and temperature > 0:\n",
    "    print('Bring your umbrella')\n",
    "elif precipitation:\n",
    "    print('Wear your snow boots and winter coat!')\n",
    "else:\n",
    "    print('Nothing')"
   ]
  },
  {
   "cell_type": "markdown",
   "id": "2ade0d83",
   "metadata": {},
   "source": [
    "Building off our final_grade example, sometimes we want to protect against completely incorrect inputs.  This is especially important when dealing with user inputs!!!  Sometimes users don't know what type you're expecting, other times they are intentionally trying to break your code."
   ]
  },
  {
   "cell_type": "markdown",
   "id": "d158d699",
   "metadata": {},
   "source": [
    "**Story Example**"
   ]
  },
  {
   "cell_type": "markdown",
   "id": "bead044d",
   "metadata": {
    "collapsed": true
   },
   "source": [
    "# While Loops, Build Your Own Counters\n",
    "\n",
    "### Lecture Structure\n",
    "1. [Asking the User a Question](#section1)\n",
    "2. [While Loops](#section2)\n",
    "3. [Infinite Loops](#section3)\n",
    "4. [Back to User Input](#section4)\n",
    "5. [Breakout Session 1](#section5)\n",
    "6. [Random Module](#section6)\n",
    "7. [A Simple Guessing Game](#section7)"
   ]
  },
  {
   "cell_type": "markdown",
   "id": "d8977081",
   "metadata": {},
   "source": [
    "<a id='section1'></a>\n",
    "## 1. Asking the User a Question\n",
    "\n",
    "Let's say you want to ask the user a question that has a yes-or-no answer. For example, \"Do you think the Toronto Maple Leafs will win the Stanley Cup in your lifetime?\"\n",
    "\n",
    "With what we have studied so far, this should be pretty easy."
   ]
  },
  {
   "cell_type": "code",
   "execution_count": null,
   "id": "85f89e8a",
   "metadata": {},
   "outputs": [],
   "source": [
    "answer = input(\"Do you think the Toronto Maple Leafs will win the Stanley Cup in your lifetime? (y/n): \")\n",
    "\n",
    "if answer == 'y':\n",
    "    print(\"You are going to live for a very long time.\")\n",
    "elif answer == 'n':\n",
    "    print(\"Well, sometimes miracles happen.\")"
   ]
  },
  {
   "cell_type": "markdown",
   "id": "2960279b",
   "metadata": {},
   "source": [
    "OK, so we've written code that satisfied our problem requirements. \n",
    "\n",
    "But, what if a user inputs a `'t'` when they meant to input a `'y'`?\n",
    "\n",
    "Well, we could add as `else` statement to catch this error."
   ]
  },
  {
   "cell_type": "code",
   "execution_count": null,
   "id": "0a31cdcb",
   "metadata": {},
   "outputs": [],
   "source": [
    "answer = input(\"Do you think the Toronto Maple Leafs will win the Stanley Cup in your lifetime? (y/n): \")\n",
    "\n",
    "if answer == 'y':\n",
    "    print(\"You are going to live for a very long time.\")\n",
    "elif answer == 'n':\n",
    "    print(\"Well, sometimes miracles happen.\")\n",
    "else:\n",
    "    print(\"Sorry, that was not one of the options.\")"
   ]
  },
  {
   "cell_type": "markdown",
   "id": "0560b3b5",
   "metadata": {},
   "source": [
    "Ok, this kinda works.\n",
    "\n",
    "But, the user was not able to try again given they clearly made a typo.\n",
    "\n",
    "We could try copying our code again into the `else` statement."
   ]
  },
  {
   "cell_type": "code",
   "execution_count": null,
   "id": "3d16a5be",
   "metadata": {},
   "outputs": [],
   "source": [
    "answer = input(\"Do you think the Toronto Maple Leafs will win the Stanley Cup in your lifetime? (y/n): \")\n",
    "\n",
    "if answer == 'y':\n",
    "    print(\"You are going to live for a very long time.\")\n",
    "elif answer == 'n':\n",
    "    print(\"Well, sometimes miracles happen.\")\n",
    "else:\n",
    "    print(\"Sorry, that was not one of the options.\")\n",
    "    \n",
    "    # Copied code\n",
    "    answer = input(\"Do you think the Toronto Maple Leafs will win the Stanley Cup in your lifetime? (y/n): \")\n",
    "\n",
    "    if answer == 'y':\n",
    "        print(\"You are going to live for a very long time.\")\n",
    "    elif answer == 'n':\n",
    "        print(\"Well, sometimes miracles happen.\")\n",
    "    else:\n",
    "        print(\"Sorry, that was not one of the options.\")"
   ]
  },
  {
   "cell_type": "markdown",
   "id": "850ea6cb",
   "metadata": {},
   "source": [
    "But, what if the user inputs two incorrect values?\n",
    "\n",
    "We can keep pasting that code forever because we don't know how many mistakes a user will make.\n",
    "\n",
    "We could use a `while` loop to continue to prompt the user for an input until a correct value (either `'y'` or `'n'`) is entered.\n",
    "\n",
    "Let's learn about `while` loops and then revisit this problem."
   ]
  },
  {
   "cell_type": "markdown",
   "id": "bc79411e",
   "metadata": {},
   "source": [
    "<a id='section2'></a>\n",
    "## 2. While Loops\n",
    "The form of a while-loop is:\n",
    "\n",
    "```python\n",
    "while expression:    \n",
    "    body\n",
    "```\n",
    "\n",
    "`expression` is a boolean expression: it evaluates to `True` or `False`. While it is `True` the code in `body` is executed and then the execution returns to the `while` line and evaluates `expression` again. If it is still `True`, execute `body`, loop back, and test `expression` again. If `expression` is `False`, skip `body` and go to the next line after it.\n",
    "\n",
    "How can we use a while-loop to print the integers between 0 and 9?"
   ]
  },
  {
   "cell_type": "code",
   "execution_count": null,
   "id": "02518201",
   "metadata": {},
   "outputs": [],
   "source": [
    "x = 0\n",
    "while x < 10:\n",
    "    print('x is now:', x)\n",
    "    x += 1"
   ]
  },
  {
   "cell_type": "markdown",
   "id": "9957736b",
   "metadata": {},
   "source": [
    "Wow, that was fast! Let's slow things down so we can see what's going on."
   ]
  },
  {
   "cell_type": "code",
   "execution_count": null,
   "id": "95b298ca",
   "metadata": {},
   "outputs": [],
   "source": [
    "import time\n",
    "\n",
    "x = 0\n",
    "print('x is initially set to:', x)\n",
    "\n",
    "print('Starting While loop\\n')\n",
    "while x < 10:\n",
    "    \n",
    "    time.sleep(1.5)\n",
    "    print('Starting an iteration, x =', x)\n",
    "    \n",
    "    time.sleep(1.5)\n",
    "    print('Updating x,', x, '+ 1 = ', x + 1)\n",
    "    x += 1\n",
    "    \n",
    "    time.sleep(1.5)\n",
    "    if x < 10:\n",
    "        print('Condition', x, '< 10 is True')\n",
    "        print('Continuing to next iteration\\n')\n",
    "    else:\n",
    "        print('Condition', x, '< 10 is False')\n",
    "        print('Exiting While loop')"
   ]
  },
  {
   "cell_type": "markdown",
   "id": "89342626",
   "metadata": {},
   "source": [
    "What if we wanted to know which integers have a squared value less than 200?"
   ]
  },
  {
   "cell_type": "code",
   "execution_count": null,
   "id": "854f65fc",
   "metadata": {},
   "outputs": [],
   "source": [
    "x = 0\n",
    "while x*x < 200:\n",
    "    print(x)\n",
    "    x = x + 1"
   ]
  },
  {
   "cell_type": "markdown",
   "id": "94084d9b",
   "metadata": {},
   "source": [
    "<a id='section3'></a>\n",
    "## 3. Infinite Loops\n",
    "Let's go back to our original code and remove the indentation of `x +=1`.\n",
    "\n",
    "What do you think will happen?"
   ]
  },
  {
   "cell_type": "code",
   "execution_count": null,
   "id": "2519f613",
   "metadata": {},
   "outputs": [],
   "source": [
    "x = 0\n",
    "while x < 10:\n",
    "    print('x is now:', x)\n",
    "x += 1"
   ]
  },
  {
   "cell_type": "markdown",
   "id": "7bd9fff9",
   "metadata": {},
   "source": [
    "Yikes! Click the `stop` button to break out of the loop.\n",
    "\n",
    "### Question: What type of error is this?\n",
    "#### Syntax, Logic, Semantic, Runtime?"
   ]
  },
  {
   "cell_type": "markdown",
   "id": "d18703a0",
   "metadata": {},
   "source": [
    "<a id='section4'></a>\n",
    "## 4. Back to User Input\n",
    "Now, let's go back to our user input example.\n",
    "\n",
    "How can we use a `while` loop to keep asking the user the question until they answer `'y'` or `'n'`?\n",
    "\n",
    "Let's start with some of the code we wrote above. How are we going to adapt it?"
   ]
  },
  {
   "cell_type": "code",
   "execution_count": null,
   "id": "182d6c43",
   "metadata": {},
   "outputs": [],
   "source": [
    "answer = input(\"Do you think the Toronto Maple Leafs will win the Stanley Cup in your lifetime? (y/n): \")\n",
    "\n",
    "if answer == 'y':\n",
    "    print(\"You are going to live for a very long time.\")\n",
    "elif answer == 'n':\n",
    "    print(\"Well, sometimes miracles happen.\")\n",
    "else:\n",
    "    print(\"Sorry, that was not one of the options.\")"
   ]
  },
  {
   "cell_type": "markdown",
   "id": "bd14f780",
   "metadata": {},
   "source": [
    "We can use a `while` loop to continu asking the question `\"Do you think the Toronto Maple Leafs will win the Stanley Cup in your lifetime? (y/n): \"` until the user enters `'y'` or `'n'`."
   ]
  },
  {
   "cell_type": "code",
   "execution_count": null,
   "id": "54e1ea67",
   "metadata": {},
   "outputs": [],
   "source": [
    "answer = input(\"Do you think the Toronto Maple Leafs will win the Stanley Cup in your lifetime? (y/n): \")\n",
    "\n",
    "while answer != 'y' and answer != 'n':\n",
    "    print(\"Sorry, that was not one of the options.\")\n",
    "    answer = input(\"Do you think the Toronto Maple Leafs will win the Stanley Cup in your lifetime? (y/n): \")\n",
    "    \n",
    "if answer == 'y':\n",
    "    print(\"You are going to live for a very long time.\")\n",
    "else:\n",
    "    print(\"Well, sometimes miracles happen.\")"
   ]
  },
  {
   "cell_type": "markdown",
   "id": "ad568da6",
   "metadata": {},
   "source": [
    "### Question: Why is it OK to just use an `else` (not an `elif`)?"
   ]
  },
  {
   "cell_type": "markdown",
   "id": "34517526",
   "metadata": {},
   "source": [
    "<a id='section5'></a>\n",
    "## 5. Breakout Session 1\n",
    "Wire a code to print all the numbers from 0 to 20 that aren’t divisible by either 3 or 5.\n",
    "\n",
    "Zero is divisible by everything and should not appear in the output."
   ]
  },
  {
   "cell_type": "code",
   "execution_count": null,
   "id": "cef7d68f",
   "metadata": {
    "scrolled": true
   },
   "outputs": [],
   "source": [
    "# Write your code here\n",
    "x = 1\n",
    "while x <= 20:\n",
    "    \n",
    "    if x % 3 != 0 and x % 5 != 0:\n",
    "        print(x)\n",
    "    \n",
    "    x = x + 1"
   ]
  }
 ],
 "metadata": {
  "kernelspec": {
   "display_name": "Python 3 (ipykernel)",
   "language": "python",
   "name": "python3"
  },
  "language_info": {
   "codemirror_mode": {
    "name": "ipython",
    "version": 3
   },
   "file_extension": ".py",
   "mimetype": "text/x-python",
   "name": "python",
   "nbconvert_exporter": "python",
   "pygments_lexer": "ipython3",
   "version": "3.10.9"
  }
 },
 "nbformat": 4,
 "nbformat_minor": 5
}
