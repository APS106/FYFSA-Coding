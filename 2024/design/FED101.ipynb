{
 "cells": [
  {
   "cell_type": "markdown",
   "id": "fd27d8fc",
   "metadata": {},
   "source": [
    "# Fabrication and Engineering Design 101\n",
    "\n",
    "## Python Fundamentals\n",
    "\n",
    "### Lecture Structure\n",
    "1. [Using Python as a Calculator](#section1)\n",
    "2. [Variables and Memory](#section2)\n",
    "3. [Different Types of Variables](#section3)\n",
    "4. [Function Call](#section4)\n",
    "5. [Breakout Session 1](#section5)\n",
    "6. [Input & Output](#section6)\n",
    "7. [Importing Function & Modules](#section7)\n",
    "8. [Defining Your Own Functions](#section8)\n",
    "9. [Introducing Booleans](#section9)\n",
    "10. [Logical Operators](#section10)\n",
    "11. [Introducing if Statements](#section11)\n",
    "12. [More on if Statements](#section12)\n",
    "13. [Asking the User a Question](#section13)\n",
    "14. [While Loops](#section14)\n",
    "15. [Breakout Session 2 & 3](#section15)"
   ]
  },
  {
   "cell_type": "markdown",
   "id": "6e00a403",
   "metadata": {},
   "source": [
    "<a id='section1'></a>\n",
    "\n",
    "## 1. Using Python as a Calculator\n",
    "\n",
    "Unlike some other languages, Python is dynamically typed.  It is interpreted language and can run line by line.  "
   ]
  },
  {
   "cell_type": "markdown",
   "id": "380228f0",
   "metadata": {},
   "source": [
    "### Arithmetic Operators\n",
    "\n",
    "| Operator | Operation | Expression | English | Result |\n",
    "| --- | --- | --- | --- | --- |\n",
    "| + | addition | 11 + 23 | 11 plus 23 | 34 |\n",
    "| - | subtraction | 23 - 52 | 23 minus 52 | -29 |\n",
    "| * | multiplication | 4 * 5 | 4 times 5 | 20 |\n",
    "| / | division | 9 / 2 | 9 divided by 2 | 4.5 |\n",
    "| // | integer division | 9 // 2 | 9 divided by 2 | 4 |\n",
    "| ** | exponentiation | 2 ** 5 | 2 to the power 5 | 32 |\n",
    "| % | modulo (remainder) | 9 % 2 | 9 mod 2 | 1 |\n",
    "\n",
    "The first 3 (addition, subtraction, multiplication) should be easy - with the slight issue that multiplication is represented by `*`. This is pretty common in (almost) all programming languages.\n",
    "\n",
    "#### Division\n",
    "\n",
    "Division comes in two flavours.\n",
    "\n",
    "First, the `/` operator divides a number by another number (integer or decimal) and returns and represents the result **as a `float`** (a value type with decimal places - we'll discuss later this lecture).\n",
    "\n",
    "The second division operator is integer division. It divides the first number by the second with the result being **truncated** to an integer value. \"Truncated\" means that everything after the decimal is thrown away.  NOTE THAT WE SAID TRUNCATED, NOT ROUNDED.\n",
    "\n",
    "If the two operands of `//` (the two numbers being divided) are both `int`, then the result will be an `int`. If either of the two operands is a `float`, then the result will be a `float` (even though it will have a whole number value).\n",
    "\n",
    "#### Exponentiation\n",
    "\n",
    "Python has a nice exponentiation operator `**`\n",
    "\n",
    "#### Modulo\n",
    "\n",
    "The last operator may be new to you. It is the modulo operator repesented by `%`. It is also a kind of division but it results in the **remainder** after dividing the operands. "
   ]
  },
  {
   "cell_type": "code",
   "execution_count": null,
   "id": "6484fd09",
   "metadata": {},
   "outputs": [],
   "source": [
    "3+4"
   ]
  },
  {
   "cell_type": "code",
   "execution_count": null,
   "id": "cca02627",
   "metadata": {},
   "outputs": [],
   "source": [
    "4*5"
   ]
  },
  {
   "cell_type": "code",
   "execution_count": null,
   "id": "f213307f",
   "metadata": {},
   "outputs": [],
   "source": [
    "10/3"
   ]
  },
  {
   "cell_type": "code",
   "execution_count": null,
   "id": "cff78159",
   "metadata": {},
   "outputs": [],
   "source": [
    "10//3"
   ]
  },
  {
   "cell_type": "code",
   "execution_count": null,
   "id": "b6ed4603",
   "metadata": {},
   "outputs": [],
   "source": [
    "2**3"
   ]
  },
  {
   "cell_type": "code",
   "execution_count": null,
   "id": "f7a2ebd0",
   "metadata": {},
   "outputs": [],
   "source": [
    "10%3"
   ]
  },
  {
   "cell_type": "markdown",
   "id": "6fd1d77b",
   "metadata": {},
   "source": [
    "### Arithmetic Operator Precedence\n",
    "\n",
    "Just as you learned in high school, when you have a complicated expression some of the operators are executed before others. In Python the operator precedence is as follows.\n",
    "\n",
    "| Operator | Precedence |\n",
    "| --- | --- | \n",
    "| ** | highest | \n",
    "| - (negation) | | \n",
    "| \\*, /, //, % | (evaluate left-to-right) | \n",
    "| + (addition, - (subtraction) | lowest (evaluate left-to-right) |"
   ]
  },
  {
   "cell_type": "code",
   "execution_count": null,
   "id": "7f913e52",
   "metadata": {},
   "outputs": [],
   "source": [
    "25 + 30 / 6"
   ]
  },
  {
   "cell_type": "code",
   "execution_count": null,
   "id": "96b61ce5",
   "metadata": {},
   "outputs": [],
   "source": [
    "5 + 4 ** 2"
   ]
  },
  {
   "cell_type": "markdown",
   "id": "1e6fb273",
   "metadata": {},
   "source": [
    "<a id='section2'></a>\n",
    "\n",
    "## 2. Variables and Memory\n",
    "\n",
    "The most basic thing you can do in a computer program is to assign a value to a variable. We'll get into more detail later in this lecture, but for now, you can think of a variable as a **named** location in memory and the value as the bits (i.e., 0/1 values) that represents the quantity that is stored in that location.\n",
    "\n",
    "Here are two lines in a Python program. Each line does 3 things:\n",
    "- creates a variable\n",
    "- gives it a name\n",
    "- assigns a value"
   ]
  },
  {
   "cell_type": "code",
   "execution_count": null,
   "id": "0457dd0d",
   "metadata": {},
   "outputs": [],
   "source": [
    "base = 20\n",
    "height = 12\n",
    "area = base*height"
   ]
  },
  {
   "cell_type": "markdown",
   "id": "6321275c",
   "metadata": {},
   "source": [
    "So now we have a variable named `base` with a value of 20 and a variable named `height` with a value of 12.  There is also a variable named area with a value of 20 x 12 (which equals 240).  But we didn't get any output?!\n",
    "\n",
    "### Output: The `print` statement\n",
    "\n",
    "You will have noticed when I ran the above code, it didn't look like anything happened. Stuff did happen (as described above) but since there was no output, you couldn't tell. \n",
    "\n",
    "We'll get into this in (much more) depth later in the course. For now, you should know that there exists a function called `print` which prints a value to the screen. Whenever you need to output something, you will need to use a `print` function.\n",
    "\n",
    "For example:"
   ]
  },
  {
   "cell_type": "code",
   "execution_count": null,
   "id": "64a1e607",
   "metadata": {},
   "outputs": [],
   "source": [
    "print(20)"
   ]
  },
  {
   "cell_type": "code",
   "execution_count": null,
   "id": "219023a7",
   "metadata": {},
   "outputs": [],
   "source": [
    "print(base)"
   ]
  },
  {
   "cell_type": "code",
   "execution_count": null,
   "id": "3ff1dbcb",
   "metadata": {},
   "outputs": [],
   "source": [
    "print(height)"
   ]
  },
  {
   "cell_type": "code",
   "execution_count": null,
   "id": "2efcabbf",
   "metadata": {},
   "outputs": [],
   "source": [
    "print(base*height)\n",
    "print(area)"
   ]
  },
  {
   "cell_type": "markdown",
   "id": "82f4ba96",
   "metadata": {},
   "source": [
    "### Variable Names\n",
    "\n",
    "Python has a two rules for legal variable names:\n",
    "1. Names must start with a letter or \\_ (an underscore).\n",
    "2. Names must contain only letters, digits, and \\_. [No emojis in your variables names!]\n",
    "\n",
    "By convention, it is good Python style to use `pothole_case`. Create meaningful variables names with underscore separating the \"words\" in the name (if there is more than one meaningful word)."
   ]
  },
  {
   "cell_type": "code",
   "execution_count": null,
   "id": "60c14e1f",
   "metadata": {},
   "outputs": [],
   "source": [
    "time_to_launch = 20 # maybe used in some sort of aerospace application?\n",
    "\n",
    "family_name = \"Smith\" # for a human resources application\n",
    "\n",
    "learning_rate = 0.01 # for machine learning code\n",
    "\n",
    "#HINT: THE FOLLOWING ARE NOT HELPFUL NAMES\n",
    "nom = 1.2\n",
    "nomnomnom = 0.0000012\n",
    "nomnomnomnomnom = 5\n",
    "nomnomnomnomnomnomnom = 'nomnom string'"
   ]
  },
  {
   "cell_type": "markdown",
   "id": "efc286d7",
   "metadata": {},
   "source": [
    "### Memory Locations\n",
    "\n",
    "*Everything* in Python has a location in memory. **This is different than most languages!** Each location in memory has an *address*. You can think of this as similar to a house address. Just as \"40 St. George St\" refers to a location in Toronto, each location has a corresponding \"id\" which maps to its location in memory.\n",
    "\n",
    "For example:"
   ]
  },
  {
   "cell_type": "code",
   "execution_count": null,
   "id": "3d27e6c8",
   "metadata": {},
   "outputs": [],
   "source": [
    "print(id(base))"
   ]
  },
  {
   "cell_type": "code",
   "execution_count": null,
   "id": "93e74deb",
   "metadata": {},
   "outputs": [],
   "source": [
    "print(id(20))"
   ]
  },
  {
   "cell_type": "markdown",
   "id": "6cef77e6",
   "metadata": {},
   "source": [
    "### Assignment Statements\n",
    "\n",
    "<div class=\"alert alert-block alert-warning\">\n",
    "This is a frequent source of error and mis-understanding.\n",
    "</div>\n",
    "\n",
    "An assignment statement is always executed as follows:\n",
    "1. The expression to the right of the `=` sign is evaluated. \"Evaluated\" means that the computer figures out what quantity it represents. That quantity is someplace in memory (i.e., it has a memory address) and that address is figured out.\n",
    "2. The memory address of the evaluated expression is then stored in the variable on the left side of the `=` sign.\n",
    "\n",
    "The notion of evaluation may sound strange at the moment because a numeric constant (like 20) just evaluates to itself. So it seems like this is more complicated than it has to be. As we will see, we can have more than just a constant on the right-hand side of an assignment. And memorizing the following rule will help you in those more complicated cases: \n",
    "\n",
    "<font color=red>first evaluate the thing on the right, then assign its address to the thing on the left</font>.\n",
    "\n",
    "Let's go through a simple example."
   ]
  },
  {
   "cell_type": "code",
   "execution_count": null,
   "id": "64da498d",
   "metadata": {},
   "outputs": [],
   "source": [
    "difference = 20\n",
    "print(difference)"
   ]
  },
  {
   "cell_type": "markdown",
   "id": "1094be62",
   "metadata": {},
   "source": [
    "Following our rule, the thing in the right of the `=` is evaluated (to 20, obviously) and then it's address is figured out. The address of 20 is:"
   ]
  },
  {
   "cell_type": "code",
   "execution_count": null,
   "id": "457249a8",
   "metadata": {
    "scrolled": true
   },
   "outputs": [],
   "source": [
    "print(id(difference))\n",
    "print(id(20))"
   ]
  },
  {
   "cell_type": "code",
   "execution_count": null,
   "id": "a62b8a3a",
   "metadata": {},
   "outputs": [],
   "source": [
    "double = 2 * difference\n",
    "print(double)"
   ]
  },
  {
   "cell_type": "code",
   "execution_count": null,
   "id": "a9f58d90",
   "metadata": {},
   "outputs": [],
   "source": [
    "print(id(double))\n",
    "print(id(40))"
   ]
  },
  {
   "cell_type": "code",
   "execution_count": null,
   "id": "6e8b5837",
   "metadata": {},
   "outputs": [],
   "source": [
    "difference = 5\n",
    "print(difference)"
   ]
  },
  {
   "cell_type": "code",
   "execution_count": null,
   "id": "57fec32b",
   "metadata": {},
   "outputs": [],
   "source": [
    "print(id(difference))\n",
    "print(id(5))\n",
    "print(id(20))"
   ]
  },
  {
   "cell_type": "markdown",
   "id": "61fd8018",
   "metadata": {},
   "source": [
    "<a id='section3'></a>\n",
    "<div class=\"alert alert-block alert-info\">\n",
    "<big><b>Where Are We So Far</b></big>\n",
    "<ul>  \n",
    "    <li><tt>print</tt> statements to output something to the screen</li>  \n",
    " <li>assignment statements that create a variable and assign it a value</li>  \n",
    " <li>the rule for figuring out what assignment statements are really doing</li>  \n",
    "</ul>  \n",
    "</div>\n",
    "\n",
    "### 3. Different Types of Variables\n",
    "\n",
    "So far we've mostly seen examples of assigning numbers to variables. And mostly, we've only seen a sub-class of numbers being assigned: integers.\n",
    "\n",
    "To start, let's talk about 3 types of variables: `int` (represents integers), `float` (represents continuous numbers), and `str` (represents a strong of one or more characters).\n",
    "\n",
    "A *type* is a set of values and a set of operations (e.g., +,-, etc. we'll see more of these in a second) that can be performed on the values. \n",
    "\n",
    "#### Types `int` and `float`\n",
    "\n",
    "Numeric values are represented in Python as `int` and `float` type. (`float` is short for \"floating-point\" number which has to do with how you represent fractional numbers with only bits. Not something we have to be concerned about for now.) We've seen examples of `int` variables, here are a couple of `float` variables."
   ]
  },
  {
   "cell_type": "code",
   "execution_count": null,
   "id": "0b1f58f4",
   "metadata": {},
   "outputs": [],
   "source": [
    "distance = 5.3\n",
    "print(distance)\n",
    "time = 13.4\n",
    "print(time)\n",
    "print(type(time))"
   ]
  },
  {
   "cell_type": "code",
   "execution_count": null,
   "id": "fd11cb2e",
   "metadata": {},
   "outputs": [],
   "source": [
    "approx_time = 13\n",
    "print(type(approx_time))"
   ]
  },
  {
   "cell_type": "markdown",
   "id": "cc2af3d5",
   "metadata": {},
   "source": [
    "#### Type `str`\n",
    "\n",
    "A *string literal* is a sequence of characters. In Python, this type is called `str`. Strings in Python start and end with a single quotes (') or double quotes (\") (or even triple quotes - but we'll get to that later). Just remember that you need to start and end a string literal with the same quote mark. A string can be made up of letters, numbers, and special characters. For example:"
   ]
  },
  {
   "cell_type": "code",
   "execution_count": null,
   "id": "5319cc8e",
   "metadata": {},
   "outputs": [],
   "source": [
    "greeting = 'hello'\n",
    "print(greeting)\n",
    "\n",
    "print('how are you?')\n",
    "print(\"short- and long-term\")"
   ]
  },
  {
   "cell_type": "markdown",
   "id": "b658088f",
   "metadata": {},
   "source": [
    "Just like an `int` and `float` variables store integers and floating point values, a `str` variable stores string literals.\n",
    "\n",
    "### Expressions\n",
    "\n",
    "You already know about mathematical expressions like `2+5-13`. Such expressions: evaluate to some value and are made up of *operators* (e.g., +, -) and *operands* (the values that the operators operate on).\n",
    "\n",
    "Actually, expressions do not have to have operators. A number by itself or a variable is an expression. When we talked about evaluating the thing after the = sign in an assignment statement, that thing is an expression. So this means we can expand our assignment statements to have any expression on the right-hand side."
   ]
  },
  {
   "cell_type": "code",
   "execution_count": null,
   "id": "afecd957",
   "metadata": {},
   "outputs": [],
   "source": [
    "base = 20\n",
    "height = 12\n",
    "area = base * height / 2\n",
    "print(area)"
   ]
  },
  {
   "cell_type": "code",
   "execution_count": null,
   "id": "7b921f75",
   "metadata": {},
   "outputs": [],
   "source": [
    "celsius = 22\n",
    "fahrenheit = celsius * 9/5 + 32\n",
    "print(fahrenheit)"
   ]
  },
  {
   "cell_type": "markdown",
   "id": "9340f4b7",
   "metadata": {},
   "source": [
    "Notice that the examples above have a variable to the right of the = sign. This is fine as a variable will just evaluate to the value that it has been assigned.\n",
    "\n",
    "The rules for figuring out what assignments statements are doing remain the same. The change is that the evaluation of the expression on the right-hand side is more complicated when you have something other than a number. "
   ]
  },
  {
   "cell_type": "markdown",
   "id": "8b3b0a99",
   "metadata": {},
   "source": [
    "### Arithmetic Operator Precedence\n",
    "\n",
    "Just as you learned in high school, when you have a complicated expression some of the operators are executed before others. In Python the operator precedence is as follows.\n",
    "\n",
    "| Operator | Precedence |\n",
    "| --- | --- | \n",
    "| ** | highest | \n",
    "| - (negation) | | \n",
    "| \\*, /, //, % | (evaluate left-to-right) | \n",
    "| + (addition, - (subtraction) | lowest (evaluate left-to-right) |"
   ]
  },
  {
   "cell_type": "code",
   "execution_count": null,
   "id": "a87b6b16",
   "metadata": {},
   "outputs": [],
   "source": [
    "x = 2 + 5 * 2**2\n",
    "print(x)"
   ]
  },
  {
   "cell_type": "markdown",
   "id": "b6a7b3ba",
   "metadata": {},
   "source": [
    "You can use parenthesis to over-ride the default precedence and this is often a good idea in order to write code that can be understood."
   ]
  },
  {
   "cell_type": "code",
   "execution_count": null,
   "id": "29eedc2c",
   "metadata": {},
   "outputs": [],
   "source": [
    "#fahrenheit = celsius * 9/5 + 32\n",
    "\n",
    "fahr = 212\n",
    "celsius = fahr - 32 * 5 / 9\n",
    "print(celsius)"
   ]
  },
  {
   "cell_type": "code",
   "execution_count": null,
   "id": "b0f020f1",
   "metadata": {},
   "outputs": [],
   "source": [
    "#celsius = (fahrenheit-32) / (9/5)\n",
    "\n",
    "fahr = 212\n",
    "celsius = (fahr - 32) * 5 / 9\n",
    "print(celsius)"
   ]
  },
  {
   "cell_type": "markdown",
   "id": "185dfbd9",
   "metadata": {},
   "source": [
    "It is generally a good idea to use parenthesis for any statement beyond the most trivial. Make if clear what you mean will help when you are trying to debug your code later."
   ]
  },
  {
   "cell_type": "markdown",
   "id": "cac7c822",
   "metadata": {},
   "source": [
    "We can re-write the above code using \"augmented operators\" that combine `+` and `=`."
   ]
  },
  {
   "cell_type": "markdown",
   "id": "94ec1910",
   "metadata": {},
   "source": [
    "The standard rules apply: evaluate the expression on the right-hand side and then increment (in the case of `+=`) the variable on the left-hand side."
   ]
  },
  {
   "cell_type": "markdown",
   "id": "5a3cf680",
   "metadata": {},
   "source": [
    "<div class=\"alert alert-block alert-info\">\n",
    "<big><b>Where Are We Now</b></big>\n",
    "<ul>  \n",
    "    <li>Three variables types: <tt>int</tt>, <tt>float</tt>, and <tt>str</tt></li>\n",
    "    <li>Arithmetic expression combine operators, variables, constants</li>\n",
    "    <li>Arithmetic operators have precedence which can be over-ridden with parentheses</li>\n",
    "\n",
    "</ul>  \n",
    "</div>\n"
   ]
  },
  {
   "cell_type": "markdown",
   "id": "3477b120",
   "metadata": {},
   "source": [
    "# Functions, Input & Output, Importing Modules\n",
    "\n",
    "### Structure\n",
    "2. [Function Call](#section2)\n",
    "3. [Back to Evaluation and Expressions](#section3)\n",
    "4. [Breakout Session 1](#section4)\n",
    "5. [Built-in Functions](#section5)\n",
    "6. [Function Help](#section6)\n",
    "7. [Output](#section7)\n",
    "8. [Input](#section8)\n",
    "9. [Breakout Session 2](#section9)\n",
    "10. [Importing Functions and Modules](#section10)\n",
    "11. [Defining Your Own Functions](#section11)"
   ]
  },
  {
   "cell_type": "markdown",
   "id": "0fcd8cf6",
   "metadata": {},
   "source": [
    "<a id='section4'></a>\n",
    "## 4. Function Call\n",
    "\n",
    "Does anyone actually know how to calculate sine? This is what the code above would look like if I actually inserted code to compute the sine of an angle."
   ]
  },
  {
   "cell_type": "code",
   "execution_count": null,
   "id": "643b60d9",
   "metadata": {},
   "outputs": [],
   "source": [
    "# The first angle\n",
    "angle1 = 1.57 # radians \n",
    "\n",
    "\"\"\"\n",
    "Code to compute sine (start)\n",
    "\"\"\"\n",
    "multiplier = -1.0\n",
    "sin_angle1 = angle1\n",
    "n = 21\n",
    "factorials = []\n",
    "memoized_to = n\n",
    "prev = 1\n",
    "factorials.append(1)\n",
    "\n",
    "for i in range(1, n + 1):\n",
    "    factorials.append(i * prev)\n",
    "    prev = factorials[i]\n",
    "\n",
    "for currentdegree in range(3, (n + 1), 2):\n",
    "\n",
    "    sin_angle1 += ( (angle1 ** currentdegree) / factorials[currentdegree] * multiplier )\n",
    "\n",
    "    multiplier *= -1\n",
    "\"\"\"\n",
    "Code to compute sine (end)\n",
    "\"\"\"\n",
    "\n",
    "# The second angle\n",
    "angle2 = 3.14 # radians\n",
    "\n",
    "\"\"\"\n",
    "Code to compute sine (start)\n",
    "\"\"\"\n",
    "multiplier = -1.0\n",
    "sin_angle2 = angle2\n",
    "n = 16\n",
    "factorials = []\n",
    "memoized_to = n\n",
    "prev = 1\n",
    "factorials.append(1)\n",
    "\n",
    "for i in range(1, n + 1):\n",
    "    factorials.append(i * prev)\n",
    "    prev = factorials[i]\n",
    "\n",
    "for currentdegree in range(3, (n + 1), 2):\n",
    "\n",
    "    sin_angle2 += ( (angle2 ** currentdegree) / factorials[currentdegree] * multiplier )\n",
    "\n",
    "    multiplier *= -1  \n",
    "\"\"\"\n",
    "Code to compute sine (start)\n",
    "\"\"\"\n",
    "\n",
    "# Let's add the two sines\n",
    "result = sin_angle1 + sin_angle2\n",
    "\n",
    "# And print the results\n",
    "print(result)"
   ]
  },
  {
   "cell_type": "markdown",
   "id": "fee7d6fb",
   "metadata": {},
   "source": [
    "This is code hurts my head just looking at it. Instead, you could create (or, in fact, someone else has already created) a function called `sin` that you can \"call\" (i.e., execute the code) whenever you want to calculate the sine of an angle.\n",
    "\n",
    "And so you can write code like this (you won't understand everything in this code until the end of this lecture)."
   ]
  },
  {
   "cell_type": "code",
   "execution_count": null,
   "id": "f66c06ba",
   "metadata": {},
   "outputs": [],
   "source": [
    "import math\n",
    "\n",
    "angle1 = 1.57 # radians\n",
    "angle2 = 3.14 # radians\n",
    "\n",
    "result = math.sin(angle1) + math.sin(angle2)\n",
    "\n",
    "print(result)"
   ]
  },
  {
   "cell_type": "markdown",
   "id": "cd906713",
   "metadata": {},
   "source": [
    "The take away is simple. Functions make code:\n",
    "- easy to ready\n",
    "- easy to maintain\n",
    "- easy to write\n",
    "- easy to share\n",
    "\n",
    "You'll also notice that the above code calls the function `sin()` twice in the same expression! (As well as the the `+` operator.)"
   ]
  },
  {
   "cell_type": "markdown",
   "id": "c953e9e1",
   "metadata": {},
   "source": [
    "#### Examples\n",
    "In the example below `abs()` is the **`function`** we are **`calling`** and `-20` is the **`argument`** that we're passing to the function."
   ]
  },
  {
   "cell_type": "code",
   "execution_count": null,
   "id": "1f774676",
   "metadata": {},
   "outputs": [],
   "source": [
    "x = abs(-20)\n",
    "print(x)"
   ]
  },
  {
   "cell_type": "markdown",
   "id": "7bd17231",
   "metadata": {},
   "source": [
    "And, `20` is what the function **`returns`**.\n",
    "\n",
    "In the example below, you can see we're using two functions calls in the same line of code."
   ]
  },
  {
   "cell_type": "code",
   "execution_count": null,
   "id": "b199ad6d",
   "metadata": {},
   "outputs": [],
   "source": [
    "y = abs(-20) + abs(-3)\n",
    "print(y)"
   ]
  },
  {
   "cell_type": "markdown",
   "id": "e6b1cf02",
   "metadata": {},
   "source": [
    "Both `print()` and `abs()` are built-in function in Python."
   ]
  },
  {
   "cell_type": "markdown",
   "id": "1cd19668",
   "metadata": {},
   "source": [
    "Let's take the simpler case first."
   ]
  },
  {
   "cell_type": "code",
   "execution_count": null,
   "id": "ae5abc44",
   "metadata": {},
   "outputs": [],
   "source": [
    "x = abs(-20)\n",
    "print(x)"
   ]
  },
  {
   "cell_type": "markdown",
   "id": "e298fd6f",
   "metadata": {},
   "source": [
    "Let's make it a bit more complicated."
   ]
  },
  {
   "cell_type": "code",
   "execution_count": null,
   "id": "48a1bc36",
   "metadata": {},
   "outputs": [],
   "source": [
    "y = -20\n",
    "x = abs(y)\n",
    "print(x)"
   ]
  },
  {
   "cell_type": "markdown",
   "id": "62bfb452",
   "metadata": {},
   "source": [
    "Now the argument of the function call is not a constant (`-20`) but rather a variable (`y`). The rules for function calls are that each argument needs to be evaluated and then the function is called. \n",
    "\n",
    "1. `y` gets evaluated to its value (-20) \n",
    "2. -20 is passed to the function\n",
    "3. The function is evaluated and returns 20\n",
    "4. 20 is assignned to the variable `x`\n",
    "\n",
    "How about this?"
   ]
  },
  {
   "cell_type": "code",
   "execution_count": null,
   "id": "f0c84407",
   "metadata": {},
   "outputs": [],
   "source": [
    "y = -20\n",
    "z = -5\n",
    "x = abs(y + z)\n",
    "print(x)"
   ]
  },
  {
   "cell_type": "markdown",
   "id": "a7f65013",
   "metadata": {},
   "source": [
    "The thing in the parenthesis is an expression! And so it can be evaluated following the normal rules. That means that:\n",
    "1. `y` is evalulated to -20\n",
    "2. z is evaluated to -5\n",
    "3. the `+` operator is evaluated with -20 and -5 to result in -25\n",
    "4. -25 is passed to the `abs` function\n",
    "5. 25 is returned from the `abs` function\n",
    "6. 25 is assigned to `x`"
   ]
  },
  {
   "cell_type": "markdown",
   "id": "57085f3e",
   "metadata": {},
   "source": [
    "<a id='section5'></a>\n",
    "## 5. Breakout Session 1\n",
    "Write the following expression in the cell below and use the built-in `print()` function to print the answer.\n",
    "\n",
    "**$x = \\frac{|y + z| + |y * z|}{y^\\alpha}$**\n",
    "\n",
    "where,\n",
    "- $y$ = -20\n",
    "- $z$ = -100\n",
    "- $\\alpha$ = 2"
   ]
  },
  {
   "cell_type": "code",
   "execution_count": null,
   "id": "c3cbd061",
   "metadata": {},
   "outputs": [],
   "source": [
    "# write your code here\n",
    "\n",
    "..."
   ]
  },
  {
   "cell_type": "markdown",
   "id": "ed1f74c8",
   "metadata": {},
   "source": [
    "Because,\n",
    "\n",
    "1. **arguments of functions are expressions** \n",
    "\n",
    "2. **function calls are just expressions**\n",
    "\n",
    "we can call functions with the output of other functions like this:"
   ]
  },
  {
   "cell_type": "code",
   "execution_count": null,
   "id": "efa02972",
   "metadata": {},
   "outputs": [],
   "source": [
    "x = pow(int(5.2), abs(-2))\n",
    "print(x)"
   ]
  },
  {
   "cell_type": "markdown",
   "id": "1b54080c",
   "metadata": {},
   "source": [
    "Remember: before a function is called, its arguments must be all evaluated. \n",
    "\n",
    "And so what happens above?\n",
    "\n",
    "1. `int()` is called with the value 5.2 and returns 5\n",
    "2. `abs()` is called with the value -2 and returns 2\n",
    "3. `pow()` is called with the values 5 and 2 and returns 25"
   ]
  },
  {
   "cell_type": "markdown",
   "id": "6a8d27e7",
   "metadata": {},
   "source": [
    "So, `x = pow(int(5.2), abs(-2))` is the same as:"
   ]
  },
  {
   "cell_type": "code",
   "execution_count": null,
   "id": "ff75ba59",
   "metadata": {},
   "outputs": [],
   "source": [
    "x = pow(5, 2)\n",
    "print(x)"
   ]
  },
  {
   "cell_type": "markdown",
   "id": "d84837c5",
   "metadata": {},
   "source": [
    "#### Important Note\n",
    "The first isn't very good code because it is hard to understand. But it is legal! **Just because Python will let you do something doesn't mean its the best way to do it.**"
   ]
  },
  {
   "cell_type": "markdown",
   "id": "d7ba5a43",
   "metadata": {},
   "source": [
    "## Function Help\n",
    "One very useful function is `help()` which gives you documentation on functions."
   ]
  },
  {
   "cell_type": "code",
   "execution_count": null,
   "id": "c961e3ba",
   "metadata": {},
   "outputs": [],
   "source": [
    "help(abs)"
   ]
  },
  {
   "cell_type": "code",
   "execution_count": null,
   "id": "67423ef7",
   "metadata": {},
   "outputs": [],
   "source": [
    "help(pow)"
   ]
  },
  {
   "cell_type": "code",
   "execution_count": null,
   "id": "85185637",
   "metadata": {},
   "outputs": [],
   "source": [
    "help(help)"
   ]
  },
  {
   "cell_type": "markdown",
   "id": "47fb3fa7",
   "metadata": {},
   "source": [
    "Another alternative is to type **```SHIFT-TAB```** inside the function parentheses."
   ]
  },
  {
   "cell_type": "code",
   "execution_count": null,
   "id": "a77817b7",
   "metadata": {},
   "outputs": [],
   "source": [
    "pow()"
   ]
  },
  {
   "cell_type": "markdown",
   "id": "61ec2a54",
   "metadata": {},
   "source": [
    "<a id='section6'></a>\n",
    "## 6. Input & Output\n",
    "\n",
    "## Output\n",
    "\n",
    "`print()` can do things like this."
   ]
  },
  {
   "cell_type": "code",
   "execution_count": null,
   "id": "cc4ee821",
   "metadata": {},
   "outputs": [],
   "source": [
    "print(3 + 7 + abs(-5))"
   ]
  },
  {
   "cell_type": "markdown",
   "id": "b327d8b1",
   "metadata": {},
   "source": [
    "`print()` can take more than one argument and its default behavior is to print each argument out, separated by a space."
   ]
  },
  {
   "cell_type": "code",
   "execution_count": null,
   "id": "03316041",
   "metadata": {},
   "outputs": [],
   "source": [
    "print(\"hello\", \"there\")"
   ]
  },
  {
   "cell_type": "code",
   "execution_count": null,
   "id": "908ef00c",
   "metadata": {},
   "outputs": [],
   "source": [
    "print(\"hello\", \"there\", \"how\", \"are\", 'you')"
   ]
  },
  {
   "cell_type": "markdown",
   "id": "8edfd074",
   "metadata": {},
   "source": [
    "We can mix different constant and variable types."
   ]
  },
  {
   "cell_type": "code",
   "execution_count": null,
   "id": "b36afbbf",
   "metadata": {},
   "outputs": [],
   "source": [
    "name = 'Sebastian'\n",
    "age = 36\n",
    "print(\"Hello, my name is\", name, \"and I am age\", age, \"years old.\")"
   ]
  },
  {
   "cell_type": "markdown",
   "id": "e3958dc1",
   "metadata": {},
   "source": [
    "## Input\n",
    "It is also important to be able to input values to a program. Python does this via the `input()` function.\n",
    "\n",
    "The function `input()` is a built-in function that prompts the user to enter some input. The program waits for the user to enter the input (and press Enter), before continuing. **The value returned from this function is always a string.**\n",
    "\n",
    "For example:"
   ]
  },
  {
   "cell_type": "code",
   "execution_count": null,
   "id": "36ed002f",
   "metadata": {},
   "outputs": [],
   "source": [
    "name = input(\"What is your name? \")\n",
    "print(\"Hello, my name is\", name)"
   ]
  },
  {
   "cell_type": "markdown",
   "id": "f2c5c7dd",
   "metadata": {},
   "source": [
    "The value returned from `input` is **always** a string."
   ]
  },
  {
   "cell_type": "code",
   "execution_count": null,
   "id": "9b36133b",
   "metadata": {},
   "outputs": [],
   "source": [
    "number = input(\"Input a number \")\n",
    "number + 5"
   ]
  },
  {
   "cell_type": "markdown",
   "id": "e4bec93a",
   "metadata": {},
   "source": [
    "\n",
    "## Breakout Session 2\n",
    "Write code to print out the following text:\n",
    "\n",
    "```\"Hello, my name is {} and I'm hoping to get a grade of {} in ESP this term.\"```\n",
    "\n",
    "Where you see curly brackets `{}` you need to use the `input` function to prompt the user to enter that information."
   ]
  },
  {
   "cell_type": "code",
   "execution_count": null,
   "id": "9f434232",
   "metadata": {},
   "outputs": [],
   "source": [
    "# write your code here\n",
    "\n",
    "..."
   ]
  },
  {
   "cell_type": "markdown",
   "id": "9f86eff0",
   "metadata": {},
   "source": [
    "<a id='section7'></a>\n",
    "## 7. Modules\n",
    "### What is a Module?\n",
    "A module in Python is a file containing Python definitions and statements. A module can define functions, classes, and variables, and it can also include executable code. You can use a module in your code by importing it. Python comes with many built-in modules, such as the `math`, `random`, `csv`, and `turtle` modules that we have learned about thus far in the course.\n",
    "\n",
    "### Importing Modules\n",
    "To use a module in your code, you need to import it. The syntax for importing a module is:\n",
    "\n",
    "```python\n",
    "import module_name\n",
    "```\n",
    "For example, let's import the `math` module."
   ]
  },
  {
   "cell_type": "code",
   "execution_count": null,
   "id": "7d91e391",
   "metadata": {},
   "outputs": [],
   "source": [
    "import math"
   ]
  },
  {
   "cell_type": "code",
   "execution_count": null,
   "id": "360334cf",
   "metadata": {},
   "outputs": [],
   "source": [
    "help(math)"
   ]
  },
  {
   "cell_type": "markdown",
   "id": "7d5a2815",
   "metadata": {},
   "source": [
    "Once you have imported a module, you can use its functions and variables by prefixing them with the module name. For example, to use the `pi` constant from the `math` module, you would use:"
   ]
  },
  {
   "cell_type": "code",
   "execution_count": null,
   "id": "7efd3c14",
   "metadata": {},
   "outputs": [],
   "source": [
    "print(math.pi)"
   ]
  },
  {
   "cell_type": "markdown",
   "id": "4a93cc84",
   "metadata": {},
   "source": [
    "Or, we can use functions to calculate the sine of an angle."
   ]
  },
  {
   "cell_type": "code",
   "execution_count": null,
   "id": "fc40d627",
   "metadata": {},
   "outputs": [],
   "source": [
    "print(math.sin(math.radians(90)))"
   ]
  },
  {
   "cell_type": "markdown",
   "id": "c2abdf71",
   "metadata": {},
   "source": [
    "#### from X import Y Syntax\n",
    "Sometimes, you might only want to import specific functions or variables from a module, rather than importing the entire module. In this case, you can use the `from X import Y` syntax. The syntax for using this syntax is:\n",
    "```python\n",
    "from module_name import variable_name\n",
    "from module_name import function_name\n",
    "from module_name import class_name\n",
    "```\n",
    "For example, to import only the `pi` constant from the `math` module, you would use:"
   ]
  },
  {
   "cell_type": "code",
   "execution_count": null,
   "id": "6526e522",
   "metadata": {},
   "outputs": [],
   "source": [
    "from math import pi\n",
    "\n",
    "print(pi)"
   ]
  },
  {
   "cell_type": "markdown",
   "id": "111e19f8",
   "metadata": {},
   "source": [
    "This creates a variable named `pi` in the global space with the value `3.141592653589793` of type `float`."
   ]
  },
  {
   "cell_type": "code",
   "execution_count": null,
   "id": "71f858e3",
   "metadata": {},
   "outputs": [],
   "source": [
    "type(pi)"
   ]
  },
  {
   "cell_type": "markdown",
   "id": "e1e52c40",
   "metadata": {},
   "source": [
    "You can also import multiple functions or variables from a module by separating them with commas, like this:"
   ]
  },
  {
   "cell_type": "code",
   "execution_count": null,
   "id": "d789c942",
   "metadata": {},
   "outputs": [],
   "source": [
    "from math import pi, sqrt\n",
    "\n",
    "print(pi)\n",
    "print(sqrt(4))"
   ]
  },
  {
   "cell_type": "markdown",
   "id": "b42b4fc5",
   "metadata": {},
   "source": [
    "In this case, there is now a function definition called `sqrt` in the global space that is callable.\n",
    "\n",
    "You'll notice that when you import functions, classes or variables in this way, we no longer need to access them using `math.`"
   ]
  },
  {
   "cell_type": "markdown",
   "id": "24de06ac",
   "metadata": {},
   "source": [
    "#### from X import * Syntax\n",
    "In Python, the from X import * syntax allows you to import all functions and variables from a module into your current namespace. This means that you can use the imported functions and variables without prefixing them with the module name (`math.`). For example, if you import all functions and variables from the math module, you could use `pi` directly, like this:"
   ]
  },
  {
   "cell_type": "code",
   "execution_count": null,
   "id": "d4845690",
   "metadata": {},
   "outputs": [],
   "source": [
    "from math import *\n",
    "\n",
    "print(pi)"
   ]
  },
  {
   "cell_type": "markdown",
   "id": "cc0f7b49",
   "metadata": {},
   "source": [
    "However, using the from `X import * syntax` is generally not recommended for several reasons.\n",
    "\n",
    "1. It can make your code harder to read and understand. When you use the `from X import *` syntax, it’s not always clear where a function or variable is coming from. This can make it difficult to trace the source of bugs and errors in your code.\n",
    "\n",
    "2. It can lead to naming conflicts. If you import all functions and variables from two different modules that have the same name, you’ll end up with naming conflicts. For example, if you import all functions and variables from both the `math` module and the `statistics` module, you’ll end up with two functions named `fabs()`. This can cause confusion and errors in your code.\n",
    "\n",
    "3. It can make your code less efficient. When you use the `from X import *` syntax, Python has to load and compile all the functions and variables from the module, even if you’re only going to use a few of them. This can slow down the loading time of your program and use up more memory than necessary.\n",
    "\n",
    "In general, it’s better to be explicit about which functions and variables you’re importing from a module. This makes your code easier to read and understand, reduces the risk of naming conflicts, and can make your code more efficient. If you need to import a large number of functions and variables from a module, it’s better to import them explicitly, like this:"
   ]
  },
  {
   "cell_type": "code",
   "execution_count": null,
   "id": "6518edb4",
   "metadata": {},
   "outputs": [],
   "source": [
    "from math import pi, sin, cos, tan"
   ]
  },
  {
   "cell_type": "markdown",
   "id": "76dc0861",
   "metadata": {},
   "source": [
    "This way, you can be sure which functions and variables you’re using and avoid naming conflicts.\n",
    "\n",
    "#### import X as Syntax\n",
    "The default name given to modules in your code is the name of the module. For example, `math`, `random`, etc.\n",
    "\n",
    "However, you can override the default module name using the `as` keyword. This is useful if the name of a module conflicts with a variable you have declared in your code. It is also useful if you want to reference another module that shares the same name.\n",
    "\n",
    "Suppose we want to import the `turtle` module into your code but you already have a function called `turtle`."
   ]
  },
  {
   "cell_type": "code",
   "execution_count": null,
   "id": "b75504c7",
   "metadata": {},
   "outputs": [],
   "source": [
    "turtle = 'Stewart'\n",
    "\n",
    "import turtle\n",
    "\n",
    "print(turtle)"
   ]
  },
  {
   "cell_type": "code",
   "execution_count": null,
   "id": "68deb2fb",
   "metadata": {},
   "outputs": [],
   "source": [
    "import turtle\n",
    "\n",
    "turtle = 'Stewart'\n",
    "\n",
    "print(turtle.Turtle())  #error because it thinks turtle is the string Stewart!"
   ]
  },
  {
   "cell_type": "markdown",
   "id": "a9d2c666",
   "metadata": {},
   "source": [
    "Not I have overwritten the variable `turtle` with the module `tutle`. So avoid this error, I would use an alias when importing the `turtle` module. The syntax for importing a module is an alias is:\n",
    "\n",
    "```python\n",
    "import module_name as alias_name\n",
    "```"
   ]
  },
  {
   "cell_type": "code",
   "execution_count": null,
   "id": "9a8c39c9",
   "metadata": {},
   "outputs": [],
   "source": [
    "turtle = 'Stewart'\n",
    "\n",
    "import turtle as t\n",
    "\n",
    "print(turtle)"
   ]
  },
  {
   "cell_type": "markdown",
   "id": "aecfb1e5",
   "metadata": {},
   "source": [
    "<a id='section8'></a>\n",
    "## 8. Defining Your Own Functions\n",
    "Let's try writing a function to take the square of a number."
   ]
  },
  {
   "cell_type": "code",
   "execution_count": null,
   "id": "49bbc4fa",
   "metadata": {},
   "outputs": [],
   "source": [
    "def square(x):\n",
    "    return x*x"
   ]
  },
  {
   "cell_type": "code",
   "execution_count": null,
   "id": "cfcf0375",
   "metadata": {},
   "outputs": [],
   "source": [
    "num = 4\n",
    "num_sq = square(num)\n",
    "print(num, num_sq)"
   ]
  },
  {
   "cell_type": "markdown",
   "id": "69abf447",
   "metadata": {},
   "source": [
    "And let's try one more."
   ]
  },
  {
   "cell_type": "code",
   "execution_count": null,
   "id": "a5dd96f8",
   "metadata": {},
   "outputs": [],
   "source": [
    "print(square(8))"
   ]
  },
  {
   "cell_type": "markdown",
   "id": "9ef0a3ee",
   "metadata": {},
   "source": [
    "In the code above, you'll note that the variable inside the function does not have to be the same name as the variable you pass in (e.g. `square(x)` and `square(num)`).\n",
    "\n",
    "In the code code below, you will notice that the variable inside the function does not conflict with variable names outside the function. Even if they have the same name, they are different variables.\n",
    "\n",
    "Remember our simple `square` function."
   ]
  },
  {
   "cell_type": "code",
   "execution_count": null,
   "id": "7d2e316c",
   "metadata": {},
   "outputs": [],
   "source": [
    "def square(x):\n",
    "    return x*x"
   ]
  },
  {
   "cell_type": "markdown",
   "id": "9b975d17",
   "metadata": {},
   "source": [
    "In the code below, we have a variable `x` defined outside the function and a variable `x` in the function."
   ]
  },
  {
   "cell_type": "code",
   "execution_count": null,
   "id": "480a92ca",
   "metadata": {},
   "outputs": [],
   "source": [
    "x = 4\n",
    "num_sq = square(8)\n",
    "print(x, num_sq)"
   ]
  },
  {
   "cell_type": "markdown",
   "id": "300c2a28",
   "metadata": {},
   "source": [
    "Let's be a bit more explicit with this important concept."
   ]
  },
  {
   "cell_type": "code",
   "execution_count": null,
   "id": "a9ffd3f8",
   "metadata": {},
   "outputs": [],
   "source": [
    "def square(x):\n",
    "    print(\"Inside function. x = \", x)\n",
    "    return x*x"
   ]
  },
  {
   "cell_type": "code",
   "execution_count": null,
   "id": "1b6a1d67",
   "metadata": {},
   "outputs": [],
   "source": [
    "x = 4\n",
    "print(\"Outside function. x = \", x)\n",
    "num_sq = square(8)\n",
    "print(\"Outside function. x = \", x)"
   ]
  },
  {
   "cell_type": "markdown",
   "id": "0fc66c30",
   "metadata": {},
   "source": [
    "# Booleans, Conditionals, and if Statements"
   ]
  },
  {
   "cell_type": "markdown",
   "id": "5bb6ff4f",
   "metadata": {},
   "source": [
    "\n",
    "### Lecture Structure\n",
    "1. [Introducing Booleans](#section1)\n",
    "2. [Logical Operators](#section2)\n",
    "3. [Lazy Evaluation](#section3)\n",
    "4. [The if Statement](#section4)\n"
   ]
  },
  {
   "cell_type": "markdown",
   "id": "d29e8350",
   "metadata": {},
   "source": [
    "<a id='section9'></a>\n",
    "\n",
    "## 9. Introducing Booleans\n",
    "\n",
    "So far we've seen 3 data types in Python: `int'` for integers, `float` for real numbers, and `str` for strings of characters. Programming languages typically also have a data type that is dedicated to representing values of true and false. In Python this type is called `bool`. You can think of it as a strange type of variable with only possible values: True and False. Here are some examples of Boolean assignment:"
   ]
  },
  {
   "cell_type": "code",
   "execution_count": null,
   "id": "e767ae7a",
   "metadata": {
    "scrolled": true
   },
   "outputs": [],
   "source": [
    "case = True\n",
    "print(True)\n",
    "print(case)#Notice I don't need quotes! It's not a string."
   ]
  },
  {
   "cell_type": "code",
   "execution_count": null,
   "id": "599b9b0f",
   "metadata": {},
   "outputs": [],
   "source": [
    "state = False\n",
    "print(state)\n",
    "print(type(state))"
   ]
  },
  {
   "cell_type": "code",
   "execution_count": null,
   "id": "a74829d9",
   "metadata": {},
   "outputs": [],
   "source": [
    "print(int(case))\n",
    "print(int(state))"
   ]
  },
  {
   "cell_type": "code",
   "execution_count": null,
   "id": "9ec9f6d1",
   "metadata": {},
   "outputs": [],
   "source": [
    "state = bool(False+1)\n",
    "print(state)\n",
    "print(type(state))"
   ]
  },
  {
   "cell_type": "markdown",
   "id": "1dac4850",
   "metadata": {},
   "source": [
    "There real power of `bool` comes when they are combined with comparison operators.\n",
    "\n",
    "**Comparison operators**\n",
    "\n",
    "Think back to the usual mathematical operators like `+`. This operator takes two numeric types (`int` or `float`) and produces a new value of a numeric type (again, `int` or `float`) depending on the types of the input values.\n",
    "\n",
    "Comparison operators (like `<`) take two values and produce a `bool` valuye.\n",
    "\n",
    "| Description  | Operator | Example | Result |\n",
    "|--------------|----------|---------|--------|\n",
    "| less than    | `<`        | 3 < 4.3   | True   |\n",
    "| greater than | `>`        | 3 > 4   | False  |\n",
    "| equal to     | `==`       | 3 == 4  | False  |\n",
    "| greater than or equal to | `>=` | 3.0 >= 4 |False |\n",
    "| less than or equal to | `<=` | 3 <= 4 | True |\n",
    "| not equal to | `!=`       | 3 != 4 | True |\n",
    "\n",
    "Examples:"
   ]
  },
  {
   "cell_type": "code",
   "execution_count": null,
   "id": "2f8feb79",
   "metadata": {},
   "outputs": [],
   "source": [
    "print(1 == 1) #Uses 2 equal signs, i.e. NOT doing variable assignment, but comparing"
   ]
  },
  {
   "cell_type": "code",
   "execution_count": null,
   "id": "d7d9c078",
   "metadata": {},
   "outputs": [],
   "source": [
    "print(2 > 3)  #These comparison operators take two operands and produce a bool"
   ]
  },
  {
   "cell_type": "code",
   "execution_count": null,
   "id": "aab122d0",
   "metadata": {},
   "outputs": [],
   "source": [
    "print(1 != 1)"
   ]
  },
  {
   "cell_type": "code",
   "execution_count": null,
   "id": "0df1d866",
   "metadata": {},
   "outputs": [],
   "source": [
    "print(2*3 == 5)"
   ]
  },
  {
   "cell_type": "code",
   "execution_count": null,
   "id": "96e587c3",
   "metadata": {},
   "outputs": [],
   "source": [
    "print(2*3 != 5)"
   ]
  },
  {
   "cell_type": "markdown",
   "id": "5082de4e",
   "metadata": {},
   "source": [
    "We can, of course, do the same comparisons with variables."
   ]
  },
  {
   "cell_type": "code",
   "execution_count": null,
   "id": "b1d0c085",
   "metadata": {},
   "outputs": [],
   "source": [
    "x = 5\n",
    "y = 3\n",
    "print(x == y)"
   ]
  },
  {
   "cell_type": "code",
   "execution_count": null,
   "id": "b00289a7",
   "metadata": {},
   "outputs": [],
   "source": [
    "print(x > y)"
   ]
  },
  {
   "cell_type": "markdown",
   "id": "be5bdc5d",
   "metadata": {},
   "source": [
    "**IMPORTANT: Note the difference between `=` and `==`!**\n",
    "\n",
    "As we have seen, `=` is an assignment. You assign the value of the thing on the right-hand side (rhs) to the thing on the left-hand side (lhs)."
   ]
  },
  {
   "cell_type": "code",
   "execution_count": null,
   "id": "81a81aed",
   "metadata": {},
   "outputs": [],
   "source": [
    "x = 5\n",
    "print(x)"
   ]
  },
  {
   "cell_type": "markdown",
   "id": "fd0d655f",
   "metadata": {},
   "source": [
    "`==` is a comparison. It compares the value of the thing on the rhs to the value of the thing on the lhs and returns True if they are the same and False if they are different. "
   ]
  },
  {
   "cell_type": "code",
   "execution_count": null,
   "id": "24282dbb",
   "metadata": {},
   "outputs": [],
   "source": [
    "print(x == 5)"
   ]
  },
  {
   "cell_type": "code",
   "execution_count": null,
   "id": "a72632af",
   "metadata": {},
   "outputs": [],
   "source": [
    "print(x == 3)"
   ]
  },
  {
   "cell_type": "code",
   "execution_count": null,
   "id": "a08b20bc",
   "metadata": {},
   "outputs": [],
   "source": [
    "print(x)"
   ]
  },
  {
   "cell_type": "markdown",
   "id": "8f8ba8f2",
   "metadata": {},
   "source": [
    "<a id='section10'></a>\n",
    "\n",
    "## 10. Logical Operators\n",
    "\n",
    "Just as numeric operators (like `+`) combine numeric types to produce numeric types, there are also three logical operators that allow us to combine Boolean values to produce Boolean values: `and`, `or`, and `not`. "
   ]
  },
  {
   "cell_type": "code",
   "execution_count": null,
   "id": "d7eef255",
   "metadata": {},
   "outputs": [],
   "source": [
    "print(not (80 >= 50))"
   ]
  },
  {
   "cell_type": "code",
   "execution_count": null,
   "id": "1177fef6",
   "metadata": {},
   "outputs": [],
   "source": [
    "print((80 >= 50) and (70 <= 50))"
   ]
  },
  {
   "cell_type": "code",
   "execution_count": null,
   "id": "d2bc0d4b",
   "metadata": {},
   "outputs": [],
   "source": [
    "print((80 >= 50) or (70 <= 50))"
   ]
  },
  {
   "cell_type": "code",
   "execution_count": null,
   "id": "354e4449",
   "metadata": {},
   "outputs": [],
   "source": [
    "print(4 > 3 and 2 > 1)  #Arithmetic -> Relational -> Logical Operators"
   ]
  },
  {
   "cell_type": "code",
   "execution_count": null,
   "id": "b0c1765c",
   "metadata": {},
   "outputs": [],
   "source": [
    "grade1 = 80\n",
    "grade2 = 90\n",
    "passed = (grade1 >= 50) and (grade2 >= 50)\n",
    "print(passed)"
   ]
  },
  {
   "cell_type": "markdown",
   "id": "d6d660ae",
   "metadata": {},
   "source": [
    "**The `and` Logic Table**\n",
    "\n",
    "The `and` operator evaluates to `True` if and only if both of its operands are `True`.\n",
    "\n",
    "| expr1 | expr2 | expr1 `and` expr2 |\n",
    "|-------|-------|-------------------|\n",
    "| True  | True  | True |\n",
    "| True  | False | False |\n",
    "| False  | True  | False |\n",
    "| False  | False | False |\n",
    "\n",
    "**The `or` Logic Table**\n",
    "\n",
    "The `or` operator evaluates to `True` if one (or both) of its operands are `True`.\n",
    "\n",
    "| expr1 | expr2 | expr1 `or` expr2 |\n",
    "|-------|-------|-------------------|\n",
    "| True  | True  | True |\n",
    "| True  | False | True |\n",
    "| False  | True  | True |\n",
    "| False  | False | False |\n",
    "\n",
    "**The ` not` Logic Table**\n",
    "\n",
    "The `not` operator evaluates to `True` if and only if its operand is `False`.\n",
    "\n",
    "| expr1 | `not` expr1 |\n",
    "|-------|-------------------|\n",
    "| True  | False |\n",
    "| False  | True |\n",
    "\n",
    "**Examples**"
   ]
  },
  {
   "cell_type": "code",
   "execution_count": null,
   "id": "fb98d0e1",
   "metadata": {},
   "outputs": [],
   "source": [
    "print(True and True)"
   ]
  },
  {
   "cell_type": "code",
   "execution_count": null,
   "id": "0af2bdb4",
   "metadata": {},
   "outputs": [],
   "source": [
    "print(True and False)"
   ]
  },
  {
   "cell_type": "code",
   "execution_count": null,
   "id": "599140a9",
   "metadata": {},
   "outputs": [],
   "source": [
    "print(False or True)"
   ]
  },
  {
   "cell_type": "code",
   "execution_count": null,
   "id": "122ee51d",
   "metadata": {},
   "outputs": [],
   "source": [
    "print(False or not True)  #not is highest in precedence"
   ]
  },
  {
   "cell_type": "code",
   "execution_count": null,
   "id": "2639bf41",
   "metadata": {
    "scrolled": true
   },
   "outputs": [],
   "source": [
    "print(False or not not not not not True) # this is a very bad idea"
   ]
  },
  {
   "cell_type": "markdown",
   "id": "d95c8981",
   "metadata": {},
   "source": [
    "Using multiple combinations of `not` operators may be valid, but will lead to confusion and should be avoided. Whenever you can try to make your code readable."
   ]
  },
  {
   "cell_type": "markdown",
   "id": "969cb9ea",
   "metadata": {},
   "source": [
    "The relevant issue is not why the code gives the result it does by what the programmer actually meant in writing such code.\n",
    "\n",
    "It is always a good idea to use parentheses for clarity - even if they are not needed for correctness.\n",
    "\n",
    "**Order of Precedence for Logical Operators**\n",
    "\n",
    "The order of precedence for logical operators is: `not`, `and`, then `or`.\n",
    "\n",
    "We can override precedence using parentheses and parentheses can also be added to make things easier to read and understand.\n",
    "For example, the `not` operator is applied before the `or` operator in the following code."
   ]
  },
  {
   "cell_type": "code",
   "execution_count": null,
   "id": "2c226950",
   "metadata": {},
   "outputs": [],
   "source": [
    "grade = 80\n",
    "grade2 = 90\n",
    "print(not grade >= 50 or grade2 >= 50)"
   ]
  },
  {
   "cell_type": "markdown",
   "id": "b4cb9d9a",
   "metadata": {},
   "source": [
    "Parentheses make the intention clear."
   ]
  },
  {
   "cell_type": "code",
   "execution_count": null,
   "id": "cde980bb",
   "metadata": {},
   "outputs": [],
   "source": [
    "print((not grade >= 50) or (grade2 >= 50))"
   ]
  },
  {
   "cell_type": "markdown",
   "id": "9128199a",
   "metadata": {},
   "source": [
    "Alternatively, parentheses can be added to change the order of operations and therefore the meaning of the statement:"
   ]
  },
  {
   "cell_type": "markdown",
   "id": "6cf8bcca",
   "metadata": {},
   "source": [
    "**`bool` is a Subtype of `int`**\n",
    "\n",
    "`bool` is also a subtype of `int`, where True == 1 and False == 0. What happens when you enter the following code?"
   ]
  },
  {
   "cell_type": "code",
   "execution_count": null,
   "id": "f75dfb06",
   "metadata": {
    "scrolled": true
   },
   "outputs": [],
   "source": [
    "print(True + 1)\n",
    "False==0"
   ]
  },
  {
   "cell_type": "code",
   "execution_count": null,
   "id": "efb98126",
   "metadata": {
    "scrolled": true
   },
   "outputs": [],
   "source": [
    "print(False - 1)"
   ]
  },
  {
   "cell_type": "code",
   "execution_count": null,
   "id": "34f2c52c",
   "metadata": {
    "scrolled": true
   },
   "outputs": [],
   "source": [
    "print((False + 3) * 4 - True)"
   ]
  },
  {
   "cell_type": "markdown",
   "id": "c3795b2e",
   "metadata": {},
   "source": [
    "<a id='section11'></a>\n",
    "\n",
    "## 11. The `if` Statement\n",
    "\n",
    "So what can we do with booleans? They are at the core of the first important “control structure” we will study in programming. Rather than having to execute a sequence of statements, like we’ve been doing so far, we can use the booleans and comparison operators to decide which statements to execute.\n",
    "\n",
    "Imagine you are writing code to control a self-driving car. One standard desire is to keep the car going at the speed that has been set by the driver. Depending on if you are going up a hill, down a hill, or on a flat stretch of road, you may have to decide to provide more acceleration or to brake. In pseudocode this could look something like:\n",
    "\n",
    "- Get current speed\n",
    "- If current speed is above the set speed: brake\n",
    "- If current speed is below the set speed: accelerate\n",
    "\n",
    "This can be translated almost directly into Python."
   ]
  },
  {
   "cell_type": "code",
   "execution_count": null,
   "id": "780d9a9d",
   "metadata": {
    "scrolled": true
   },
   "outputs": [],
   "source": [
    "current_speed = get_current_speed()\n",
    "set_speed = get_set_speed()\n",
    "if current_speed > set_speed:\n",
    "    brake()\n",
    "\n",
    "if current_speed < set_speed:\n",
    "    accelerate()"
   ]
  },
  {
   "cell_type": "markdown",
   "id": "9eab87d9",
   "metadata": {},
   "source": [
    "(Of course, you need to implement the functions `get_current_speed`, `get_set_speed`, `brake`, and `accelerate`.)\n",
    "\n",
    "`if` statements can be used to control which instructions are executed by creating a “branch” in the code. The `if` statement evaluates a Boolean expression, and if it is True, then it runs the code under it, otherwise it skips it. A simple general form of an if statement is as follows:\n",
    "\n",
    "```\n",
    "if condition:\n",
    "    block\n",
    "``` \n",
    "\n",
    "`if` statements are always followed by a colon (:), this is how Python knows you are going to create a new block of code. Indenting four spaces tells Python what lines of code are in that block. You must indent a block!! A block can contain any number of lines and they all must be indented.\n",
    "\n",
    "Another example."
   ]
  },
  {
   "cell_type": "code",
   "execution_count": null,
   "id": "6b87fd51",
   "metadata": {},
   "outputs": [],
   "source": [
    "people = 20\n",
    "cats = 30\n",
    "dogs = 15\n",
    "\n",
    "if people <= cats:\n",
    "    print(\"Too many cats! The world is doomed!\")\n",
    "\n",
    "if people > cats:\n",
    "    print(\"Not many cats! The world is saved!\")\n",
    "\n",
    "if people <= dogs:\n",
    "    print(\"The world is drooled on!\")\n",
    "\n",
    "if people > dogs:\n",
    "    print(\"The world is dry!\")\n",
    "\n",
    "\n"
   ]
  },
  {
   "cell_type": "markdown",
   "id": "13d7cb51",
   "metadata": {},
   "source": [
    "In the above example, we have two `if` statements that are logically related. That is, the last two if-statements cannot both be true because the number of people will never be both less than and greater than or equal to the number of dogs. Thus, we can merge if statements using  else. (Same with the fist two if-statements).\n",
    "\n",
    "We can re-write the example as follows."
   ]
  },
  {
   "cell_type": "code",
   "execution_count": null,
   "id": "01e6f778",
   "metadata": {},
   "outputs": [],
   "source": [
    "people = 30\n",
    "cats = 30\n",
    "dogs = 30\n",
    "\n",
    "if people <= cats:\n",
    "    print(\"Too many cats! The world is doomed!\")\n",
    "else:\n",
    "    print('Not many cats! The world is saved!')\n",
    "\n",
    "if people > dogs:\n",
    "    print(\"The world is dry\")\n",
    "else:\n",
    "    print(\"The world is drooled on\")\n",
    "    \n",
    "    \n",
    "#Find a set of 3 numbers that will produce the following output:\n",
    "#Not many cats! The world is saved!\n",
    "#The world is dry!"
   ]
  },
  {
   "cell_type": "markdown",
   "id": "45e86f08",
   "metadata": {},
   "source": [
    "The general form of an if-else is:\n",
    "```\n",
    "if condition:\n",
    "    block1\n",
    "else:\n",
    "    block2\n",
    "```\n",
    "\n",
    "Exactly one of block1 and block2 will be executed. **Note that the colons and indentation are required!**"
   ]
  },
  {
   "cell_type": "markdown",
   "id": "d8dc124e",
   "metadata": {},
   "source": [
    "<a id='section12'></a>\n",
    "## 12. More on if Statements\n",
    "\n",
    "The most general form for if-statements is:\n",
    "```\n",
    "if expression1:    \n",
    "    body1\n",
    "\n",
    "elif expression2:      \n",
    "    body2\n",
    "\n",
    "elif expression3:      \n",
    "    body3\n",
    "\n",
    "\t.\n",
    "\t.\n",
    "\t.\n",
    "\n",
    "else:                \n",
    "    bodyN\n",
    "```\n"
   ]
  },
  {
   "cell_type": "markdown",
   "id": "4c01777b",
   "metadata": {},
   "source": [
    "`elif` stands for \"else if\", so this forms a chain of conditions. To execute an if-statement:\n",
    "- evaluate each expression in order from top to bottom\n",
    "- If an expression produces `True`, execute the body of that clause and then skip the rest.\n",
    "- If there is an `else`, and none of the expressions produce `True`, then execute the body of the else.\n",
    "\n",
    "**Example**"
   ]
  },
  {
   "cell_type": "code",
   "execution_count": null,
   "id": "a34534a4",
   "metadata": {},
   "outputs": [],
   "source": [
    "people = 30\n",
    "cars = 20\n",
    "trucks = 1\n",
    "\n",
    "if cars > people:\n",
    "    print(\"We should take the car.\")\n",
    "elif trucks == 0:\n",
    "    print(\"We should not take the car.\")\n",
    "else:\n",
    "    print(\"We can't decide.\")\n"
   ]
  },
  {
   "cell_type": "markdown",
   "id": "04786270",
   "metadata": {},
   "source": [
    "**`if-elif` vs. `if-if`**\n",
    "\n",
    "An `if` statement with an `elif` clause is a single statement. The expressions are evaluated from top to bottom until one produces True or until there are no expressions left to evaluate. When an expression produces True, the body associated with it is executed and then the whole statement exits. Any subsequent expressions are ignored. For example:"
   ]
  },
  {
   "cell_type": "code",
   "execution_count": null,
   "id": "48b9beac",
   "metadata": {
    "scrolled": true
   },
   "outputs": [],
   "source": [
    "grade1 = 70\n",
    "grade2 = 80\n",
    "\n",
    "if grade1 >= 50:\n",
    "    print('You passed a course1 with grade: ', grade1)\n",
    "elif grade2 >= 50:\n",
    "    print('You passed a course2 with grade: ', grade2)\n"
   ]
  },
  {
   "cell_type": "markdown",
   "id": "37649ae7",
   "metadata": {},
   "source": [
    "The if statement condition `grade1 >= 50` evaluates to True, so the body associated with the if is executed and then the if exits. The elif condition is not even evaluated in this case.\n",
    "\n",
    "It is possible, of course, for if statements to appear one after another in a program. Although they may be adjacent to each other, they are completely independent of each other and it is possible for the body of each if to be executed. For example:"
   ]
  },
  {
   "cell_type": "code",
   "execution_count": null,
   "id": "fe83eafd",
   "metadata": {},
   "outputs": [],
   "source": [
    "grade1 = 70\n",
    "grade2 = 80\n",
    "\n",
    "if grade1 >= 50:\n",
    "    print('You passed a course1 with grade: ', grade1)\n",
    "if grade2 >= 50:\n",
    "    print('You passed a course2 with grade: ', grade2)"
   ]
  },
  {
   "cell_type": "markdown",
   "id": "1af78d11",
   "metadata": {},
   "source": [
    "In the program above, the condition associated with the first if statement `grade1 >= 50` produces True, so the body associated with it is executed. The condition associated with the second if statement `grade2 >= 50` also produces True, so the body associated with it is also executed."
   ]
  },
  {
   "cell_type": "code",
   "execution_count": null,
   "id": "96cfcd1c",
   "metadata": {
    "scrolled": true
   },
   "outputs": [],
   "source": [
    "final_grade = 95\n",
    "\n",
    "if final_grade > 90:\n",
    "    ACORN_grade = 'A+'\n",
    "if final_grade > 80:\n",
    "    ACORN_grade = 'A'\n",
    "if final_grade > 70:\n",
    "    ACORN_grade = 'B'\n",
    "if final_grade > 60:\n",
    "    ACORN_grade = 'C'\n",
    "if final_grade >= 50:\n",
    "    ACORN_grade = 'D'\n",
    "if final_grade < 50:\n",
    "    print('You failed!')\n",
    "    \n",
    "print(ACORN_grade)"
   ]
  },
  {
   "cell_type": "markdown",
   "id": "c96fb70a",
   "metadata": {},
   "source": [
    "That clearly doesn't do a good job telling us our final grade.  Let's try again with a better structure:"
   ]
  },
  {
   "cell_type": "code",
   "execution_count": null,
   "id": "afb924b5",
   "metadata": {},
   "outputs": [],
   "source": [
    "final_grade = 90\n",
    "\n",
    "if final_grade > 90:\n",
    "    print('A+')\n",
    "elif final_grade > 80:\n",
    "    print('A')\n",
    "elif final_grade > 70:\n",
    "    print('B')\n",
    "elif final_grade > 60:\n",
    "    print('C')\n",
    "elif final_grade >= 50:\n",
    "    print('D')\n",
    "else:\n",
    "    print('You failed!')"
   ]
  },
  {
   "cell_type": "markdown",
   "id": "38affc57",
   "metadata": {},
   "source": [
    "That looks better! But how about if there's weird inputs? Sometimes you need to help manage typos or silly user input:"
   ]
  },
  {
   "cell_type": "markdown",
   "id": "732f7018",
   "metadata": {},
   "source": [
    "**A Note on functions: Sometimes No if Required**\n",
    "\n",
    "It is common for new programmers to write code like the following:"
   ]
  },
  {
   "cell_type": "code",
   "execution_count": null,
   "id": "d151e07e",
   "metadata": {},
   "outputs": [],
   "source": [
    "def is_even(num):\n",
    "    if num % 2 == 0:\n",
    "        return True\n",
    "    else:\n",
    "        return False"
   ]
  },
  {
   "cell_type": "markdown",
   "id": "5b28ca7c",
   "metadata": {},
   "source": [
    "This works, but is stylistically questionable. It's also more typing and reading than is necessary!\n",
    "\n",
    "`num % 2 == 0` produces True or False, so that expression can be used with the return statement. This function does **exactly** the same thing as the one above."
   ]
  },
  {
   "cell_type": "code",
   "execution_count": null,
   "id": "3361f784",
   "metadata": {},
   "outputs": [],
   "source": [
    "def is_even(num):\n",
    "    return num % 2 == 0\n",
    "\n",
    "\n",
    "print(is_even(3))"
   ]
  },
  {
   "cell_type": "markdown",
   "id": "4ce59792",
   "metadata": {},
   "source": [
    "## Nested ifs\n",
    "\n",
    "It is possible to place an if statement within the body of another if statement. For example:"
   ]
  },
  {
   "cell_type": "code",
   "execution_count": null,
   "id": "86d7e6d5",
   "metadata": {},
   "outputs": [],
   "source": [
    "precipitation = False\n",
    "temperature = -5\n",
    "if precipitation:\n",
    "    if temperature > 0:\n",
    "        print('Bring your umbrella!')\n",
    "    else:\n",
    "        print('Wear your snow boots and winter coat!')   "
   ]
  },
  {
   "cell_type": "markdown",
   "id": "77ae53e0",
   "metadata": {},
   "source": [
    "The message 'Bring your umbrella!' is printed only when both of the if statement conditions are True. The message 'Wear your snow boots and winter coat!' is printed only when the outer if condition is True, but the inner if condition is False. \n",
    "\n",
    "The following is equivalent to the code above:"
   ]
  },
  {
   "cell_type": "code",
   "execution_count": null,
   "id": "a6ad74e1",
   "metadata": {},
   "outputs": [],
   "source": [
    "precipitation = True\n",
    "temperature = -5\n",
    "\n",
    "if precipitation and temperature > 0:\n",
    "    print('Bring your umbrella')\n",
    "elif precipitation:\n",
    "    print('Wear your snow boots and winter coat!')\n",
    "else:\n",
    "    print('Nothing')"
   ]
  },
  {
   "cell_type": "markdown",
   "id": "6124a712",
   "metadata": {},
   "source": [
    "Building off our final_grade example, sometimes we want to protect against completely incorrect inputs.  This is especially important when dealing with user inputs!!!  Sometimes users don't know what type you're expecting, other times they are intentionally trying to break your code."
   ]
  },
  {
   "cell_type": "code",
   "execution_count": null,
   "id": "c7bfe296",
   "metadata": {},
   "outputs": [],
   "source": [
    "#Story Example\n",
    "\n",
    "door = input(\"> You enter a dark room with two doors.  Do you go through door #1 or door #2?\") #always returns a string, so if they type in 1, it's string '1\n",
    "\n",
    "if door == \"1\":\n",
    "    print (\"There's a giant bear here eating a cheese cake.  What do you do?\")\n",
    "    print (\"1. Take the cake.\")\n",
    "    print (\"2. Scream at the bear.\")\n",
    "    print (\"3. Play dead.\")\n",
    "\n",
    "    bear = input(\"> \")\n",
    "\n",
    "    if bear == \"1\":\n",
    "        print (\"The bear eats you.  Game Over!\")\n",
    "    elif bear == \"2\":\n",
    "        print (\"It's a Grizzly bear! The bear eats you. Game Over!\")\n",
    "    else:\n",
    "        print (\"The bear smells you and runs away. Good Job!\")\n",
    "\n",
    "elif door == \"2\":\n",
    "    print (\"You see a hall full of treasure. What do you do?\")\n",
    "    print (\"1. Take as much treasure as you can.\")\n",
    "    print (\"2. Take one gold coin and run.\")\n",
    "    print (\"3. Walk through and don't take anything.\")\n",
    "\n",
    "    treasure = input(\"> \")\n",
    "\n",
    "    if treasure == \"1\" or treasure == \"2\":\n",
    "        print (\"A dragon wakes up and burns you to a crisp.  Game Over!\")\n",
    "    else:\n",
    "        print (\"You survive to live another day.  Good job!\")\n",
    "\n",
    "else:\n",
    "    print (\"You stumble around and fall into a deep well. Game Over!\")\n",
    "\n",
    "    \n",
    "    \n",
    "    \n",
    "    \n",
    "    \n",
    "    \n",
    "    \n",
    "    \n",
    "    \n",
    "    \n",
    "    \n",
    "    \n",
    "    \n",
    "    \n",
    "    \n",
    "    \n",
    "    \n",
    "    \n",
    "   "
   ]
  },
  {
   "cell_type": "markdown",
   "id": "69e7200b",
   "metadata": {
    "collapsed": true
   },
   "source": [
    "# While Loops, Build Your Own Counters\n"
   ]
  },
  {
   "cell_type": "markdown",
   "id": "842cfad3",
   "metadata": {},
   "source": [
    "<a id='section13'></a>\n",
    "## 13. Asking the User a Question\n",
    "\n",
    "Let's say you want to ask the user a question that has a yes-or-no answer. For example, \"Do you think the Toronto Maple Leafs will win the Stanley Cup in your lifetime?\"\n",
    "\n",
    "With what we have studied so far, this should be pretty easy."
   ]
  },
  {
   "cell_type": "code",
   "execution_count": null,
   "id": "8264d4c7",
   "metadata": {},
   "outputs": [],
   "source": [
    "answer = input(\"Do you think the Toronto Maple Leafs will win the Stanley Cup in your lifetime? (y/n): \")\n",
    "\n",
    "if answer == 'y':\n",
    "    print(\"You are going to live for a very long time.\")\n",
    "elif answer == 'n':\n",
    "    print(\"Well, sometimes miracles happen.\")"
   ]
  },
  {
   "cell_type": "markdown",
   "id": "297c2f6d",
   "metadata": {},
   "source": [
    "OK, so we've written code that satisfied our problem requirements. \n",
    "\n",
    "But, what if a user inputs a `'t'` when they meant to input a `'y'`?\n",
    "\n",
    "Well, we could add as `else` statement to catch this error."
   ]
  },
  {
   "cell_type": "code",
   "execution_count": null,
   "id": "5c4b12ae",
   "metadata": {},
   "outputs": [],
   "source": [
    "answer = input(\"Do you think the Toronto Maple Leafs will win the Stanley Cup in your lifetime? (y/n): \")\n",
    "\n",
    "if answer == 'y':\n",
    "    print(\"You are going to live for a very long time.\")\n",
    "elif answer == 'n':\n",
    "    print(\"Well, sometimes miracles happen.\")\n",
    "else:\n",
    "    print(\"Sorry, that was not one of the options.\")"
   ]
  },
  {
   "cell_type": "markdown",
   "id": "58ccdbf8",
   "metadata": {},
   "source": [
    "Ok, this kinda works.\n",
    "\n",
    "But, the user was not able to try again given they clearly made a typo.\n",
    "\n",
    "We could try copying our code again into the `else` statement."
   ]
  },
  {
   "cell_type": "code",
   "execution_count": null,
   "id": "edb518d8",
   "metadata": {},
   "outputs": [],
   "source": [
    "answer = input(\"Do you think the Toronto Maple Leafs will win the Stanley Cup in your lifetime? (y/n): \")\n",
    "\n",
    "if answer == 'y':\n",
    "    print(\"You are going to live for a very long time.\")\n",
    "elif answer == 'n':\n",
    "    print(\"Well, sometimes miracles happen.\")\n",
    "else:\n",
    "    print(\"Sorry, that was not one of the options.\")\n",
    "    \n",
    "    # Copied code\n",
    "    answer = input(\"Do you think the Toronto Maple Leafs will win the Stanley Cup in your lifetime? (y/n): \")\n",
    "\n",
    "    if answer == 'y':\n",
    "        print(\"You are going to live for a very long time.\")\n",
    "    elif answer == 'n':\n",
    "        print(\"Well, sometimes miracles happen.\")\n",
    "    else:\n",
    "        print(\"Sorry, that was not one of the options.\")"
   ]
  },
  {
   "cell_type": "markdown",
   "id": "aa6c4fc7",
   "metadata": {},
   "source": [
    "But, what if the user inputs two incorrect values?\n",
    "\n",
    "We can keep pasting that code forever because we don't know how many mistakes a user will make.\n",
    "\n",
    "We could use a `while` loop to continue to prompt the user for an input until a correct value (either `'y'` or `'n'`) is entered.\n",
    "\n",
    "Let's learn about `while` loops and then revisit this problem."
   ]
  },
  {
   "cell_type": "markdown",
   "id": "dd985f59",
   "metadata": {},
   "source": [
    "<a id='section14'></a>\n",
    "## 14. While Loops\n",
    "The form of a while-loop is:\n",
    "\n",
    "```python\n",
    "while expression:    \n",
    "    body\n",
    "```\n",
    "\n",
    "`expression` is a boolean expression: it evaluates to `True` or `False`. While it is `True` the code in `body` is executed and then the execution returns to the `while` line and evaluates `expression` again. If it is still `True`, execute `body`, loop back, and test `expression` again. If `expression` is `False`, skip `body` and go to the next line after it.\n",
    "\n",
    "How can we use a while-loop to print the integers between 0 and 9?"
   ]
  },
  {
   "cell_type": "code",
   "execution_count": null,
   "id": "8d20944d",
   "metadata": {},
   "outputs": [],
   "source": [
    "x = 0\n",
    "while x < 10:\n",
    "    print('x is now:', x)\n",
    "    x += 1"
   ]
  },
  {
   "cell_type": "markdown",
   "id": "e2e0fed1",
   "metadata": {},
   "source": [
    "Wow, that was fast! Let's slow things down so we can see what's going on."
   ]
  },
  {
   "cell_type": "code",
   "execution_count": null,
   "id": "0cdc2044",
   "metadata": {},
   "outputs": [],
   "source": [
    "import time\n",
    "\n",
    "x = 0\n",
    "print('x is initially set to:', x)\n",
    "\n",
    "print('Starting While loop\\n')\n",
    "while x < 10:\n",
    "    \n",
    "    time.sleep(1.5)\n",
    "    print('Starting an iteration, x =', x)\n",
    "    \n",
    "    time.sleep(1.5)\n",
    "    print('Updating x,', x, '+ 1 = ', x + 1)\n",
    "    x += 1\n",
    "    \n",
    "    time.sleep(1.5)\n",
    "    if x < 10:\n",
    "        print('Condition', x, '< 10 is True')\n",
    "        print('Continuing to next iteration\\n')\n",
    "    else:\n",
    "        print('Condition', x, '< 10 is False')\n",
    "        print('Exiting While loop')"
   ]
  },
  {
   "cell_type": "markdown",
   "id": "bb47c623",
   "metadata": {},
   "source": [
    "What if we wanted to know which integers have a squared value less than 200?"
   ]
  },
  {
   "cell_type": "code",
   "execution_count": null,
   "id": "543ba335",
   "metadata": {},
   "outputs": [],
   "source": [
    "x = 0\n",
    "while x*x < 200:\n",
    "    print(x)\n",
    "    x = x + 1"
   ]
  },
  {
   "cell_type": "markdown",
   "id": "4653cef8",
   "metadata": {},
   "source": [
    "## Infinite Loops\n",
    "Let's go back to our original code and remove the indentation of `x +=1`.\n",
    "\n",
    "What do you think will happen?"
   ]
  },
  {
   "cell_type": "code",
   "execution_count": null,
   "id": "9373df34",
   "metadata": {},
   "outputs": [],
   "source": [
    "x = 0\n",
    "while x < 10:\n",
    "    print('x is now:', x)\n",
    "x += 1"
   ]
  },
  {
   "cell_type": "markdown",
   "id": "8cf4df8f",
   "metadata": {},
   "source": [
    "Yikes! Click the `stop` button to break out of the loop.\n",
    "\n",
    "### Question: What type of error is this?\n",
    "#### Syntax, Logic, Semantic, Runtime?"
   ]
  },
  {
   "cell_type": "markdown",
   "id": "113a3f66",
   "metadata": {},
   "source": [
    "## Back to User Input\n",
    "Now, let's go back to our user input example.\n",
    "\n",
    "How can we use a `while` loop to keep asking the user the question until they answer `'y'` or `'n'`?\n",
    "\n",
    "Let's start with some of the code we wrote above. How are we going to adapt it?"
   ]
  },
  {
   "cell_type": "code",
   "execution_count": null,
   "id": "751e3b23",
   "metadata": {},
   "outputs": [],
   "source": [
    "answer = input(\"Do you think the Toronto Maple Leafs will win the Stanley Cup in your lifetime? (y/n): \")\n",
    "\n",
    "if answer == 'y':\n",
    "    print(\"You are going to live for a very long time.\")\n",
    "elif answer == 'n':\n",
    "    print(\"Well, sometimes miracles happen.\")\n",
    "else:\n",
    "    print(\"Sorry, that was not one of the options.\")"
   ]
  },
  {
   "cell_type": "markdown",
   "id": "ef951d09",
   "metadata": {},
   "source": [
    "We can use a `while` loop to continu asking the question `\"Do you think the Toronto Maple Leafs will win the Stanley Cup in your lifetime? (y/n): \"` until the user enters `'y'` or `'n'`."
   ]
  },
  {
   "cell_type": "code",
   "execution_count": null,
   "id": "ada75834",
   "metadata": {},
   "outputs": [],
   "source": [
    "answer = input(\"Do you think the Toronto Maple Leafs will win the Stanley Cup in your lifetime? (y/n): \")\n",
    "\n",
    "while answer != 'y' and answer != 'n':\n",
    "    print(\"Sorry, that was not one of the options.\")\n",
    "    answer = input(\"Do you think the Toronto Maple Leafs will win the Stanley Cup in your lifetime? (y/n): \")\n",
    "    \n",
    "if answer == 'y':\n",
    "    print(\"You are going to live for a very long time.\")\n",
    "else:\n",
    "    print(\"Well, sometimes miracles happen.\")"
   ]
  },
  {
   "cell_type": "markdown",
   "id": "d09c71ff",
   "metadata": {},
   "source": [
    "### Question: Why is it OK to just use an `else` (not an `elif`)?"
   ]
  },
  {
   "cell_type": "markdown",
   "id": "352900c1",
   "metadata": {},
   "source": [
    "<a id='section15'></a>\n",
    "## 15. Breakout Session 2\n",
    "Wire a code to print all the numbers from 0 to 20 that aren’t divisible by either 3 or 5.\n",
    "\n",
    "Zero is divisible by everything and should not appear in the output."
   ]
  },
  {
   "cell_type": "code",
   "execution_count": null,
   "id": "d53fa37e",
   "metadata": {},
   "outputs": [],
   "source": [
    "# Write your code here\n",
    "\n"
   ]
  },
  {
   "cell_type": "markdown",
   "id": "70d34210",
   "metadata": {},
   "source": [
    "## 16. Breakout Session 3\n",
    "\n",
    "Write an infinite loop that prints a message every 1 second.\n",
    "\n",
    "Hint: the time module may be useful"
   ]
  },
  {
   "cell_type": "code",
   "execution_count": null,
   "id": "8045d882",
   "metadata": {},
   "outputs": [],
   "source": [
    "#Write code here\n",
    "\n",
    "...\n"
   ]
  }
 ],
 "metadata": {
  "kernelspec": {
   "display_name": "Python 3 (ipykernel)",
   "language": "python",
   "name": "python3"
  },
  "language_info": {
   "codemirror_mode": {
    "name": "ipython",
    "version": 3
   },
   "file_extension": ".py",
   "mimetype": "text/x-python",
   "name": "python",
   "nbconvert_exporter": "python",
   "pygments_lexer": "ipython3",
   "version": "3.10.9"
  }
 },
 "nbformat": 4,
 "nbformat_minor": 5
}
