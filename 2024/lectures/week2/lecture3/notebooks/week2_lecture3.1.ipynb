{
 "cells": [
  {
   "cell_type": "markdown",
   "metadata": {},
   "source": [
    "# APS106 - Fundamentals of Computer Programming\n",
    "## Week 2 Lecture 3  - More while loops\n",
    "\n",
    "### Lecture Structure\n",
    "1. [Refresher](#section1)\n",
    "2. [Lazy Evaluation](#section2)\n",
    "3. [A Simple Guessing Game](#section3)"
   ]
  },
  {
   "cell_type": "markdown",
   "metadata": {},
   "source": [
    "<a id='section1'></a>\n",
    "## 1. Refesher\n",
    "The form of a while-loop is:\n",
    "\n",
    "```python\n",
    "while expression:    \n",
    "    do something (body)\n",
    "```\n",
    "\n",
    "### How many printouts will the following while loop produce?"
   ]
  },
  {
   "cell_type": "code",
   "execution_count": null,
   "metadata": {},
   "outputs": [],
   "source": [
    "x = 1\n",
    "while x < 4:\n",
    "    \n",
    "    x = x + 1\n",
    "    print(x)\n",
    "    \n",
    "\n",
    "    "
   ]
  },
  {
   "cell_type": "markdown",
   "metadata": {},
   "source": [
    "<a id='section2'></a>\n",
    "## 2. Lazy Evaluation\n",
    "Just like for if-statements, if you use `and` or `or` in a while-loop `expression`, it is subject to lazy evaluation."
   ]
  },
  {
   "cell_type": "code",
   "execution_count": null,
   "metadata": {},
   "outputs": [],
   "source": [
    "def my_func(x):\n",
    "    print(\"Inside my_func, x =\", x)\n",
    "    return True"
   ]
  },
  {
   "cell_type": "code",
   "execution_count": null,
   "metadata": {},
   "outputs": [],
   "source": [
    "x = 13\n",
    "while x > 10 and my_func(x):\n",
    "    x = x - 1"
   ]
  },
  {
   "cell_type": "code",
   "execution_count": null,
   "metadata": {},
   "outputs": [],
   "source": [
    "x = 13\n",
    "while my_func(x) and x > 10:\n",
    "    x = x - 1"
   ]
  },
  {
   "cell_type": "markdown",
   "metadata": {},
   "source": [
    "<a id='section3'></a>\n",
    "## 3.  A Simple Guessing Game\n",
    "### Step 1: Get the computer to choose a random integer from 0 to 100.\n",
    "Let's use another package that comes preinstalled with Python, `random`.\n",
    "\n",
    "Notice that its different every time you run the code.\n",
    "\n",
    "**`Question`**: Which `random` function should we use?\n",
    "\n",
    "**`Question`**: Should I hard code `0` and `100`?"
   ]
  },
  {
   "cell_type": "code",
   "execution_count": null,
   "metadata": {},
   "outputs": [],
   "source": [
    "import random\n",
    "help(random.randrange)\n",
    "help(random.randint)"
   ]
  },
  {
   "cell_type": "code",
   "execution_count": null,
   "metadata": {},
   "outputs": [],
   "source": [
    "import random\n",
    "\n",
    "# Intial guess\n",
    "num_min = 0\n",
    "num_max = 100\n",
    "num_to_guess = random.randint(num_min, num_max)\n",
    "\n",
    "# Debug mode\n",
    "print('Number to guess:', num_to_guess, '(for debugging)')"
   ]
  },
  {
   "cell_type": "markdown",
   "metadata": {},
   "source": [
    "### Step 2: Ask the user for a guess and allow the user to input a guess or `'q'`.\n",
    "### &\n",
    "### Step 3: If the user inputs `'q'` print a nice message and end the program."
   ]
  },
  {
   "cell_type": "code",
   "execution_count": null,
   "metadata": {},
   "outputs": [],
   "source": [
    "import random\n",
    "\n",
    "# Initial guess\n",
    "num_min = 0\n",
    "num_max = 100\n",
    "num_to_guess = random.randint(num_min, num_max)\n",
    "\n",
    "# Debug mode\n",
    "print('Number to guess:', num_to_guess, '(for debugging)\\n')\n",
    "\n",
    "\n",
    "# Intial guess from the user\n",
    "guess = input(\"Guess a number between \" + str(num_min) + \" and \" + str(num_max) + \" inclusive. ('q' to quit): \")\n",
    "\n",
    "while guess != 'q':\n",
    "    \n",
    "    print('You guessed: ', guess)\n",
    "    \n",
    "    # Make another guess\n",
    "    guess = input(\"Guess a number between \" + str(num_min) + \" and \" + str(num_max) + \" inclusive. ('q' to quit): \")\n",
    "    \n",
    "print('Thank you! Game Over\\n')"
   ]
  },
  {
   "cell_type": "markdown",
   "metadata": {},
   "source": [
    "### Step 4: If the user enters a guess, tell them if they should guess higher, lower, or if they got it right.\n",
    "### &\n",
    "### Step 5: If they got it right, print a nice message and quit."
   ]
  },
  {
   "cell_type": "code",
   "execution_count": null,
   "metadata": {},
   "outputs": [],
   "source": [
    "import random\n",
    "\n",
    "# Initial guess\n",
    "num_min = 0\n",
    "num_max = 100\n",
    "num_to_guess = random.randint(num_min, num_max)\n",
    "\n",
    "# Debug mode\n",
    "print('Number to guess:', num_to_guess, '(for debugging)\\n')\n",
    "\n",
    "# Initial guess from user\n",
    "guess = input(\"Guess a number between \" + str(num_min) + \" and \" + str(num_max) + \" inclusive. ('q' to end): \")\n",
    "\n",
    "# Check user input\n",
    "while guess != 'q':\n",
    "    \n",
    "    print(\"You guessed: \", guess)\n",
    "    \n",
    "    # Higher, lowers, or you got it!\n",
    "    guess_int = int(guess)\n",
    "    \n",
    "    if guess_int == num_to_guess:\n",
    "        print('You got it!')\n",
    "    elif guess_int > num_to_guess:\n",
    "        print('Guess Lower Next Time')\n",
    "    else:\n",
    "        print('Guess Higher Next Time')\n",
    "    \n",
    "    # Make another guess\n",
    "    guess = input(\"Guess a number between \" + str(num_min) + \" and \" + str(num_max) + \" inclusive. ('q' to end): \")\n",
    "    \n",
    "print('Game Over\\n')"
   ]
  },
  {
   "cell_type": "markdown",
   "metadata": {},
   "source": [
    "OK works pretty well but keeps asking for a guess after we won.\n",
    "\n",
    "What can we do? We only want to ask for a guess if the user hasn't found the right number. This suggests that we should re-organize the if-statement."
   ]
  },
  {
   "cell_type": "code",
   "execution_count": null,
   "metadata": {},
   "outputs": [],
   "source": [
    "import random\n",
    "\n",
    "# Initial guess\n",
    "num_min = 0\n",
    "num_max = 100\n",
    "num_to_guess = random.randint(num_min, num_max)\n",
    "\n",
    "# Debug mode\n",
    "print('Number to guess:', num_to_guess, '(for debugging)')\n",
    "\n",
    "# Initial guess from user\n",
    "guess = input(\"Guess a number between \" + str(num_min) + \" and \" + str(num_max) + \" inclusive. ('q' to end): \")\n",
    "\n",
    "# Check user input\n",
    "while guess != 'q':\n",
    "    \n",
    "    print(\"You guessed: \", guess)\n",
    "    \n",
    "    # Higher, lower, or you got it!\n",
    "    guess_int = int(guess) \n",
    "    \n",
    "    if guess_int == num_to_guess:\n",
    "        print(\"You got it!\") \n",
    "        #break\n",
    "    else:\n",
    "        if guess_int > num_to_guess:\n",
    "            print('Lower')\n",
    "        else:\n",
    "            print('Higher')\n",
    "            \n",
    "        # Make another guess\n",
    "        guess = input(\"Guess a number between \" + str(num_min) + \" and \" + str(num_max) + \" inclusive. ('q' to end): \")\n",
    "        \n",
    "print('Game Over\\n')"
   ]
  },
  {
   "cell_type": "markdown",
   "metadata": {},
   "source": [
    "## `#infiniteloop`\n",
    "This is called an infinite loop which is a type of runtime error and occurs when there is no code that end the loop. It just does on forever. You can press the 'STOP' button at the top to end it.\n",
    "\n",
    "Does anyone see what the issue is?"
   ]
  },
  {
   "cell_type": "code",
   "execution_count": null,
   "metadata": {
    "scrolled": true
   },
   "outputs": [],
   "source": [
    "import random\n",
    "\n",
    "# Initial guess\n",
    "num_min = 0\n",
    "num_max = 100\n",
    "num_to_guess = random.randint(num_min, num_max)\n",
    "\n",
    "# Debug mode\n",
    "print('Number to guess:', num_to_guess, '(for debugging)\\n')\n",
    "\n",
    "# Initial guess from user\n",
    "guess = input(\"Guess a number between \" + str(num_min) + \" and \" + str(num_max) + \" inclusive. ('q' to end): \")\n",
    "\n",
    "# Check user input\n",
    "while guess != 'q':\n",
    "    \n",
    "    print(\"You guessed: \", guess)\n",
    "    \n",
    "    # Higher, lowers, or you got it!\n",
    "    guess_int = int(guess) \n",
    "    \n",
    "    if guess_int == num_to_guess:\n",
    "        print(\"You got it!\")\n",
    "        guess = 'q'\n",
    "    else:\n",
    "        if guess_int > num_to_guess:\n",
    "            print(\"Lower\")\n",
    "        else:\n",
    "            print(\"Higher\")\n",
    "        \n",
    "        # Make another guess\n",
    "        guess = input(\"Guess a number between \" + str(num_min) + \" and \" + str(num_max) + \" inclusive. ('q' to end): \")\n",
    "        \n",
    "print('Game Over\\n')"
   ]
  },
  {
   "cell_type": "markdown",
   "metadata": {},
   "source": [
    "### Taking it up a level\n",
    "Our code allows the user to play one guessing game. What if we want to give them the option to play multiple games?\n",
    "\n",
    "Let's take this one step at a time. First, turn the code we've written into a function.\n",
    "\n",
    "### Turn Code Into A Funtion\n",
    "**`Question`**: What arguments should we have?\n",
    "\n",
    "**`Question`**: What is debug mode?"
   ]
  },
  {
   "cell_type": "code",
   "execution_count": null,
   "metadata": {},
   "outputs": [],
   "source": [
    "import random\n",
    "\n",
    "def play_guessing_game(num_min=0, num_max=100, debug=False):\n",
    "    \n",
    "    # Initial guess\n",
    "    num_to_guess = random.randint(num_min, num_max)\n",
    "\n",
    "    # Debug mode\n",
    "    if debug is True:\n",
    "        print('Number to guess:', num_to_guess, '(for debugging)\\n')\n",
    "\n",
    "    # Initial guess from user\n",
    "    guess = input(\"Guess a number between \" + str(num_min) + \" and \" + str(num_max) + \" inclusive. ('q' to end): \")\n",
    "\n",
    "    # Check user input\n",
    "    while guess != 'q':\n",
    "\n",
    "        print(\"You guessed: \", guess)\n",
    "\n",
    "        # Higher, lowers, or you got it!\n",
    "        guess_int = int(guess) \n",
    "\n",
    "        if guess_int == num_to_guess:\n",
    "            print(\"You got it!\")\n",
    "            guess = 'q'\n",
    "        else:\n",
    "            if guess_int > num_to_guess:\n",
    "                print(\"Guess Lower\")\n",
    "            elif guess_int < num_to_guess:\n",
    "                print(\"Guess Higher\")\n",
    "\n",
    "            # Make another guess\n",
    "            guess = input(\"Guess a number between \" + str(num_min) + \" and \" + str(num_max) + \" inclusive. ('q' to end): \")\n",
    "\n",
    "    print('Game Over\\n')"
   ]
  },
  {
   "cell_type": "markdown",
   "metadata": {},
   "source": [
    "Ok, let's try the function."
   ]
  },
  {
   "cell_type": "code",
   "execution_count": null,
   "metadata": {},
   "outputs": [],
   "source": [
    "play_guessing_game()"
   ]
  },
  {
   "cell_type": "markdown",
   "metadata": {},
   "source": [
    "### Place the Function Call a While Loop"
   ]
  },
  {
   "cell_type": "code",
   "execution_count": null,
   "metadata": {},
   "outputs": [],
   "source": [
    "play_again = 'y'\n",
    "while play_again == 'y':\n",
    "    play_guessing_game(debug=True)\n",
    "    play_again = input('Do you want to play again (y/n)?: ')  #what happens if I quit?"
   ]
  },
  {
   "cell_type": "markdown",
   "metadata": {},
   "source": [
    "### Don't ask if they want to play again after they press `'q'`.\n",
    "\n",
    "**`Question`**: How can we exit from a function?\n",
    "\n",
    "**`Question`**: Should I change the doc string?"
   ]
  },
  {
   "cell_type": "code",
   "execution_count": null,
   "metadata": {},
   "outputs": [],
   "source": [
    "import random\n",
    "\n",
    "def play_guessing_game(num_min=0, num_max=100, debug=False):\n",
    "    \n",
    "    \"\"\"\n",
    "    (int, int, bool) -> bool\n",
    "    Pick a number and let the user guess until they get it or quit.\n",
    "    Returns True if they finished the game\n",
    "    Returns False if they quiet the game\n",
    "    \"\"\"\n",
    "    \n",
    "    # Initial guess\n",
    "    num_to_guess = random.randint(num_min, num_max)\n",
    "\n",
    "    # Debug mode\n",
    "    if debug:\n",
    "        print('Number to guess:', num_to_guess, '(for debugging)\\n')\n",
    "\n",
    "    # Initial guess from user\n",
    "    guess = input(\"Guess a number between \" + str(num_min) + \" and \" + str(num_max) + \" inclusive. ('q' to end): \")\n",
    "\n",
    "    # Check user input\n",
    "    while guess != 'q':\n",
    "\n",
    "        print(\"You guessed: \", guess)\n",
    "\n",
    "        # Higher, lowers, or you got it!\n",
    "        guess_int = int(guess) \n",
    "\n",
    "        if guess_int == num_to_guess:\n",
    "            print(\"You got it!\")\n",
    "            guess = 'q'\n",
    "            return True\n",
    "        else:\n",
    "            if guess_int > num_to_guess:\n",
    "                print(\"Lower\")\n",
    "            else:\n",
    "                print(\"Higher\")\n",
    "\n",
    "            # Make another guess\n",
    "            guess = input(\"Guess a number between \" + str(num_min) + \" and \" + str(num_max) + \" inclusive. ('q' to end): \")\n",
    "        \n",
    "    print('Game Over\\n')\n",
    "    \n",
    "    return False"
   ]
  },
  {
   "cell_type": "markdown",
   "metadata": {},
   "source": [
    "Now, let's update the while loop."
   ]
  },
  {
   "cell_type": "code",
   "execution_count": null,
   "metadata": {},
   "outputs": [],
   "source": [
    "play_again = 'y'\n",
    "while play_again == 'y':\n",
    "    success = play_guessing_game()\n",
    "    if success is True:\n",
    "        play_again = input('Do you want to play again? (y/n): ')\n",
    "    else:\n",
    "        play_again = 'n'"
   ]
  },
  {
   "cell_type": "code",
   "execution_count": null,
   "metadata": {},
   "outputs": [],
   "source": []
  }
 ],
 "metadata": {
  "kernelspec": {
   "display_name": "Python 3 (ipykernel)",
   "language": "python",
   "name": "python3"
  },
  "language_info": {
   "codemirror_mode": {
    "name": "ipython",
    "version": 3
   },
   "file_extension": ".py",
   "mimetype": "text/x-python",
   "name": "python",
   "nbconvert_exporter": "python",
   "pygments_lexer": "ipython3",
   "version": "3.10.9"
  }
 },
 "nbformat": 4,
 "nbformat_minor": 4
}
