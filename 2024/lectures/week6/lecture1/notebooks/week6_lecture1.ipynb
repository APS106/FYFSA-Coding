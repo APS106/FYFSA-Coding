{
 "cells": [
  {
   "cell_type": "markdown",
   "id": "1c9bfddb",
   "metadata": {},
   "source": [
    "<a id='section2'></a>\n",
    "## The File Object\n",
    "\n",
    "A file on your computer is something like a document, data file, Python source code, etc. We are going to focus on ASCII text files which you can think of as a sequence of characters stored someplace on your computer.\n",
    "\n",
    "It is pretty common to have programs that read and write files: read in some data, do some calculation, write out the results. This is pretty much the core of any data science task.\n",
    "\n",
    "In Python files are represented by objects and we will look at some basic methods of the file object here."
   ]
  },
  {
   "cell_type": "markdown",
   "id": "fd2a0c5b",
   "metadata": {},
   "source": [
    "## Working with Files\n",
    "\n",
    "Working with files is a lot like working with a physical notebook. \n",
    "\n",
    "- A file has to be opened. \n",
    "- When you are done, it has to be closed. \n",
    "- While the file is open, it can either be read from or written to. \n",
    "- Like a bookmark, the file keeps track of where you are reading to or writing from. \n",
    "- You can read the whole file in its natural order or you can skip around. \n",
    "\n",
    "### Opening and Closing a File\n",
    "\n",
    "Python has a built-in function where you specify the filename and the mode of access (\"w\" = write, \"r\" = read, \"a\" = append)."
   ]
  },
  {
   "cell_type": "code",
   "execution_count": null,
   "id": "422204d1",
   "metadata": {},
   "outputs": [],
   "source": [
    "myfile = open(\"test.txt\", \"w\")\n",
    "#type(myfile)\n",
    "#dir(myfile)"
   ]
  },
  {
   "cell_type": "markdown",
   "id": "d956b7a0",
   "metadata": {},
   "source": [
    "This command will open `test.txt` in the folder where the program is being executed. If `test.txt` does not exist it will be created. If it does exist, it will be **over-written!!!**\n",
    "\n",
    "`myfile` is an object that keeps track of information about the file (e.g., where you are in it). If you want to write to (or read from) the file, you need to do so via the file object."
   ]
  },
  {
   "cell_type": "code",
   "execution_count": null,
   "id": "8004c1fe",
   "metadata": {},
   "outputs": [],
   "source": [
    "myfile.write(\"CATS!\")\n",
    "myfile.close()"
   ]
  },
  {
   "cell_type": "markdown",
   "id": "86e4099e",
   "metadata": {},
   "source": [
    "This command writes a string to myfile. It is like `print` but does not add the newline. So:"
   ]
  },
  {
   "cell_type": "code",
   "execution_count": null,
   "id": "0c7e56fa",
   "metadata": {},
   "outputs": [],
   "source": [
    "myfile = open(\"test.txt\", \"w\")\n",
    "\n",
    "myfile.write(\"CATS!\")\n",
    "myfile.write(\"\\n\")\n",
    "myfile.write(\"I <3 APS106\\n\")  #need to add \\n newline character, unlike print()\n",
    "\n",
    "myfile.close()"
   ]
  },
  {
   "cell_type": "code",
   "execution_count": null,
   "id": "90d828a4",
   "metadata": {},
   "outputs": [],
   "source": [
    "myfile = open('test.txt','w')  #what happens to file changing modes between 'a' and 'w'\n",
    "myfile.write('hola\\n')\n",
    "myfile.close()"
   ]
  },
  {
   "cell_type": "markdown",
   "id": "c369b95e",
   "metadata": {},
   "source": [
    "The next `write` statement writes the string where ever we left off. When we are done, the file needs to be closed. This tells the file object that we are done and it should clean things up."
   ]
  },
  {
   "cell_type": "code",
   "execution_count": null,
   "id": "0a86d683",
   "metadata": {},
   "outputs": [],
   "source": [
    "myfile = open('grades.txt','w')  #what happens to file changing modes between 'a' and 'w'\n",
    "\n",
    "students = 'Kendrick:A+\\nDre:C-\\nSnoop:B\\n'\n",
    "\n",
    "myfile.write(students)\n",
    "myfile.close()"
   ]
  },
  {
   "cell_type": "markdown",
   "id": "3fbb184a",
   "metadata": {},
   "source": [
    "Now we can go to the folder where the jupyter notebook is and observe that there is a file there called `text.txt` containing the lines that we wrote out.\n",
    "\n",
    "<a id='section3'></a>\n",
    "## Reading Files\n",
    "\n",
    "Now that the file exists on our disk, we can open it, this time for reading, and read all the lines in the file, one at a time. This time, the mode argument is \"r\" for reading:"
   ]
  },
  {
   "cell_type": "code",
   "execution_count": null,
   "id": "eb755770",
   "metadata": {},
   "outputs": [],
   "source": [
    "myfile = open(\"test.txt\", \"r\")\n",
    "print(myfile.read())"
   ]
  },
  {
   "cell_type": "markdown",
   "id": "dd618a5d",
   "metadata": {},
   "source": [
    "There are four common ways to read a file. "
   ]
  },
  {
   "cell_type": "code",
   "execution_count": null,
   "id": "d79697aa",
   "metadata": {},
   "outputs": [],
   "source": [
    "#Execute this cell to create a flanders.txt file in your working directory\n",
    "\n",
    "flanders_file = open('flanders.txt','w')\n",
    "flanders_file.write('''\n",
    "In Flanders Fields\n",
    "\n",
    "In Flanders fields the poppies blow \n",
    "Between the crosses, row on row,\n",
    "That mark our place; and in the sky\n",
    "The larks, still bravely singing, fly\n",
    "Scarce heard amid the guns below.\n",
    "We are the Dead. Short days ago\n",
    "We lived, felt dawn, saw sunset glow, \n",
    "Loved and were loved, and now we lie\n",
    "In Flanders fields.\n",
    "Take up our quarrel with the foe:\n",
    "To you from failing hands we throw\n",
    "The torch; be yours to hold it high.\n",
    "If ye break faith with us who die\n",
    "We shall not sleep, though poppies grow \n",
    "In Flanders fields.''')\n",
    "flanders_file.close()"
   ]
  },
  {
   "cell_type": "markdown",
   "id": "b8e2ee2c",
   "metadata": {},
   "source": [
    "### The read approach\n",
    "\n",
    "Read the whole file into a string. **Beware: If the file is huge, this can create problems!**"
   ]
  },
  {
   "cell_type": "code",
   "execution_count": null,
   "id": "9d5450e7",
   "metadata": {},
   "outputs": [],
   "source": [
    "flanders_file = open(\"flanders.txt\", 'r')\n",
    "flanders_poem = flanders_file.read()\n",
    "flanders_file.close()\n",
    "\n",
    "print(type(flanders_file))\n",
    "print(type(flanders_poem))\n",
    "print(flanders_poem)"
   ]
  },
  {
   "cell_type": "markdown",
   "id": "7a3d9b82",
   "metadata": {},
   "source": [
    "Q: If `flanders_poem` is a string, why does it print out across multiple lines?"
   ]
  },
  {
   "cell_type": "markdown",
   "id": "b34eac09",
   "metadata": {},
   "source": [
    "### The readline approach\n",
    "\n",
    "Read the file line-by-line into a string. This is a safer thing to do as the whole file never gets put in memory at once. Note that the file must be kept open if you still want to read the next line - unlike above where you can close the file immediately after `read()`."
   ]
  },
  {
   "cell_type": "code",
   "execution_count": null,
   "id": "2eeb33af",
   "metadata": {},
   "outputs": [],
   "source": [
    "# Approach: readline\n",
    "# When to use it: When you want to process the file line-by-line\n",
    "# Example code\n",
    "myfile = open(\"flanders.txt\", 'r')\n",
    "\n",
    "line = myfile.readline()\n",
    "#print(line)\n",
    "contents = ''\n",
    "\n",
    "while line != '': #while line is not an empty string\n",
    "#while line: #while line is not an empty string (empty strings evaluate to False)\n",
    "    contents += line  #concatenate the current line with the previous lines\n",
    "    line = myfile.readline() # each time through the loop, line contains one line of the file\n",
    "myfile.close()\n",
    "\n",
    "print(contents)\n",
    "\n",
    "\n",
    "# by the end of this loop, contents contains the entire contents of the file"
   ]
  },
  {
   "cell_type": "code",
   "execution_count": null,
   "id": "b5897208",
   "metadata": {},
   "outputs": [],
   "source": [
    "print(myfile.readline())"
   ]
  },
  {
   "cell_type": "markdown",
   "id": "e66e9615",
   "metadata": {},
   "source": [
    "### The for line in file approach"
   ]
  },
  {
   "cell_type": "markdown",
   "id": "b27ff8b1",
   "metadata": {},
   "source": [
    "For the next two ways to read file, we need to have a preview of material coming next week. There is another form of loop in Python called a **for-loop** that looks like the following:\n",
    "\n",
    "```\n",
    "for item in iterable:\n",
    "    body\n",
    "```\n",
    "Similar to `if` and `while` statements, there are two things to note here:\n",
    "- There must be a colon (:) at the end of the `for` statement.\n",
    "- The body must be indented.\n",
    "\n",
    "An \"iterable\" can be anything that can be 'iterated' over. 'Iterate' means to do something repeatedly. In this case, an iterable is a collection of items and we can loop over them.\n",
    "\n"
   ]
  },
  {
   "cell_type": "markdown",
   "id": "feaa123f",
   "metadata": {},
   "source": [
    "Like the `readline` approach, this approach also reads in the file line-by-line. It uses the `in` operator in a for-loop. "
   ]
  },
  {
   "cell_type": "code",
   "execution_count": null,
   "id": "3a5991b9",
   "metadata": {},
   "outputs": [],
   "source": [
    "# Approach: for line in file\n",
    "# When to use it: When you want to process the file line-by-line\n",
    "# Example code\n",
    "myfile = open(\"flanders.txt\", 'r')\n",
    "contents = ''\n",
    "for line in myfile: # each time through the loop line contains one line of the file\n",
    "    contents += line\n",
    "    #print(line)  #why is there a gap between rows when printing like this?\n",
    "myfile.close()\n",
    "\n",
    "print(contents)\n",
    "# by the end of this contents contains the entire contets of the file"
   ]
  },
  {
   "cell_type": "markdown",
   "id": "3bc3abef",
   "metadata": {},
   "source": [
    "In the example above, the variable `line` is assigned to the next line (a string ending in a '\\n') each time through the loop."
   ]
  },
  {
   "cell_type": "markdown",
   "id": "cad910cb",
   "metadata": {},
   "source": [
    "### The readlines approach\n",
    "\n",
    "The `readlines` approach reads the whole file in (like `read`) but rather than putting the file in one big string, it creates a list where each line of the file is an entry in the list.\n",
    "\n",
    "**We haven't actually got to lists yet in this course. For now just remember that there is a way to read lines of a file into a list and that list is an iterable.**"
   ]
  },
  {
   "cell_type": "code",
   "execution_count": null,
   "id": "261c4228",
   "metadata": {
    "scrolled": false
   },
   "outputs": [],
   "source": [
    "# Approach: readlines\n",
    "# When to use it: When you want to process the file line-by-line with an index\n",
    "# Example code\n",
    "myfile = open(\"flanders.txt\", 'r')\n",
    "lines = myfile.readlines() # lines is a list of strings. Each entry in lines is a line of the file\n",
    "\n",
    "print(type(lines))\n",
    "print(len(lines))\n",
    "print(type(lines[0]))\n",
    "\n",
    "print(lines)\n",
    "\n",
    "myfile.close()"
   ]
  },
  {
   "cell_type": "markdown",
   "id": "fa5ce181",
   "metadata": {},
   "source": [
    "## The with Statement\n",
    "\n",
    "Notice that whenever we open a file, we need to be careful to close it again. Python provides a nice way to open and then automatically close a file using a `with` block.\n",
    "\n",
    "```\n",
    "with open(«filename», «mode») as «variable»:\n",
    "      «body»\n",
    "```\n",
    "\n",
    "The file is opened at the beginning and **automatically closed** at the end of the body. \n"
   ]
  },
  {
   "cell_type": "code",
   "execution_count": null,
   "id": "3d13d1d9",
   "metadata": {},
   "outputs": [],
   "source": [
    "with open('test.txt', 'r') as file:\n",
    "    print(file.read())\n",
    "\n",
    "\n",
    "    \n",
    "print(\"The next line\")"
   ]
  },
  {
   "cell_type": "code",
   "execution_count": null,
   "id": "5870f46d",
   "metadata": {
    "scrolled": true
   },
   "outputs": [],
   "source": [
    "with open(\"flanders.txt\", 'r') as flanders_file:\n",
    "    for line in flanders_file:\n",
    "        print(line, end=\"\")"
   ]
  },
  {
   "cell_type": "markdown",
   "id": "3d416ca4",
   "metadata": {},
   "source": [
    "The use of `with` is a nice pattern in Python - all it really does it make sure the file is correctly closed when the with statement ends."
   ]
  }
 ],
 "metadata": {
  "kernelspec": {
   "display_name": "Python 3 (ipykernel)",
   "language": "python",
   "name": "python3"
  },
  "language_info": {
   "codemirror_mode": {
    "name": "ipython",
    "version": 3
   },
   "file_extension": ".py",
   "mimetype": "text/x-python",
   "name": "python",
   "nbconvert_exporter": "python",
   "pygments_lexer": "ipython3",
   "version": "3.10.9"
  }
 },
 "nbformat": 4,
 "nbformat_minor": 5
}
