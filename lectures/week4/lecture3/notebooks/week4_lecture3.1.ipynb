{
 "cells": [
  {
   "cell_type": "markdown",
   "metadata": {},
   "source": [
    "# APS106 Lecture Notes - Week 4, Lecture 3\n",
    "# Lists!\n",
    "\n",
    "## Lectures Today\n",
    "\n",
    "\n",
    "| Lecture | Topics | Reading |\n",
    "| --- | --- | --- | \n",
    "| 4.1 | All about lists | Ch 8 |\n",
    "| 4.2 | Looping through lists | Sect 9.1-9.4 |  \n",
    "\n",
    "### Lecture Structure\n",
    "1. [The 'list' Type](#section1)\n",
    "2. [Mutability and Aliasing](#section2)\n",
    "3. [List Methods](#section3)\n",
    "4. [List Operators](#section4)"
   ]
  },
  {
   "cell_type": "markdown",
   "metadata": {},
   "source": [
    " <a id='section1'></a>\n",
    "\n",
    "## The `list` Type\n",
    "\n",
    "Our programs will often work with collections of data. One way to store these collections of data is using Python's type list.\n",
    "The general form of a list is:\n",
    "\n",
    "```\n",
    "[element1, element2, ..., elementN]\n",
    "```\n",
    "For example:\n",
    "```\n",
    "grades = [80, 90, 70]\n",
    "```\n",
    "\n",
    "**Types of list elements**\n",
    "\n",
    "Lists element may be of any type. For example, here is a list of str:\n",
    "```\n",
    "subjects = ['bio', 'cs', 'math', 'history']\n",
    "```\n",
    "\n",
    "Lists can also mix elements of different types. For example, a street address can be represented by a list of [int, str]:\n",
    "```\n",
    "street_address = [10, 'Main Street']\n",
    "```\n",
    "\n",
    "**List Operations**\n",
    "\n",
    "Like strings, lists can be indexed:\n"
   ]
  },
  {
   "cell_type": "code",
   "execution_count": null,
   "metadata": {},
   "outputs": [],
   "source": [
    "grades = [80, 90, 70]\n",
    "print(grades[0])"
   ]
  },
  {
   "cell_type": "code",
   "execution_count": null,
   "metadata": {},
   "outputs": [],
   "source": [
    "print(grades[1])"
   ]
  },
  {
   "cell_type": "code",
   "execution_count": null,
   "metadata": {},
   "outputs": [],
   "source": [
    "print(grades[2])"
   ]
  },
  {
   "cell_type": "markdown",
   "metadata": {},
   "source": [
    "Lists can also be “sliced”, using the same notation as for strings:"
   ]
  },
  {
   "cell_type": "code",
   "execution_count": null,
   "metadata": {},
   "outputs": [],
   "source": [
    "print(grades[0:2])"
   ]
  },
  {
   "cell_type": "markdown",
   "metadata": {},
   "source": [
    "The in operator can also be applied to check whether a value is an item in a list."
   ]
  },
  {
   "cell_type": "code",
   "execution_count": null,
   "metadata": {},
   "outputs": [],
   "source": [
    "print(90 in grades)"
   ]
  },
  {
   "cell_type": "code",
   "execution_count": null,
   "metadata": {},
   "outputs": [],
   "source": [
    "print(60 in grades)"
   ]
  },
  {
   "cell_type": "markdown",
   "metadata": {},
   "source": [
    "Several of Python's built-in functions can be applied to lists, including:\n",
    "- len(list): return the number of elements in list (i.e. the length)\n"
   ]
  },
  {
   "cell_type": "code",
   "execution_count": null,
   "metadata": {},
   "outputs": [],
   "source": [
    "print(len(grades))"
   ]
  },
  {
   "cell_type": "markdown",
   "metadata": {},
   "source": [
    "- min(list): return the value of the smallest element in list.\n"
   ]
  },
  {
   "cell_type": "code",
   "execution_count": null,
   "metadata": {},
   "outputs": [],
   "source": [
    "print(min(grades))"
   ]
  },
  {
   "cell_type": "markdown",
   "metadata": {},
   "source": [
    "- max(list): return the value of the largest element in list.\n"
   ]
  },
  {
   "cell_type": "code",
   "execution_count": null,
   "metadata": {},
   "outputs": [],
   "source": [
    "print(max(grades))"
   ]
  },
  {
   "cell_type": "markdown",
   "metadata": {},
   "source": [
    "- sum(list): return the sum of elements of list (list items must be numeric)."
   ]
  },
  {
   "cell_type": "code",
   "execution_count": null,
   "metadata": {},
   "outputs": [],
   "source": [
    "print(sum(grades))"
   ]
  },
  {
   "cell_type": "markdown",
   "metadata": {},
   "source": [
    "What if we have a list of strings?"
   ]
  },
  {
   "cell_type": "code",
   "execution_count": null,
   "metadata": {},
   "outputs": [],
   "source": [
    "subjects = ['bio', 'cs', 'math', 'history']\n",
    "print(len(subjects))\n",
    "print(min(subjects))\n",
    "print(max(subjects))\n",
    "print(sum(subjects))"
   ]
  },
  {
   "cell_type": "markdown",
   "metadata": {},
   "source": [
    "## Nested Lists\n",
    "\n",
    "Lists can contain items of any type, including other lists! These are called nested lists. Here is an example."
   ]
  },
  {
   "cell_type": "code",
   "execution_count": null,
   "metadata": {},
   "outputs": [],
   "source": [
    "grades = [['Assignment 1', 80], ['Assignment 2', 90], ['Assignment 3', 70]]"
   ]
  },
  {
   "cell_type": "code",
   "execution_count": null,
   "metadata": {},
   "outputs": [],
   "source": [
    "print(grades[0])"
   ]
  },
  {
   "cell_type": "code",
   "execution_count": null,
   "metadata": {},
   "outputs": [],
   "source": [
    "print(grades[1])"
   ]
  },
  {
   "cell_type": "code",
   "execution_count": null,
   "metadata": {},
   "outputs": [],
   "source": [
    "print(grades[2])"
   ]
  },
  {
   "cell_type": "markdown",
   "metadata": {},
   "source": [
    "To access a nested item, first index the sublist, and then treat the result as a regular list - and index it. For example, to access 'Assignment 1', we can first get the sublist and then use it as we would a regular list:"
   ]
  },
  {
   "cell_type": "code",
   "execution_count": null,
   "metadata": {},
   "outputs": [],
   "source": [
    "sublist = grades[0]\n",
    "print(sublist)"
   ]
  },
  {
   "cell_type": "code",
   "execution_count": null,
   "metadata": {},
   "outputs": [],
   "source": [
    "print(sublist[0])"
   ]
  },
  {
   "cell_type": "code",
   "execution_count": null,
   "metadata": {},
   "outputs": [],
   "source": [
    "print(sublist[1])"
   ]
  },
  {
   "cell_type": "markdown",
   "metadata": {},
   "source": [
    "Both `sublist` and `grades[0]` contain the memory address of the `['Assignment 1', 80]` list. We can access the items directly like this:"
   ]
  },
  {
   "cell_type": "code",
   "execution_count": null,
   "metadata": {},
   "outputs": [],
   "source": [
    "print(grades[0][0])"
   ]
  },
  {
   "cell_type": "code",
   "execution_count": null,
   "metadata": {},
   "outputs": [],
   "source": [
    "print(grades[0][1])"
   ]
  },
  {
   "cell_type": "code",
   "execution_count": null,
   "metadata": {},
   "outputs": [],
   "source": [
    "print(grades[1][0])"
   ]
  },
  {
   "cell_type": "code",
   "execution_count": null,
   "metadata": {},
   "outputs": [],
   "source": [
    "print(grades[1][1])"
   ]
  },
  {
   "cell_type": "code",
   "execution_count": null,
   "metadata": {},
   "outputs": [],
   "source": [
    "print(grades[2][0])"
   ]
  },
  {
   "cell_type": "code",
   "execution_count": null,
   "metadata": {},
   "outputs": [],
   "source": [
    "print(grades[2][1])"
   ]
  },
  {
   "cell_type": "markdown",
   "metadata": {},
   "source": [
    "<a id='section2'></a>\n",
    "## Mutability and Aliasing\n",
    "\n",
    "**Mutability**\n",
    "\n",
    "We say that lists are \"mutable\": they can be modified. All the other types we have seen so far (str, int, float and bool) are \"immutable\": they cannot be modified."
   ]
  },
  {
   "cell_type": "code",
   "execution_count": null,
   "metadata": {},
   "outputs": [],
   "source": [
    "s = \"learn to program\"\n",
    "s[4] = 'p'"
   ]
  },
  {
   "cell_type": "markdown",
   "metadata": {},
   "source": [
    "Here are several examples of lists being modified:"
   ]
  },
  {
   "cell_type": "code",
   "execution_count": null,
   "metadata": {},
   "outputs": [],
   "source": [
    "classes = ['chem', 'bio', 'cs', 'eng']\n",
    "classes[2] = 'programming'\n",
    "print(classes)"
   ]
  },
  {
   "cell_type": "code",
   "execution_count": null,
   "metadata": {},
   "outputs": [],
   "source": [
    "classes[1] = 10\n",
    "print(classes)"
   ]
  },
  {
   "cell_type": "code",
   "execution_count": null,
   "metadata": {},
   "outputs": [],
   "source": [
    "classes[0] = 'A'\n",
    "print(classes)"
   ]
  },
  {
   "cell_type": "markdown",
   "metadata": {},
   "source": [
    "**Aliasing**\n",
    "\n",
    "Consider the following code:"
   ]
  },
  {
   "cell_type": "code",
   "execution_count": null,
   "metadata": {},
   "outputs": [],
   "source": [
    "lst1 = [11, 12, 13, 14, 15, 16, 17]\n",
    "print(\"Original lst1:\",lst1)\n",
    "\n",
    "lst2 = lst1\n",
    "lst2[-1] = 18\n",
    "print(\"lst1:\", lst1)\n",
    "print(\"lst2:\" ,lst2)"
   ]
  },
  {
   "cell_type": "markdown",
   "metadata": {},
   "source": [
    "The first thing you should notice is that you can use `print()` to output a list just like you do with any other variable type."
   ]
  },
  {
   "cell_type": "markdown",
   "metadata": {},
   "source": [
    "Having recovered from that excitement, let's pay careful attention to what is going on here. Does this look weird?\n",
    "\n",
    "We created a new list and assigned it to `lst1` in the line `lst2 = lst1`. But then we modified `lst1` and ... `lst2` was changed!\n",
    "\n",
    "After the `lst2 = lst1` statement, `lst1` and `lst2` both **refer to the same list**. When two variables refer to the same objects, they are *aliases*. If one list is modified, its aliases are also modified. In fact, there is only one list."
   ]
  },
  {
   "cell_type": "code",
   "execution_count": null,
   "metadata": {},
   "outputs": [],
   "source": [
    "classes = ['chem', 'bio', 'cs', 'eng']\n",
    "new_classes = classes\n",
    "new_classes[1] = 'phy'\n",
    "print(classes)"
   ]
  },
  {
   "cell_type": "markdown",
   "metadata": {},
   "source": [
    "Another example:"
   ]
  },
  {
   "cell_type": "code",
   "execution_count": null,
   "metadata": {},
   "outputs": [],
   "source": [
    "lst_a = [1, 2, 3, 4]\n",
    "lst_b = lst_a       # make an alias\n",
    "lst_c = list(lst_a) # make a copy!"
   ]
  },
  {
   "cell_type": "markdown",
   "metadata": {},
   "source": [
    "`list()` is a list \"constructor\". It will construct a new list based on the passed sequence. Using the built-in function `id()` we can track what happens to the memory as we create lists."
   ]
  },
  {
   "cell_type": "code",
   "execution_count": null,
   "metadata": {},
   "outputs": [],
   "source": [
    "print(id(lst_a))"
   ]
  },
  {
   "cell_type": "code",
   "execution_count": null,
   "metadata": {},
   "outputs": [],
   "source": [
    "print(id(lst_b))"
   ]
  },
  {
   "cell_type": "code",
   "execution_count": null,
   "metadata": {},
   "outputs": [],
   "source": [
    "print(id(lst_c))"
   ]
  },
  {
   "cell_type": "markdown",
   "metadata": {},
   "source": [
    "This can also be represented visually:\n",
    "![ListMem](images/ListMem.png)\n",
    "\n",
    "Notice that `lst_a` and `lst_b` have the same memory address, whereas `lst_c` has its own address and hence it is possible to modify `lst_c` without affecting the other lists."
   ]
  },
  {
   "cell_type": "code",
   "execution_count": null,
   "metadata": {},
   "outputs": [],
   "source": [
    "print(lst_a)\n",
    "print(lst_b)\n",
    "print(lst_c)\n",
    "print()\n",
    "\n",
    "lst_b[1] = 0\n",
    "print(lst_a)\n",
    "print(lst_b)\n",
    "print(lst_c)\n",
    "print()\n",
    "\n",
    "lst_c[1] = 9\n",
    "print(lst_a)\n",
    "print(lst_b)\n",
    "print(lst_c)\n"
   ]
  },
  {
   "cell_type": "markdown",
   "metadata": {},
   "source": [
    "Another way to copy a list is to take a \"full\" slice of it:\n",
    "\n",
    "This line:\n",
    "\n",
    "```\n",
    "lst_c = lst_a[:]\n",
    "```\n",
    "\n",
    "does the same thing as:\n",
    "\n",
    "```\n",
    "lst_c = list(lst_a)\n",
    "```\n",
    "\n",
    "<a id='section3'></a>\n",
    "## List Methods\n",
    "\n",
    "**Methods**\n",
    "\n",
    "Recall that a method is a function associated with an object. You can find out the methods in type list by typing `dir(list)`."
   ]
  },
  {
   "cell_type": "code",
   "execution_count": null,
   "metadata": {},
   "outputs": [],
   "source": [
    "dir(list)"
   ]
  },
  {
   "cell_type": "markdown",
   "metadata": {},
   "source": [
    "**Modifying Lists**\n",
    "\n",
    "Remember, lists are mutable - you can change them.\n",
    "\n",
    "Table 10 (Gries pg. 141) contains the following methods that modify lists. \n",
    "\n",
    "- `list.append(object)`: Append object to the end of list."
   ]
  },
  {
   "cell_type": "code",
   "execution_count": null,
   "metadata": {},
   "outputs": [],
   "source": [
    "colors = ['yellow', 'blue']\n",
    "print(colors)\n",
    "colors.append('red')\n",
    "print(colors)"
   ]
  },
  {
   "cell_type": "markdown",
   "metadata": {},
   "source": [
    "**Warning, Warning**\n",
    "\n",
    "I guarantee that you will make the following mistake. Can you explain what is going on?"
   ]
  },
  {
   "cell_type": "code",
   "execution_count": null,
   "metadata": {},
   "outputs": [],
   "source": [
    "colors = ['yellow', 'blue']\n",
    "colors = colors.append('red')\n",
    "print(colors)"
   ]
  },
  {
   "cell_type": "markdown",
   "metadata": {},
   "source": [
    "- `list.extend(list)` :\tAppend the items in the list parameter to the list.\t"
   ]
  },
  {
   "cell_type": "code",
   "execution_count": null,
   "metadata": {},
   "outputs": [],
   "source": [
    "colors = ['yellow', 'blue']\n",
    "colors.extend(['pink', 'green'])\n",
    "print(colors)"
   ]
  },
  {
   "cell_type": "markdown",
   "metadata": {},
   "source": [
    "`append` adds an element to the end of the list. `extend` adds the elements in a list to the end of the list. What do you think happens if we `append` a list?"
   ]
  },
  {
   "cell_type": "code",
   "execution_count": null,
   "metadata": {},
   "outputs": [],
   "source": [
    "colors = ['yellow', 'blue']\n",
    "colors.append(['pink', 'green'])\n",
    "print(colors)"
   ]
  },
  {
   "cell_type": "markdown",
   "metadata": {},
   "source": [
    "- `list.pop(index)`:\tRemove the item at the end of the list; optional index to remove from anywhere."
   ]
  },
  {
   "cell_type": "code",
   "execution_count": null,
   "metadata": {},
   "outputs": [],
   "source": [
    "colors = ['yellow', 'blue']\n",
    "colors.extend(['pink', 'green'])\n",
    "c = colors.pop()\n",
    "print(colors)\n",
    "print(c)"
   ]
  },
  {
   "cell_type": "code",
   "execution_count": null,
   "metadata": {},
   "outputs": [],
   "source": [
    "c = colors.pop()\n",
    "print(colors)\n",
    "print(c)"
   ]
  },
  {
   "cell_type": "markdown",
   "metadata": {},
   "source": [
    "- `list.remove(object)`: Remove the first occurrence of the object; error if not there."
   ]
  },
  {
   "cell_type": "code",
   "execution_count": null,
   "metadata": {},
   "outputs": [],
   "source": [
    "colors.remove('green')"
   ]
  },
  {
   "cell_type": "code",
   "execution_count": null,
   "metadata": {},
   "outputs": [],
   "source": [
    "colors.remove('blue')\n",
    "print(colors)"
   ]
  },
  {
   "cell_type": "markdown",
   "metadata": {},
   "source": [
    "- `list.reverse()`:\tReverse the list.\n",
    "[85, 75, 65, 95]"
   ]
  },
  {
   "cell_type": "code",
   "execution_count": null,
   "metadata": {},
   "outputs": [],
   "source": [
    "grades = [95, 65, 75, 85]\n",
    "grades.reverse()\n",
    "print(grades)"
   ]
  },
  {
   "cell_type": "markdown",
   "metadata": {},
   "source": [
    "- `list.sort()`: Sort the list from smallest to largest."
   ]
  },
  {
   "cell_type": "code",
   "execution_count": null,
   "metadata": {},
   "outputs": [],
   "source": [
    "grades.sort()\n",
    "print(grades)"
   ]
  },
  {
   "cell_type": "markdown",
   "metadata": {},
   "source": [
    "- `list.insert(int, object)`: Insert object at the given index, moving items to make room."
   ]
  },
  {
   "cell_type": "code",
   "execution_count": null,
   "metadata": {},
   "outputs": [],
   "source": [
    "grades.insert(3, 80)\n",
    "print(grades)"
   ]
  },
  {
   "cell_type": "markdown",
   "metadata": {},
   "source": [
    "**Getting Information from Lists**\n",
    "\n",
    "Table 10 (Gries pg. 141) also contains methods that return information about lists.\n",
    "\n",
    "- `list.count(object)`:\tReturn the number of times object occurs in list.\n"
   ]
  },
  {
   "cell_type": "code",
   "execution_count": null,
   "metadata": {},
   "outputs": [],
   "source": [
    "letters = ['a', 'a', 'b', 'c']\n",
    "print(letters.count('a'))"
   ]
  },
  {
   "cell_type": "markdown",
   "metadata": {},
   "source": [
    "- `list.index(object)`: Return the index of the first occurrence of object; error if not there."
   ]
  },
  {
   "cell_type": "code",
   "execution_count": null,
   "metadata": {},
   "outputs": [],
   "source": [
    "print(letters.index('a'))"
   ]
  },
  {
   "cell_type": "code",
   "execution_count": null,
   "metadata": {},
   "outputs": [],
   "source": [
    "print(letters.index('d'))"
   ]
  },
  {
   "cell_type": "markdown",
   "metadata": {},
   "source": [
    "<a id='section4'></a>\n",
    "## What About List Operators?\n",
    "\n",
    "You can add an element to a list using `append` but you can also use `+`."
   ]
  },
  {
   "cell_type": "code",
   "execution_count": null,
   "metadata": {},
   "outputs": [],
   "source": [
    "colors = ['blue', 'yellow']\n",
    "other_colors = ['red', 'purple']\n",
    "all_colors = colors + other_colors\n",
    "print(colors,other_colors,all_colors)"
   ]
  },
  {
   "cell_type": "markdown",
   "metadata": {},
   "source": [
    "How about subtraction?"
   ]
  },
  {
   "cell_type": "code",
   "execution_count": null,
   "metadata": {},
   "outputs": [],
   "source": [
    "some_colors = all_colors - other_colors\n",
    "print(some_colors)"
   ]
  },
  {
   "cell_type": "markdown",
   "metadata": {},
   "source": [
    "Multiplication?"
   ]
  },
  {
   "cell_type": "code",
   "execution_count": null,
   "metadata": {},
   "outputs": [],
   "source": [
    "all_colors = colors * other_colors\n",
    "print(colors,other_colors,all_colors)"
   ]
  },
  {
   "cell_type": "markdown",
   "metadata": {},
   "source": [
    "The error message says we cannot mutiple a sequence by a non-int type. But can we multiple a list by a int?"
   ]
  },
  {
   "cell_type": "code",
   "execution_count": null,
   "metadata": {},
   "outputs": [],
   "source": [
    "many_colors = 4 * colors\n",
    "print(colors)\n",
    "print(many_colors)"
   ]
  },
  {
   "cell_type": "markdown",
   "metadata": {},
   "source": [
    "Multiplying a list by an int X creates a new list which has the contents of the original list repeated X times."
   ]
  },
  {
   "cell_type": "markdown",
   "metadata": {},
   "source": [
    "### Augmented Operators\n",
    "\n",
    "If we can use `+` and `*` can we used `+=` and `*=`? How would you use them?\n",
    "\n",
    "Write code that uses `append` to create a list of the integers 0 to 4."
   ]
  },
  {
   "cell_type": "code",
   "execution_count": null,
   "metadata": {},
   "outputs": [],
   "source": [
    "my_list = []\n",
    "for i in range(5):\n",
    "    my_list.append(i)\n",
    "print(my_list)"
   ]
  },
  {
   "cell_type": "markdown",
   "metadata": {},
   "source": [
    "Now do it using `+=`."
   ]
  },
  {
   "cell_type": "code",
   "execution_count": null,
   "metadata": {},
   "outputs": [],
   "source": [
    "my_list = []\n",
    "for i in range(5):\n",
    "    my_list += i\n",
    "print(my_list)"
   ]
  },
  {
   "cell_type": "code",
   "execution_count": null,
   "metadata": {},
   "outputs": [],
   "source": [
    "my_list = []\n",
    "for i in range(5):\n",
    "    my_list += [i]\n",
    "print(my_list)"
   ]
  },
  {
   "cell_type": "markdown",
   "metadata": {},
   "source": [
    "What about `*=`? (I am not sure why you would ever want to do this ...)"
   ]
  },
  {
   "cell_type": "code",
   "execution_count": null,
   "metadata": {},
   "outputs": [],
   "source": [
    "my_list = [1,2]\n",
    "my_list *= 3\n",
    "print(my_list)"
   ]
  },
  {
   "cell_type": "markdown",
   "metadata": {},
   "source": [
    "<div class=\"alert alert-block alert-info\">\n",
    "<big><b>This Lecture</b></big>\n",
    "<ul>  \n",
    "    <li>Lists!</li>\n",
    "    <li>Indexing, slicing</li>\n",
    "    <li>Testing membership (i.e., `in`)</li>\n",
    "    <li>Mutability and aliasing</li>\n",
    "    <li>List functions, methods, and operators</li>    \n",
    "<b>See Chapter 8 of the Gries textbook. This is all in there.</b>\n",
    "</div>"
   ]
  },
  {
   "cell_type": "code",
   "execution_count": null,
   "metadata": {},
   "outputs": [],
   "source": []
  }
 ],
 "metadata": {
  "kernelspec": {
   "display_name": "Python 3 (ipykernel)",
   "language": "python",
   "name": "python3"
  },
  "language_info": {
   "codemirror_mode": {
    "name": "ipython",
    "version": 3
   },
   "file_extension": ".py",
   "mimetype": "text/x-python",
   "name": "python",
   "nbconvert_exporter": "python",
   "pygments_lexer": "ipython3",
   "version": "3.9.7"
  }
 },
 "nbformat": 4,
 "nbformat_minor": 1
}
