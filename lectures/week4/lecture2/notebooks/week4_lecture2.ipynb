{
 "cells": [
  {
   "cell_type": "code",
   "execution_count": null,
   "id": "d88a15be",
   "metadata": {},
   "outputs": [],
   "source": [
    "#global vs local variables\n",
    "\n",
    "global_var = 10\n",
    "\n",
    "def my_function():\n",
    "    local_var = 5\n",
    "    print(\"Local variable:\", local_var)\n",
    "    print(\"Global variable:\", global_var)\n",
    "\n",
    "my_function()"
   ]
  },
  {
   "cell_type": "code",
   "execution_count": null,
   "id": "68c14427",
   "metadata": {},
   "outputs": [],
   "source": [
    "#global vs local variables\n",
    "\n",
    "global_var = 10\n",
    "\n",
    "def my_function():\n",
    "    local_var = 5\n",
    "    global_var = 5\n",
    "    print(\"Local variable:\", local_var)\n",
    "    print(\"Global variable:\", global_var)\n",
    "\n",
    "my_function()"
   ]
  },
  {
   "cell_type": "code",
   "execution_count": null,
   "id": "fcff78e5",
   "metadata": {},
   "outputs": [],
   "source": [
    "del global_var\n",
    "#del local_var"
   ]
  },
  {
   "cell_type": "code",
   "execution_count": null,
   "id": "6f307bbd",
   "metadata": {},
   "outputs": [],
   "source": [
    "#global vs local variables\n",
    "\n",
    "global_var = 10\n",
    "\n",
    "def my_function():\n",
    "    #local_var = 5\n",
    "    global_var = 5\n",
    "    \n",
    "\n",
    "my_function()\n",
    "\n",
    "#print(\"Local variable:\", local_var)\n",
    "print(\"Global variable:\", global_var)\n"
   ]
  },
  {
   "cell_type": "code",
   "execution_count": null,
   "id": "4d341727",
   "metadata": {},
   "outputs": [],
   "source": [
    "#global vs local variables\n",
    "\n",
    "global_var = 10\n",
    "\n",
    "def my_function():\n",
    "    global_var = 5\n",
    "    return global_var\n",
    "    \n",
    "\n",
    "my_function()\n",
    "\n",
    "print(\"Global variable:\", global_var)"
   ]
  },
  {
   "cell_type": "code",
   "execution_count": null,
   "id": "e6a0b2de",
   "metadata": {},
   "outputs": [],
   "source": [
    "#THIS IS IDENTICAL TO ABOVE WITH A DIFFERENT VARIABLE NAME\n",
    "\n",
    "#global vs local variables\n",
    "\n",
    "global_var = 10\n",
    "\n",
    "def my_function():\n",
    "    x = 5\n",
    "    return x\n",
    "    \n",
    "\n",
    "my_function()\n",
    "\n",
    "print(\"Global variable:\", global_var)"
   ]
  },
  {
   "cell_type": "code",
   "execution_count": null,
   "id": "0d33f1aa",
   "metadata": {},
   "outputs": [],
   "source": [
    "#chaining string methods\n",
    "\n",
    "word = \"CATONIO\"\n",
    "output = word[3:7].lower().replace(\"C\", \"T\")\n",
    "\n",
    "output = output[::2] + 'D'\n",
    "print(output)\n"
   ]
  },
  {
   "cell_type": "code",
   "execution_count": null,
   "id": "3fd357e9",
   "metadata": {},
   "outputs": [],
   "source": [
    "#augmented operators for numbers\n",
    "\n",
    "x = 1\n",
    "x += 5\n",
    "\n",
    "y = 2\n",
    "y *= 3\n",
    "\n",
    "z = x + y\n",
    "print(z)"
   ]
  },
  {
   "cell_type": "code",
   "execution_count": null,
   "id": "914d6429",
   "metadata": {},
   "outputs": [],
   "source": [
    "#augmented operators with strings\n",
    "\n",
    "x = 'hello'\n",
    "x += ' '\n",
    "x += 'friends'\n",
    "print(x)\n",
    "\n",
    "y = 'nom'\n",
    "y *= 3\n",
    "print(y)"
   ]
  },
  {
   "cell_type": "code",
   "execution_count": null,
   "id": "f097a409",
   "metadata": {},
   "outputs": [],
   "source": [
    "#augmented operators with strings\n",
    "\n",
    "z = 'derp'\n",
    "\n",
    "z += 2\n",
    "\n",
    "#z *= 'boop'\n",
    "\n",
    "print(z)"
   ]
  },
  {
   "cell_type": "code",
   "execution_count": null,
   "id": "3544ef19",
   "metadata": {},
   "outputs": [],
   "source": [
    "#range example\n",
    "\n",
    "#What's the output?\n",
    "\n",
    "letters = 'abcdefg'\n",
    "for x in range(2, len(letters)):\n",
    "    if x % 3 == 0:\n",
    "        print(letters[x])\n"
   ]
  },
  {
   "cell_type": "code",
   "execution_count": null,
   "id": "9c919000",
   "metadata": {},
   "outputs": [],
   "source": [
    "#return order matters, and nested function calls\n",
    "\n",
    "def f1(n): \n",
    "    return n\n",
    "    print(\"A\")\n",
    "\n",
    "def f2(): \n",
    "    print('B')\n",
    "    return 1\n",
    "\n",
    "def f3(param):\n",
    "    print(param)\n",
    "    \n",
    "z = f1(f2())    \n",
    "\n",
    "print(z)\n",
    "\n",
    "print(f3(z))"
   ]
  },
  {
   "cell_type": "code",
   "execution_count": null,
   "id": "2ce06e85",
   "metadata": {},
   "outputs": [],
   "source": []
  },
  {
   "cell_type": "code",
   "execution_count": null,
   "id": "42b61818",
   "metadata": {},
   "outputs": [],
   "source": [
    "#Week 3 Part 1 Question 3a\n",
    "\n",
    "# Prompt the user to enter a string and, using only string \n",
    "# comparison functions, decide if the string starts with your first name. \n",
    "# If it does, print out “How did you know my name?”. If it doesn’t print out\n",
    "# “That's not my name.”\n",
    "\n",
    "str_input = input(\"Please enter your full name (first<space>last): \")\n",
    "first_name = \"ben\"\n",
    "\n",
    "if first_name == str_input[0:len(first_name)]:\n",
    "    print(\"How did you know my name?\")\n",
    "else:\n",
    "    print(\"That's not my name.\")"
   ]
  },
  {
   "cell_type": "code",
   "execution_count": null,
   "id": "b586e236",
   "metadata": {},
   "outputs": [],
   "source": []
  },
  {
   "cell_type": "code",
   "execution_count": null,
   "id": "7c91d4cd",
   "metadata": {},
   "outputs": [],
   "source": [
    "#Week 3 Part 1 Question 3b\n",
    "\n",
    "# Prompt the user to enter a string and, using only string \n",
    "# comparison functions, decide if the string starts with your first name. \n",
    "# If it does, print out “How did you know my name?”. If it doesn’t print out\n",
    "# “It’s rude to not know my name.”\n",
    "\n",
    "#b) Write a function that takes two strings and returns True if the two “match”, where this\n",
    "#time “matching” is not case sensitive. (So “Smith” and “smitH” match). Redo part a) using\n",
    "# this function.\n",
    "\n",
    "def string_match(s1, s2):\n",
    "    '''\n",
    "    (str, str) -> bool\n",
    "    Returns True of the strings are identical. Not case sensitive.\n",
    "    '''\n",
    "    return s1.lower() == s2.lower()\n",
    "\n",
    "s = input(\"Please enter your full name (first<space>last): \")\n",
    "first_name = \"ben\"\n",
    "\n",
    "#if len(s) >= len(first_name) and string_match(first_name, s[0:len(first_name)]):\n",
    "if string_match(first_name, s[0:len(first_name)]):\n",
    "    print(\"How did you know my name?\")\n",
    "else:\n",
    "    print(\"That's not my name.\")"
   ]
  },
  {
   "cell_type": "code",
   "execution_count": null,
   "id": "1f6c7f30",
   "metadata": {},
   "outputs": [],
   "source": [
    "#Week 3 Part 2 Question 3\n",
    "# Write a program that gets the user to enter a string and an integer k \n",
    "# such that the length of the string is a multiple of k.\n",
    "# Chop the string into segments of length k, then print the segments in order\n",
    "# (separated by a space) with the characters in each \n",
    "# segment reversed.\n",
    "#\n",
    "# Example\n",
    "# Please enter the string: University\n",
    "# Please enter k: 2\n",
    "# nU vi re is yt\n",
    "\n",
    "\n",
    "s = input(\"Please enter the string: \")\n",
    "k = int(input(\"Please enter k: \"))\n",
    "\n",
    "# check if k is a factor on n and exit with an error if not\n",
    "n = len(s)\n",
    "\n",
    "if n % k != 0:\n",
    "    print(k, \"does not divide evenly into the string length,\", n,)\n",
    "else:\n",
    "    for i in range(0,n,k):\n",
    "        substr = s[i:i+k]\n",
    "        rev_substr = substr[::-1]\n",
    "        print(rev_substr, end = \" \")\n"
   ]
  },
  {
   "cell_type": "markdown",
   "id": "a8e33b75",
   "metadata": {},
   "source": [
    "# BREAKOUT SESSION"
   ]
  },
  {
   "cell_type": "code",
   "execution_count": null,
   "id": "f48ce47e",
   "metadata": {},
   "outputs": [],
   "source": [
    "#Modify the above question to print out the result out as the following:\n",
    "# Example\n",
    "# Please enter the string: University\n",
    "# Please enter k: 2\n",
    "# nU\n",
    "# nU vi\n",
    "# nU vi re\n",
    "# nU vi re is\n",
    "# nU vi re is yt\n",
    "\n",
    "s = input(\"Please enter the string: \")\n",
    "k = int(input(\"Please enter k: \"))\n",
    "\n",
    "# check if k is a factor on n and exit with an error if not\n",
    "n = len(s)\n",
    "\n",
    "#defining some variable to keep track of your running string may be helpful\n",
    "out_str = ''\n",
    "\n",
    "if n % k != 0:\n",
    "    print(k, \"does not divide evenly into the string length,\", n,)\n",
    "else:\n",
    "    for i in range(0,n,k):\n",
    "        substr = s[i:i+k]\n",
    "        rev_substr = substr[::-1]\n",
    "        \n",
    "        #do something to accumulate your running string\n",
    "\n",
    "        \n",
    "        #maybe you want to display your current version of the string?\n",
    "\n",
    "        "
   ]
  },
  {
   "cell_type": "code",
   "execution_count": null,
   "id": "78fc5264",
   "metadata": {},
   "outputs": [],
   "source": [
    "#BREAKOUT SESSION ANSWER\n",
    "\n",
    "#Modify the above question to print out the result out as the following:\n",
    "# Example\n",
    "# Please enter the string: University\n",
    "# Please enter k: 2\n",
    "# nU\n",
    "# nU vi\n",
    "# nU vi re\n",
    "# nU vi re is\n",
    "# nU vi re is yt\n",
    "\n",
    "s = input(\"Please enter the string: \")\n",
    "k = int(input(\"Please enter k: \"))\n",
    "\n",
    "# check if k is a factor on n and exit with an error if not\n",
    "n = len(s)\n",
    "\n",
    "#defining some variable to keep track of your running string may be helpful\n",
    "out_str = ''\n",
    "\n",
    "if n % k != 0:\n",
    "    print(k, \"does not divide evenly into the string length,\", n,)\n",
    "else:\n",
    "    for i in range(0,n,k):\n",
    "        substr = s[i:i+k]\n",
    "        rev_substr = substr[::-1]\n",
    "        \n",
    "        #do something to accumulate your running string\n",
    "        out_str += rev_substr + ' '\n",
    "        \n",
    "        #maybe you want to display your current version of the string?\n",
    "        print(out_str)"
   ]
  },
  {
   "cell_type": "markdown",
   "id": "022c77a7",
   "metadata": {},
   "source": [
    "# Breakout Session"
   ]
  },
  {
   "cell_type": "code",
   "execution_count": null,
   "id": "098e4868",
   "metadata": {},
   "outputs": [],
   "source": [
    "#string methods\n",
    "\n",
    "big_story = '''In a quaint little town, there lived a curious cat named Oliver. \n",
    "With his striking green eyes and a mischievous grin, he roamed the narrow alleys, \n",
    "bringing joy to everyone he encountered. \n",
    "Oliver had a peculiar talent—he could predict the weather. \n",
    "Every morning, he perched on a windowsill, observing the sky, \n",
    "and meowed accordingly. The townsfolk adored his feline weather forecasts, \n",
    "relying on his predictions for their daily plans. \n",
    "Oliver became a beloved celebrity, \n",
    "with people eagerly awaiting his forecast each day. \n",
    "His presence brought warmth and enchantment to the town, \n",
    "proving that even a small cat could have a big impact on people's lives.'''\n",
    "\n",
    "#count how many \"a\"s appear in the story\n",
    "\n",
    "\n",
    "#count how many times \"his\" appears in the story\n",
    "\n",
    "\n",
    "#if the word \"celebrity\" is in the story, print \"famous\"\n",
    "\n",
    "    \n",
    "#count occurrences of consecutive letters\n",
    "\n"
   ]
  },
  {
   "cell_type": "code",
   "execution_count": null,
   "id": "b73daf09",
   "metadata": {},
   "outputs": [],
   "source": [
    "#STRING METHOD BREAKOUT SESSION ANSWER\n",
    "\n",
    "big_story = '''In a quaint little town, there lived a curious cat named Oliver. \n",
    "With his striking green eyes and a mischievous grin, he roamed the narrow alleys, \n",
    "bringing joy to everyone he encountered. \n",
    "Oliver had a peculiar talent—he could predict the weather. \n",
    "Every morning, he perched on a windowsill, observing the sky, \n",
    "and meowed accordingly. The townsfolk adored his feline weather forecasts, \n",
    "relying on his predictions for their daily plans. \n",
    "Oliver became a beloved celebrity, \n",
    "with people eagerly awaiting his forecast each day. \n",
    "His presence brought warmth and enchantment to the town, \n",
    "proving that even a small cat could have a big impact on people's lives.'''\n",
    "\n",
    "#count how many \"a\"s appear in the story\n",
    "a_count = big_story.count('a')\n",
    "print(a_count)\n",
    "\n",
    "#count how many times \"his\" appears in the story\n",
    "his_count = big_story.count('his')\n",
    "print(his_count)\n",
    "\n",
    "#if the word \"celebrity\" is in the story, print \"famous\"\n",
    "if 'celebrity' in big_story:\n",
    "    print('famous')\n",
    "    \n",
    "#count occurrences of consecutive letters\n",
    "consecutive = 0\n",
    "for i in range(1,len(big_story)):\n",
    "        if big_story[i] == big_story[i-1]:\n",
    "            consecutive += 1\n",
    "print(consecutive)\n",
    "\n",
    "#OR\n",
    "\n",
    "consecutive = 0\n",
    "for i in range(0,len(big_story)-1):\n",
    "        if big_story[i] == big_story[i+1]:\n",
    "            consecutive += 1\n",
    "print(consecutive)"
   ]
  },
  {
   "cell_type": "code",
   "execution_count": null,
   "id": "324ee79a",
   "metadata": {},
   "outputs": [],
   "source": [
    "import random\n",
    "\n",
    "def pcr_simulator(target_seq, num_cycles):\n",
    "    \"\"\"(str, int) -> str\n",
    "    target_seq: the DNA sequence to be amplified\n",
    "    num_cycles: the number of amplification cycles\n",
    "    Returns: the amplified target sequence generated\n",
    "    considering randomly occurring copying mistakes\n",
    "    \"\"\"\n",
    "\n",
    "    iteration = 0\n",
    "    amplified_seq = target_seq\n",
    "    while iteration < num_cycles:\n",
    "        if not(iteration % 2):\n",
    "            amplified_seq = amplified_seq + amplified_seq\n",
    "        else:\n",
    "            selector = random.randrange(5)\n",
    "            if selector == 0:\n",
    "                amplified_seq = amplified_seq + amplified_seq + \"A\"\n",
    "            elif selector == 1:\n",
    "                amplified_seq = amplified_seq + amplified_seq + \"C\"\n",
    "            elif selector == 2:\n",
    "                amplified_seq = amplified_seq + amplified_seq + \"G\"\n",
    "            elif selector == 3:\n",
    "                amplified_seq = amplified_seq + amplified_seq + \"T\"\n",
    "            else:\n",
    "                amplified_seq = amplified_seq + amplified_seq + \"U\"\n",
    "        iteration += 1\n",
    "    return amplified_seq\n",
    "\n"
   ]
  },
  {
   "cell_type": "code",
   "execution_count": null,
   "id": "df02662a",
   "metadata": {},
   "outputs": [],
   "source": [
    "pcr_simulator('ATU',2)"
   ]
  },
  {
   "cell_type": "markdown",
   "id": "4e8a1473",
   "metadata": {},
   "source": [
    "# Breakout Session"
   ]
  },
  {
   "cell_type": "code",
   "execution_count": null,
   "id": "b92c8b71",
   "metadata": {},
   "outputs": [],
   "source": [
    "#Practice with while loops and continuing for specific user inputs\n",
    "\n",
    "#Ask a user to input a number less than 10.\n",
    "#Continue asking until they do.\n",
    "\n",
    "#write code here\n",
    "\n",
    "\n",
    "\n",
    "\n",
    "\n",
    "\n",
    "#answer below (DONT LOOK UNTIL YOU HAVE FINISHED!)\n",
    "\n"
   ]
  },
  {
   "cell_type": "code",
   "execution_count": null,
   "id": "771ea003",
   "metadata": {},
   "outputs": [],
   "source": [
    "user = input(\"Enter number less than 10: \")\n",
    "\n",
    "while (int(user) >= 10):\n",
    "    user = input(\"Enter number less than 10: \")"
   ]
  },
  {
   "cell_type": "code",
   "execution_count": null,
   "id": "14a69b38",
   "metadata": {},
   "outputs": [],
   "source": [
    "user = input(\"Enter number less than 10: \")\n",
    "\n",
    "while user.isalpha() or (int(user) >= 10):\n",
    "    user = input(\"Enter number less than 10: \")"
   ]
  },
  {
   "cell_type": "code",
   "execution_count": null,
   "id": "26755865",
   "metadata": {},
   "outputs": [],
   "source": []
  },
  {
   "cell_type": "code",
   "execution_count": null,
   "id": "f2b86046",
   "metadata": {},
   "outputs": [],
   "source": [
    "#another while loop exit strategy that works inside of functions\n",
    "\n",
    "def continue_playing():\n",
    "    while True:\n",
    "        answer = int(input('Enter a number less than 10: '))\n",
    "        \n",
    "        if answer < 10:\n",
    "            return answer"
   ]
  },
  {
   "cell_type": "code",
   "execution_count": null,
   "id": "47deff8d",
   "metadata": {},
   "outputs": [],
   "source": [
    "continue_playing()"
   ]
  },
  {
   "cell_type": "code",
   "execution_count": null,
   "id": "8bed3024",
   "metadata": {},
   "outputs": [],
   "source": [
    "#using external modules"
   ]
  },
  {
   "cell_type": "code",
   "execution_count": null,
   "id": "1397b0a2",
   "metadata": {},
   "outputs": [],
   "source": [
    "import math\n",
    "\n",
    "my_log = math.log(10)\n",
    "print(my_log)"
   ]
  },
  {
   "cell_type": "code",
   "execution_count": null,
   "id": "0f9c86fc",
   "metadata": {},
   "outputs": [],
   "source": [
    "help(math)"
   ]
  },
  {
   "cell_type": "code",
   "execution_count": null,
   "id": "c2939c2d",
   "metadata": {},
   "outputs": [],
   "source": []
  }
 ],
 "metadata": {
  "kernelspec": {
   "display_name": "Python 3 (ipykernel)",
   "language": "python",
   "name": "python3"
  },
  "language_info": {
   "codemirror_mode": {
    "name": "ipython",
    "version": 3
   },
   "file_extension": ".py",
   "mimetype": "text/x-python",
   "name": "python",
   "nbconvert_exporter": "python",
   "pygments_lexer": "ipython3",
   "version": "3.10.9"
  }
 },
 "nbformat": 4,
 "nbformat_minor": 5
}
