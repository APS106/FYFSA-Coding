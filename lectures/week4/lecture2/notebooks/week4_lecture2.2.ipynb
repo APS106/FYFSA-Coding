{
 "cells": [
  {
   "cell_type": "markdown",
   "metadata": {
    "collapsed": true
   },
   "source": [
    "# APS106 - Fundamentals of Computer Programming\n",
    "## Week 4 | Lecture 2 (4.2) - More `for` Loops\n",
    "\n",
    "### This Week\n",
    "| Lecture | Topics | Reading |\n",
    "| --- | --- | --- | \n",
    "| 4.1 | for-loops: `while` is so last month | Section 9.3, 9.4 |\n",
    "| **4.2** | **for-loops on indices, nested loops** | **Section 9.5 - 9.9**  |\n",
    "| 4.3 | Design Problem: Cryptography | | \n",
    "\n",
    "### Lecture Structure\n",
    "1. [Breakout Session 1](#section1)\n",
    "2. [Using `range()`](#section2)\n",
    "3. [Example 1](#section3)\n",
    "4. [Breakout Session 2](#section4)\n",
    "5. [Nested for Loops](#section5)\n",
    "6. [Turtles](#section6)\n",
    "7. [Grid](#section7)\n",
    "8. [Breakout Session 3](#section8)\n",
    "9. [Advanced Turtles](#section9)"
   ]
  },
  {
   "cell_type": "markdown",
   "metadata": {},
   "source": [
    "<a id='section1'></a>\n",
    "## 1. Breakout Session 1\n",
    "We need to remove all punctuation from the text of each tweet so we can conducted a more detailed analysis. If any of the characters in `punctuations` are in a tweet, we want to replace them with a space `' '`.\n",
    "\n",
    "```python\n",
    "punctuations = '!\"#$%&\\'()*+,-./:;<=>?@[\\\\]^_`{|}~'\n",
    "```"
   ]
  },
  {
   "cell_type": "markdown",
   "metadata": {},
   "source": [
    "First, let's look at two of Dean Yip's tweets."
   ]
  },
  {
   "cell_type": "code",
   "execution_count": null,
   "metadata": {},
   "outputs": [],
   "source": [
    "tweet_1 = \"\"\"\n",
    "Totally agree. - so awesome to see students in person -  \n",
    "and not just students but faculty, staff - and everyone in the  \n",
    "@uoftengineering community -\n",
    "\"\"\"\n",
    "print(tweet_1)"
   ]
  },
  {
   "cell_type": "code",
   "execution_count": null,
   "metadata": {},
   "outputs": [],
   "source": [
    "tweet_2 = \"\"\"\n",
    "great to hear from Prof. Bussman, Chair of @uoftmie \n",
    "about all the stuff that MechE do .... - amazing  \n",
    "breadth of impact... exciting stuff across so many domains\n",
    "\"\"\"\n",
    "print(tweet_2)"
   ]
  },
  {
   "cell_type": "markdown",
   "metadata": {},
   "source": [
    "Complete the function below.\n",
    "\n",
    "Hint: `.replace()`"
   ]
  },
  {
   "cell_type": "code",
   "execution_count": null,
   "metadata": {},
   "outputs": [],
   "source": [
    "def remove_punctuation(string):\n",
    "    \n",
    "    \"\"\"\n",
    "    (str) -> str\n",
    "    Return string with puncutations replaced by a single space.\n",
    "    \"\"\"\n",
    "    \n",
    "    # Set punctuations\n",
    "    punctuations = '!\"#$%&\\'()*+,-./:;<=>?@[\\\\]^_`{|}~'\n",
    "    \n",
    "    #Make string lower case\n",
    "    \n",
    "\n",
    "    # Loop through characters in string \n",
    "        \n",
    "        \n",
    "        # Check if the character is a punctuations\n",
    "        \n",
    "        \n",
    "            # Replace write space with a string\n",
    "            \n",
    "            \n",
    "    #check docstring, are we supposed to return anything?\n",
    "    "
   ]
  },
  {
   "cell_type": "markdown",
   "metadata": {},
   "source": [
    "Let's test out our function.\n",
    "#### Tweet 1"
   ]
  },
  {
   "cell_type": "code",
   "execution_count": null,
   "metadata": {},
   "outputs": [],
   "source": [
    "print('Original Text')\n",
    "print(tweet_1)\n",
    "print('\\nProcessed Text')\n",
    "print(remove_punctuation(tweet_1))"
   ]
  },
  {
   "cell_type": "markdown",
   "metadata": {},
   "source": [
    "#### Tweet 2"
   ]
  },
  {
   "cell_type": "code",
   "execution_count": null,
   "metadata": {},
   "outputs": [],
   "source": [
    "print('Original Text')\n",
    "print(tweet_2)\n",
    "print('\\nProcessed Text')\n",
    "print(remove_punctuation(tweet_2))"
   ]
  },
  {
   "cell_type": "markdown",
   "metadata": {},
   "source": [
    "<a id='section2'></a>\n",
    "## 2. Using `range()`\n",
    "Python has a built-in function called range() that is useful to use when you want to generate a sequence of numbers. You can type help(range) in the Python interpreter."
   ]
  },
  {
   "cell_type": "code",
   "execution_count": null,
   "metadata": {},
   "outputs": [],
   "source": [
    "help(range)"
   ]
  },
  {
   "cell_type": "markdown",
   "metadata": {},
   "source": [
    "**What Can You Do with range()?**\n",
    "\n",
    "You can tell `range()` what index to start at if you don't want to start at the default which is 0."
   ]
  },
  {
   "cell_type": "code",
   "execution_count": null,
   "metadata": {},
   "outputs": [],
   "source": [
    "chrome_4 = \"ATGGGCAATCGATGGCCTAATCTCTCTAAG\"\n",
    "\n",
    "for i in range(1, len(chrome_4)):\n",
    "    print(i, chrome_4[i])"
   ]
  },
  {
   "cell_type": "markdown",
   "metadata": {},
   "source": [
    "You can even specify the \"step\" for range: how do you increment the numbers?. The default step size is 1, which means that numbers increment by 1. The example below starts at index 1 and its step size is three (goes to every third index)."
   ]
  },
  {
   "cell_type": "code",
   "execution_count": null,
   "metadata": {},
   "outputs": [],
   "source": [
    "for i in range(1, len(chrome_4), 3):\n",
    "    print(i, chrome_4[i])"
   ]
  },
  {
   "cell_type": "markdown",
   "metadata": {},
   "source": [
    "This also gives us flexibility to process only part of a string. For example, we can print only the first half of the list:"
   ]
  },
  {
   "cell_type": "code",
   "execution_count": null,
   "metadata": {},
   "outputs": [],
   "source": [
    "for i in range(len(chrome_4) // 2):\n",
    "    print(chrome_4[i], end=\" \")"
   ]
  },
  {
   "cell_type": "markdown",
   "metadata": {},
   "source": [
    "More examples"
   ]
  },
  {
   "cell_type": "code",
   "execution_count": null,
   "metadata": {},
   "outputs": [],
   "source": [
    "# Iterate over the numbers 0, 1, 2, 3, and 4\n",
    "for i in range(5):\n",
    "    print(i)"
   ]
  },
  {
   "cell_type": "code",
   "execution_count": null,
   "metadata": {},
   "outputs": [],
   "source": [
    "# Iterate over the numbers 2, 3, and 4\n",
    "for i in range(2, 5):\n",
    "    print(i)"
   ]
  },
  {
   "cell_type": "code",
   "execution_count": null,
   "metadata": {},
   "outputs": [],
   "source": [
    "# Iterate over the numbers 3, 6, 9, 12, 15, and 18\n",
    "for i in range(20, 2, -1):\n",
    "    print(i)"
   ]
  },
  {
   "cell_type": "markdown",
   "metadata": {},
   "source": [
    "<a id='section3'></a>\n",
    "## 3. Example 1\n",
    "Add up all the even numbers between 1 and 100 using a `for` loop and `range()`.\n",
    "\n",
    "```python\n",
    "2 + 4 + ... + 98 + 100\n",
    "```\n",
    "\n",
    "Write your code here."
   ]
  },
  {
   "cell_type": "code",
   "execution_count": null,
   "metadata": {},
   "outputs": [],
   "source": [
    "total = 0\n",
    "\n",
    "for number in range(101):\n",
    "    \n",
    "    if number % 2 == 0:\n",
    "    \n",
    "        total += number\n",
    "\n",
    "print('sum(2 + 4 + ... + 96 + 98 + 100) =', total)"
   ]
  },
  {
   "cell_type": "markdown",
   "metadata": {},
   "source": [
    "<a id='section4'></a>\n",
    "## 4. Breakout Session 2\n",
    "Write a function that returns the number of times that a character and the next character are the same.  \n",
    "```python\n",
    "count_adjacent_repeats('abccdeffggh')\n",
    ">>> 3\n",
    "\n",
    "count_adjacent_repeats('lfkdgdwefopkgtrjhhjhhjjj')\n",
    ">>> 4\n",
    "```"
   ]
  },
  {
   "cell_type": "code",
   "execution_count": null,
   "metadata": {},
   "outputs": [],
   "source": [
    "def count_adjacent_repeats(s):\n",
    "    \"\"\"\n",
    "    (str) -> int\n",
    "    Returns the number of times that two consecutive characters are the same.\n",
    "    \"\"\"\n",
    "    "
   ]
  },
  {
   "cell_type": "markdown",
   "metadata": {},
   "source": [
    "#### Test 1"
   ]
  },
  {
   "cell_type": "code",
   "execution_count": null,
   "metadata": {},
   "outputs": [],
   "source": [
    "print(count_adjacent_repeats('abccdeffggh'))"
   ]
  },
  {
   "cell_type": "markdown",
   "metadata": {},
   "source": [
    "#### Test 2"
   ]
  },
  {
   "cell_type": "code",
   "execution_count": null,
   "metadata": {},
   "outputs": [],
   "source": [
    "print(count_adjacent_repeats('lfkdgdwefopkgtrjhhjhhjjj'))"
   ]
  },
  {
   "cell_type": "markdown",
   "metadata": {},
   "source": [
    "<a id='section5'></a>\n",
    "## 5. Nested `for` Loops"
   ]
  },
  {
   "cell_type": "code",
   "execution_count": null,
   "metadata": {
    "scrolled": true
   },
   "outputs": [],
   "source": [
    "for i in range(10, 13):\n",
    "    for j in range(1, 5):\n",
    "        print(i, j)"
   ]
  },
  {
   "cell_type": "markdown",
   "metadata": {},
   "source": [
    "What is going on here? Let's add some `print` statements to help jus understand."
   ]
  },
  {
   "cell_type": "code",
   "execution_count": null,
   "metadata": {},
   "outputs": [],
   "source": [
    "for i in range(10, 13):\n",
    "    print(\"Outer loop: i =\", i)\n",
    "    for j in range(1, 5):\n",
    "        print(\"  Inner loop: j =\", j)"
   ]
  },
  {
   "cell_type": "markdown",
   "metadata": {},
   "source": [
    "Notice that when `i` is 10, the inner loop executes in its entirety, and only after `j` has ranged from 1 through 4 is `i` incremented to the value 11."
   ]
  },
  {
   "cell_type": "markdown",
   "metadata": {},
   "source": [
    "<a id='section6'></a>\n",
    "## 6. Turtles\n",
    "Install the Turtles package `mobilechelonian` that renders in the notebook. "
   ]
  },
  {
   "cell_type": "code",
   "execution_count": null,
   "metadata": {},
   "outputs": [],
   "source": [
    "!pip install mobilechelonian"
   ]
  },
  {
   "cell_type": "markdown",
   "metadata": {},
   "source": [
    "There is a built-in turtles packaged called `turtle` with more functionality but it doesn't render in the notebook. We'll use `mobilechelonian` for an easy introduction to `Turtle`."
   ]
  },
  {
   "cell_type": "markdown",
   "metadata": {},
   "source": [
    "### Draw A Straight Line"
   ]
  },
  {
   "cell_type": "code",
   "execution_count": null,
   "metadata": {},
   "outputs": [],
   "source": [
    "# Import the turtle package for notebooks\n",
    "from mobilechelonian import Turtle\n",
    "\n",
    "# Instantiate a turtle object\n",
    "turtle = Turtle()\n",
    "\n",
    "# Ask the turtle to move forward (to the right) by 100 pixels\n",
    "turtle.forward(100)"
   ]
  },
  {
   "cell_type": "markdown",
   "metadata": {},
   "source": [
    "### Moving Around\n",
    "The turtle starts out at position `(200, 200)`. Top left is `(0, 0)`."
   ]
  },
  {
   "cell_type": "code",
   "execution_count": null,
   "metadata": {},
   "outputs": [],
   "source": [
    "from mobilechelonian import Turtle\n",
    "\n",
    "turtle = Turtle()\n",
    "turtle.speed(10)\n",
    "turtle.setposition(0, 0)\n",
    "turtle.setposition(400, 0)\n",
    "turtle.setposition(400, 400)\n",
    "turtle.setposition(0, 400)\n",
    "turtle.setposition(0, 0)"
   ]
  },
  {
   "cell_type": "markdown",
   "metadata": {},
   "source": [
    "### Rotating\n",
    "You can can rotate `.left()` or `.right()` relative to the turtle current bearing."
   ]
  },
  {
   "cell_type": "code",
   "execution_count": null,
   "metadata": {},
   "outputs": [],
   "source": [
    "from mobilechelonian import Turtle\n",
    "\n",
    "turtle = Turtle()\n",
    "turtle.left(90)\n",
    "turtle.left(90)\n",
    "turtle.right(90)"
   ]
  },
  {
   "cell_type": "markdown",
   "metadata": {},
   "source": [
    "### Draw A Circle"
   ]
  },
  {
   "cell_type": "code",
   "execution_count": null,
   "metadata": {},
   "outputs": [],
   "source": [
    "from mobilechelonian import Turtle\n",
    "\n",
    "turtle = Turtle()\n",
    "turtle.speed(10)\n",
    "turtle.circle(30)"
   ]
  },
  {
   "cell_type": "markdown",
   "metadata": {},
   "source": [
    "### Draw A Straight Line Pointing North-East"
   ]
  },
  {
   "cell_type": "code",
   "execution_count": null,
   "metadata": {},
   "outputs": [],
   "source": [
    "from mobilechelonian import Turtle\n",
    "\n",
    "turtle = Turtle()\n",
    "turtle.speed(2)\n",
    "turtle.left(45)\n",
    "turtle.forward(100)"
   ]
  },
  {
   "cell_type": "markdown",
   "metadata": {},
   "source": [
    "### Draw A Square"
   ]
  },
  {
   "cell_type": "code",
   "execution_count": null,
   "metadata": {},
   "outputs": [],
   "source": [
    "from mobilechelonian import Turtle\n",
    "\n",
    "turtle = Turtle()\n",
    "turtle.speed(5)\n",
    "turtle.forward(100)\n",
    "turtle.left(90)\n",
    "turtle.forward(100)\n",
    "turtle.left(90)\n",
    "turtle.forward(100)\n",
    "turtle.left(90)\n",
    "turtle.forward(100)\n",
    "turtle.left(90)"
   ]
  },
  {
   "cell_type": "markdown",
   "metadata": {},
   "source": [
    "### Draw A Centered Square"
   ]
  },
  {
   "cell_type": "code",
   "execution_count": null,
   "metadata": {},
   "outputs": [],
   "source": [
    "from mobilechelonian import Turtle\n",
    "\n",
    "turtle = Turtle()\n",
    "turtle.speed(5)\n",
    "\n",
    "# Get to top left\n",
    "turtle.penup()\n",
    "turtle.forward(50)\n",
    "turtle.left(90)\n",
    "turtle.forward(50)\n",
    "turtle.left(90)\n",
    "turtle.pendown()\n",
    "\n",
    "# Draw square\n",
    "turtle.forward(100)\n",
    "turtle.left(90)\n",
    "turtle.forward(100)\n",
    "turtle.left(90)\n",
    "turtle.forward(100)\n",
    "turtle.left(90)\n",
    "turtle.forward(100)\n",
    "turtle.left(90)\n",
    "\n",
    "turtle.penup()\n",
    "turtle.setposition(200, 200)"
   ]
  },
  {
   "cell_type": "markdown",
   "metadata": {},
   "source": [
    "<a id='section7'></a>\n",
    "## 7. Grid"
   ]
  },
  {
   "cell_type": "code",
   "execution_count": null,
   "metadata": {},
   "outputs": [],
   "source": [
    "def marker(x, y, turtle, size):\n",
    "    \"\"\"\n",
    "    (x, y, Turtle, size) -> None\n",
    "    Draw a square of specified size at coordinate (x,y)\n",
    "    \"\"\"\n",
    "    turtle.setposition(x+size, y)  \n",
    "    turtle.setposition(x+size, y-size)\n",
    "    turtle.setposition(x, y-size)\n",
    "    turtle.setposition(x, y)"
   ]
  },
  {
   "cell_type": "code",
   "execution_count": null,
   "metadata": {},
   "outputs": [],
   "source": [
    "from mobilechelonian import Turtle\n",
    "\n",
    "turtle = Turtle()\n",
    "turtle.speed(10)\n",
    "\n",
    "for x in range(50, 351, 50):\n",
    "    for y in range(50, 351, 50):\n",
    "        turtle.penup()\n",
    "        turtle.setposition(x, y)\n",
    "        turtle.pendown()\n",
    "        marker(x, y, turtle, 20)"
   ]
  },
  {
   "cell_type": "markdown",
   "metadata": {},
   "source": [
    "<a id='section8'></a>\n",
    "## 8. Breakout Session 3\n",
    "Using what you learned in the previous section, create the grid pattern in the image below.\n",
    "<br>\n",
    "<img src=\"images/breakout_3.png\" alt=\"drawing\" width=\"300\"/>\n",
    "<br>\n",
    "You should use the previously function `marker(x, y, turtle, size)` below. The function `marker` takes `x` and `y` coodinates, a `turtle` object and a `size`. The `size` controls the size of the box."
   ]
  },
  {
   "cell_type": "code",
   "execution_count": null,
   "metadata": {},
   "outputs": [],
   "source": [
    "def marker(x, y, turtle, size):\n",
    "    \"\"\"\n",
    "    (x, y, Turtle, size) -> None\n",
    "    Draw a square of specified size at coordinate (x,y)\n",
    "    \"\"\"\n",
    "    turtle.setposition(x+size, y)  \n",
    "    turtle.setposition(x+size, y-size)\n",
    "    turtle.setposition(x, y-size)\n",
    "    turtle.setposition(x, y)"
   ]
  },
  {
   "cell_type": "markdown",
   "metadata": {},
   "source": [
    "Using the starter code below, you must:\n",
    "1. Fill in the `x` and `y` `for` loops to create a grid with: \n",
    " - `x = 100, 150, 200, 250, 300`\n",
    " - `y = 100, 150, 200, 250, 300`\n",
    "2. Add an additional `for` loop to create three boxes of sizes `10`, `20`, and `30` at each `(x, y)` grid position."
   ]
  },
  {
   "cell_type": "code",
   "execution_count": null,
   "metadata": {},
   "outputs": [],
   "source": [
    "from mobilechelonian import Turtle\n",
    "\n",
    "turtle = Turtle()\n",
    "turtle.speed(5)\n",
    "\n",
    "#insert loops here"
   ]
  },
  {
   "cell_type": "markdown",
   "metadata": {},
   "source": [
    "<a id='section9'></a>\n",
    "## 9. Advanced Turtles\n",
    "Looking for another challenge? Create a function `draw_polygon(x, y, num_sides, side_length)` that draws a polygon at `(x, y)`. "
   ]
  },
  {
   "cell_type": "code",
   "execution_count": null,
   "metadata": {},
   "outputs": [],
   "source": [
    "from mobilechelonian import Turtle\n",
    "\n",
    "def draw_polygon(num_sides, side_length, x=200, y=200):\n",
    "    \n",
    "    \"\"\"\n",
    "    (x, y, num_sides, side_length) -> None\n",
    "    Draw a polygon with given number of sides, side length and origin.\n",
    "    \"\"\"\n",
    "    # Intialize turtle\n",
    "        \n",
    "    \n",
    "    # Calculate iterior angle at each vertex\n",
    "        \n",
    "    \n",
    "    # Loop through vertices\n",
    "    ..."
   ]
  },
  {
   "cell_type": "markdown",
   "metadata": {},
   "source": [
    "### Test"
   ]
  },
  {
   "cell_type": "code",
   "execution_count": null,
   "metadata": {},
   "outputs": [],
   "source": [
    "draw_polygon(num_sides=6, side_length=30, x=100, y=150)"
   ]
  }
 ],
 "metadata": {
  "kernelspec": {
   "display_name": "Python 3 (ipykernel)",
   "language": "python",
   "name": "python3"
  },
  "language_info": {
   "codemirror_mode": {
    "name": "ipython",
    "version": 3
   },
   "file_extension": ".py",
   "mimetype": "text/x-python",
   "name": "python",
   "nbconvert_exporter": "python",
   "pygments_lexer": "ipython3",
   "version": "3.9.7"
  }
 },
 "nbformat": 4,
 "nbformat_minor": 1
}
