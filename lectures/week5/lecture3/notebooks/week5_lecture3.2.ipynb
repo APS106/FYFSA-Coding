{
 "cells": [
  {
   "cell_type": "markdown",
   "metadata": {},
   "source": [
    "# APS106 Lecture Notes\n",
    "# Advanced Functions and Aliasing\n",
    "\n",
    "\n",
    "### Lecture Structure\n",
    "1. [More on Mutability and Aliasing](#section1)\n",
    "2. [Default Function Values](#section2)"
   ]
  },
  {
   "cell_type": "markdown",
   "metadata": {},
   "source": [
    " <a id='section1'></a>\n",
    "\n",
    "## More on Mutability and Aliasing\n",
    "\n",
    "Back when we first talked about lists, we introduced aliasing. We looked at some code like this."
   ]
  },
  {
   "cell_type": "code",
   "execution_count": null,
   "metadata": {},
   "outputs": [],
   "source": [
    "lst1 = [11, 12, 13, 14, 15, 16, 17]"
   ]
  },
  {
   "cell_type": "markdown",
   "metadata": {},
   "source": [
    "In memory we have:\n",
    "![lst1](images/alias_list1.png)\n",
    "\n",
    "You might not be able to see these images when you download on your own - watch lecture recording or try JupyterHub"
   ]
  },
  {
   "cell_type": "code",
   "execution_count": null,
   "metadata": {},
   "outputs": [],
   "source": [
    "lst2 = lst1"
   ]
  },
  {
   "cell_type": "markdown",
   "metadata": {},
   "source": [
    "![lst1](images/alias_list2.png)"
   ]
  },
  {
   "cell_type": "code",
   "execution_count": null,
   "metadata": {},
   "outputs": [],
   "source": [
    "lst1[-1] = 18\n",
    "print(lst2)"
   ]
  },
  {
   "cell_type": "markdown",
   "metadata": {},
   "source": [
    "![lst1](images/alias_list_change.png)"
   ]
  },
  {
   "cell_type": "code",
   "execution_count": null,
   "metadata": {},
   "outputs": [],
   "source": [
    "classes = ['chem', 'bio', 'cs', 'eng']\n",
    "new_classes = classes\n",
    "new_classes[1] = 'phy'\n",
    "print(classes)"
   ]
  },
  {
   "cell_type": "markdown",
   "metadata": {},
   "source": [
    "In the first example `lst2` and `lst1` are aliases: references to the same object. And so when we change and element of lst1 the corresponding element in `lst2` changes because they are really the same list! The same thing happens for `classes` and `new_classes`. (See Section 8.5 of your text to review aliasing.)\n",
    "\n",
    "### Aliasing and Function Calls\n",
    "\n",
    "When a function in called in Python, ***a reference to the parameter*** is passed. So if we pass a list into a function, it is a reference to that list. \n",
    "\n",
    "If we pass an immutable object into a function, like an int, then a change in the function makes the reference point someplace else and so the change inside the function is not \"seen\" outside the function."
   ]
  },
  {
   "cell_type": "code",
   "execution_count": null,
   "metadata": {},
   "outputs": [],
   "source": [
    "def f(y):  #this function returns double the input\n",
    "    y *= 2 # this line changes the object that x references\n",
    "    return y\n",
    "\n",
    "x = 1\n",
    "x_new = f(x)\n",
    "print(\"x =\", x, \"\\tx_new =\", x_new)"
   ]
  },
  {
   "cell_type": "markdown",
   "metadata": {},
   "source": [
    "![fx](images/alias_f_x.png)"
   ]
  },
  {
   "cell_type": "markdown",
   "metadata": {},
   "source": [
    "The same thing happens for a list, if we reassign the reference inside the function."
   ]
  },
  {
   "cell_type": "code",
   "execution_count": null,
   "metadata": {},
   "outputs": [],
   "source": [
    "def g(y):\n",
    "    #y[0] = 'a'\n",
    "    y = ['a','b', 'c']   #what if I mutated y instead of reassigning a new list?\n",
    "    return y\n",
    "\n",
    "y = [1,2,3]\n",
    "y_new = g(y)\n",
    "print(\"y =\", y, \"\\ty_new =\", y_new)"
   ]
  },
  {
   "cell_type": "markdown",
   "metadata": {},
   "source": [
    "![lists](images/alias_f_list.png)"
   ]
  },
  {
   "cell_type": "markdown",
   "metadata": {},
   "source": [
    "Q: What happens if we pass a mutable object and we change the contents of that object? That is, if we do not change the reference but the thing that the reference points to? \n",
    "\n",
    "Since Python passes in reference, the variable inside the function and the variable outside the function are references to the same object. *They are aliases!* If we make a change in the function, it is reflected outside! "
   ]
  },
  {
   "cell_type": "code",
   "execution_count": null,
   "metadata": {},
   "outputs": [],
   "source": [
    "def replace_last(lst):    #notice it has no return statement!\n",
    "    lst[-1] = 18\n",
    "\n",
    "lst1 = [11, 12, 13, 14, 15, 16, 17]\n",
    "replace_last(lst1)\n",
    "print(lst1)"
   ]
  },
  {
   "cell_type": "markdown",
   "metadata": {},
   "source": [
    "![replace](images/alias_f_replace.png)"
   ]
  },
  {
   "cell_type": "code",
   "execution_count": null,
   "metadata": {},
   "outputs": [],
   "source": [
    "def zero(some_list):\n",
    "    '''\n",
    "    (list)-> None \n",
    "    changes all elements of some_list to zero\n",
    "    '''\n",
    "    \n",
    "    new_list = some_list #what can we do here to avoid aliasing?\n",
    "    for i in range(len(some_list)):\n",
    "        some_list[i] = 0\n",
    "\n",
    "my_list = [0, 1, 2, 3, 4]\n",
    "print(\"before: \", my_list)\n",
    "zero(my_list)\n",
    "print(\"after: \", my_list)"
   ]
  },
  {
   "cell_type": "markdown",
   "metadata": {},
   "source": [
    " <a id='section2'></a>\n",
    "## Default Function Values\n",
    "\n",
    "You've seen that functions like `range` and `print` can have parameters that take on default values if you do not specify them."
   ]
  },
  {
   "cell_type": "code",
   "execution_count": null,
   "metadata": {},
   "outputs": [],
   "source": [
    "for i in range(0,3):\n",
    "    print(i)\n",
    "print()           #what does this line do?\n",
    "\n",
    "for i in range(3): # the starting value is 0 by default\n",
    "    print(i)"
   ]
  },
  {
   "cell_type": "markdown",
   "metadata": {},
   "source": [
    "Let's explore the `print` function."
   ]
  },
  {
   "cell_type": "code",
   "execution_count": null,
   "metadata": {},
   "outputs": [],
   "source": [
    "help(print)"
   ]
  },
  {
   "cell_type": "markdown",
   "metadata": {},
   "source": [
    "There are four optional arguments. Let's play with them."
   ]
  },
  {
   "cell_type": "code",
   "execution_count": null,
   "metadata": {},
   "outputs": [],
   "source": [
    "print(\"123\")\n",
    "print(\"456\")"
   ]
  },
  {
   "cell_type": "code",
   "execution_count": null,
   "metadata": {},
   "outputs": [],
   "source": [
    "print(1,2,3)\n",
    "print(1,2,3, sep=\"..\", end=\"!\")\n",
    "print(\"not next line\")  "
   ]
  },
  {
   "cell_type": "code",
   "execution_count": null,
   "metadata": {},
   "outputs": [],
   "source": [
    "print(1,2,3, sep=\"PROGRAMMING\")"
   ]
  },
  {
   "cell_type": "markdown",
   "metadata": {},
   "source": [
    "You can use default parameters in your own functions. \n",
    "\n",
    "First, here's is a function without defaults."
   ]
  },
  {
   "cell_type": "code",
   "execution_count": null,
   "metadata": {},
   "outputs": [],
   "source": [
    "def every_nth(L, n):\n",
    "    '''\n",
    "    Takes in list L, returns every n elements from L\n",
    "    '''\n",
    "    result = []\n",
    "    for i in range(0, len(L), n):\n",
    "        result.append(L[i])\n",
    "    return result\n",
    "\n",
    "print(every_nth([1, 2, 3, 4, 5, 6], 1))  #what happens if I don't pass the second argument?\n",
    "print(every_nth([1, 2, 3, 4, 5, 6], 3))"
   ]
  },
  {
   "cell_type": "markdown",
   "metadata": {},
   "source": [
    "We can create a default parameter, pretty much the way you would expect."
   ]
  },
  {
   "cell_type": "code",
   "execution_count": null,
   "metadata": {},
   "outputs": [],
   "source": [
    "def every_nth(L, n = 1):\n",
    "    result = []\n",
    "    for i in range(0, len(L), n):\n",
    "        result.append(L[i])\n",
    "    return result\n",
    "\n",
    "print(every_nth([1, 2, 3, 4, 5, 6], 2))\n",
    "print(every_nth([1, 2, 3, 4, 5, 6], 3))\n",
    "print(every_nth([1, 2, 3, 4, 5, 6])) #don't need to pass 2nd argument because default exists"
   ]
  },
  {
   "cell_type": "markdown",
   "metadata": {},
   "source": [
    "How about modifying the code to create a starting index that is 0 by default?"
   ]
  },
  {
   "cell_type": "code",
   "execution_count": null,
   "metadata": {},
   "outputs": [],
   "source": [
    "def every_nth(L, start = 0, n = 1):\n",
    "    result = []\n",
    "    for i in range(start, len(L), n):\n",
    "        result.append(L[i])\n",
    "    return result\n",
    "\n",
    "print(every_nth([1, 2, 3, 4, 5, 6], 2))\n",
    "print(every_nth([1, 2, 3, 4, 5, 6], 3, 2))\n",
    "print(every_nth([1, 2, 3, 4, 5, 6], n = 2, start = 3))\n"
   ]
  },
  {
   "cell_type": "markdown",
   "metadata": {},
   "source": [
    "One more example."
   ]
  },
  {
   "cell_type": "code",
   "execution_count": null,
   "metadata": {},
   "outputs": [],
   "source": [
    "def make_greeting(title, name, surname, formal=True):\n",
    "    if formal:\n",
    "        return \"Hello \" + title + \" \" + surname\n",
    "\n",
    "    return \"Hello \" + name\n",
    "\n",
    "print(make_greeting(\"Mr.\", \"John\", \"Smith\"))\n",
    "print(make_greeting(\"Mr.\", \"John\", \"Smith\", False))"
   ]
  },
  {
   "cell_type": "markdown",
   "metadata": {},
   "source": [
    "## Multiple Return Values\n",
    "\n",
    "We already saw this last week but here's a quick reminder that you can use tuple packing and unpacking to return multiple values from a function."
   ]
  },
  {
   "cell_type": "code",
   "execution_count": null,
   "metadata": {},
   "outputs": [],
   "source": [
    "import math\n",
    "\n",
    "def areaCircumference(radius):\n",
    "    \"\"\" (float)->(float, float)\n",
    "    Return (circumference, area) of a circle of radius r \n",
    "    \"\"\"\n",
    "\n",
    "    circumference = 2 * math.pi * radius\n",
    "    area = math.pi * radius * radius\n",
    "    return circumference, area   #what type of variable is being returned?\n",
    "\n",
    "package = areaCircumference(4)\n",
    "print(package)   #what type is package?\n",
    "print(type(package))\n",
    "circumference, area = areaCircumference(4)\n",
    "print(circumference)\n",
    "print(area)"
   ]
  },
  {
   "cell_type": "markdown",
   "metadata": {},
   "source": [
    "\n",
    "<div class=\"alert alert-block alert-info\">\n",
    "<big><b>This Lecture: Containers and Advanced Functions</b></big>\n",
    "<ul>  \n",
    "    <li>Inverting dictionaries</li>\n",
    "    <li>Aliases and function calls</li>\n",
    "    <li>Default parameter values</li>\n",
    "    <li>Multiple return values</li>\n",
    "</div>"
   ]
  },
  {
   "cell_type": "code",
   "execution_count": null,
   "metadata": {},
   "outputs": [],
   "source": []
  }
 ],
 "metadata": {
  "kernelspec": {
   "display_name": "Python 3 (ipykernel)",
   "language": "python",
   "name": "python3"
  },
  "language_info": {
   "codemirror_mode": {
    "name": "ipython",
    "version": 3
   },
   "file_extension": ".py",
   "mimetype": "text/x-python",
   "name": "python",
   "nbconvert_exporter": "python",
   "pygments_lexer": "ipython3",
   "version": "3.10.9"
  }
 },
 "nbformat": 4,
 "nbformat_minor": 1
}
