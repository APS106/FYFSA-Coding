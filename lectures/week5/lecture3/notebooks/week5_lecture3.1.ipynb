{
 "cells": [
  {
   "cell_type": "markdown",
   "metadata": {
    "collapsed": true
   },
   "source": [
    "# APS106 - Fundamentals of Computer Programming\n",
    "## dictionaries\n",
    "\n",
    "### Lecture Structure\n",
    "1. [Dictionaries](#section1)\n",
    "2. [Dictionary Operations](#section2)\n",
    "3. [Dictionary Methods](#section3)\n",
    "4. [Breakout Session 1](#section4)\n",
    "5. [Iterating](#section5)\n",
    "6. [Try at home!](#section6)\n",
    "7. [Dictionaries as Data Structures](#section7)"
   ]
  },
  {
   "cell_type": "markdown",
   "metadata": {},
   "source": [
    "<a id='section1'></a>\n",
    "## 1. Dictionaries\n",
    "We can store student grades."
   ]
  },
  {
   "cell_type": "code",
   "execution_count": null,
   "metadata": {},
   "outputs": [],
   "source": [
    "grades = {'Tina': 'A+', 'Brad': 'C-'}\n",
    "grades"
   ]
  },
  {
   "cell_type": "markdown",
   "metadata": {},
   "source": [
    "Use `tuples` are keys."
   ]
  },
  {
   "cell_type": "code",
   "execution_count": null,
   "metadata": {},
   "outputs": [],
   "source": [
    "directions = {(1, 0): 'East',\n",
    "              (0, 1): 'North',\n",
    "              (-1, 0): 'West',\n",
    "              (0, -1): 'South'}\n",
    "directions"
   ]
  },
  {
   "cell_type": "markdown",
   "metadata": {},
   "source": [
    "We can even place dictionaries within dictionaries."
   ]
  },
  {
   "cell_type": "code",
   "execution_count": null,
   "metadata": {},
   "outputs": [],
   "source": [
    "users = {'0323442785': {'first name': 'Sebastian',\n",
    "                        'last name': 'Goodfellow',\n",
    "                        'address': '555 Code Street',\n",
    "                        'phone number': '555-7654'},\n",
    "         '9764327492': {'first name': 'Ben',\n",
    "                        'last name': 'Kinsella',\n",
    "                        'address': '555 Python Street',\n",
    "                        'phone number': '555-2345'}\n",
    "        }\n",
    "print(users)"
   ]
  },
  {
   "cell_type": "markdown",
   "metadata": {},
   "source": [
    "Now, this isn't the easiest `print` output to read. I have created a function called `dict_print` to allow you to generate nicer print outputs for certain dictionaties. For now, don't worry about what a `JSON` is."
   ]
  },
  {
   "cell_type": "code",
   "execution_count": null,
   "metadata": {},
   "outputs": [],
   "source": [
    "from utils import dict_print\n",
    "dict_print(users)"
   ]
  },
  {
   "cell_type": "markdown",
   "metadata": {},
   "source": [
    "<a id='section2'></a>\n",
    "## 2. Dictionary Operations\n",
    "The table below shows some common `dictionary` operations.\n",
    "\n",
    "Operation|Description|Example code\n",
    "---------|-----------|------------\n",
    "my_dict[key]|Indexing operation – retrieves the value associated with key.|john_grade = my_dict['John']\n",
    "my_dict[key] = value|Adds an entry if the entry does not exist, else modifies the existing entry.|\tmy_dict['John'] = 'B+'\n",
    "del my_dict[key]|Deletes the key:value from a dict.|del my_dict['John']\n",
    "key in my_dict|Tests for existence of key in my_dict|if 'John' in my_dict:   ..."
   ]
  },
  {
   "cell_type": "markdown",
   "metadata": {},
   "source": [
    "Let's start with the following `dictionary`."
   ]
  },
  {
   "cell_type": "code",
   "execution_count": null,
   "metadata": {},
   "outputs": [],
   "source": [
    "grades = {'Tina': 'A+', 'Omid': 'A-', 'Lenny': 'B-', 'Maggie': 'C+'}\n",
    "grades"
   ]
  },
  {
   "cell_type": "markdown",
   "metadata": {},
   "source": [
    "#### Indexing\n",
    "Retrieve the `value` associated with a `key`.\n",
    "\n",
    "Retrieve the `value` associated with the `key` `'Omid'`."
   ]
  },
  {
   "cell_type": "code",
   "execution_count": null,
   "metadata": {},
   "outputs": [],
   "source": [
    "grades['Omid']"
   ]
  },
  {
   "cell_type": "markdown",
   "metadata": {},
   "source": [
    "Retrieve the `value` associated with the `key` `'Maggie'`."
   ]
  },
  {
   "cell_type": "code",
   "execution_count": null,
   "metadata": {},
   "outputs": [],
   "source": [
    "grades['Maggie']"
   ]
  },
  {
   "cell_type": "markdown",
   "metadata": {},
   "source": [
    "Retrieve the `value` associated with the `key` `'Ben'`."
   ]
  },
  {
   "cell_type": "code",
   "execution_count": null,
   "metadata": {},
   "outputs": [],
   "source": [
    "grades['Ben']"
   ]
  },
  {
   "cell_type": "markdown",
   "metadata": {},
   "source": [
    "#### Add or Modify Entry\n",
    "Adds an entry if the entry does not exist, otherwise it modifies the existing entry.\n",
    "\n",
    "Modify the `value` associated with the `key` `'Lenny'`."
   ]
  },
  {
   "cell_type": "code",
   "execution_count": null,
   "metadata": {},
   "outputs": [],
   "source": [
    "grades['Lenny'] = 'B'\n",
    "print(grades)"
   ]
  },
  {
   "cell_type": "markdown",
   "metadata": {},
   "source": [
    "Add a `key: value` pair for `'Ben'`."
   ]
  },
  {
   "cell_type": "code",
   "execution_count": null,
   "metadata": {},
   "outputs": [],
   "source": [
    "grades['Ben'] = 'F'\n",
    "print(grades)"
   ]
  },
  {
   "cell_type": "markdown",
   "metadata": {},
   "source": [
    "#### Delete Entry\n",
    "Removes the key and it’s value from a dictionary.\n",
    "\n",
    "It turns out `'Ben'` didn't take out course so we need to remove him and his grade from the `dictionary`."
   ]
  },
  {
   "cell_type": "code",
   "execution_count": null,
   "metadata": {},
   "outputs": [],
   "source": [
    "del grades['Ben']\n",
    "print(grades)"
   ]
  },
  {
   "cell_type": "markdown",
   "metadata": {},
   "source": [
    "#### Check for `key`\n",
    "Tests for existence of key in the dictionary (it does not check the values).\n",
    "\n",
    "Check to see if `'Tina'` is in the `dictionary`."
   ]
  },
  {
   "cell_type": "code",
   "execution_count": null,
   "metadata": {},
   "outputs": [],
   "source": [
    "'Tina' in grades"
   ]
  },
  {
   "cell_type": "markdown",
   "metadata": {},
   "source": [
    "Check to see if `'Ben'` is in the `dictionary`."
   ]
  },
  {
   "cell_type": "code",
   "execution_count": null,
   "metadata": {},
   "outputs": [],
   "source": [
    "'Ben' in grades"
   ]
  },
  {
   "cell_type": "markdown",
   "metadata": {},
   "source": [
    "Lastly, let's check to see if the grade `'A+'` is in the `dictionary`."
   ]
  },
  {
   "cell_type": "code",
   "execution_count": null,
   "metadata": {},
   "outputs": [],
   "source": [
    "'A+' in grades"
   ]
  },
  {
   "cell_type": "markdown",
   "metadata": {},
   "source": [
    "#### Indexing Nested Dictionaries\n",
    "Dictionaries can, of course, be nested."
   ]
  },
  {
   "cell_type": "code",
   "execution_count": null,
   "metadata": {
    "scrolled": true
   },
   "outputs": [],
   "source": [
    "students = {}\n",
    "print(students)\n",
    "students[\"John\"] = {\"Grade\": \"A+\",\"StudentID\": 22321}\n",
    "print(students)"
   ]
  },
  {
   "cell_type": "markdown",
   "metadata": {},
   "source": [
    "- The variable `students` is first created as an empty dictionary. \n",
    "- Then a new entry is added with the key `'John'` and the value associated with `John` is another dictionary. \n",
    "- Indexing operations can be applied to the nested dictionary by using consecutive sets of brackets `[][][][]` just like for nested lists. "
   ]
  },
  {
   "cell_type": "code",
   "execution_count": null,
   "metadata": {},
   "outputs": [],
   "source": [
    "print(students)\n",
    "print(students[\"John\"])\n",
    "print(students[\"John\"][\"Grade\"])"
   ]
  },
  {
   "cell_type": "markdown",
   "metadata": {},
   "source": [
    "#### Quick Aside on { } and Sets."
   ]
  },
  {
   "cell_type": "code",
   "execution_count": null,
   "metadata": {},
   "outputs": [],
   "source": [
    "data = {'Ben': 'F'}\n",
    "print(type(data))"
   ]
  },
  {
   "cell_type": "code",
   "execution_count": null,
   "metadata": {},
   "outputs": [],
   "source": [
    "data = {'ford', 'tesla', 'bmw'}\n",
    "print(type(data))"
   ]
  },
  {
   "cell_type": "code",
   "execution_count": null,
   "metadata": {},
   "outputs": [],
   "source": [
    "data = {}\n",
    "print(type(data))\n",
    "data = set()\n",
    "print(type(data))"
   ]
  },
  {
   "cell_type": "markdown",
   "metadata": {},
   "source": [
    "<a id='section3'></a>\n",
    "## 3. Dictionary Methods\n",
    "Like `lists`, `tuples`, and `sets`, `dictionaries` are objects and have methods that can be applied on them."
   ]
  },
  {
   "cell_type": "code",
   "execution_count": null,
   "metadata": {},
   "outputs": [],
   "source": [
    "help(dict)"
   ]
  },
  {
   "cell_type": "markdown",
   "metadata": {},
   "source": [
    "Let's look at some examples.\n",
    "\n",
    "### `.keys()`\n",
    "Returns a set-like object containing all keys found in a given dictionary."
   ]
  },
  {
   "cell_type": "code",
   "execution_count": null,
   "metadata": {},
   "outputs": [],
   "source": [
    "friends = {\"Bob\": 32, \"Jane\": 42, 'Juan': 38}\n",
    "print(friends)"
   ]
  },
  {
   "cell_type": "code",
   "execution_count": null,
   "metadata": {},
   "outputs": [],
   "source": [
    "friends.keys()"
   ]
  },
  {
   "cell_type": "markdown",
   "metadata": {},
   "source": [
    "### `.values()`\n",
    "Returns a list-like object containing all values found in a given dictionary."
   ]
  },
  {
   "cell_type": "code",
   "execution_count": null,
   "metadata": {},
   "outputs": [],
   "source": [
    "friends = {\"Bob\": 32, \"Jane\": 42, 'Juan': 38}\n",
    "print(friends)"
   ]
  },
  {
   "cell_type": "code",
   "execution_count": null,
   "metadata": {},
   "outputs": [],
   "source": [
    "friends.values()"
   ]
  },
  {
   "cell_type": "code",
   "execution_count": null,
   "metadata": {},
   "outputs": [],
   "source": [
    "values = friends.values()\n",
    "print(values, type(values))  #notice this is not exactly a list\n",
    "for element in values:  #but you can iterate through it like a list!\n",
    "    print(element)"
   ]
  },
  {
   "cell_type": "markdown",
   "metadata": {},
   "source": [
    "### `.items()`\n",
    "Returns a list-like object containing tuples of `key-value-pairs`."
   ]
  },
  {
   "cell_type": "code",
   "execution_count": null,
   "metadata": {},
   "outputs": [],
   "source": [
    "friends = {\"Bob\": 32, \"Jane\": 42, 'Juan': 38}\n",
    "print(friends)"
   ]
  },
  {
   "cell_type": "code",
   "execution_count": null,
   "metadata": {},
   "outputs": [],
   "source": [
    "friends.items()"
   ]
  },
  {
   "cell_type": "markdown",
   "metadata": {},
   "source": [
    "### `.clear()`\n",
    "Remove all the elements from a dictionary."
   ]
  },
  {
   "cell_type": "code",
   "execution_count": null,
   "metadata": {},
   "outputs": [],
   "source": [
    "friends = {\"Bob\": 32, \"Jane\": 42, 'Juan': 38}\n",
    "print(friends)"
   ]
  },
  {
   "cell_type": "code",
   "execution_count": null,
   "metadata": {},
   "outputs": [],
   "source": [
    "friends.clear()\n",
    "print(friends)"
   ]
  },
  {
   "cell_type": "markdown",
   "metadata": {},
   "source": [
    "### `.get()`\n",
    "Returns the value of the key entry from the dict. "
   ]
  },
  {
   "cell_type": "code",
   "execution_count": null,
   "metadata": {},
   "outputs": [],
   "source": [
    "friends = {\"Bob\": 32, \"Jane\": 42, 'Juan': 38}\n",
    "print(friends)"
   ]
  },
  {
   "cell_type": "markdown",
   "metadata": {},
   "source": [
    "Let's try getting the `value` for `'Jane'`."
   ]
  },
  {
   "cell_type": "code",
   "execution_count": null,
   "metadata": {},
   "outputs": [],
   "source": [
    "print(friends.get('Jane'))\n",
    "print(friends['Jane'])"
   ]
  },
  {
   "cell_type": "markdown",
   "metadata": {},
   "source": [
    "Now, let's try getting the `value` for a `key` that doesn't exist."
   ]
  },
  {
   "cell_type": "code",
   "execution_count": null,
   "metadata": {},
   "outputs": [],
   "source": [
    "print(friends.get('Ava'))"
   ]
  },
  {
   "cell_type": "markdown",
   "metadata": {},
   "source": [
    "If we want to specify what gets returned if the `key` doesn't exist, we can include a second argument."
   ]
  },
  {
   "cell_type": "code",
   "execution_count": null,
   "metadata": {},
   "outputs": [],
   "source": [
    "friends.get('Ava', 'N/A')"
   ]
  },
  {
   "cell_type": "markdown",
   "metadata": {},
   "source": [
    "`.get` is a lot like `dict['key']` but it will handle the key not existing without throwing an error."
   ]
  },
  {
   "cell_type": "code",
   "execution_count": null,
   "metadata": {},
   "outputs": [],
   "source": [
    "friends['Ava']"
   ]
  },
  {
   "cell_type": "markdown",
   "metadata": {},
   "source": [
    "### `.update()`\n",
    "Merges a dictionary `dict_1` with another dictionary `dict_2`. Existing entries in `dict_1` are overwritten if the same keys exist in `dict_2`."
   ]
  },
  {
   "cell_type": "code",
   "execution_count": null,
   "metadata": {},
   "outputs": [],
   "source": [
    "dict_1 = {\"Bob\": 32, \"Jane\": 42, 'Juan': 38}\n",
    "dict_2 = {'Seb': 36, 'Ben': 30}\n",
    "print(dict_1)\n",
    "print(dict_2)"
   ]
  },
  {
   "cell_type": "code",
   "execution_count": null,
   "metadata": {},
   "outputs": [],
   "source": [
    "dict_1.update(dict_2)\n",
    "print(dict_1)"
   ]
  },
  {
   "cell_type": "markdown",
   "metadata": {},
   "source": [
    "Let's try again with a the key `Seb` being in each dictionary."
   ]
  },
  {
   "cell_type": "code",
   "execution_count": null,
   "metadata": {},
   "outputs": [],
   "source": [
    "dict_1 = {\"Bob\": 32, \"Jane\": 42, 'Juan': 38, 'Seb': 25}\n",
    "dict_2 = {'Seb': 36, 'Ben': 30}\n",
    "print(dict_1)\n",
    "print(dict_2)"
   ]
  },
  {
   "cell_type": "code",
   "execution_count": null,
   "metadata": {},
   "outputs": [],
   "source": [
    "dict_1.update(dict_2)\n",
    "print(dict_1)"
   ]
  },
  {
   "cell_type": "markdown",
   "metadata": {},
   "source": [
    "### `.pop()`\n",
    "Removes and returns the `value` corresponding to the specified `key` from the dictionary. If `key` does not exist, then `None` or a user-specified default is returned."
   ]
  },
  {
   "cell_type": "code",
   "execution_count": null,
   "metadata": {},
   "outputs": [],
   "source": [
    "friends = {\"Bob\": 32, \"Jane\": 42, 'Juan': 38}\n",
    "print(friends)"
   ]
  },
  {
   "cell_type": "code",
   "execution_count": null,
   "metadata": {},
   "outputs": [],
   "source": [
    "val = friends.pop(\"Bob\")\n",
    "print(val)\n",
    "print(friends)"
   ]
  },
  {
   "cell_type": "code",
   "execution_count": null,
   "metadata": {},
   "outputs": [],
   "source": [
    "val2 = friends.pop(\"John\", \"N/A\")\n",
    "print(val2)\n",
    "print(friends)"
   ]
  },
  {
   "cell_type": "markdown",
   "metadata": {},
   "source": [
    "<a id='section4'></a>\n",
    "## 4. Breakout Session 1\n",
    "Complete the following exercises.\n",
    "\n",
    "#### Exercise 1\n",
    "Merge two Python `dictionaries` `dict1` and `dict2` into `dict1`."
   ]
  },
  {
   "cell_type": "code",
   "execution_count": null,
   "metadata": {},
   "outputs": [],
   "source": [
    "dict1 = {'Ten': 10, 'Twenty': 20, 'Thirty': 30}\n",
    "dict2 = {'Thirty': 30, 'Fourty': 40, 'Fifty': 50}\n",
    "\n",
    "# Write your code here\n"
   ]
  },
  {
   "cell_type": "markdown",
   "metadata": {},
   "source": [
    "#### Exercise 2\n",
    "Print Mike's Physics midterm grade in `dict3`."
   ]
  },
  {
   "cell_type": "code",
   "execution_count": null,
   "metadata": {
    "scrolled": true
   },
   "outputs": [],
   "source": [
    "dict3 = {\n",
    "    \"class\": {\n",
    "        \"student\": {\n",
    "            \"name\": \"Mike\",\n",
    "            \"marks\": {\n",
    "                \"physics\": {\n",
    "                    \"midterm\": 67, \n",
    "                    \"exam\": 81\n",
    "                },\n",
    "                \"history\": {\n",
    "                    \"midterm\": 56, \n",
    "                    \"exam\": 78\n",
    "                }\n",
    "            }\n",
    "        }\n",
    "    }\n",
    "}\n",
    "\n",
    "# Write your code here\n"
   ]
  },
  {
   "cell_type": "markdown",
   "metadata": {},
   "source": [
    "#### Exercise 3\n",
    "Write a Python program to check if the value 200 exists in the `keys` or `values` of `dict4`."
   ]
  },
  {
   "cell_type": "code",
   "execution_count": null,
   "metadata": {},
   "outputs": [],
   "source": [
    "dict4 = {'a': 100, 'b': 200, 'c': 300}\n",
    "\n",
    "# Write your code here\n",
    "if 200 in dict4.keys() or 200 in dict4.values():\n",
    "    print('200 inside')"
   ]
  },
  {
   "cell_type": "markdown",
   "metadata": {},
   "source": [
    "#### Exercise 4\n",
    "Write a program to rename a the `city` key to `location` in the following dictionary."
   ]
  },
  {
   "cell_type": "code",
   "execution_count": null,
   "metadata": {},
   "outputs": [],
   "source": [
    "dict5 = {\n",
    "  \"name\": \"Seb\",\n",
    "  \"age\": 36,\n",
    "  \"salary\": 8000,\n",
    "  \"city\": \"Toronto\"\n",
    "}\n",
    "\n",
    "# Write your code here\n",
    "temp = dict5['city']\n",
    "dict5['location'] = temp\n",
    "del dict5['city']\n",
    "#dict5['location'] = dict5.pop('city')\n",
    "print(dict5)"
   ]
  },
  {
   "cell_type": "markdown",
   "metadata": {},
   "source": [
    "<a id='section5'></a>\n",
    "## 5. Iterating\n",
    "Let's start with a dictionary of employee information."
   ]
  },
  {
   "cell_type": "code",
   "execution_count": null,
   "metadata": {},
   "outputs": [],
   "source": [
    "employees = {\n",
    "    'emp1': {'name': 'John', 'salary': 7500},\n",
    "    'emp2': {'name': 'Emma', 'salary': 8000},\n",
    "    'emp3': {'name': 'Brad', 'salary': 5300},\n",
    "    'emp4': {'name': 'Ava', 'salary': 9870},\n",
    "    'emp5': {'name': 'Qi', 'salary': 2450},\n",
    "    'emp6': {'name': 'Ben', 'salary': 4560},\n",
    "    'emp7': {'name': 'Seb', 'salary': 8900}\n",
    "}"
   ]
  },
  {
   "cell_type": "markdown",
   "metadata": {},
   "source": [
    "### Default: `for key in employees:`\n",
    "The default interation for a dicitonary is over the `keys`."
   ]
  },
  {
   "cell_type": "code",
   "execution_count": null,
   "metadata": {},
   "outputs": [],
   "source": [
    "for employee in employees:\n",
    "    print(employee)"
   ]
  },
  {
   "cell_type": "markdown",
   "metadata": {},
   "source": [
    "### Keys: `for key in employees.key():`\n",
    "If you want to be explicit and write slightly more readable code, you can use the `.keys()` method."
   ]
  },
  {
   "cell_type": "code",
   "execution_count": null,
   "metadata": {},
   "outputs": [],
   "source": [
    "for employee in employees.keys():\n",
    "    print(employee)"
   ]
  },
  {
   "cell_type": "markdown",
   "metadata": {},
   "source": [
    "### Keys: `for value in employees.values():`\n",
    "To iterature through the dictionary values, you can use the `.values()` method."
   ]
  },
  {
   "cell_type": "code",
   "execution_count": null,
   "metadata": {},
   "outputs": [],
   "source": [
    "for employee_info in employees.values():\n",
    "    print(employee_info)"
   ]
  },
  {
   "cell_type": "markdown",
   "metadata": {},
   "source": [
    "### Keys: `for key, value in employees.items():`\n",
    "If you want to iterate through the `keys` and `values` at the same time, you can use the `.items()` method."
   ]
  },
  {
   "cell_type": "code",
   "execution_count": null,
   "metadata": {},
   "outputs": [],
   "source": [
    "for item in employees.items():\n",
    "    print(item)"
   ]
  },
  {
   "cell_type": "markdown",
   "metadata": {},
   "source": [
    "You can see that we get a bunch of `tuples` and from last lecture, we learned that we can unpack them."
   ]
  },
  {
   "cell_type": "code",
   "execution_count": null,
   "metadata": {},
   "outputs": [],
   "source": [
    "for employee, employee_info in employees.items():\n",
    "    print(employee, employee_info)"
   ]
  },
  {
   "cell_type": "markdown",
   "metadata": {},
   "source": [
    "<a id='section6'></a>\n",
    "## 6. Try at home!\n",
    "### `#feelthebern`\n",
    "Below is a picture of Vermont Senator Bernie Sanders at the inauguration of Joe Biden sporting a pair of hand-knit mittens.\n",
    "<br>\n",
    "<img src=\"images/sanders_mittens.jpg\" alt=\"drawing\" width=\"400\"/>\n",
    "<br>\n",
    "We have sourced three tweets from Bernie and have made them available in the file `data.json`. Never seen a `.json` file before? Thats ok, you don't need to know what it is.\n",
    "\n",
    "In the code below, we're importing a `JSON` file containing Bernie's tweets and assigning them to a variable called `tweets`."
   ]
  },
  {
   "cell_type": "code",
   "execution_count": null,
   "metadata": {
    "scrolled": false
   },
   "outputs": [],
   "source": [
    "import json\n",
    "tweets = json.load(open('data.json'))"
   ]
  },
  {
   "cell_type": "markdown",
   "metadata": {},
   "source": [
    "What type of data structure is `tweets`?"
   ]
  },
  {
   "cell_type": "code",
   "execution_count": null,
   "metadata": {},
   "outputs": [],
   "source": [
    "type(tweets)"
   ]
  },
  {
   "cell_type": "markdown",
   "metadata": {},
   "source": [
    "Ok, `tweets` is a list. Let's print its contents."
   ]
  },
  {
   "cell_type": "code",
   "execution_count": null,
   "metadata": {},
   "outputs": [],
   "source": [
    "print(tweets)"
   ]
  },
  {
   "cell_type": "markdown",
   "metadata": {},
   "source": [
    "Hmmm, this is hard to read, let's try using `dict_print()`."
   ]
  },
  {
   "cell_type": "code",
   "execution_count": null,
   "metadata": {},
   "outputs": [],
   "source": [
    "from utils import dict_print\n",
    "dict_print(tweets)"
   ]
  },
  {
   "cell_type": "markdown",
   "metadata": {},
   "source": [
    "`tweets` looks to be a `list` of `dictionaries`. It should look something like this:\n",
    "\n",
    "```python\n",
    "[{tweet1}, {tweet2}, {tweet3}]\n",
    "```\n",
    "\n",
    "We're familiar with these data types. Let's try printing the firtst item in the `list` `tweets`."
   ]
  },
  {
   "cell_type": "code",
   "execution_count": null,
   "metadata": {},
   "outputs": [],
   "source": [
    "dict_print(tweets[0])  #this is helping make it...\n",
    "#print(tweets[0])  #... not look like this"
   ]
  },
  {
   "cell_type": "markdown",
   "metadata": {},
   "source": [
    "This looks like a `dictionary` containing information about one tweet from Bernie. We know that the file we imported contains three tweets, so let's use `len()` to see how many tweets are in the list."
   ]
  },
  {
   "cell_type": "code",
   "execution_count": null,
   "metadata": {},
   "outputs": [],
   "source": [
    "len(tweets)"
   ]
  },
  {
   "cell_type": "markdown",
   "metadata": {},
   "source": [
    "Three! I think we understand what we're dealing with now. Let's see what `keys` are in a tweet `dictionary`."
   ]
  },
  {
   "cell_type": "markdown",
   "metadata": {},
   "source": [
    "### Question 1\n",
    "Write a function that returns the `\"id\"` of the tweet with the highest `\"retweet_count\"` and what that retweet count was.\n",
    "\n",
    "**Example of first `tweet`** `tweets[0]`\n",
    "\n",
    "```python\n",
    "{\n",
    "    \"created_at\": \"Sat Feb 06 22:43:03 +0000 2021\",\n",
    "    \"favorite_count\": 13299,\n",
    "    \"full_text\": \"Why would we want to impeach and convict Donald Trump \\u2013 a president who is now out of office? Because it must be made clear that no president, now or in the future, can lead an insurrection against the government he or she is sworn to protect.\",\n",
    "    \"id\": 1358184460794163202,\n",
    "    \"retweet_count\": 2272,\n",
    "    \"user\": {\n",
    "        \"id\": 216776631,\n",
    "        \"name\": \"Bernie Sanders\"\n",
    "    }\n",
    "}\n",
    "```"
   ]
  },
  {
   "cell_type": "code",
   "execution_count": null,
   "metadata": {},
   "outputs": [],
   "source": [
    "def find_max_retweets(tweets):\n",
    "    \"\"\"\n",
    "    (list(tweet, tweet, tweet, ...)) -> int, int\n",
    "    Returns the \"id\" of the tweet with the highest \"retweet_count\" and what that retweet count was.\n",
    "    \n",
    "    Example:\n",
    "    find_max_retweets([{\"id\": 234, \"retweet_count\": 10}, {\"id\": 467, \"retweet_count\": 3}, {\"id\": 865, \"retweet_count\": 8}])\n",
    "    >>> 234, 10\n",
    "    \"\"\"\n",
    "    max_retweets = 0\n",
    "    tweet_id = None\n",
    "    \n",
    "    for tweet in tweets:\n",
    "        if tweet['retweet_count'] > max_retweets:\n",
    "            max_retweets = tweet['retweet_count']\n",
    "            tweet_id = tweet['id']\n",
    "            \n",
    "    return tweet_id, max_retweets"
   ]
  },
  {
   "cell_type": "markdown",
   "metadata": {},
   "source": [
    "#### Test"
   ]
  },
  {
   "cell_type": "code",
   "execution_count": null,
   "metadata": {},
   "outputs": [],
   "source": [
    "tweet_id, max_retweets = find_max_retweets(tweets)\n",
    "\n",
    "print('tweet id', tweet_id, 'had the most retweets at', max_retweets)"
   ]
  },
  {
   "cell_type": "markdown",
   "metadata": {},
   "source": [
    "<a id='section7'></a>\n",
    "## 7. Dictionaries as Data Structures\n",
    "`Dictionaries` are useful as `\"quick and dirty\"` data structures. \n",
    "\n",
    "For production code that will be used and maintained for a long time it would be better to use `objects` - we'll see those in a few weeks.\n",
    "\n",
    "Below is a dictionary (indexed by a string - the students name), with another `dictionary` as a value, index by strings `'Homework'`, `'Midterm'`, `'Final'` and with elements (of the inner `dictionary` being lists and ints)"
   ]
  },
  {
   "cell_type": "code",
   "execution_count": null,
   "metadata": {},
   "outputs": [],
   "source": [
    "students = {\n",
    "    'John Ponting': {\n",
    "        'Homework': [79, 80, 74],\n",
    "        'Midterm': 85,\n",
    "        'Final': 92\n",
    "    },\n",
    "    'Jacqueline Kallis': {\n",
    "        'Homework': [90, 92, 65],\n",
    "        'Midterm': 87,\n",
    "        'Final': 75\n",
    "    },\n",
    "    'Ricky Bobby': {\n",
    "        'Homework': [50, 52, 78],\n",
    "        'Midterm': 40,\n",
    "        'Final': 65\n",
    "    },\n",
    "}"
   ]
  },
  {
   "cell_type": "markdown",
   "metadata": {},
   "source": [
    "Let's say a students `course_mark` is calculated using the following formula.\n",
    "\n",
    "```python\n",
    "course_mark = (0.1 * averge homework mark) + (0.4 * midterm mark) + (0.5 * final mark)\n",
    "```\n",
    "Let's write some code to calculate the `course_mark` for a student specificed by user input."
   ]
  },
  {
   "cell_type": "code",
   "execution_count": null,
   "metadata": {
    "pycharm": {
     "name": "#%%\n"
    }
   },
   "outputs": [],
   "source": [
    "user_input = ''\n",
    "\n",
    "while user_input != 'exit':    \n",
    "    \n",
    "    user_input = input('Enter student name: ')\n",
    "    \n",
    "    if user_input in students.keys():\n",
    "\n",
    "        # Get values from nested dict\n",
    "        homework = students[user_input]['Homework']\n",
    "        midterm = students[user_input]['Midterm']\n",
    "        final = students[user_input]['Final']\n",
    "\n",
    "        # Compute student course mark \n",
    "        course_mark = (0.1 * sum(homework) / len(homework) + \n",
    "                       0.4 * midterm + \n",
    "                       0.5 * final)\n",
    "\n",
    "        # Print course mark\n",
    "        print(user_input, \"'s final mark is:\", course_mark, '\\n')\n",
    "        \n",
    "    else:\n",
    "        print(user_input, 'is not a student in this course.\\n')\n"
   ]
  },
  {
   "cell_type": "code",
   "execution_count": null,
   "metadata": {},
   "outputs": [],
   "source": []
  }
 ],
 "metadata": {
  "kernelspec": {
   "display_name": "Python 3 (ipykernel)",
   "language": "python",
   "name": "python3"
  },
  "language_info": {
   "codemirror_mode": {
    "name": "ipython",
    "version": 3
   },
   "file_extension": ".py",
   "mimetype": "text/x-python",
   "name": "python",
   "nbconvert_exporter": "python",
   "pygments_lexer": "ipython3",
   "version": "3.10.9"
  }
 },
 "nbformat": 4,
 "nbformat_minor": 1
}
