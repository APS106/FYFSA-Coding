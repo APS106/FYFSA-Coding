{
 "cells": [
  {
   "cell_type": "markdown",
   "metadata": {
    "collapsed": true
   },
   "source": [
    "# APS106 - Fundamentals of Computer Programming\n",
    "## Week 6 | Lecture 1 (6.1) - tuples and sets\n",
    "\n",
    "### This Week\n",
    "| Lecture | Topics | Reading |\n",
    "| --- | --- | --- | \n",
    "| **6.1** | **tuples and sets** | **Section 11** |\n",
    "| 6.2 | dictionaries | Section 11  |\n",
    "\n",
    "### Lecture Structure\n",
    "1. [Tuples](#section1)\n",
    "2. [Tuples Are Immutable](#section2)\n",
    "3. [Breakout Session 1](#section3)\n",
    "4. [Unpacking Tuples](#section4)\n",
    "5. [Tuples as return Values](#section5)\n",
    "6. [Breakout Session 2](#section6)\n",
    "7. [Sets](#section7)"
   ]
  },
  {
   "cell_type": "markdown",
   "metadata": {},
   "source": [
    "<a id='section1'></a>\n",
    "## 1. Tuples\n",
    "### Tuple Assignment"
   ]
  },
  {
   "cell_type": "code",
   "execution_count": null,
   "metadata": {},
   "outputs": [],
   "source": [
    "nums = 1, 2, 3, 4, 5, 6\n",
    "print(nums, type(nums))"
   ]
  },
  {
   "cell_type": "code",
   "execution_count": null,
   "metadata": {},
   "outputs": [],
   "source": [
    "nums = (1, 2, 3, 4, 5, 6)\n",
    "print(nums, type(nums))"
   ]
  },
  {
   "cell_type": "markdown",
   "metadata": {},
   "source": [
    "So, the parentheses are optional but to avoid confusion, it is best to use them.\n",
    "\n",
    "There are however, some cases where you must use parentheses."
   ]
  },
  {
   "cell_type": "code",
   "execution_count": null,
   "metadata": {},
   "outputs": [],
   "source": [
    "name = 'Ben'\n",
    "age = 30\n",
    "phone_number = '555-6283'\n",
    "print(name, age, phone_number)"
   ]
  },
  {
   "cell_type": "markdown",
   "metadata": {},
   "source": [
    "The `print()` function inperprets this as 3 separate variables. So, if we want to print a `tuple` we need to include the parentheses."
   ]
  },
  {
   "cell_type": "code",
   "execution_count": null,
   "metadata": {},
   "outputs": [],
   "source": [
    "print((name, age, phone_number))"
   ]
  },
  {
   "cell_type": "markdown",
   "metadata": {},
   "source": [
    "A tuple with a single element is written as `(x,)` to not be confused with arithmetic operations such as `(4 + 7)`. "
   ]
  },
  {
   "cell_type": "code",
   "execution_count": null,
   "metadata": {},
   "outputs": [],
   "source": [
    "z = ()\n",
    "print(z,type(z))"
   ]
  },
  {
   "cell_type": "code",
   "execution_count": null,
   "metadata": {},
   "outputs": [],
   "source": [
    "x = (1)\n",
    "print(x, type(x))"
   ]
  },
  {
   "cell_type": "code",
   "execution_count": null,
   "metadata": {},
   "outputs": [],
   "source": [
    "y = (1,)\n",
    "print(y, type(y))"
   ]
  },
  {
   "cell_type": "code",
   "execution_count": null,
   "metadata": {},
   "outputs": [],
   "source": [
    "z = (4+7)\n",
    "w = (4+7,)\n",
    "print(z, type(z))\n",
    "print(w, type(w))"
   ]
  },
  {
   "cell_type": "markdown",
   "metadata": {},
   "source": [
    "### Tuple Operations\n",
    "\n",
    "For your reference, here are some common sequence operators that work with `tuples`.\n",
    "\n",
    "| Operation | Result |\n",
    "| --- | --- | \n",
    "| `x in s` | `True` if an item of *s* is equal to *x*, else `False` |\n",
    "| `x not in s` | `False` if an item of *s* is equal to *x*, else `True` |\n",
    "| `s + t` | the concatenation of *s* and *t* |\n",
    "| `s * n or n * s` | equivalent to adding *s* to itself *n* times |\n",
    "| `s[i]` | ith item of *s*, origin 0 |\n",
    "| `s[i:j]` | slice of *s* from *i* to *j* |\n",
    "| `s[i:j:k]` | slice of *s* from *i* to *j* with step *k* |\n",
    "| `len(s)` | length of *s* |\n",
    "| `min(s)` | smallest item of *s* |\n",
    "| `max(s)` | largest item of *s* |\n",
    "| `s.index(x[, i[, j]])` | index of the first occurrence of *x* in *s* (at or after index *i* and before index *j*) |\n",
    "| `s.count(x)` | total number of occurrences of *x* in *s* | "
   ]
  },
  {
   "cell_type": "code",
   "execution_count": null,
   "metadata": {
    "scrolled": true
   },
   "outputs": [],
   "source": [
    "nums = (1, 2, 3, 4, 5, 6, 2)\n",
    "print(nums)"
   ]
  },
  {
   "cell_type": "markdown",
   "metadata": {},
   "source": [
    "Because `tuples` are ordered sequence of data, we can use index operators."
   ]
  },
  {
   "cell_type": "code",
   "execution_count": null,
   "metadata": {},
   "outputs": [],
   "source": [
    "print(nums[0])\n",
    "print(nums[-1])\n",
    "print(nums[0:-1:2])\n",
    "print(max(nums))\n",
    "print(len(nums))\n",
    "print(nums.count(2))"
   ]
  },
  {
   "cell_type": "markdown",
   "metadata": {},
   "source": [
    "Another example using the members of the Beatles."
   ]
  },
  {
   "cell_type": "code",
   "execution_count": null,
   "metadata": {},
   "outputs": [],
   "source": [
    "names = (\"john\", \"paul\", \"george\", \"ringo\")\n",
    "print(names)\n",
    "print(names[-1])"
   ]
  },
  {
   "cell_type": "code",
   "execution_count": null,
   "metadata": {},
   "outputs": [],
   "source": [
    "'joseph' not in names"
   ]
  },
  {
   "cell_type": "markdown",
   "metadata": {},
   "source": [
    "Using a `for` loops with `tuples`."
   ]
  },
  {
   "cell_type": "code",
   "execution_count": null,
   "metadata": {},
   "outputs": [],
   "source": [
    "for name in names:\n",
    "    print(name)"
   ]
  },
  {
   "cell_type": "markdown",
   "metadata": {},
   "source": [
    "Adding `tuples`."
   ]
  },
  {
   "cell_type": "code",
   "execution_count": null,
   "metadata": {},
   "outputs": [],
   "source": [
    "(\"john\", \"paul\", \"george\", \"ringo\") + (\"joseph\")"
   ]
  },
  {
   "cell_type": "code",
   "execution_count": null,
   "metadata": {},
   "outputs": [],
   "source": [
    "(\"john\", \"paul\", \"george\", \"ringo\") + (\"joseph\",)"
   ]
  },
  {
   "cell_type": "markdown",
   "metadata": {},
   "source": [
    "Multiplying `tuples`."
   ]
  },
  {
   "cell_type": "code",
   "execution_count": null,
   "metadata": {},
   "outputs": [],
   "source": [
    "print((\"sebastian\", \"ben\") * 5)"
   ]
  },
  {
   "cell_type": "markdown",
   "metadata": {},
   "source": [
    "### Tuple Items\n",
    "`tuple` elements may be of any type. `int`, `str`, `float`, `list`, `tuple`, etc.\n"
   ]
  },
  {
   "cell_type": "code",
   "execution_count": null,
   "metadata": {},
   "outputs": [],
   "source": [
    "subjects = ('bio', 'cs', 'math', 'history')\n",
    "\n",
    "numbers = (1, 2, 3, 4, 5, 6, 7)\n",
    "\n",
    "albums = ((\"Abbey Road\", 1969), (\"Let It Be\", 1970))"
   ]
  },
  {
   "cell_type": "markdown",
   "metadata": {},
   "source": [
    "Tuples can also contain elements of more than one type."
   ]
  },
  {
   "cell_type": "code",
   "execution_count": null,
   "metadata": {},
   "outputs": [],
   "source": [
    "street_address = (164, 'College St.')\n",
    "\n",
    "record = ('Smith', 'John', (6, 23, 68), ['345-2345', '985-242'])"
   ]
  },
  {
   "cell_type": "markdown",
   "metadata": {},
   "source": [
    "<a id='section2'></a>\n",
    "## 2. Tuples Are Immutable"
   ]
  },
  {
   "cell_type": "code",
   "execution_count": null,
   "metadata": {},
   "outputs": [],
   "source": [
    "album_1 = (\"Sgt. Pepper's Lonely Hearts Club Band\", 1967)\n",
    "album_2 = (\"Magical Mystery Tour\", 1967)\n",
    "album_3 = (\"The Beatles ('The White Album')\", 1968)\n",
    "album_4 = (\"Yellow Submarine\", 1969)\n",
    "album_5 = (\"Abbey Road\", 1969)\n",
    "album_6 = (\"Let It Be\", 1970)"
   ]
  },
  {
   "cell_type": "code",
   "execution_count": null,
   "metadata": {},
   "outputs": [],
   "source": [
    "print(album_6)"
   ]
  },
  {
   "cell_type": "markdown",
   "metadata": {},
   "source": [
    "Now, let's say I want to change the date of `\"Let It Be\"` to 1969."
   ]
  },
  {
   "cell_type": "code",
   "execution_count": null,
   "metadata": {},
   "outputs": [],
   "source": [
    "album_6[1] = 1969"
   ]
  },
  {
   "cell_type": "markdown",
   "metadata": {},
   "source": [
    "Let's convert `album_6` to a list and then try to change the release date to 1969."
   ]
  },
  {
   "cell_type": "code",
   "execution_count": null,
   "metadata": {},
   "outputs": [],
   "source": [
    "album_6_list = list(album_6)\n",
    "album_6_list[1] = 1969\n",
    "print(album_6_list)"
   ]
  },
  {
   "cell_type": "markdown",
   "metadata": {},
   "source": [
    "Consider why a `tuple` is better than a `list` for this example. The Beatles album Let It Be was released in 1970. This will never change so by using a `tuple` we protect against any bugs in our code that might unintentionally change the date.\n",
    "\n",
    "Let's revist some common `list` methods.\n",
    "\n",
    "| Method | Result |\n",
    "| --- | --- | \n",
    "| `append()` | dds an element at the end of the list |\n",
    "| `clear()` | Removes all the elements from the list |\n",
    "| `copy()` | Returns a copy of the list |\n",
    "| `count()` | Returns the number of elements with the specified value |\n",
    "| `extend()` | Add the elements of a list (or any iterable), to the end of the current list |\n",
    "| `index()` | Returns the index of the first element with the specified value |\n",
    "| `insert()` | Adds an element at the specified position |\n",
    "| `pop()` | Removes the element at the specified position |\n",
    "| `remove()` | Removes the first item with the specified value |\n",
    "| `reverse()` | Reverses the order of the list |\n",
    "| `sort()` | Sorts the list |\n",
    "\n",
    "Now, let's look at `tuple` methods.\n",
    "\n",
    "| Method | Result |\n",
    "| --- | --- | \n",
    "| `count()` | Returns the number of times a specified value occurs in a tuple |\n",
    "| `index()` | Searches the tuple for a specified value and returns the position of where it was found |\n",
    "\n",
    "You'll notice that all of the `list` methods that are used to modify a list are not available for `tuples`. This is because `tuples` are immutable.\n",
    "\n",
    "Let's take `album_1` and try to add the band name `The Beatles`."
   ]
  },
  {
   "cell_type": "code",
   "execution_count": null,
   "metadata": {},
   "outputs": [],
   "source": [
    "album_1 = (\"Sgt. Pepper's Lonely Hearts Club Band\", 1967)\n",
    "print(album_1)"
   ]
  },
  {
   "cell_type": "markdown",
   "metadata": {},
   "source": [
    "Let's try using the `append()` method."
   ]
  },
  {
   "cell_type": "code",
   "execution_count": null,
   "metadata": {},
   "outputs": [],
   "source": [
    "album_1.append('The Beatles')"
   ]
  },
  {
   "cell_type": "markdown",
   "metadata": {},
   "source": [
    "So if I cannot use `append()` or `extend()`, how do we add an element to the end of a tuple? "
   ]
  },
  {
   "cell_type": "code",
   "execution_count": null,
   "metadata": {},
   "outputs": [],
   "source": [
    "list1 = ['apples', 'bananas', 'oranges']\n",
    "list2 = ['pickles', 'pumpkins']\n",
    "print(list1)\n",
    "print(list2)"
   ]
  },
  {
   "cell_type": "code",
   "execution_count": null,
   "metadata": {},
   "outputs": [],
   "source": [
    "list1.extend(list2)\n",
    "print(list1)"
   ]
  },
  {
   "cell_type": "markdown",
   "metadata": {},
   "source": [
    "Because we can't modify `tuples`, we'll need to `add` (`concatenate`) two `tuples` to create a new one."
   ]
  },
  {
   "cell_type": "code",
   "execution_count": null,
   "metadata": {},
   "outputs": [],
   "source": [
    "tuple1 = ('apples', 'bananas', 'oranges')\n",
    "tuple2 = ('pickles', 'pumpkins')\n",
    "print(tuple1)\n",
    "print(tuple2)"
   ]
  },
  {
   "cell_type": "markdown",
   "metadata": {},
   "source": [
    "Let's add these `tuples` together to create a new `tuple`."
   ]
  },
  {
   "cell_type": "code",
   "execution_count": null,
   "metadata": {},
   "outputs": [],
   "source": [
    "tuple3 = tuple1 + tuple2\n",
    "print(tuple3)"
   ]
  },
  {
   "cell_type": "markdown",
   "metadata": {},
   "source": [
    "Let's write a more compact version of this code using `Assignment Operators`."
   ]
  },
  {
   "cell_type": "code",
   "execution_count": null,
   "metadata": {},
   "outputs": [],
   "source": [
    "tuple1 = ('apples', 'bananas', 'oranges')\n",
    "tuple2 = ('pickles', 'pumpkins')\n",
    "\n",
    "print(id(tuple1), tuple1)\n",
    "\n",
    "tuple1 += tuple2\n",
    "print(id(tuple1), tuple1)"
   ]
  },
  {
   "cell_type": "markdown",
   "metadata": {},
   "source": [
    "We are not adding to `tuple1`. We are concatenating `tuple1` and `tuple2` and assigning the output to a new variable called `tuple1`."
   ]
  },
  {
   "cell_type": "code",
   "execution_count": null,
   "metadata": {},
   "outputs": [],
   "source": [
    "tuple1 = ('apples', 'bananas', 'oranges')\n",
    "tuple2 = ('pickles', 'pumpkins')\n",
    "\n",
    "print(id(tuple1), tuple1)\n",
    "\n",
    "tuple1 = tuple1 + tuple2\n",
    "print(id(tuple1), tuple1)"
   ]
  },
  {
   "cell_type": "markdown",
   "metadata": {},
   "source": [
    "### Nested Tuples and Immutability\n",
    "Tuples can be nested and if the element of a tuple is mutable, it can be changed."
   ]
  },
  {
   "cell_type": "code",
   "execution_count": null,
   "metadata": {},
   "outputs": [],
   "source": [
    "life = (['Canada', 76.5], ['United States', 75.5], ['Mexico', 72.0])\n",
    "print(life)"
   ]
  },
  {
   "cell_type": "markdown",
   "metadata": {},
   "source": [
    "#### Will this work?"
   ]
  },
  {
   "cell_type": "code",
   "execution_count": null,
   "metadata": {},
   "outputs": [],
   "source": [
    "life[0] = life[1]"
   ]
  },
  {
   "cell_type": "markdown",
   "metadata": {},
   "source": [
    "Here we have a tuple of lists. We can't change the tuple elements. But we can change the list elements that are inside because lists are mutable."
   ]
  },
  {
   "cell_type": "code",
   "execution_count": null,
   "metadata": {},
   "outputs": [],
   "source": [
    "life = (['Canada', 76.5], ['United States', 75.5], ['Mexico', 72.0])\n",
    "print(life)"
   ]
  },
  {
   "cell_type": "markdown",
   "metadata": {},
   "source": [
    "#### Will this work?"
   ]
  },
  {
   "cell_type": "code",
   "execution_count": null,
   "metadata": {},
   "outputs": [],
   "source": [
    "life[0][1] = 80.0\n",
    "print(life)"
   ]
  },
  {
   "cell_type": "markdown",
   "metadata": {},
   "source": [
    "Immutable means that the item reference addresses contained in a tuple cannot be changed after the tuple has been created."
   ]
  },
  {
   "cell_type": "markdown",
   "metadata": {},
   "source": [
    "<a id='section3'></a>\n",
    "## 3. Breakout Session 1\n",
    "Complete the following exercises.\n",
    "\n",
    "#### Exercise 1\n",
    "Use a range of indexes to slice and print the `third`, `fourth`, and `fifth` item in the tuple."
   ]
  },
  {
   "cell_type": "code",
   "execution_count": null,
   "metadata": {},
   "outputs": [],
   "source": [
    "fruits = (\"apple\", \"banana\", \"cherry\", \"orange\", \n",
    "          \"kiwi\", \"melon\", \"mango\")\n",
    "print(fruits[2:5])"
   ]
  },
  {
   "cell_type": "markdown",
   "metadata": {},
   "source": [
    "#### Exercise 2\n",
    "Use negative indexing to print the second last item in the tuple (should work for a tuple of any length > 2)."
   ]
  },
  {
   "cell_type": "code",
   "execution_count": null,
   "metadata": {},
   "outputs": [],
   "source": [
    "fruits = (\"apple\", \"banana\", \"cherry\")\n",
    "print(fruits[-2])"
   ]
  },
  {
   "cell_type": "markdown",
   "metadata": {},
   "source": [
    "#### Exercise 3\n",
    "Create a new variable called `fruits_rev` and assign the reverse of `fruits` to it. You answer should be:\n",
    "```python\n",
    "('mango', 'melon', 'kiwi', 'orange', 'cherry', 'banana', 'apple')\n",
    "```"
   ]
  },
  {
   "cell_type": "code",
   "execution_count": null,
   "metadata": {},
   "outputs": [],
   "source": [
    "fruits = (\"apple\", \"banana\", \"cherry\", \"orange\", \n",
    "          \"kiwi\", \"melon\", \"mango\")\n",
    "fruits_rev = fruits[::-1]\n",
    "print(fruits_rev)"
   ]
  },
  {
   "cell_type": "markdown",
   "metadata": {},
   "source": [
    "#### Exercise 4\n",
    "Create a new `tuple` called `shopping_list` and assign to it the second, third and fourth items of `fruits` and the last 3 items of `vegetables` in the order they occur in `vegetables`. "
   ]
  },
  {
   "cell_type": "code",
   "execution_count": null,
   "metadata": {},
   "outputs": [],
   "source": [
    "fruits = (\"apple\", \"banana\", \"cherry\", \"orange\", \n",
    "          \"kiwi\", \"melon\", \"mango\")\n",
    "vegetables = (\"Potatoes\", \"Broccoli\", \"Beets\", \"Eggplant\")\n",
    "#shopping_list = fruits[1:4] + vegetables[-1:-4:-1][::-1]\n",
    "shopping_list = fruits[1:4] + vegetables[-3:]\n",
    "print(shopping_list)"
   ]
  },
  {
   "cell_type": "markdown",
   "metadata": {},
   "source": [
    "<a id='section4'></a>\n",
    "## 4. Unpacking Tuples\n",
    "Python has a very nice tuple assignment feature that allows you to, essentially, assign multiple variables at once."
   ]
  },
  {
   "cell_type": "code",
   "execution_count": null,
   "metadata": {},
   "outputs": [],
   "source": [
    "x = 4.2\n",
    "y = 0.1\n",
    "z = 4.5\n",
    "print(x)\n",
    "print(y)\n",
    "print(z)"
   ]
  },
  {
   "cell_type": "markdown",
   "metadata": {},
   "source": [
    "Remember, the parentheses are optional but recommended."
   ]
  },
  {
   "cell_type": "code",
   "execution_count": null,
   "metadata": {},
   "outputs": [],
   "source": [
    "x, y, z = 4.2, 0.1, 4.5\n",
    "print(x)\n",
    "print(y)\n",
    "print(z)"
   ]
  },
  {
   "cell_type": "markdown",
   "metadata": {},
   "source": [
    "Remember, we want to write `#cleancode` and the less code the better."
   ]
  },
  {
   "cell_type": "markdown",
   "metadata": {},
   "source": [
    "### Why Tuples: Reason 3\n",
    "You can always unpack tuples successfully because you always know how many items are in them (Immutability).\n",
    "#### Upacking a Tuple"
   ]
  },
  {
   "cell_type": "code",
   "execution_count": null,
   "metadata": {},
   "outputs": [],
   "source": [
    "data = (0.2, 1.3, 40.2)\n",
    "x, y, z = data\n",
    "print(x)\n",
    "print(y)\n",
    "print(z)"
   ]
  },
  {
   "cell_type": "markdown",
   "metadata": {},
   "source": [
    "#### Unpacking a List"
   ]
  },
  {
   "cell_type": "code",
   "execution_count": null,
   "metadata": {},
   "outputs": [],
   "source": [
    "data = [0.2, 1.3, 40.2]\n",
    "#data.append(4.1) #what happens if we append this?\n",
    "x, y, z = data\n",
    "print(x)\n",
    "print(y)\n",
    "print(z)"
   ]
  },
  {
   "cell_type": "markdown",
   "metadata": {},
   "source": [
    "You'll recall that one of the principles `#cleancode` is readability. Which one of these do you find more readable?\n",
    "#### Without Unpacking"
   ]
  },
  {
   "cell_type": "code",
   "execution_count": null,
   "metadata": {},
   "outputs": [],
   "source": [
    "patient = ('Ben', 'Kinsella', 1.8288, 72.5748)\n",
    "print(patient[0], patient[1], \"BMI:\", patient[3] / patient[2]**2)"
   ]
  },
  {
   "cell_type": "markdown",
   "metadata": {},
   "source": [
    "#### With Unpacking"
   ]
  },
  {
   "cell_type": "code",
   "execution_count": null,
   "metadata": {},
   "outputs": [],
   "source": [
    "first_name, last_name, height, weight = ('Ben', 'Kinsella', 1.8288, 72.5748)\n",
    "print(first_name, last_name, \"BMI:\", weight / height**2)"
   ]
  },
  {
   "cell_type": "markdown",
   "metadata": {},
   "source": [
    "<a id='section5'></a>\n",
    "## 5. Tuples as `return` Values\n",
    "### Function `return` Example 1"
   ]
  },
  {
   "cell_type": "code",
   "execution_count": null,
   "metadata": {},
   "outputs": [],
   "source": [
    "import math\n",
    "\n",
    "def area_circumference(radius): \n",
    "    \"\"\"\n",
    "    (float) -> float, float\n",
    "    Return the circumference and area of a circle of a specified radius.\n",
    "    \"\"\"\n",
    "    circumference = 2 * math.pi * radius \n",
    "    area = math.pi * radius * radius "
   ]
  },
  {
   "cell_type": "markdown",
   "metadata": {},
   "source": [
    "#### What is `return`ed?"
   ]
  },
  {
   "cell_type": "code",
   "execution_count": null,
   "metadata": {},
   "outputs": [],
   "source": [
    "output = area_circumference(10)\n",
    "print(output, type(output))"
   ]
  },
  {
   "cell_type": "markdown",
   "metadata": {},
   "source": [
    "### Function `return` Example 2"
   ]
  },
  {
   "cell_type": "code",
   "execution_count": null,
   "metadata": {},
   "outputs": [],
   "source": [
    "import math\n",
    "\n",
    "def area_circumference(radius): \n",
    "    \"\"\"\n",
    "    (float) -> float, float\n",
    "    Return the circumference and area of a circle of a specified radius.\n",
    "    \"\"\"\n",
    "    circumference = 2 * math.pi * radius \n",
    "    area = math.pi * radius * radius \n",
    "    \n",
    "    return area"
   ]
  },
  {
   "cell_type": "markdown",
   "metadata": {},
   "source": [
    "#### What is `return`ed?"
   ]
  },
  {
   "cell_type": "code",
   "execution_count": null,
   "metadata": {},
   "outputs": [],
   "source": [
    "output = area_circumference(10)\n",
    "print(output, type(output))"
   ]
  },
  {
   "cell_type": "markdown",
   "metadata": {},
   "source": [
    "### Function `return` Example 3"
   ]
  },
  {
   "cell_type": "code",
   "execution_count": null,
   "metadata": {},
   "outputs": [],
   "source": [
    "import math\n",
    "\n",
    "def area_circumference(radius): \n",
    "    \"\"\"\n",
    "    (float) -> float, float\n",
    "    Return the circumference and area of a circle of a specified radius.\n",
    "    \"\"\"\n",
    "    circumference = 2 * math.pi * radius \n",
    "    area = math.pi * radius * radius \n",
    "    \n",
    "    return circumference, area"
   ]
  },
  {
   "cell_type": "markdown",
   "metadata": {},
   "source": [
    "#### What is `return`ed?"
   ]
  },
  {
   "cell_type": "code",
   "execution_count": null,
   "metadata": {},
   "outputs": [],
   "source": [
    "output = area_circumference(10)\n",
    "print(output, type(output))"
   ]
  },
  {
   "cell_type": "markdown",
   "metadata": {},
   "source": [
    "### Function `return` Example 4"
   ]
  },
  {
   "cell_type": "code",
   "execution_count": null,
   "metadata": {},
   "outputs": [],
   "source": [
    "import math\n",
    "\n",
    "def area_circumference(radius): \n",
    "    \"\"\"\n",
    "    (float) -> float, float\n",
    "    Return the circumference and area of a circle of a specified radius.\n",
    "    \"\"\"\n",
    "    circumference = 2 * math.pi * radius \n",
    "    area = math.pi * radius * radius \n",
    "    \n",
    "    return (circumference, area)"
   ]
  },
  {
   "cell_type": "markdown",
   "metadata": {},
   "source": [
    "#### What is `return`ed?"
   ]
  },
  {
   "cell_type": "code",
   "execution_count": null,
   "metadata": {},
   "outputs": [],
   "source": [
    "circumference, area = area_circumference(10)\n",
    "print(circumference, type(circumference))\n",
    "print(area, type(area))"
   ]
  },
  {
   "cell_type": "markdown",
   "metadata": {},
   "source": [
    "<a id='section6'></a>\n",
    "## 6. Breakout Session 2\n",
    "#### Step 1 - Choice of collection\n",
    "Below are some of my favourit musical albums. The artist, album, and release year are presented in `tuples`. "
   ]
  },
  {
   "cell_type": "code",
   "execution_count": null,
   "metadata": {},
   "outputs": [],
   "source": [
    "my_album = (\"The Beatles\", \"Sgt. Pepper's Lonely Hearts Club Band\", 1967)\n",
    "(\"Wintersleep\", \"Welcome to the Night Sky\", 2007)\n",
    "(\"The Tragically Hip\", \"In Between Evolution\", 2004)\n",
    "(\"Tom Petty\", \"Wildflowers\", 1994)\n",
    "(\"The Traveling Wilburys\", \"Traveling Wilburys Vol. 1\", 1988)\n",
    "(\"George Harrison\", \"All Things Must Pass\", 1970)\n",
    "(\"Queen\", \"A Night At The Opera\", 1975)"
   ]
  },
  {
   "cell_type": "markdown",
   "metadata": {},
   "source": [
    "In the cell below, place these tuples in a `container` and assign it to a variable called `albums`. You need to decide if a `list` or `tuple` appropriate."
   ]
  },
  {
   "cell_type": "code",
   "execution_count": null,
   "metadata": {},
   "outputs": [],
   "source": [
    "all_albums = [\n",
    "    (\"The Beatles\", \"Sgt. Pepper's Lonely Hearts Club Band\", 1967),\n",
    "    (\"Wintersleep\", \"Welcome to the Night Sky\", 2007),\n",
    "    (\"The Tragically Hip\", \"In Between Evolution\", 2004),\n",
    "    (\"Tom Petty\", \"Wildflowers\", 1994),\n",
    "    (\"The Traveling Wilburys\", \"Traveling Wilburys Vol. 1\", 1988),\n",
    "    (\"George Harrison\", \"All Things Must Pass\", 1970),\n",
    "    (\"Queen\", \"A Night At The Opera\", 1975)\n",
    "]"
   ]
  },
  {
   "cell_type": "markdown",
   "metadata": {},
   "source": [
    "In the cell below, explain the reason for your choice."
   ]
  },
  {
   "cell_type": "markdown",
   "metadata": {},
   "source": [
    "*Replace with your answer.*"
   ]
  },
  {
   "cell_type": "markdown",
   "metadata": {},
   "source": [
    "#### Step 2 - Print album information\n",
    "Fill in the missing code below. The code should loop through the albums and print the artist, album, and year."
   ]
  },
  {
   "cell_type": "code",
   "execution_count": null,
   "metadata": {},
   "outputs": [],
   "source": [
    "for artist, album, year in albums:\n",
    "    print('Artist:', artist)\n",
    "    print('Album:', album)\n",
    "    print('Year:', year, '\\n')"
   ]
  },
  {
   "cell_type": "markdown",
   "metadata": {},
   "source": [
    "<a id='section7'></a>\n",
    "## 7. Sets\n",
    "Sets are great for performing the mathematical operations: union, intersection, and difference. These are all implemented as methods shown in the following table. \n",
    "\n",
    "Operation\t| Equivalent\t| Result\n",
    "------------|:---------------:|-------\n",
    "len(s) |N/A | number of elements in set s (cardinality)\n",
    "x in s |N/A | test x for membership in s\n",
    "x not in s |N/A|test x for non-membership in s\n",
    "s.issubset(t) |\ts <= t|test whether every element in s is in t\n",
    "s.issuperset(t)|s >= t|test whether every element in t is in s\n",
    "s.union(t)|\ts &#124; t| new set with elements from both s and t\n",
    "s.intersection(t) |s & t|new set with elements common to s and t\n",
    "s.difference(t)|s - t|new set with elements in s but not in t\n",
    "s.symmetric_difference(t)|s ^ t|new set with elements in either s or t but not both\n",
    "s.copy()|N/A|new set with a copy of s\n",
    "\n",
    "Let's create the two `sets` of North American and European cars from the slides."
   ]
  },
  {
   "cell_type": "code",
   "execution_count": 102,
   "metadata": {},
   "outputs": [],
   "source": [
    "north_america = {'Mercedes', 'Tesla', 'Chrysler', 'Dodge', 'BMW', 'Ford'}\n",
    "europe = {'Mercedes', 'Tesla', 'Renault', 'Peugeot', 'BMW', 'Ford'}"
   ]
  },
  {
   "cell_type": "markdown",
   "metadata": {},
   "source": [
    "#### `sets` are unordered\n",
    "As you'll recall, `sets` are unordered as opposed to `tuples` and `lists`."
   ]
  },
  {
   "cell_type": "code",
   "execution_count": 103,
   "metadata": {},
   "outputs": [
    {
     "name": "stdout",
     "output_type": "stream",
     "text": [
      "{'Mercedes', 'Chrysler', 'Tesla', 'Ford', 'BMW', 'Dodge'}\n"
     ]
    }
   ],
   "source": [
    "print(north_america)"
   ]
  },
  {
   "cell_type": "code",
   "execution_count": 104,
   "metadata": {},
   "outputs": [
    {
     "name": "stdout",
     "output_type": "stream",
     "text": [
      "{'Mercedes', 'Renault', 'Peugeot', 'Tesla', 'Ford', 'BMW'}\n"
     ]
    }
   ],
   "source": [
    "print(europe)"
   ]
  },
  {
   "cell_type": "markdown",
   "metadata": {},
   "source": [
    "So, `sets` are unordered, but can we index or slice them?"
   ]
  },
  {
   "cell_type": "code",
   "execution_count": 105,
   "metadata": {},
   "outputs": [
    {
     "ename": "TypeError",
     "evalue": "'set' object is not subscriptable",
     "output_type": "error",
     "traceback": [
      "\u001b[0;31m---------------------------------------------------------------------------\u001b[0m",
      "\u001b[0;31mTypeError\u001b[0m                                 Traceback (most recent call last)",
      "\u001b[0;32m/var/folders/mn/8vlvqnvd1gl1d04y6pbyzbhh0000gn/T/ipykernel_11948/4249805872.py\u001b[0m in \u001b[0;36m<module>\u001b[0;34m\u001b[0m\n\u001b[0;32m----> 1\u001b[0;31m \u001b[0meurope\u001b[0m\u001b[0;34m[\u001b[0m\u001b[0;36m0\u001b[0m\u001b[0;34m]\u001b[0m\u001b[0;34m\u001b[0m\u001b[0;34m\u001b[0m\u001b[0m\n\u001b[0m",
      "\u001b[0;31mTypeError\u001b[0m: 'set' object is not subscriptable"
     ]
    }
   ],
   "source": [
    "europe[0]"
   ]
  },
  {
   "cell_type": "markdown",
   "metadata": {},
   "source": [
    "But if we conver to a list, we can because lists are ordered."
   ]
  },
  {
   "cell_type": "code",
   "execution_count": 106,
   "metadata": {},
   "outputs": [
    {
     "data": {
      "text/plain": [
       "'Mercedes'"
      ]
     },
     "execution_count": 106,
     "metadata": {},
     "output_type": "execute_result"
    }
   ],
   "source": [
    "list(europe)[0]"
   ]
  },
  {
   "cell_type": "markdown",
   "metadata": {},
   "source": [
    "How about the order that you insert elements into a list?"
   ]
  },
  {
   "cell_type": "code",
   "execution_count": 107,
   "metadata": {},
   "outputs": [
    {
     "data": {
      "text/plain": [
       "True"
      ]
     },
     "execution_count": 107,
     "metadata": {},
     "output_type": "execute_result"
    }
   ],
   "source": [
    "animals1 = {'bird', 'goat', 'tiger'}\n",
    "animals2 = {'goat', 'tiger', 'bird'}\n",
    "\n",
    "animals1 == animals2"
   ]
  },
  {
   "cell_type": "markdown",
   "metadata": {},
   "source": [
    "#### Membership"
   ]
  },
  {
   "cell_type": "code",
   "execution_count": 108,
   "metadata": {},
   "outputs": [
    {
     "data": {
      "text/plain": [
       "False"
      ]
     },
     "execution_count": 108,
     "metadata": {},
     "output_type": "execute_result"
    }
   ],
   "source": [
    "'Nissan' in europe"
   ]
  },
  {
   "cell_type": "code",
   "execution_count": 109,
   "metadata": {},
   "outputs": [
    {
     "data": {
      "text/plain": [
       "True"
      ]
     },
     "execution_count": 109,
     "metadata": {},
     "output_type": "execute_result"
    }
   ],
   "source": [
    "'Tesla' in europe"
   ]
  },
  {
   "cell_type": "markdown",
   "metadata": {},
   "source": [
    "#### Union"
   ]
  },
  {
   "cell_type": "code",
   "execution_count": 110,
   "metadata": {},
   "outputs": [
    {
     "data": {
      "text/plain": [
       "{'BMW', 'Chrysler', 'Dodge', 'Ford', 'Mercedes', 'Peugeot', 'Renault', 'Tesla'}"
      ]
     },
     "execution_count": 110,
     "metadata": {},
     "output_type": "execute_result"
    }
   ],
   "source": [
    "north_america.union(europe)"
   ]
  },
  {
   "cell_type": "code",
   "execution_count": 111,
   "metadata": {},
   "outputs": [
    {
     "data": {
      "text/plain": [
       "{'BMW', 'Chrysler', 'Dodge', 'Ford', 'Mercedes', 'Peugeot', 'Renault', 'Tesla'}"
      ]
     },
     "execution_count": 111,
     "metadata": {},
     "output_type": "execute_result"
    }
   ],
   "source": [
    "europe.union(north_america)"
   ]
  },
  {
   "cell_type": "code",
   "execution_count": 112,
   "metadata": {},
   "outputs": [
    {
     "data": {
      "text/plain": [
       "{'BMW', 'Chrysler', 'Dodge', 'Ford', 'Mercedes', 'Peugeot', 'Renault', 'Tesla'}"
      ]
     },
     "execution_count": 112,
     "metadata": {},
     "output_type": "execute_result"
    }
   ],
   "source": [
    "north_america | europe"
   ]
  },
  {
   "cell_type": "code",
   "execution_count": 113,
   "metadata": {},
   "outputs": [
    {
     "data": {
      "text/plain": [
       "{'BMW', 'Chrysler', 'Dodge', 'Ford', 'Mercedes', 'Peugeot', 'Renault', 'Tesla'}"
      ]
     },
     "execution_count": 113,
     "metadata": {},
     "output_type": "execute_result"
    }
   ],
   "source": [
    "europe | north_america"
   ]
  },
  {
   "cell_type": "markdown",
   "metadata": {},
   "source": [
    "#### Intersection"
   ]
  },
  {
   "cell_type": "code",
   "execution_count": 114,
   "metadata": {},
   "outputs": [
    {
     "data": {
      "text/plain": [
       "{'BMW', 'Ford', 'Mercedes', 'Tesla'}"
      ]
     },
     "execution_count": 114,
     "metadata": {},
     "output_type": "execute_result"
    }
   ],
   "source": [
    "north_america.intersection(europe)"
   ]
  },
  {
   "cell_type": "code",
   "execution_count": 115,
   "metadata": {},
   "outputs": [
    {
     "data": {
      "text/plain": [
       "{'BMW', 'Ford', 'Mercedes', 'Tesla'}"
      ]
     },
     "execution_count": 115,
     "metadata": {},
     "output_type": "execute_result"
    }
   ],
   "source": [
    "europe.intersection(north_america)"
   ]
  },
  {
   "cell_type": "code",
   "execution_count": 116,
   "metadata": {},
   "outputs": [
    {
     "data": {
      "text/plain": [
       "{'BMW', 'Ford', 'Mercedes', 'Tesla'}"
      ]
     },
     "execution_count": 116,
     "metadata": {},
     "output_type": "execute_result"
    }
   ],
   "source": [
    "north_america & europe"
   ]
  },
  {
   "cell_type": "code",
   "execution_count": 117,
   "metadata": {},
   "outputs": [
    {
     "data": {
      "text/plain": [
       "{'BMW', 'Ford', 'Mercedes', 'Tesla'}"
      ]
     },
     "execution_count": 117,
     "metadata": {},
     "output_type": "execute_result"
    }
   ],
   "source": [
    "europe & north_america"
   ]
  },
  {
   "cell_type": "markdown",
   "metadata": {},
   "source": [
    "#### `sets` are iterable"
   ]
  },
  {
   "cell_type": "code",
   "execution_count": 118,
   "metadata": {},
   "outputs": [
    {
     "name": "stdout",
     "output_type": "stream",
     "text": [
      "Mercedes\n",
      "Chrysler\n",
      "Tesla\n",
      "Ford\n",
      "BMW\n",
      "Dodge\n"
     ]
    }
   ],
   "source": [
    "north_america = {'Mercedes', 'Tesla', 'Chrysler', 'Dodge', 'BMW', 'Ford'}\n",
    "\n",
    "for car in north_america:\n",
    "    print(car)"
   ]
  },
  {
   "cell_type": "markdown",
   "metadata": {},
   "source": [
    "### Practical Applications of `sets`\n",
    "We want to create a collection of unique birds from the observations made during a birding (bird watching) trip."
   ]
  },
  {
   "cell_type": "code",
   "execution_count": null,
   "metadata": {},
   "outputs": [],
   "source": [
    "observations = (\"canada goose\", \"canada goose\", \"long-tailed jaeger\",\n",
    "                \"canada goose\", \"snow goose\", \"canada goose\", \n",
    "                \"long-tailed jaeger\", \"canada goose\", \"northern fulmar\")"
   ]
  },
  {
   "cell_type": "markdown",
   "metadata": {},
   "source": [
    "I could loop through the `tuple` and collect all the unique birds."
   ]
  },
  {
   "cell_type": "code",
   "execution_count": 119,
   "metadata": {},
   "outputs": [
    {
     "name": "stdout",
     "output_type": "stream",
     "text": [
      "['canada goose', 'long-tailed jaeger', 'snow goose', 'northern fulmar']\n"
     ]
    }
   ],
   "source": [
    "birds = []\n",
    "for observation in observations:\n",
    "    if observation not in birds:\n",
    "        birds.append(observation)\n",
    "        \n",
    "print(birds)"
   ]
  },
  {
   "cell_type": "code",
   "execution_count": 120,
   "metadata": {},
   "outputs": [
    {
     "name": "stdout",
     "output_type": "stream",
     "text": [
      "{'northern fulmar', 'canada goose', 'snow goose', 'long-tailed jaeger'}\n"
     ]
    }
   ],
   "source": [
    "birds = set(observations)\n",
    "print(birds)"
   ]
  },
  {
   "cell_type": "code",
   "execution_count": null,
   "metadata": {},
   "outputs": [],
   "source": []
  }
 ],
 "metadata": {
  "kernelspec": {
   "display_name": "Python 3 (ipykernel)",
   "language": "python",
   "name": "python3"
  },
  "language_info": {
   "codemirror_mode": {
    "name": "ipython",
    "version": 3
   },
   "file_extension": ".py",
   "mimetype": "text/x-python",
   "name": "python",
   "nbconvert_exporter": "python",
   "pygments_lexer": "ipython3",
   "version": "3.10.9"
  }
 },
 "nbformat": 4,
 "nbformat_minor": 1
}
