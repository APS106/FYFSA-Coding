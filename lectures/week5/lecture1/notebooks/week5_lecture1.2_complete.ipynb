{
 "cells": [
  {
   "cell_type": "markdown",
   "metadata": {},
   "source": [
    "# APS106 Lecture Notes - Week 4, Lecture 3\n",
    "\n",
    "# Lists 2.0!\n",
    "\n",
    "## Lectures Today\n",
    "\n",
    "\n",
    "| Lecture | Topics | Reading |\n",
    "| --- | --- | --- | \n",
    "| 4.3.1 | All about lists | Ch 8 |\n",
    "| 4.3.2 | **Looping through lists** | Sect 9.1-9.4 |  \n",
    "\n",
    "### Lecture Structure\n",
    "1. [For Loops Over Lists](#section1)\n",
    "2. [Speedster 1.0](#section2)\n",
    "3. [Looping Over Nested Lists](#section3)\n",
    "\n",
    "## Looping through lists"
   ]
  },
  {
   "cell_type": "markdown",
   "metadata": {},
   "source": [
    "It probably won't surprise you that lists and loops are often used together. Afterall, a list represents a sequence of elements and a loop is exactly what you need to access each of those elements.\n",
    "\n",
    "Problem: We have a list of representing the velocity of a car recorded every second for a drive from Toronto to Montreal. Write a function that takes such a list and a speed limit and returns the number of times that the car was speeding. "
   ]
  },
  {
   "cell_type": "markdown",
   "metadata": {},
   "source": [
    " <a id='section1'></a>\n",
    "\n",
    "## For Loops Over Lists\n",
    "\n",
    "Recall that the general form of a for loop is:\n",
    "```\n",
    "for item in iterable:\n",
    "    body\n",
    "```\n",
    "A list is also an \"iterable\".\n",
    "\n",
    "Similar to `if` statements, there are two things to note here:\n",
    "- There must be a colon (:) at the end of the `for` statement.\n",
    "- The body must be indented.\n",
    "\n",
    "The general form of a for loop over a list is:\n",
    "```\n",
    "for variable in list:\n",
    "    body\n",
    "```\n",
    "The variable refers to each item of the list in order and executes the body of the loop for each item. Example of list containing numbers:"
   ]
  },
  {
   "cell_type": "code",
   "execution_count": null,
   "metadata": {
    "scrolled": false
   },
   "outputs": [],
   "source": [
    "fruits = ['apples', 'oranges', 'pears', 'apricots']\n",
    "\n",
    "for fruit in fruits:\n",
    "    print(fruit)"
   ]
  },
  {
   "cell_type": "code",
   "execution_count": null,
   "metadata": {
    "scrolled": true
   },
   "outputs": [],
   "source": [
    "change = [1, 'pennies', 10, 'dimes', 25, 'quarters']\n",
    "\n",
    "for i in change:\n",
    "    print(i)"
   ]
  },
  {
   "cell_type": "markdown",
   "metadata": {},
   "source": [
    "## **BREAKOUT SESSION 1**\n",
    "\n",
    "Loop through and print the content by using indices.\n",
    "\n",
    "Instead of looping through a list as an iterable, try looping through a list of integers (cough... range... cough...) and then printing by a accessing specific index from the list.\n",
    "\n",
    " **HINT**: range() and len() function might be useful..."
   ]
  },
  {
   "cell_type": "code",
   "execution_count": null,
   "metadata": {
    "scrolled": true
   },
   "outputs": [],
   "source": [
    "change = [1, 'pennies', 10, 'dimes', 25, 'quarters']\n",
    "\n",
    "for i in range(len(change)):\n",
    "    print(change[i])"
   ]
  },
  {
   "cell_type": "markdown",
   "metadata": {},
   "source": [
    "**END OF BREAKOUT**"
   ]
  },
  {
   "cell_type": "markdown",
   "metadata": {},
   "source": [
    " <a id='section2'></a>\n",
    "\n",
    "Back to our speedster..."
   ]
  },
  {
   "cell_type": "code",
   "execution_count": null,
   "metadata": {
    "scrolled": false
   },
   "outputs": [],
   "source": [
    "speed_list = [70, 97, 101, 120, 116, 110, 98, 99, 100, 102]\n",
    "\n",
    "for speed in speed_list:\n",
    "    if speed > 100:\n",
    "        print(speed, \": speeding\")\n",
    "    else:\n",
    "        print(speed, \": not speeding\")\n"
   ]
  },
  {
   "cell_type": "markdown",
   "metadata": {},
   "source": [
    "## BREAKOUT SESSION 2.1\n",
    "\n",
    "Create a function, count_speeding, that takes in a list of speeds and the speed limit, and returns how many times they were speeding."
   ]
  },
  {
   "cell_type": "code",
   "execution_count": null,
   "metadata": {},
   "outputs": [],
   "source": [
    "def count_speeding(speeds, limit):\n",
    "    '''\n",
    "    (list of num, num) -> int\n",
    "    Returns a count of the number of times that an element of speeds is greater than limit\n",
    "    '''\n",
    "    speed_count = 0\n",
    "    for s in speeds:\n",
    "        if s > limit:\n",
    "            speed_count += 1\n",
    "    return speed_count\n",
    "\n",
    "speed_list = [102, 100, 98, 99, 102, 106, 112, 120, 119, 115, 105, 100, 95, 85, 90, 99, 120]\n",
    "print(count_speeding(speed_list, 100))"
   ]
  },
  {
   "cell_type": "markdown",
   "metadata": {},
   "source": [
    "### **Expected output test case**\n",
    "\n",
    "speed_list = [102, 100, 98, 99, 102, 106, 112, 120, 119, 115, 105, 100, 95, 85, 90, 99, 120]\n",
    "\n",
    "print(count_speeding(speed_list, 100))\n",
    "\n",
    "9"
   ]
  },
  {
   "cell_type": "markdown",
   "metadata": {},
   "source": [
    "## BREAKOUT SESSION 2.2\n",
    "\n",
    "Now let's change our function to return the percentage of time that the car was speeding."
   ]
  },
  {
   "cell_type": "code",
   "execution_count": null,
   "metadata": {},
   "outputs": [],
   "source": [
    "def percent_speeding(speeds, limit):\n",
    "    '''\n",
    "    (list of num, num) -> float\n",
    "    Returns a percentage representing the number of elements in speeds that is greater than limit\n",
    "    '''\n",
    "    speed_count = 0\n",
    "    for s in speeds:\n",
    "        if s > limit:\n",
    "            speed_count += 1\n",
    "    return speed_count/len(speeds)*100\n",
    "\n",
    "speed_list = [102, 100, 98, 99, 102, 106, 112, 120, 119, 115, 105, 100, 95, 85, 90, 99, 120]\n",
    "print(str(percent_speeding(speed_list, 100)) + \"%\")"
   ]
  },
  {
   "cell_type": "markdown",
   "metadata": {},
   "source": [
    "### **Expected output test case**\n",
    "\n",
    "speed_list = [102, 100, 98, 99, 102, 106, 112, 120, 119, 115, 105, 100, 95, 85, 90, 99, 120]\n",
    "\n",
    "print(str(percent_speeding(speed_list, 100)) + \"%\")\n",
    "\n",
    "52.94117647058824%"
   ]
  },
  {
   "cell_type": "markdown",
   "metadata": {},
   "source": [
    "## BREAKOUT SESSION 2.3\n",
    "\n",
    "## Looping Over List Indices\n",
    "\n",
    "Just like for strings, you can also loop over a list by iterating through its indices. Rather than `for s in speeds` you can use ... what to loop over the indices?\n",
    "\n",
    "Rewrite the percent_speeding using a loop over indices."
   ]
  },
  {
   "cell_type": "code",
   "execution_count": null,
   "metadata": {},
   "outputs": [],
   "source": [
    "def percent_speeding(speeds, limit):\n",
    "    '''\n",
    "    (list of num, num) -> int\n",
    "    Returns a count of the number of times that an element of speeds is greater than limit\n",
    "    '''\n",
    "    speed_count = 0\n",
    "    for i in range(len(speeds)):\n",
    "        if speeds[i] > limit:\n",
    "            speed_count += 1\n",
    "    return speed_count/len(speeds)*100\n",
    "\n",
    "speed_list = [102, 100, 98, 99, 102, 106, 112, 120, 119, 115, 105, 100, 95, 85, 90, 99, 120]\n",
    "print(str(percent_speeding(speed_list, 100)) + \"%\")"
   ]
  },
  {
   "cell_type": "markdown",
   "metadata": {},
   "source": [
    "### **Expected output test case**\n",
    "\n",
    "speed_list = [102, 100, 98, 99, 102, 106, 112, 120, 119, 115, 105, 100, 95, 85, 90, 99, 120]\n",
    "\n",
    "print(str(percent_speeding(speed_list, 100)) + \"%\")\n",
    "\n",
    "52.94117647058824%"
   ]
  },
  {
   "cell_type": "markdown",
   "metadata": {},
   "source": [
    "## Nested Lists\n",
    "\n",
    "Remember that lists can contain lists. And so if we have nested lists, we need to have nested loops."
   ]
  },
  {
   "cell_type": "code",
   "execution_count": null,
   "metadata": {},
   "outputs": [],
   "source": [
    "M = [[1,2,3],\n",
    "     [4,5,6],\n",
    "     [7,8,9]]"
   ]
  },
  {
   "cell_type": "markdown",
   "metadata": {},
   "source": [
    "Write code to print out each element of M."
   ]
  },
  {
   "cell_type": "code",
   "execution_count": null,
   "metadata": {},
   "outputs": [],
   "source": [
    "for sublist in M:   #could change sublist to row, or i, anything else\n",
    "    for element in sublist:  #could change element to column, or j, or anything else\n",
    "        print(element)"
   ]
  },
  {
   "cell_type": "markdown",
   "metadata": {},
   "source": [
    "Write a function called ``flatten_matrix`` that takes any 2D matrix (any number of rows, any number of entries per row) and returns a single flattened list with each element. So for `M` above, we would want to return `[1,2,3,4,5,6,7,8,9]`."
   ]
  },
  {
   "cell_type": "code",
   "execution_count": null,
   "metadata": {},
   "outputs": [],
   "source": [
    "def flatten_matrix(matrix):\n",
    "    '''\n",
    "    (list of lists) -> list\n",
    "    Returns a list that contains all the inner elements of a 2D matrix matrix\n",
    "    '''\n",
    "    return_list = []\n",
    "    for row in matrix:\n",
    "        for col in row:\n",
    "            return_list.append(col)\n",
    "    \n",
    "    return return_list\n",
    "\n",
    "M = [[1,2,3],\n",
    "     [4,5,6],\n",
    "     [7,8,9]]\n",
    "print(flatten_matrix(M))"
   ]
  },
  {
   "cell_type": "markdown",
   "metadata": {},
   "source": [
    "Rewrite `flatten` using list index. "
   ]
  },
  {
   "cell_type": "code",
   "execution_count": null,
   "metadata": {},
   "outputs": [],
   "source": [
    "def flatten_matrix(matrix):\n",
    "    '''\n",
    "    (list of lists) -> list\n",
    "    Returns a list that contains all the inner elements of a 2D matrix matrix\n",
    "    '''\n",
    "    return_list = []\n",
    "    for row in range(len(matrix)):\n",
    "        for col in range(len(matrix[row])):\n",
    "            return_list.append(matrix[row][col])\n",
    "    \n",
    "    return return_list\n",
    "\n",
    "M = [[1,2,3],\n",
    "     [4,5,6],\n",
    "     [7,8,9]]\n",
    "print(flatten_matrix(M))"
   ]
  },
  {
   "cell_type": "markdown",
   "metadata": {},
   "source": [
    "### More Example of Nested Loops\n",
    "\n",
    "Let’s say you are given a list where each element is a list of grades for a given student. So you have a list of lists. Maybe the first grade corresponds to the first midterm mark, the second to the second midterm and the last to the exam."
   ]
  },
  {
   "cell_type": "markdown",
   "metadata": {},
   "source": [
    "Write a function that calculates the average mark for each student and returns a list of averages."
   ]
  },
  {
   "cell_type": "code",
   "execution_count": null,
   "metadata": {
    "scrolled": true
   },
   "outputs": [],
   "source": [
    "def calculate_averages(grades):\n",
    "    '''\n",
    "    (list of list of number) -> list of float\n",
    "    A nested list of marks is input and a list of the average of each\n",
    "    sublist is returned\n",
    "    '''\n",
    " \n",
    "    averages = [] # create an empty list\n",
    " \n",
    "    for student_grades in grades:\n",
    "        # Calculate the average of the student_grades and append it\n",
    "        # to averages.\n",
    " \n",
    "        total = 0\n",
    "        for mark in student_grades:\n",
    "            total += mark\n",
    " \n",
    "        averages.append(total / len(student_grades)) # append new average onto the list\n",
    " \n",
    "    return averages\n",
    "\n",
    "marks = [[70, 75, 80], [70, 80, 90], [80, 100, 100]]\n",
    "print(calculate_averages(marks))\n",
    "\n",
    "# output should be: [75.0, 80.0, 93.33333333333333]"
   ]
  },
  {
   "cell_type": "markdown",
   "metadata": {},
   "source": [
    "In `calculate_averages`, the outer for loop iterates over each student. We then calculate the average of that sublist using the inner loop and add the average to the accumulator (the new list, `averages`)."
   ]
  },
  {
   "cell_type": "markdown",
   "metadata": {},
   "source": [
    "## BREAKOUT SESSION 3\n",
    "\n",
    "### Adding Matrices\n",
    "\n",
    "The sum of two matrices (of the same size) is the sum of the corresponding elements."
   ]
  },
  {
   "cell_type": "code",
   "execution_count": null,
   "metadata": {},
   "outputs": [],
   "source": [
    "def add_matrices(M, N):\n",
    "    ''' \n",
    "    (2D list of number, 2D list of number) -> 2D list of number\n",
    "    Return the matrix sum of M and N: corresponding elements added\n",
    "    '''\n",
    "    # Initialize new matrix\n",
    "    new_matrix = []\n",
    "                    \n",
    "    # Matrix addition\n",
    "    for x in range(len(M)):\n",
    "        new_matrix.append([])\n",
    "        for y in range(len(M[x])):\n",
    "            new_matrix[x].append(M[x][y] + N[x][y])\n",
    "            \n",
    "    return new_matrix\n",
    "\n",
    "M1 = [[1,2,3], \n",
    "      [4,5,6], \n",
    "      [7,8,9]]\n",
    "M2 = [[9,8,7], \n",
    "      [6,5,4], \n",
    "      [3,2,1]]\n",
    "\n",
    "print(add_matrices(M1,M2))"
   ]
  },
  {
   "cell_type": "markdown",
   "metadata": {},
   "source": [
    "<div class=\"alert alert-block alert-info\">\n",
    "<big><b>This Lecture</b></big>\n",
    "<ul>  \n",
    "    <li>Looping over lists</li>\n",
    "    <li>Looping over list indices</li>\n",
    "    <li> Nested list and nested loops</li>\n",
    "    <li>Matrix operations</li>\n",
    "<b>See Chapter 9 of the Gries textbook.</b>\n",
    "</div>"
   ]
  },
  {
   "cell_type": "code",
   "execution_count": null,
   "metadata": {},
   "outputs": [],
   "source": []
  }
 ],
 "metadata": {
  "kernelspec": {
   "display_name": "Python 3 (ipykernel)",
   "language": "python",
   "name": "python3"
  },
  "language_info": {
   "codemirror_mode": {
    "name": "ipython",
    "version": 3
   },
   "file_extension": ".py",
   "mimetype": "text/x-python",
   "name": "python",
   "nbconvert_exporter": "python",
   "pygments_lexer": "ipython3",
   "version": "3.10.9"
  }
 },
 "nbformat": 4,
 "nbformat_minor": 1
}
