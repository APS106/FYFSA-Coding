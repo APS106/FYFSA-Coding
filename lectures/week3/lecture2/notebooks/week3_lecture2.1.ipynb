{
 "cells": [
  {
   "cell_type": "markdown",
   "metadata": {},
   "source": [
    "# APS106 Lecture Notes - Week 3, Lecture 2\n",
    "# Objects & Methods. And Strings\n",
    "\n",
    "### Lecture Structure\n",
    "1. [Objects & Methods](#section1)\n",
    "2. [Escape Sequences](#section2)\n",
    "3. [String Operators](#section3)\n",
    "4. [Type Conversion](#section4)"
   ]
  },
  {
   "cell_type": "code",
   "execution_count": null,
   "metadata": {},
   "outputs": [],
   "source": [
    "'''\n",
    "#TRUTHY FALSEY QUIZ\n",
    "\n",
    "b1 = (' ' and 'Hello') or 0\n",
    "b2 = not((' ' and 'a') or '') or \"from the\"\n",
    "b3 = 'Other' and ('other' or not(\"OTHER\"))\n",
    "b4 = not(0.0) and 'side'\n",
    "\n",
    "b1_v2 = (' ' and 'Hello') and 0\n",
    "\n",
    "#print(b1,b2,b3,b4)\n",
    "'''"
   ]
  },
  {
   "cell_type": "code",
   "execution_count": null,
   "metadata": {},
   "outputs": [],
   "source": [
    "if (True == True):\n",
    "    print('hola')"
   ]
  },
  {
   "cell_type": "markdown",
   "metadata": {},
   "source": [
    "<a id='section1'></a>\n",
    "## Objects & Methods\n",
    "\n",
    "### Everything is an Object\n",
    "Everything in Python is an object. That is, Python keeps track of every value, variable, function, etc., as an object with its own memory address. Each value is kept as a separate object and that object has a memory address. For example:"
   ]
  },
  {
   "cell_type": "code",
   "execution_count": null,
   "metadata": {
    "scrolled": true
   },
   "outputs": [],
   "source": [
    "id(4)"
   ]
  },
  {
   "cell_type": "code",
   "execution_count": null,
   "metadata": {},
   "outputs": [],
   "source": [
    "id(235)"
   ]
  },
  {
   "cell_type": "code",
   "execution_count": null,
   "metadata": {},
   "outputs": [],
   "source": [
    "id(int)"
   ]
  },
  {
   "cell_type": "code",
   "execution_count": null,
   "metadata": {},
   "outputs": [],
   "source": [
    "id(max)"
   ]
  },
  {
   "cell_type": "markdown",
   "metadata": {},
   "source": [
    "There is a function that you can call to confirm this: isInstance"
   ]
  },
  {
   "cell_type": "code",
   "execution_count": null,
   "metadata": {},
   "outputs": [],
   "source": [
    "print(isinstance(4,object))"
   ]
  },
  {
   "cell_type": "code",
   "execution_count": null,
   "metadata": {},
   "outputs": [],
   "source": [
    "print(isinstance(abs,object))"
   ]
  },
  {
   "cell_type": "code",
   "execution_count": null,
   "metadata": {},
   "outputs": [],
   "source": [
    "print(isinstance(\"Hello\", object))"
   ]
  },
  {
   "cell_type": "code",
   "execution_count": null,
   "metadata": {},
   "outputs": [],
   "source": [
    "print(isinstance(\"Hello\", str))"
   ]
  },
  {
   "cell_type": "code",
   "execution_count": null,
   "metadata": {},
   "outputs": [],
   "source": [
    "my_string = \"Hello\"\n",
    "print(isinstance(my_string, str))\n",
    "print(isinstance(my_string, int))"
   ]
  },
  {
   "cell_type": "markdown",
   "metadata": {},
   "source": [
    "### What's a Method?\n",
    "A method is a special type of function that is associated with a particular type of object. The basic way to think of a method is something that an object can do (or something you can ask an object to do). \n",
    "\n",
    "Calling methods is similar to calling functions with one minor difference. Since methods are applied to objects, we need to provide the object name with a “.” before the method name.\n",
    "\n",
    "    function_name(arguments)\n",
    "    object_name.method_name(arguments)\n",
    "\n",
    "### Turtles Examples\n",
    "\n",
    "You’ve seen the turtle object in lab. We’ll use it to illustrate some methods. "
   ]
  },
  {
   "cell_type": "code",
   "execution_count": null,
   "metadata": {
    "scrolled": true
   },
   "outputs": [],
   "source": [
    "import turtle\n",
    "lebron = turtle.Turtle()\n",
    "\n",
    "lebron.forward(50)\n",
    "lebron.left(90)\n",
    "lebron.forward(50)\n",
    "lebron.left(90)\n",
    "lebron.forward(50)\n",
    "lebron.left(90)\n",
    "lebron.forward(50)\n",
    "lebron.left(90)\n",
    "\n",
    "turtle.done()\n"
   ]
  },
  {
   "cell_type": "markdown",
   "metadata": {},
   "source": [
    "We can make this into a function to use again and again!"
   ]
  },
  {
   "cell_type": "code",
   "execution_count": null,
   "metadata": {},
   "outputs": [],
   "source": [
    "import turtle\n",
    "\n",
    "def draw_square(t, size):\n",
    "    t.forward(size)\n",
    "    t.left(90)\n",
    "    t.forward(size)\n",
    "    t.left(90)\n",
    "    t.forward(size)\n",
    "    t.left(90)\n",
    "    t.forward(size)\n",
    "    t.left(90)\n",
    "\n",
    "lebron = turtle.Turtle()\n",
    "draw_square(lebron,20)\n",
    "draw_square(lebron,40)\n",
    "draw_square(lebron,55)\n",
    "\n",
    "turtle.done()"
   ]
  },
  {
   "cell_type": "markdown",
   "metadata": {},
   "source": [
    "`draw_square` is a function but the various functions we call using t. are _methods_.\n",
    "\n",
    "Let's add some color.\n"
   ]
  },
  {
   "cell_type": "code",
   "execution_count": null,
   "metadata": {},
   "outputs": [],
   "source": [
    "import turtle\n",
    "\n",
    "def drawSquare(t, size):  \n",
    "    t.forward(size)\n",
    "    t.left(90)\n",
    "    t.forward(size)\n",
    "    t.left(90)\n",
    "    t.forward(size)\n",
    "    t.left(90)\n",
    "    t.forward(size)\n",
    "    t.left(90)\n",
    "\n",
    "lebron = turtle.Turtle()\n",
    "lebron.color('red')\n",
    "lebron.begin_fill()\n",
    "drawSquare(lebron, 25)\n",
    "lebron.end_fill()\n",
    "drawSquare(lebron, 40)\n",
    "drawSquare(lebron, 55)\n",
    "\n",
    "turtle.done()"
   ]
  },
  {
   "cell_type": "markdown",
   "metadata": {},
   "source": [
    "Here's a nice example."
   ]
  },
  {
   "cell_type": "code",
   "execution_count": null,
   "metadata": {},
   "outputs": [],
   "source": [
    "import turtle\n",
    "\n",
    "lebron = turtle.Turtle()\n",
    "lebron.color('red')\n",
    "lebron.speed(10)\n",
    "lebron.begin_fill()\n",
    "back_to_beginning = False\n",
    "while not back_to_beginning:\n",
    "    lebron.forward(200)\n",
    "    lebron.left(170)\n",
    "    back_to_beginning = (abs(lebron.pos()) < 1)\n",
    "    \n",
    "lebron.end_fill()\n",
    "turtle.done()\n"
   ]
  },
  {
   "cell_type": "markdown",
   "metadata": {},
   "source": [
    "<a id='section2'></a>\n",
    "## Strings\n",
    "\n",
    "The `str` type was introduced way back in Week 1. In the following sections we will discuss some of the more advanced concepts of strings, namely: formatting, operators, conversion, indexing and methods.\n",
    "\n",
    "### Escape Sequences\n",
    "What if you wanted to `str` variables to be equal to “Don’t forget to buy milk”?"
   ]
  },
  {
   "cell_type": "code",
   "execution_count": null,
   "metadata": {},
   "outputs": [],
   "source": [
    "reminder = 'Don't forget to buy that NFT.'\n",
    "print(reminder)"
   ]
  },
  {
   "cell_type": "markdown",
   "metadata": {},
   "source": [
    "What is the problem here?\n",
    "\n",
    "One way to get around the problem is to use double-quotes."
   ]
  },
  {
   "cell_type": "code",
   "execution_count": null,
   "metadata": {},
   "outputs": [],
   "source": [
    "reminder = \"Don't forget to buy that NFT.\"\n",
    "print(reminder)"
   ]
  },
  {
   "cell_type": "markdown",
   "metadata": {},
   "source": [
    "Similarly, you can print \"He replied, \"My name is LeBron.\"\" by using single quotes."
   ]
  },
  {
   "cell_type": "code",
   "execution_count": null,
   "metadata": {},
   "outputs": [],
   "source": [
    "response = 'He replied, \"My name is LeBron.\"'\n",
    "print(response)"
   ]
  },
  {
   "cell_type": "markdown",
   "metadata": {},
   "source": [
    "OK, but what about:\n",
    "\n",
    "\"Don't forget to buy that NFT,\" LeBron screamed.\n",
    "\n",
    "including the quotes, apostrophe, and period?"
   ]
  },
  {
   "cell_type": "code",
   "execution_count": null,
   "metadata": {},
   "outputs": [],
   "source": [
    "angry_man = \"\\\"Don't forget to buy that NFT,\\\" LeBron screamed.\"\n",
    "print(angry_man)"
   ]
  },
  {
   "cell_type": "markdown",
   "metadata": {},
   "source": [
    "You can include a special character (like ' or \") by using the _escape character_: `\\`. Using `\\` means \"consider the next character as part of the string, not a special character.\""
   ]
  },
  {
   "cell_type": "code",
   "execution_count": null,
   "metadata": {},
   "outputs": [],
   "source": [
    "str_var = \"He yelled \\\"I WIN\\\" and jumped with joy.\"\n",
    "print(str_var)"
   ]
  },
  {
   "cell_type": "markdown",
   "metadata": {},
   "source": [
    "Q: If \\ is the escape character, then how do you include the \\ character in a string?"
   ]
  },
  {
   "cell_type": "code",
   "execution_count": null,
   "metadata": {},
   "outputs": [],
   "source": [
    "escape = \"The escape character in Python is \\\\. Double backslash: \\\\\\\\\"\n",
    "print(escape)"
   ]
  },
  {
   "cell_type": "markdown",
   "metadata": {},
   "source": [
    "The `\\` character and the character that follows are called an _escape sequence_. Here are a few\n",
    "\n",
    " | Escape Sequence | Meaning |\n",
    " |-----------------|---------|\n",
    " |\\n               | newline |\n",
    " |\\t               | tab     |\n",
    " See Gries, Table 4, p. 69."
   ]
  },
  {
   "cell_type": "code",
   "execution_count": null,
   "metadata": {},
   "outputs": [],
   "source": [
    "three_lines = 'This string\\nwill print on two lines\\nwait now it\\'s three lines with a tab\\there'\n",
    "print(three_lines)"
   ]
  },
  {
   "cell_type": "markdown",
   "metadata": {},
   "source": [
    "<a id='section3'></a>\n",
    "### String Operators\n",
    "Just like numbers strings have \"operators\" like +, *, etc."
   ]
  },
  {
   "cell_type": "code",
   "execution_count": null,
   "metadata": {},
   "outputs": [],
   "source": [
    "name = \"Joseph\"\n",
    "message = \"Happy Birthday \" + name\n",
    "print(message)"
   ]
  },
  {
   "cell_type": "code",
   "execution_count": null,
   "metadata": {},
   "outputs": [],
   "source": [
    "name = 'Katia' * 5\n",
    "print(name)\n",
    "\n",
    "x = 'aaaaa' * (1)"
   ]
  },
  {
   "cell_type": "code",
   "execution_count": null,
   "metadata": {},
   "outputs": [],
   "source": [
    "name = 3 * \"Katia\"\n",
    "print(name)"
   ]
  },
  {
   "cell_type": "code",
   "execution_count": null,
   "metadata": {},
   "outputs": [],
   "source": [
    "cat_dog = 'cat' + 'dog' * 2\n",
    "print(cat_dog)"
   ]
  },
  {
   "cell_type": "markdown",
   "metadata": {},
   "source": [
    " | Expression | Description |\n",
    " |------------|-------------|\n",
    " |st1 + str2  |concatenate str1 and str2           |\n",
    " |str1 * int1 |concatenate int1 copies of str1     |\n",
    " |int1 * str1 |concatenate int1 copies of str1     |\n",
    " \n",
    " \"concatenate\" means to put things together in a sequence.\n",
    " \n",
    " What about other operators: -, \\\\? They're not defined."
   ]
  },
  {
   "cell_type": "code",
   "execution_count": null,
   "metadata": {
    "scrolled": true
   },
   "outputs": [],
   "source": [
    "name = \"Mark\" - 'k'"
   ]
  },
  {
   "cell_type": "markdown",
   "metadata": {},
   "source": [
    "**Challenge:  Write a function, without using a loop, to create a string the repeats “Happy Birthday [NAME]” as many times as the age of the person?**"
   ]
  },
  {
   "cell_type": "code",
   "execution_count": null,
   "metadata": {},
   "outputs": [],
   "source": [
    "def happy_bday(name, age):\n",
    "    '''\n",
    "    (str, int) -> str\n",
    "    Returns a str that repeats \"Happy Birthday <name>\\n\" age times\n",
    "    '''\n",
    "    return (\"Happy Birthday \" + name + '\\n') * age\n",
    "    \n",
    "long_str = happy_bday(\"Seb\", 29)\n",
    "print(long_str)"
   ]
  },
  {
   "cell_type": "markdown",
   "metadata": {},
   "source": [
    "### Triple-quoted Strings\n",
    "\n",
    "We've seen single- and double-quotes, why not triple? We've seen these already in docstrings but, in fact, triple quotes can be used in normal string constants too.\n",
    "\n",
    "Triple-quoted strings can span multiple lines."
   ]
  },
  {
   "cell_type": "code",
   "execution_count": null,
   "metadata": {
    "scrolled": true
   },
   "outputs": [],
   "source": [
    "z = \"\"\"\n",
    "How are you\n",
    "\n",
    "asdf\n",
    "asdf\n",
    "asd\n",
    "\n",
    "\n",
    "doing\n",
    "\n",
    "on this fine, cold morning\n",
    "\"\"\"\n",
    "\n",
    "x = 10\n",
    "def my_func():\n",
    "    if x > 0:\n",
    "        print('0')\n",
    "    if x > 5:\n",
    "        print('5')\n",
    "    if x == 10:\n",
    "        print('10')\n",
    "\n",
    "num=36\n",
    "print(num == 35)"
   ]
  },
  {
   "cell_type": "markdown",
   "metadata": {},
   "source": [
    "## Strings are Objects!"
   ]
  },
  {
   "cell_type": "code",
   "execution_count": null,
   "metadata": {},
   "outputs": [],
   "source": [
    "help(str)"
   ]
  },
  {
   "cell_type": "markdown",
   "metadata": {},
   "source": [
    "And strings have pre-defined methods."
   ]
  },
  {
   "cell_type": "code",
   "execution_count": null,
   "metadata": {},
   "outputs": [],
   "source": [
    "my_str = \"A string of characters perhaps with some repetition\"\n",
    "num_i = my_str.count(\"i\")\n",
    "print(num_i)"
   ]
  },
  {
   "cell_type": "code",
   "execution_count": null,
   "metadata": {},
   "outputs": [],
   "source": [
    "my_str = \"Today is the first day of the week: Monday\"\n",
    "num_day = my_str.count(\"day\")\n",
    "print(num_day)"
   ]
  },
  {
   "cell_type": "code",
   "execution_count": null,
   "metadata": {},
   "outputs": [],
   "source": [
    "start_day = my_str.find(\"day\")\n",
    "print(start_day)"
   ]
  },
  {
   "cell_type": "markdown",
   "metadata": {},
   "source": [
    "<a id='section4'></a>\n",
    "## Type Conversions\n",
    "**Convert to str**\n",
    "\n",
    "The builtin function `str` takes any value and returns a string representation of that value."
   ]
  },
  {
   "cell_type": "code",
   "execution_count": null,
   "metadata": {},
   "outputs": [],
   "source": [
    "str(2)\n",
    "my_str = '2' + '2'\n",
    "print(type(my_str))"
   ]
  },
  {
   "cell_type": "code",
   "execution_count": null,
   "metadata": {},
   "outputs": [],
   "source": [
    "x = str(42.8)\n",
    "print(x)     #even though this looks like a float, it's actually a string\n",
    "print(type(x))"
   ]
  },
  {
   "cell_type": "markdown",
   "metadata": {},
   "source": [
    "**Convert to int**"
   ]
  },
  {
   "cell_type": "code",
   "execution_count": null,
   "metadata": {},
   "outputs": [],
   "source": [
    "y = int('12345')\n",
    "print(y)\n",
    "print(type(y))"
   ]
  },
  {
   "cell_type": "code",
   "execution_count": null,
   "metadata": {},
   "outputs": [],
   "source": [
    "print(int('-99'))"
   ]
  },
  {
   "cell_type": "code",
   "execution_count": null,
   "metadata": {},
   "outputs": [],
   "source": [
    "print(int('99.9'))"
   ]
  },
  {
   "cell_type": "code",
   "execution_count": null,
   "metadata": {},
   "outputs": [],
   "source": [
    "print(int(99.9))  #notice the difference between this and above"
   ]
  },
  {
   "cell_type": "markdown",
   "metadata": {},
   "source": [
    "If function `int` is called with a string that contains anything other than digits, a `ValueError` happens.\n",
    "\n",
    "**Convert to float**"
   ]
  },
  {
   "cell_type": "code",
   "execution_count": null,
   "metadata": {},
   "outputs": [],
   "source": [
    "print(float('99.9'))"
   ]
  },
  {
   "cell_type": "code",
   "execution_count": null,
   "metadata": {},
   "outputs": [],
   "source": [
    "print(int('99.9')) #remember we couldn't do this above, but now that we know the float conversion function works..."
   ]
  },
  {
   "cell_type": "code",
   "execution_count": null,
   "metadata": {},
   "outputs": [],
   "source": [
    "#How about this?\n",
    "print(int(float('99.9')))"
   ]
  },
  {
   "cell_type": "code",
   "execution_count": null,
   "metadata": {},
   "outputs": [],
   "source": [
    "print(float('-43.2'))"
   ]
  },
  {
   "cell_type": "code",
   "execution_count": null,
   "metadata": {},
   "outputs": [],
   "source": [
    "print(float('453'))"
   ]
  },
  {
   "cell_type": "markdown",
   "metadata": {},
   "source": [
    "If function `float` is called with a string that can't be converted, a `ValueError` happens."
   ]
  },
  {
   "cell_type": "code",
   "execution_count": null,
   "metadata": {},
   "outputs": [],
   "source": [
    "print(float('-9.9.9.9.9.9.9'))\n",
    "#print(int('9.9'))"
   ]
  },
  {
   "cell_type": "code",
   "execution_count": null,
   "metadata": {},
   "outputs": [],
   "source": []
  },
  {
   "cell_type": "markdown",
   "metadata": {},
   "source": [
    "We'll see more of these methods in the next lecture.\n",
    "\n",
    "<div class=\"alert alert-block alert-info\">\n",
    "<big><b>This Lecture</b></big>\n",
    "<ul>  \n",
    " <li>objects and methods</li>  \n",
    " <li>strings: escape characters, operators, triple quotes</li>  \n",
    "    <li>strings are objects and have methods defined. View them via help(str).</li>\n",
    "</ul>  \n",
    "</div>"
   ]
  },
  {
   "cell_type": "code",
   "execution_count": null,
   "metadata": {},
   "outputs": [],
   "source": []
  }
 ],
 "metadata": {
  "kernelspec": {
   "display_name": "Python 3 (ipykernel)",
   "language": "python",
   "name": "python3"
  },
  "language_info": {
   "codemirror_mode": {
    "name": "ipython",
    "version": 3
   },
   "file_extension": ".py",
   "mimetype": "text/x-python",
   "name": "python",
   "nbconvert_exporter": "python",
   "pygments_lexer": "ipython3",
   "version": "3.10.9"
  }
 },
 "nbformat": 4,
 "nbformat_minor": 1
}
