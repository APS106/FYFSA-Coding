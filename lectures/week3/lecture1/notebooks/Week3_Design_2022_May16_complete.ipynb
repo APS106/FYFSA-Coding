{
 "cells": [
  {
   "cell_type": "markdown",
   "metadata": {
    "pycharm": {
     "name": "#%% md\n"
    }
   },
   "source": [
    "### APS106 Lecture Notes - Week 3, Design Problem\n",
    "\n",
    "## Problem Background\n",
    "\n",
    "You just finished your APS106 midterm and heading to dinner with a few friends. However, no one can decide what to eat. Recently, your friends have been watching the Big Bang Theory and are planning on using Rock-Paper-Scissors-Lizard-Spock to decide.\n",
    "\n",
    "However, to truly make the game fun, you will be playing each other! The person with the best record in this round-robin tournament will decide what to eat. Thus, write a Python program that using conditional statements and two user inputs to play Rock-Paper-Lizard-Spock against your friend.\n",
    "\n",
    "Keep in mind that you are hungry! Make sure your code is efficient, well-thought-out, and accounts for all possibilities.\n",
    "\n",
    "Here is a link to how the game works, courtesy of the Big Bang Theory: https://www.youtube.com/watch?v=IFurn06BDuc (upto 1:14)\n",
    "\n",
    "And a visual for those who do not want to watch the clip: https://files.realpython.com/media/rps-lizardspock.88cf9623a6f0.png"
   ]
  },
  {
   "cell_type": "markdown",
   "metadata": {
    "pycharm": {
     "name": "#%% md\n"
    }
   },
   "source": [
    "## Define the problem\n",
    "Given the spin on the classic rock-paper-scissors-game, we must develop a Python program with two user inputs, conditional statements, that obeys the game's rules, and accounts for all possible scenarios to be as comprehensive as possible.\n",
    "\n",
    "The difficulty in this problem lies in the implementation of the game with the comparison of user inputs. Do we want to use many if-statements? Is there a simpler way to do it? Let's consider some test cases first."
   ]
  },
  {
   "cell_type": "markdown",
   "metadata": {},
   "source": [
    "## Define Test Cases\n",
    "\n",
    "Let's start with the easiest case of rock and scissors.\n",
    "It is quite simple, if User 1 selects rock and User 2 selects scissors then we must choose the user to win!\n",
    "\n",
    "What if the users tie? How would we recognize that?\n",
    "\n",
    "But what if either of the users makes a typo? Or selects an option not present?\n",
    "Our program must be able to recognize this and correct for it!"
   ]
  },
  {
   "cell_type": "markdown",
   "metadata": {},
   "source": [
    "## Generate multiple solutions\n",
    "Based on what we have learned so far, our program must:\n",
    " 1) Use if-statements to outline all possibilities\n",
    " 2) Use a select_winner function to determine who won between the user inputs\n",
    "\n",
    "Thus, a fantastic algorithmic plan would be:\n",
    "1. Get RPLS selection from the users\n",
    "2. Compare to determine who wins\n",
    "3. Display winner on the screen!\n",
    "\n",
    "What about a Programming Plan? How can we implement this efficiently and cleanly?\n",
    "1. Get input from the users and store in two variable.\n",
    "2. Compare inputs between users and compute to see who won.\n",
    "3. Display winner!"
   ]
  },
  {
   "cell_type": "markdown",
   "metadata": {
    "pycharm": {
     "name": "#%% md\n"
    }
   },
   "source": [
    "## Select a Solution\n",
    "As the single solution looks straight-forward (since the problem is pretty easy), we can select it and proceed."
   ]
  },
  {
   "cell_type": "markdown",
   "metadata": {},
   "source": []
  },
  {
   "cell_type": "markdown",
   "metadata": {
    "pycharm": {
     "name": "#%% md\n"
    }
   },
   "source": [
    "## Two player code"
   ]
  },
  {
   "cell_type": "code",
   "execution_count": null,
   "metadata": {
    "pycharm": {
     "name": "#%%\n"
    }
   },
   "outputs": [],
   "source": [
    "# function which selects the winner\n",
    "def rpsls_twoplayer(input1, input2):\n",
    "    \"\"\"\n",
    "    Determine winner of a two person rock-paper-lizard-spock game from two user inputs\n",
    "    rpsls_twoplayer(string, string) -> string\n",
    "    \"\"\"\n",
    "\n",
    "    if (input1 == input2):\n",
    "        print ('It is a tie!')\n",
    "    elif (input1 == 'rock') and (input2 == 'scissors'):\n",
    "        print ('User 1 selected rock, User 2 selected scissors, User 1 wins')\n",
    "    elif (input1 == 'scissors') and (input2 == 'rock'):\n",
    "        print ('User 1 selected scissors, User 2 selected rock, User 2 wins')\n",
    "    elif (input1 == 'rock') and (input2 == 'paper'):\n",
    "        print ('User 1 selected rock, User 2 selected paper, User 2 wins')\n",
    "    elif (input1 == 'paper') and (input2 == 'rock'):\n",
    "        print ('User 1 selected paper, User 2 selected rock, User 1 wins')\n",
    "    elif (input1 == 'rock') and (input2 == 'lizard'):\n",
    "        print ('User 1 selected rock, User 2 selected lizard, User 1 wins')\n",
    "    elif (input1 == 'lizard') and (input2 == 'rock'):\n",
    "        print ('User 1 selected lizard, User 2 selected rock, User 2 wins')\n",
    "    elif (input1 == 'rock') and (input2 == 'Spock'):\n",
    "        print ('User 1 selected rock, User 2 selected Spock, User 2 wins')\n",
    "    elif (input1 == 'Spock') and (input2 == 'rock'):\n",
    "        print ('User 1 selected Spock, User 2 selected rock, User 1 wins')\n",
    "    elif (input1 == 'paper') and (input2 == 'Spock'):\n",
    "        print ('User 1 selected paper, User 2 selected Spock, User 1 wins')\n",
    "    elif (input1 == 'Spock') and (input2 == 'paper'):\n",
    "        print ('User 1 selected Spock, User 2 selected paper, User 2 wins')\n",
    "    elif (input1 == 'paper') and (input2 == 'scissors'):\n",
    "        print ('User 1 selected paper, User 2 selected scissors, User 2 wins')\n",
    "    elif (input1 == 'scissors') and (input2 == 'paper'):\n",
    "        print ('User 1 selected scissors, User 2 selected paper, User 1 wins')\n",
    "    elif (input1 == 'paper') and (input2 == 'lizard'):\n",
    "        print ('User 1 selected paper, User 2 selected lizard, User 2 wins')\n",
    "    elif (input1 == 'lizard') and (input2 == 'paper'):\n",
    "        print ('User 1 selected lizard, User 2 selected paper, User 1 wins')\n",
    "    elif (input1 == 'lizard') and (input2 == 'scissors'):\n",
    "        print ('User 1 selected lizard, User 2 selected scissors, User 2 wins')\n",
    "    elif (input1 == 'scissors') and (input2 == 'lizard'):\n",
    "        print ('User 1 selected scissors, User 2 selected lizard, User 1 wins')\n",
    "    elif (input1 == 'scissors') and (input2 == 'Spock'):\n",
    "        print ('User 1 selected scissors, User 2 selected Spock, User 2 wins')\n",
    "    elif (input1 == 'Spock') and (input2 == 'scissors'):\n",
    "        print ('User 1 selected Spock, User 2 selected scissors, User 1 wins')\n",
    "    elif (input1 == 'Spock') and (input2 == 'lizard'):\n",
    "        print ('User 1 selected Spock, User 2 selected lizard, User 2 wins')\n",
    "    elif (input1 == 'lizard') and (input2 == 'Spock'):\n",
    "        print ('User 1 selected lizard, User 2 selected Spock, User 1 wins')\n",
    "    else:\n",
    "        print (\"Input is not a character in RPSLS\")\n",
    "\n",
    "player1_guess = input('Enter your choice Player 1: (Options: rock, Spock, paper, lizard, scissors)')\n",
    "player2_guess = input('Enter your choice Player 2: (Options: rock, Spock, paper, lizard, scissors)')\n",
    "rpsls_twoplayer(str(player1_guess), str(player2_guess))"
   ]
  },
  {
   "cell_type": "code",
   "execution_count": null,
   "metadata": {
    "pycharm": {
     "name": "#%%\n"
    }
   },
   "outputs": [],
   "source": [
    "import rpsls_visualizer\n",
    "rpsls_visualizer.visualizer(player1_guess, player2_guess, 'player2')"
   ]
  },
  {
   "cell_type": "markdown",
   "metadata": {},
   "source": [
    "## Perform Final Testing\n",
    "\n",
    "Test different inputs and test cases with your written code!"
   ]
  },
  {
   "cell_type": "markdown",
   "metadata": {},
   "source": [
    "# But as we can see, we have so many lines of code to do multiple if-statements so can we simplify it? I have an approach but it requires us to make another function!"
   ]
  },
  {
   "cell_type": "code",
   "execution_count": null,
   "metadata": {
    "pycharm": {
     "name": "#%%\n"
    }
   },
   "outputs": [],
   "source": [
    "# to import random function for using random.randrange\n",
    "import random\n",
    "# function to convert name to number\n",
    "def name_to_number(name):\n",
    "    \"\"\"\n",
    "    Converts string name to an integer number\n",
    "    name_to_number(string) -> int\n",
    "    \"\"\"\n",
    "    if name == \"rock\":\n",
    "        return 0\n",
    "    elif name == \"Spock\":\n",
    "        return 1\n",
    "    elif name == \"paper\":\n",
    "        return 2\n",
    "    elif name == \"lizard\":\n",
    "        return 3\n",
    "    elif name == \"scissors\":\n",
    "        return 4\n",
    "    else:\n",
    "        print (name + \"is not a character in RPSLS\")\n",
    "\n",
    "# function which selects the winner\n",
    "def rpsls_2p_improved(guess1, guess2):\n",
    "    \"\"\"\n",
    "    Determine winner of a two person rock-paper-lizard-spock game from two user inputs\n",
    "    rpsls_2p_improved(string, string) -> string\n",
    "    \"\"\"\n",
    "\n",
    "    # convert name to player_number using name_to_number\n",
    "    player1_number = name_to_number(guess1)\n",
    "    player2_number = name_to_number(guess2)\n",
    "\n",
    "    # compute difference of player_number and comp_number modulo five\n",
    "    winner = (player2_number - player1_number) % 5\n",
    "\n",
    "    # use if/elif/else to determine winner\n",
    "    if winner < 3:\n",
    "        player1_win = False\n",
    "    else:\n",
    "        player1_win = True\n",
    "\n",
    "    # print results\n",
    "    print (\"Player 1 chose \" + guess1)\n",
    "    print (\"Player 2 chose \" + guess2)\n",
    "    if player1_win:\n",
    "        print (\"Player 1 wins!\\n\")\n",
    "    elif player1_number == player2_number:\n",
    "        print (\"Player 1 and Player 2 tie!\\n\")\n",
    "    else:\n",
    "        print (\"Player 2 wins!\\n\")\n",
    "\n",
    "\n",
    "player1_guess = input('Enter your choice Player 1: (Options: rock, Spock, paper, lizard, scissors)')\n",
    "player2_guess = input('Enter your choice Player 2: (Options: rock, Spock, paper, lizard, scissors)')\n",
    "\n",
    "rpsls_2p_improved(str(player1_guess), str(player2_guess))"
   ]
  },
  {
   "cell_type": "code",
   "execution_count": null,
   "metadata": {
    "pycharm": {
     "name": "#%%\n"
    }
   },
   "outputs": [],
   "source": [
    "import rpsls_visualizer\n",
    "rpsls_visualizer.visualizer(player1_guess, player2_guess, 'player1')"
   ]
  },
  {
   "cell_type": "markdown",
   "metadata": {
    "pycharm": {
     "name": "#%% md\n"
    }
   },
   "source": [
    "# What if we want to play against a computer? How would we handle that? We want the game to be truly random!"
   ]
  },
  {
   "cell_type": "code",
   "execution_count": null,
   "metadata": {
    "pycharm": {
     "name": "#%%\n"
    }
   },
   "outputs": [],
   "source": [
    "import random\n",
    "\n",
    "# function to convert number to name\n",
    "def number_to_name(number):\n",
    "    \"\"\"\n",
    "    Converts int number to a string name (choice in RPLS)\n",
    "    number_to_name(number) -> string\n",
    "    \"\"\"\n",
    "    if number == 0:\n",
    "        return \"rock\"\n",
    "    elif number == 1:\n",
    "        return \"Spock\"\n",
    "    elif number == 2:\n",
    "        return \"paper\"\n",
    "    elif number == 3:\n",
    "        return \"lizard\"\n",
    "    elif number == 4:\n",
    "        return \"scissors\"\n",
    "    else:\n",
    "        return \"Error\"\n",
    "\n",
    "# function which selects the winner\n",
    "def rpsls(guess):\n",
    "    \"\"\"\n",
    "    Determine winner of a one person rock-paper-lizard-spock game from one user input and a randomly generated computer input\n",
    "    rpsls(string) -> string\n",
    "    \"\"\"\n",
    "\n",
    "    # convert name to player_number using name_to_number\n",
    "    player_number = name_to_number(guess)\n",
    "\n",
    "    # compute random guess for comp_number using random.randrange()\n",
    "    comp_number = random.randrange(0,5)\n",
    "    # compute difference of player_number and comp_number modulo five\n",
    "    winner = (comp_number - player_number) % 5\n",
    "\n",
    "    # use if/elif/else to determine winner\n",
    "    if winner < 3:\n",
    "        player_win = False\n",
    "    else:\n",
    "        player_win = True\n",
    "\n",
    "    # convert comp_number to name using number_to_name\n",
    "    comp_name = number_to_name(comp_number)\n",
    "\n",
    "    # print results\n",
    "    print (\"Player chooses \" + guess)\n",
    "    print (\"Computer chooses \" + comp_name)\n",
    "    if player_win:\n",
    "        print (\"Player wins!\\n\")\n",
    "    elif comp_number == player_number:\n",
    "        print (\"Player and computer tie!\\n\")\n",
    "    else:\n",
    "        print (\"Computer wins!\\n\")\n",
    "\n",
    "\n",
    "player_guess = input('Enter your choice.. Options: rock, Spock, paper, lizard, scissors')\n",
    "\n",
    "rpsls(str(player_guess))"
   ]
  },
  {
   "cell_type": "code",
   "execution_count": null,
   "metadata": {
    "pycharm": {
     "name": "#%%\n"
    }
   },
   "outputs": [],
   "source": []
  }
 ],
 "metadata": {
  "kernelspec": {
   "display_name": "Python 3 (ipykernel)",
   "language": "python",
   "name": "python3"
  },
  "language_info": {
   "codemirror_mode": {
    "name": "ipython",
    "version": 3
   },
   "file_extension": ".py",
   "mimetype": "text/x-python",
   "name": "python",
   "nbconvert_exporter": "python",
   "pygments_lexer": "ipython3",
   "version": "3.9.7"
  }
 },
 "nbformat": 4,
 "nbformat_minor": 1
}
