{
 "cells": [
  {
   "cell_type": "markdown",
   "metadata": {
    "pycharm": {
     "name": "#%% md\n"
    }
   },
   "source": [
    "### APS106 Lecture Notes - Week 3, Design Problem\n",
    "\n",
    "## Problem Background\n",
    "\n",
    "You just finished your APS106 midterm and heading to dinner with a few friends. However, no one can decide what to eat. Recently, your friends have been watching the Big Bang Theory and are planning on using Rock-Paper-Scissors-Lizard-Spock to decide.\n",
    "\n",
    "However, to truly make the game fun, you will be playing each other! The person with the best record in this round-robin tournament will decide what to eat. Thus, write a Python program that using conditional statements and two user inputs to play Rock-Paper-Lizard-Spock against your friend.\n",
    "\n",
    "Keep in mind that you are hungry! Make sure your code is efficient, well-thought-out, and accounts for all possibilities.\n",
    "\n",
    "Here is a link to how the game works, courtesy of the Big Bang Theory: https://www.youtube.com/watch?v=IFurn06BDuc (upto 1:14)\n",
    "\n",
    "And a visual for those who do not want to watch the clip: https://files.realpython.com/media/rps-lizardspock.88cf9623a6f0.png"
   ]
  },
  {
   "cell_type": "markdown",
   "metadata": {
    "pycharm": {
     "name": "#%% md\n"
    }
   },
   "source": [
    "## Define the problem\n",
    "Given the spin on the classic rock-paper-scissors-game, we must develop a Python program with two user inputs, conditional statements, that obeys the game's rules, and accounts for all possible scenarios to be as comprehensive as possible.\n",
    "\n",
    "The difficulty in this problem lies in the implementation of the game with the comparison of user inputs. Do we want to use many if-statements? Is there a simpler way to do it? Let's consider some test cases first.\n",
    "\n",
    "Remember that: 1) we are doing this AFTER our APS106 midterm so #cleancode is fresh in our mind; and most importantly, 2) we are starving."
   ]
  },
  {
   "cell_type": "markdown",
   "metadata": {},
   "source": [
    "## Define Test Cases\n",
    "\n",
    "Let's start with the easiest case of rock and scissors.\n",
    "It is quite simple, if User 1 selects rock and User 2 selects scissors then we must choose the user to win!\n",
    "\n",
    "What if the users tie? How would we recognize that?\n",
    "\n",
    "But what if either of the users makes a typo? Or selects an option not present?\n",
    "Our program must be able to recognize this and correct for it!"
   ]
  },
  {
   "cell_type": "markdown",
   "metadata": {},
   "source": [
    "## Generate multiple solutions\n",
    "Based on what we have learned so far, our program must:\n",
    " 1) Use if-statements to outline all possibilities\n",
    " 2) Use a select_winner function to determine who won between the user inputs\n",
    "\n",
    "Thus, a fantastic algorithmic plan would be:\n",
    "1. Get RPLS selection from the users\n",
    "2. Compare to determine who wins\n",
    "3. Display winner on the screen!\n",
    "\n",
    "What about a Programming Plan? How can we implement this efficiently and cleanly?\n",
    "1. Get input from the users and store in two variable.\n",
    "2. Compare inputs between users and compute to see who won.\n",
    "3. Display winner!"
   ]
  },
  {
   "cell_type": "markdown",
   "metadata": {
    "pycharm": {
     "name": "#%% md\n"
    }
   },
   "source": [
    "## Select a Solution\n",
    "As the single solution looks straight-forward (since the problem is pretty easy), we can select it and proceed."
   ]
  },
  {
   "cell_type": "markdown",
   "metadata": {},
   "source": []
  },
  {
   "cell_type": "markdown",
   "metadata": {
    "pycharm": {
     "name": "#%% md\n"
    }
   },
   "source": [
    "## Two player code"
   ]
  },
  {
   "cell_type": "code",
   "execution_count": null,
   "metadata": {
    "pycharm": {
     "is_executing": true,
     "name": "#%%\n"
    }
   },
   "outputs": [],
   "source": [
    "# function which outlines all possibilities and outlines the winner\n",
    "def rpsls_twoplayer(input1, input2):\n",
    "    \"\"\"\n",
    "    Determine winner of a two person rock-paper-lizard-spock game from two user inputs\n",
    "    rpsls_twoplayer(string, string) -> string\n",
    "    \"\"\"\n",
    "\n",
    "player1_guess = ... # how would we get inputs from the user 1?\n",
    "player2_guess = ... # how would we get inputs from the user 1?\n",
    "rpsls_twoplayer(..., ...) # how would we pass these inputs to our function?"
   ]
  },
  {
   "cell_type": "markdown",
   "metadata": {},
   "source": [
    "## Perform Final Testing\n",
    "\n",
    "Test different inputs and test cases with your written code!"
   ]
  },
  {
   "cell_type": "markdown",
   "metadata": {},
   "source": [
    "## OPTIONAL section for those who want to work ahead: Can you modify the above code to remove the many if-statements? Can we use #cleancode? I did it with an addition of one extra function, what's your solution?"
   ]
  },
  {
   "cell_type": "code",
   "execution_count": null,
   "metadata": {
    "pycharm": {
     "is_executing": true,
     "name": "#%%\n"
    }
   },
   "outputs": [],
   "source": [
    "# function to convert name to number - think about why I might want to convert the names to numbers? Is there a numerical operation that you have learned that may be useful?\n",
    "def name_to_number(name):\n",
    "    \"\"\"\n",
    "    Converts string name to an integer number\n",
    "    name_to_number(string) -> int\n",
    "    \"\"\"\n",
    "# function which selects the winner\n",
    "def rpsls_2p_improved(guess1, guess2):\n",
    "    \"\"\"\n",
    "    Determine winner of a two person rock-paper-lizard-spock game from two user inputs\n",
    "    rpsls_2p_improved(string, string) -> string\n",
    "    \"\"\"\n",
    "\n",
    "player1_guess = ...\n",
    "player2_guess = ...\n",
    "\n",
    "rpsls_2p_improved(..., ...)"
   ]
  },
  {
   "cell_type": "code",
   "execution_count": null,
   "metadata": {
    "pycharm": {
     "name": "#%%\n"
    }
   },
   "outputs": [],
   "source": []
  }
 ],
 "metadata": {
  "kernelspec": {
   "display_name": "Python 3 (ipykernel)",
   "language": "python",
   "name": "python3"
  },
  "language_info": {
   "codemirror_mode": {
    "name": "ipython",
    "version": 3
   },
   "file_extension": ".py",
   "mimetype": "text/x-python",
   "name": "python",
   "nbconvert_exporter": "python",
   "pygments_lexer": "ipython3",
   "version": "3.9.7"
  }
 },
 "nbformat": 4,
 "nbformat_minor": 1
}
