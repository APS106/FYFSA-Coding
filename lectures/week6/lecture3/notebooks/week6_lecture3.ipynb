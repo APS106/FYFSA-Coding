{
 "cells": [
  {
   "cell_type": "markdown",
   "metadata": {},
   "source": [
    "## APS106 Lecture Notes\n",
    "# Reading from and Writing to Files\n",
    "\n",
    "### Lecture Structure\n",
    "1. [Write to your first file!](#section1)\n",
    "2. [Writing a dictionary to file](#section2)\n",
    "3. [Reading Files](#section3)\n",
    "4. [The with Statement](#section4)\n",
    "5. [CSV Files](#section5)\n"
   ]
  },
  {
   "cell_type": "markdown",
   "metadata": {},
   "source": [
    " <a id='section1'></a>\n",
    "## 1. Working with Files\n",
    "\n",
    "If you are going to write programs that do something with data, you do not want to hard-code all that data or have the user enter it again and again. You need to be able to write to and read from files.\n",
    "\n",
    "When a program is running, its data is in RAM - fast, volatile memory. Volatile means that the data disappears as soon as the program ends. Files are a way to organize data on slower, persistent media (e.g. a disk, USB, etc). This data will stay there when the program is done.\n",
    "\n",
    "Working with files is a lot like working with a notebook. \n",
    "\n",
    "- A file has to be opened. \n",
    "- When you are done, it has to be closed. \n",
    "- While the file is open, it can either be read from or written to. \n",
    "- Like a bookmark, the file keeps track of where you are reading to or writing from. \n",
    "- You can read the whole file in its natural order or you can skip around. \n",
    "\n",
    "### Opening and Closing a File\n",
    "\n",
    "Python has a built-in function where you specify the filename and the mode of access (\"w\" = write, \"r\" = read, \"a\" = append)."
   ]
  },
  {
   "cell_type": "code",
   "execution_count": null,
   "metadata": {},
   "outputs": [],
   "source": [
    "myfile = open(\"test.txt\", \"w\")\n",
    "#type(myfile)\n",
    "#dir(myfile)"
   ]
  },
  {
   "cell_type": "markdown",
   "metadata": {},
   "source": [
    "This command will open `test.txt` in the folder where the program is being executed. If `test.txt` does not exist it will be created. If it does exist, it will be **over-written!!!**\n",
    "\n",
    "`myfile` is an object that keeps track of information about the file (e.g., where you are in it). If you want to write to (or read from) the file, you need to do so via the file object."
   ]
  },
  {
   "cell_type": "code",
   "execution_count": null,
   "metadata": {},
   "outputs": [],
   "source": [
    "myfile.write(\"CATS!\")"
   ]
  },
  {
   "cell_type": "markdown",
   "metadata": {},
   "source": [
    "This command writes a string to myfile. It is like `print` but does not add the newline. So:"
   ]
  },
  {
   "cell_type": "code",
   "execution_count": null,
   "metadata": {
    "scrolled": true
   },
   "outputs": [],
   "source": [
    "myfile.write(\"\\n\")\n",
    "myfile.write(\"I <3 my second sentence\\n\")  #need to add \\n newline character, unlike print()\n",
    "\n",
    "myfile.close()"
   ]
  },
  {
   "cell_type": "code",
   "execution_count": null,
   "metadata": {},
   "outputs": [],
   "source": [
    "myfile = open('test.txt','w')  #what happens to file changing modes between 'a' and 'w'\n",
    "myfile.write('hola')\n",
    "myfile.close()"
   ]
  },
  {
   "cell_type": "markdown",
   "metadata": {},
   "source": [
    "# Breakout Session\n",
    "## Find which folder (or directory) your files are being saved\n",
    "## Play around with writing to a file!"
   ]
  },
  {
   "cell_type": "markdown",
   "metadata": {},
   "source": [
    "\n",
    "\n",
    " <a id='section2'></a>\n",
    "## 2. Writing a dictionary to file\n",
    "\n"
   ]
  },
  {
   "cell_type": "code",
   "execution_count": null,
   "metadata": {},
   "outputs": [],
   "source": [
    "#GENERAL FORM\n",
    "\n",
    "# create a file\n",
    "write_file = open(\"grades.txt\", \"w\")\n",
    "\n",
    "# write a string to file\n",
    "write_file.write('something you want to write')\n",
    "\n",
    "# close the file    \n",
    "write_file.close()"
   ]
  },
  {
   "cell_type": "code",
   "execution_count": null,
   "metadata": {},
   "outputs": [],
   "source": [
    "students = {'Kendrick': 'A+', 'Dre': 'C-', 'Snoop': 'B'} \n",
    "\n",
    "# create a file\n",
    "myfile = open(\"grades.txt\", \"w\")\n",
    "\n",
    "# store dictionary items to the file\n",
    "for student in students:\n",
    "    myfile.write(student + ',' + students[student] + '\\n')\n",
    "\n",
    "# close the file    \n",
    "myfile.close()"
   ]
  },
  {
   "cell_type": "markdown",
   "metadata": {},
   "source": [
    "The next `write` statement writes the string where ever we left off. When we are done, the file needs to be closed. This tells the file object that we are done and it should clean things up."
   ]
  },
  {
   "cell_type": "markdown",
   "metadata": {},
   "source": [
    "Now we can go to the folder where the jupyter notebook is and observe that there is a file there called text.txt containing the lines that we wrote out.\n",
    "\n",
    "<a id='section3'></a>\n",
    "## 3. Reading Files\n",
    "\n",
    "Now that the file exists on our disk, we can open it, this time for reading, and read all the lines in the file, one at a time. This time, the mode argument is \"r\" for reading:"
   ]
  },
  {
   "cell_type": "markdown",
   "metadata": {},
   "source": [
    "There are four common ways to read a file. \n",
    "\n",
    "### read"
   ]
  },
  {
   "cell_type": "code",
   "execution_count": null,
   "metadata": {},
   "outputs": [],
   "source": [
    "#declaring filename to change easily if you want to try with different files\n",
    "filename = 'grades.txt'"
   ]
  },
  {
   "cell_type": "code",
   "execution_count": null,
   "metadata": {
    "scrolled": true
   },
   "outputs": [],
   "source": [
    "# Approach: read\n",
    "# When to use it: When you want to read the whole file at once and use it as a single string.\n",
    "# Example code\n",
    "\n",
    "myfile = open(filename, 'r')\n",
    "\n",
    "contents = myfile.read() # contents is a string that contains the entire contents of the file\n",
    "\n",
    "myfile.close()\n",
    "\n",
    "print(contents)  #what if we don't use print and just output the variable?"
   ]
  },
  {
   "cell_type": "markdown",
   "metadata": {},
   "source": [
    "### readline"
   ]
  },
  {
   "cell_type": "code",
   "execution_count": null,
   "metadata": {},
   "outputs": [],
   "source": [
    "# Approach: readline\n",
    "# When to use it: When you want to process the file line-by-line\n",
    "# Example code\n",
    "myfile = open(filename, 'r')\n",
    "line = myfile.readline()\n",
    "contents = ''\n",
    "\n",
    "''' \n",
    "line = myfile.readline() #this is showing how one might use readline one call at a time, as opposed to in a loop\n",
    "print(line)\n",
    "line = myfile.readline()\n",
    "print(line)\n",
    "'''\n",
    "\n",
    "while line:\n",
    "    contents += line \n",
    "    line = myfile.readline() # each time through the loop line contains one line of the file\n",
    "myfile.close()\n",
    "\n",
    "print(contents)\n",
    "# by the end of this contents contains the entire contents of the file"
   ]
  },
  {
   "cell_type": "markdown",
   "metadata": {},
   "source": [
    "### for line in file"
   ]
  },
  {
   "cell_type": "code",
   "execution_count": null,
   "metadata": {},
   "outputs": [],
   "source": [
    "# Approach: for line in file\n",
    "# When to use it: When you want to process the file line-by-line\n",
    "# Example code\n",
    "myfile = open(filename, 'r')\n",
    "contents = ''\n",
    "for line in myfile: # each time through the loop line contains one line of the file\n",
    "    contents += line\n",
    "    print(line)  #why is there a gap between rows?\n",
    "myfile.close()\n",
    "\n",
    "print('Final contents:', contents, sep='\\n')\n",
    "# by the end of this contents contains the entire contents of the file"
   ]
  },
  {
   "cell_type": "markdown",
   "metadata": {},
   "source": [
    "### readlines"
   ]
  },
  {
   "cell_type": "code",
   "execution_count": null,
   "metadata": {},
   "outputs": [],
   "source": [
    "# Approach: readlines\n",
    "# When to use it: When you want to process the file line-by-line with an index\n",
    "# Example code\n",
    "myfile = open(filename, 'r')\n",
    "lines = myfile.readlines() # lines is a list of strings. Each entry in lines is a line of the file\n",
    "myfile.close()\n",
    "print(lines)"
   ]
  },
  {
   "cell_type": "markdown",
   "metadata": {},
   "source": [
    "Now let's go through the options in more depth, one at a time."
   ]
  },
  {
   "cell_type": "code",
   "execution_count": null,
   "metadata": {},
   "outputs": [],
   "source": [
    "\n"
   ]
  },
  {
   "cell_type": "markdown",
   "metadata": {},
   "source": [
    "### The read approach\n",
    "\n",
    "Read the whole file into a string. **Beware: If the file is huge, this can create problems!**"
   ]
  },
  {
   "cell_type": "code",
   "execution_count": null,
   "metadata": {},
   "outputs": [],
   "source": [
    "flanders_file = open('flanders.txt','w')\n",
    "flanders_file.write('''\n",
    "In Flanders Fields\n",
    "\n",
    "In Flanders fields the poppies blow \n",
    "Between the crosses, row on row,\n",
    "That mark our place; and in the sky\n",
    "The larks, still bravely singing, fly\n",
    "Scarce heard amid the guns below.\n",
    "We are the Dead. Short days ago\n",
    "We lived, felt dawn, saw sunset glow, \n",
    "Loved and were loved, and now we lie\n",
    "In Flanders fields.\n",
    "Take up our quarrel with the foe:\n",
    "To you from failing hands we throw\n",
    "The torch; be yours to hold it high.\n",
    "If ye break faith with us who die\n",
    "We shall not sleep, though poppies grow \n",
    "In Flanders fields.''')\n",
    "flanders_file.close()"
   ]
  },
  {
   "cell_type": "code",
   "execution_count": null,
   "metadata": {
    "scrolled": true
   },
   "outputs": [],
   "source": [
    "flanders_file = open(\"flanders.txt\", 'r')\n",
    "\n",
    "contents = flanders_file.read()\n",
    "\n",
    "print('Type of contents:', type(contents))\n",
    "print(contents)\n",
    "flanders_file.close()\n",
    "\n",
    "#contents #what does this show us about the file?"
   ]
  },
  {
   "cell_type": "markdown",
   "metadata": {},
   "source": [
    "Q: If `flanders_poem` is a string, why does it print out across multiple lines?"
   ]
  },
  {
   "cell_type": "markdown",
   "metadata": {},
   "source": [
    "### The readline approach\n",
    "\n",
    "Read the file line-by-line into a string. This is a safer thing to do as the whole file never gets put in memory at once. Note that the file must be kept open if you still want to read the next line - unlike above where you can close the file immediately after `read()`."
   ]
  },
  {
   "cell_type": "code",
   "execution_count": null,
   "metadata": {},
   "outputs": [],
   "source": [
    "flanders_file = open(\"flanders.txt\", 'r')\n",
    "print(flanders_file)\n",
    "\n",
    "'''\n",
    "line = flanders_file.readline()\n",
    "print(line)\n",
    "line = flanders_file.readline()\n",
    "print(line)\n",
    "line = flanders_file.readline()\n",
    "print(line)\n",
    "line = flanders_file.readline()\n",
    "print(line)\n",
    "line = flanders_file.readline()\n",
    "print(line)\n",
    "\n",
    "'''\n",
    "\n",
    "while line != \"\":\n",
    "    print(line, end='')\n",
    "    line = flanders_file.readline()\n",
    "\n",
    "\n",
    "flanders_file.close()\n"
   ]
  },
  {
   "cell_type": "markdown",
   "metadata": {},
   "source": [
    "### The for line in file approach\n",
    "\n",
    "Like the `readline` approach, this approach also reads in the file line-by-line. It just uses the `in` operator."
   ]
  },
  {
   "cell_type": "code",
   "execution_count": null,
   "metadata": {},
   "outputs": [],
   "source": [
    "flanders_file = open(\"flanders.txt\", 'r')\n",
    "for line in flanders_file:\n",
    "    print(line, end=\"\")\n",
    "    \n",
    "flanders_file.close()\n",
    "print(type(line))"
   ]
  },
  {
   "cell_type": "markdown",
   "metadata": {},
   "source": [
    "### The readlines approach\n",
    "\n",
    "The `readlines` approach reads the whole file in (like `read`) but rather than putting the file in one big string, it creates a list where each line of the file is an entry in the list."
   ]
  },
  {
   "cell_type": "code",
   "execution_count": null,
   "metadata": {
    "scrolled": true
   },
   "outputs": [],
   "source": [
    "flanders_file = open(\"flanders.txt\", 'r')\n",
    "flanders_list = flanders_file.readlines()\n",
    "flanders_file.close()\n",
    "\n",
    "print(type(flanders_list))\n",
    "#print(len(flanders_list))\n",
    "#print(type(flanders_list[0]))\n",
    "print(flanders_list)\n",
    "\n",
    "for line in flanders_list:\n",
    "    print(line, end=\"\")\n"
   ]
  },
  {
   "cell_type": "code",
   "execution_count": null,
   "metadata": {},
   "outputs": [],
   "source": [
    "filename = 'grades.txt'\n",
    "myfile = open(filename, \"r\")\n",
    "\n",
    "students = {}\n",
    "myfile = open(\"grades.txt\", \"r\")\n",
    "\n",
    "# read each line of the file\n",
    "for line in myfile:\n",
    "    # find indices for slicing each line\n",
    "    ind1 = line.find(',')\n",
    "    ind2 = line.find('\\\\')\n",
    "    name = line[:ind1]\n",
    "    grade = line[ind1+1:ind2]\n",
    "    students[name] = grade\n",
    "\n",
    "myfile.close()\n",
    "\n",
    "print(students)"
   ]
  },
  {
   "cell_type": "markdown",
   "metadata": {},
   "source": [
    "<a id='section4'></a>\n",
    "## 4. The with Statement\n",
    "\n",
    "Notice that whenever we open a file, we need to be careful to close it again. Python provides a nice way to open and then automatically close a file using a `with` block.\n",
    "\n",
    "```\n",
    "with open(«filename», «mode») as «variable»:\n",
    "      «body»\n",
    "```\n",
    "\n",
    "The file is opened at the beginning and **automatically closed** at the end of the body. \n"
   ]
  },
  {
   "cell_type": "code",
   "execution_count": null,
   "metadata": {},
   "outputs": [],
   "source": [
    "def f(file_object):\n",
    "    print(file_object.read())\n",
    "\n",
    "with open('test.txt', 'r') as file:  #test.txt is from beginning of notebook\n",
    "    #f(file)\n",
    "    print(file.read())\n",
    "    \n",
    "print(\"The next line\")"
   ]
  },
  {
   "cell_type": "code",
   "execution_count": null,
   "metadata": {},
   "outputs": [],
   "source": [
    "with open(\"flanders.txt\", 'r') as flanders_file:\n",
    "    \n",
    "    #content = flanders_file.read()\n",
    "    #print('Content', content)\n",
    "    \n",
    "    for line in flanders_file:\n",
    "        print('Line: ', line, end=\"\")\n",
    "\n"
   ]
  },
  {
   "cell_type": "markdown",
   "metadata": {},
   "source": [
    " <a id='section5'></a>\n",
    "## 5. CSV Files\n",
    "\n",
    "The CSV format (comma separated values) is very commonly used to represent the data in a spreadsheet. \n",
    "\n",
    "For example a spreadsheet such as:\n",
    "\n",
    "Name|Test1|Test2|Final\n",
    "----|-----|-----|-----\n",
    "Kendrick|100|50|29\n",
    "Dre|76|32|33\n",
    "Snoop|25|75|95\n",
    "\n",
    "is represented as a file like this:\n",
    "\n",
    "```\n",
    "Name,Test1,Test2,Final\n",
    "Kendrick,100,50,29\n",
    "Lamar,76,32,33\n",
    "Snoop,25,75,95\n",
    "```\n",
    "\n",
    "We can, of course, access this files using the techniques above."
   ]
  },
  {
   "cell_type": "code",
   "execution_count": null,
   "metadata": {},
   "outputs": [],
   "source": [
    "csv_file = open('grades.csv','w')\n",
    "csv_file.write('''Name,Test1,Test2,Final\n",
    "Kendrick,100,50,29\n",
    "Dre,76,32,33\n",
    "Snoop,25,75,95\n",
    "''')\n",
    "csv_file.close()"
   ]
  },
  {
   "cell_type": "code",
   "execution_count": null,
   "metadata": {},
   "outputs": [],
   "source": [
    "with open('grades.csv','w') as csv_file:\n",
    "    csv_file.write('Name,Test1,Test2,Final\\nKendrick,100,50,29\\nDre,76,32,33\\nSnoop,25,75,95')\n"
   ]
  },
  {
   "cell_type": "code",
   "execution_count": null,
   "metadata": {},
   "outputs": [],
   "source": [
    "with open('grades.csv', 'r') as file:\n",
    "    for line in file:\n",
    "        print(line, end='')"
   ]
  },
  {
   "cell_type": "markdown",
   "metadata": {},
   "source": [
    "Notice that you have the information about each row and also the commas. If you are going to process this data, you are going to need to **parse** it. That means , for example, to discard the commas (as they just separate the data and are not otherwise meaningful), to extract the integers from the string.\n",
    "\n",
    "One of the great things about Python is the existence of many modules that give us the ability to easily do many things, like reading and writing CSV files. \n",
    "\n",
    "Reading of CSV files can be done using the CSV reader. You can construct a reader object using `csv.reader()` which takes the file object as input. The reader object can be used to iterate through the contents of the CSV file, similarly to how a file object was used to iterate through the contents in a text file.\n",
    "\n",
    "The difference between the two is that the file method `read(`) returns the entire contents of the file as one long string, whereas, the CSV `reader()` returns an object which can be iterated through. The reader object holds each row as a list of strings and can be iterated through row by row. \n",
    "\n",
    "Example: Read each row of a CSV file"
   ]
  },
  {
   "cell_type": "code",
   "execution_count": null,
   "metadata": {
    "scrolled": true
   },
   "outputs": [],
   "source": [
    "import csv\n",
    "\n",
    "with open('grades.csv', 'r') as file:\n",
    "    print(file)\n",
    "    grades_reader = csv.reader(file) # create csv.reader object with an open file\n",
    "    print(grades_reader) #what does grades_reader look like? just some object, but it is iterable!\n",
    "    row_num = 1\n",
    "    for row in grades_reader:           # the cvs.reader is an iterable!\n",
    "        print(row)\n",
    "        #print('Row #', row_num, ':', row)\n",
    "        row_num += 1"
   ]
  },
  {
   "cell_type": "markdown",
   "metadata": {},
   "source": [
    "If we didn’t have a CSV file created, we could create one by:\n",
    "- creating a CSV writer object\n",
    "- using the writerow() method to populate it with data\n",
    "\n",
    "Example: In the previous grade example there were a few marking errors on the final exam. \n"
   ]
  },
  {
   "cell_type": "code",
   "execution_count": null,
   "metadata": {},
   "outputs": [],
   "source": [
    "import csv\n",
    "\n",
    "rows = [['Name', 'Test1', 'Test2', 'Final'],\n",
    "        ['Kendrick', '100', '50', '69'],\n",
    "        ['Dre', '76', '32', '53'],\n",
    "        ['Snoop', '25', '75', '100']]\n",
    "\n",
    "with open('grades_new.csv', 'w') as csvfile:\n",
    "    print(csvfile)\n",
    "    grades_writer = csv.writer(csvfile)\n",
    "    print(grades_writer)\n",
    "\n",
    "    for row in rows:\n",
    "        grades_writer.writerow(row)\n",
    "        "
   ]
  },
  {
   "cell_type": "code",
   "execution_count": null,
   "metadata": {},
   "outputs": [],
   "source": [
    "#WHAT TO REVIEW?\n"
   ]
  },
  {
   "cell_type": "markdown",
   "metadata": {},
   "source": [
    "We have just scratched the surface of what the csv module can do. See the online documentation for much more detail.\n",
    "\n",
    "<div class=\"alert alert-block alert-info\">\n",
    "<big><b>This Lecture: File Input and Output</b></big>\n",
    "<ul>  \n",
    "    <li>Files need to be opened and closed</li>\n",
    "    <li>How to write to a file</li>\n",
    "    <li>There are at least four ways to read a text file</li>\n",
    "    <li>Use the csv module to process (read and write) CSV files</li>\n",
    "    </ul>\n",
    "</div>"
   ]
  }
 ],
 "metadata": {
  "kernelspec": {
   "display_name": "Python 3 (ipykernel)",
   "language": "python",
   "name": "python3"
  },
  "language_info": {
   "codemirror_mode": {
    "name": "ipython",
    "version": 3
   },
   "file_extension": ".py",
   "mimetype": "text/x-python",
   "name": "python",
   "nbconvert_exporter": "python",
   "pygments_lexer": "ipython3",
   "version": "3.10.9"
  }
 },
 "nbformat": 4,
 "nbformat_minor": 1
}
