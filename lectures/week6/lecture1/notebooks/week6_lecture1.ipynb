{
 "cells": [
  {
   "cell_type": "markdown",
   "metadata": {
    "collapsed": true
   },
   "source": [
    "# APS106 - Fundamentals of Computer Programming\n",
    "## Week 6 | objects, classes, and methods\n",
    "\n",
    "### Lecture Structure\n",
    "1. [Object In Python](#section1)\n",
    "2. [Write A Point Class: Constructor](#section2)\n",
    "3. [Write A Point Class: Methods](#section3)\n",
    "4. [Bank Account Class](#section4)\n",
    "5. [Breakout Session 1](#section5)"
   ]
  },
  {
   "cell_type": "markdown",
   "metadata": {},
   "source": [
    "<a id='section1'></a>\n",
    "## 1. Object In Python\n",
    "Ok, so eveything is an object in Python? Yes, check this out.\n",
    "\n",
    "Let's say we have two variables `a` and `b` that we want to add together."
   ]
  },
  {
   "cell_type": "code",
   "execution_count": null,
   "metadata": {},
   "outputs": [],
   "source": [
    "a = 5\n",
    "b = 6\n",
    "a + b"
   ]
  },
  {
   "cell_type": "code",
   "execution_count": 8,
   "metadata": {},
   "outputs": [],
   "source": [
    "#dir(int)\n",
    "#help(int.__add__)"
   ]
  },
  {
   "cell_type": "markdown",
   "metadata": {},
   "source": [
    "`a` and `b` are integers and the `+` operator is actually pointing to a integer method (function) called `__add__()`."
   ]
  },
  {
   "cell_type": "code",
   "execution_count": null,
   "metadata": {},
   "outputs": [],
   "source": [
    "a.__add__(b)"
   ]
  },
  {
   "cell_type": "markdown",
   "metadata": {},
   "source": [
    "Now, this might seem a bit funny, but it will make sense soon."
   ]
  },
  {
   "cell_type": "markdown",
   "metadata": {},
   "source": [
    "<a id='section2'></a>\n",
    "## 2. Write A Point Class: Constructor\n",
    "First, let's write the `Point` class and have it initialize to the origin `(0, 0)`."
   ]
  },
  {
   "cell_type": "code",
   "execution_count": null,
   "metadata": {},
   "outputs": [],
   "source": [
    "class Point:\n",
    "    \n",
    "    \"\"\"A class that represents and manipulates 2D points\"\"\"\n",
    "    \n",
    "    def __init__(self):\n",
    "        \"\"\" \n",
    "        (self) -> None\n",
    "        Initializes a new point at (0, 0)\n",
    "        \"\"\"\n",
    "        self.x = 0\n",
    "        self.y = 0"
   ]
  },
  {
   "cell_type": "markdown",
   "metadata": {},
   "source": [
    "Next, let's create an instance of the `Point` class. This is sometimes called initialization."
   ]
  },
  {
   "cell_type": "code",
   "execution_count": null,
   "metadata": {},
   "outputs": [],
   "source": [
    "p1 = Point()\n",
    "print(p1.x, p1.y)"
   ]
  },
  {
   "cell_type": "markdown",
   "metadata": {},
   "source": [
    "Let's modify our constructor to show that it does automatically run when a new instance is initialized."
   ]
  },
  {
   "cell_type": "code",
   "execution_count": null,
   "metadata": {},
   "outputs": [],
   "source": [
    "class Point:\n",
    "    \n",
    "    \"\"\"A class that represents and manipulates 2D points\"\"\"\n",
    "    \n",
    "    def __init__(self):\n",
    "        \"\"\" \n",
    "        (self) -> None\n",
    "        Initializes a new point at (0, 0)\n",
    "        \"\"\"\n",
    "        self.x = 0\n",
    "        self.y = 0\n",
    "        \n",
    "        print('The constructor has been called')"
   ]
  },
  {
   "cell_type": "code",
   "execution_count": null,
   "metadata": {},
   "outputs": [],
   "source": [
    "p1 = Point()"
   ]
  },
  {
   "cell_type": "markdown",
   "metadata": {},
   "source": [
    "Let's try initializing multiple instances of the `Point` class."
   ]
  },
  {
   "cell_type": "code",
   "execution_count": null,
   "metadata": {},
   "outputs": [],
   "source": [
    "# Instantiate an object of type Point\n",
    "my_point = Point()\n",
    "print(my_point.x, my_point.y)\n",
    "\n",
    "# Make a second point\n",
    "second_point = Point()\n",
    "print(second_point.x, second_point.y)"
   ]
  },
  {
   "cell_type": "markdown",
   "metadata": {},
   "source": [
    "#### Is a contructor necesary?\n",
    "Technically it is not necessary. You use a contructor to set up the initial state of an object. \n",
    "\n",
    "If there is not data that the user needs to input (arguments) or no attributes to initialize, then you can skip the constructor."
   ]
  },
  {
   "cell_type": "code",
   "execution_count": null,
   "metadata": {},
   "outputs": [],
   "source": [
    "class Point:\n",
    "    \n",
    "    \"\"\"A class that represents and manipulates 2D points\"\"\"\n",
    "    \n",
    "    def method1(self):\n",
    "        print('You called method1')\n",
    "    \n",
    "    def method2(self):\n",
    "        print('You called method2')"
   ]
  },
  {
   "cell_type": "code",
   "execution_count": null,
   "metadata": {},
   "outputs": [],
   "source": [
    "my_point = Point()\n",
    "\n",
    "my_point.method1()\n",
    "my_point.method2()"
   ]
  },
  {
   "cell_type": "markdown",
   "metadata": {},
   "source": [
    "### Attributes\n",
    "As seen below, our `Point` class has two attributes (`x` and `y`). These attributes are assigned during initialization (construction), however, we can change them."
   ]
  },
  {
   "cell_type": "code",
   "execution_count": null,
   "metadata": {},
   "outputs": [],
   "source": [
    "class Point:\n",
    "    \n",
    "    \"\"\"A class that represents and manipulates 2D points\"\"\"\n",
    "    \n",
    "    def __init__(self):\n",
    "        \"\"\" \n",
    "        (self) -> None\n",
    "        Initializes a new point at (0, 0)\n",
    "        \"\"\"\n",
    "        self.x = 0\n",
    "        self.y = 0"
   ]
  },
  {
   "cell_type": "markdown",
   "metadata": {},
   "source": [
    "Let's initialize another point."
   ]
  },
  {
   "cell_type": "code",
   "execution_count": null,
   "metadata": {},
   "outputs": [],
   "source": [
    "p = Point()\n",
    "print(p.x, p.y)"
   ]
  },
  {
   "cell_type": "markdown",
   "metadata": {},
   "source": [
    "Next, let's update the attributes `x` and `y` for the `Point` instance `p`."
   ]
  },
  {
   "cell_type": "code",
   "execution_count": null,
   "metadata": {},
   "outputs": [],
   "source": [
    "p.x = 2\n",
    "p.y = 4\n",
    "print(p.x, p.y)"
   ]
  },
  {
   "cell_type": "markdown",
   "metadata": {},
   "source": [
    "We may not always want the point to initialize to position `(0, 0)`. \n",
    "\n",
    "We can update our constructor to initialize to any point."
   ]
  },
  {
   "cell_type": "code",
   "execution_count": null,
   "metadata": {},
   "outputs": [],
   "source": [
    "class Point:\n",
    "    \n",
    "    \"\"\"A class that represents and manipulates 2D points\"\"\"\n",
    "    \n",
    "    def __init__(self, x=0, y=0):\n",
    "        \"\"\" \n",
    "        (self, float, float) -> None\n",
    "        Initializes a new point at (0, 0)\n",
    "        \"\"\"\n",
    "        self.x = x\n",
    "        self.y = y"
   ]
  },
  {
   "cell_type": "code",
   "execution_count": null,
   "metadata": {},
   "outputs": [],
   "source": [
    "p = Point()\n",
    "print(p.x, p.y)"
   ]
  },
  {
   "cell_type": "code",
   "execution_count": null,
   "metadata": {},
   "outputs": [],
   "source": [
    "q = Point(8, 15)\n",
    "print(q.x, q.y)"
   ]
  },
  {
   "cell_type": "markdown",
   "metadata": {},
   "source": [
    "<a id='section3'></a>\n",
    "## 3. Write A Point Class: Methods\n",
    "Ok, we have our `Point` class from earlier."
   ]
  },
  {
   "cell_type": "code",
   "execution_count": null,
   "metadata": {},
   "outputs": [],
   "source": [
    "class Point:\n",
    "    \n",
    "    \"\"\"A class that represents and manipulates 2D points\"\"\"\n",
    "    \n",
    "    def __init__(self, x=0, y=0):\n",
    "        \"\"\" \n",
    "        (self, float, float) -> None\n",
    "        Initializes a new point at (0, 0)\n",
    "        \"\"\"\n",
    "        self.x = x\n",
    "        self.y = y"
   ]
  },
  {
   "cell_type": "markdown",
   "metadata": {},
   "source": [
    "Lets create two instances of `Point` at (8, 15) and (2, 4)."
   ]
  },
  {
   "cell_type": "code",
   "execution_count": null,
   "metadata": {},
   "outputs": [],
   "source": [
    "point1 = Point(8, 15)\n",
    "print(point1.x, point1.y)"
   ]
  },
  {
   "cell_type": "code",
   "execution_count": null,
   "metadata": {},
   "outputs": [],
   "source": [
    "point2 = Point(2, 4)\n",
    "print(point2.x, point2.y)"
   ]
  },
  {
   "cell_type": "markdown",
   "metadata": {},
   "source": [
    "Now, let's try an call the method to calculate the distance between two point.\n",
    "\n",
    "Do you think this will work?"
   ]
  },
  {
   "cell_type": "code",
   "execution_count": null,
   "metadata": {},
   "outputs": [],
   "source": [
    "point1.calculate_distance_to_point(point2)"
   ]
  },
  {
   "cell_type": "markdown",
   "metadata": {},
   "source": [
    "#### Method 1: Euclidean Distance Between Two Points\n",
    "Ok, so we need to add this method. Let's `import math` so we can use the square root function."
   ]
  },
  {
   "cell_type": "code",
   "execution_count": null,
   "metadata": {},
   "outputs": [],
   "source": [
    "import math\n",
    "\n",
    "class Point:\n",
    "    \n",
    "    \"\"\"A class that represents and manipulates 2D points\"\"\"\n",
    "    \n",
    "    def __init__(self, x=0, y=0):\n",
    "        \"\"\" \n",
    "        (self, float, float) -> None\n",
    "        Initializes a new point at (0, 0)\n",
    "        \"\"\"\n",
    "        self.x = x\n",
    "        self.y = y\n",
    "        \n",
    "    def calculate_distance_to_point(self, other_point):\n",
    "        \"\"\"\n",
    "        (self, Point) -> float\n",
    "        Calculates the Euclidean distance between self and other point\n",
    "        \"\"\"\n",
    "        return math.sqrt((self.x - other_point.x)**2 + (self.y - other_point.y)**2)"
   ]
  },
  {
   "cell_type": "markdown",
   "metadata": {},
   "source": [
    "Ok, let's give it a try."
   ]
  },
  {
   "cell_type": "code",
   "execution_count": null,
   "metadata": {},
   "outputs": [],
   "source": [
    "point1.calculate_distance_to_point(point2)"
   ]
  },
  {
   "cell_type": "markdown",
   "metadata": {},
   "source": [
    "Any ideas why this didn't work?"
   ]
  },
  {
   "cell_type": "code",
   "execution_count": null,
   "metadata": {},
   "outputs": [],
   "source": [
    "point1 = Point(8, 15)\n",
    "point2 = Point(2, 4)\n",
    "\n",
    "print(point1.calculate_distance_to_point(point2))"
   ]
  },
  {
   "cell_type": "markdown",
   "metadata": {},
   "source": [
    "<a id='section4'></a>\n",
    "## 4. Bank Account Class\n",
    "Let’s highlight the value of encapsulation with a bank Account class.\n",
    "\n",
    "**Attributes**\n",
    "- Account owner’s name.\n",
    "- Current account balance.\n",
    "\n",
    "**Methods**\n",
    "- Deposit money.\n",
    "- Withdraw money.\n",
    "- Print account balance.\n",
    "\n",
    "### Create Account Class\n",
    "#### Create a Constructor\n",
    "Let's start by building a constructor to initialize our class with the following attributes.\n",
    "- Account owner’s name.\n",
    "- Current account balance."
   ]
  },
  {
   "cell_type": "code",
   "execution_count": null,
   "metadata": {},
   "outputs": [],
   "source": [
    "class Account:\n",
    "    \n",
    "    \"\"\"A class that represents a personal bank account.\"\"\"\n",
    "    \n",
    "    def __init__(self, name, balance):\n",
    "        self.name = name\n",
    "        self.balance = balance"
   ]
  },
  {
   "cell_type": "markdown",
   "metadata": {},
   "source": [
    "Let's create a few accounts and print their attributes."
   ]
  },
  {
   "cell_type": "code",
   "execution_count": null,
   "metadata": {},
   "outputs": [],
   "source": [
    "sebs_account = Account('Sebastian', 500)\n",
    "print(sebs_account.name, sebs_account.balance)"
   ]
  },
  {
   "cell_type": "code",
   "execution_count": null,
   "metadata": {},
   "outputs": [],
   "source": [
    "bens_account = Account('Ben', 1000)\n",
    "print(bens_account.name, bens_account.balance)"
   ]
  },
  {
   "cell_type": "markdown",
   "metadata": {},
   "source": [
    "#### Create a method to deposit money"
   ]
  },
  {
   "cell_type": "code",
   "execution_count": null,
   "metadata": {},
   "outputs": [],
   "source": [
    "class Account:\n",
    "    \n",
    "    \"\"\"A class that represents a personal bank account.\"\"\"\n",
    "    \n",
    "    def __init__(self, name, balance):\n",
    "        \"\"\"\n",
    "        (self, str, numeric) -> None\n",
    "        Initializes a new bank account.\n",
    "        \"\"\"\n",
    "        self.name = name\n",
    "        self.balance = balance\n",
    "        \n",
    "    def deposit(self, amount):\n",
    "        self.balance += amount"
   ]
  },
  {
   "cell_type": "markdown",
   "metadata": {},
   "source": [
    "Let's create an account to test out new method."
   ]
  },
  {
   "cell_type": "code",
   "execution_count": null,
   "metadata": {},
   "outputs": [],
   "source": [
    "sebs_account = Account('Sebastian', 500)"
   ]
  },
  {
   "cell_type": "markdown",
   "metadata": {},
   "source": [
    "Now, let's add 500 dollars to my account."
   ]
  },
  {
   "cell_type": "code",
   "execution_count": null,
   "metadata": {},
   "outputs": [],
   "source": [
    "sebs_account.deposit(500)"
   ]
  },
  {
   "cell_type": "markdown",
   "metadata": {},
   "source": [
    "And let's print out the balance."
   ]
  },
  {
   "cell_type": "code",
   "execution_count": null,
   "metadata": {},
   "outputs": [],
   "source": [
    "print(sebs_account.balance)"
   ]
  },
  {
   "cell_type": "markdown",
   "metadata": {},
   "source": [
    "It worked!"
   ]
  },
  {
   "cell_type": "markdown",
   "metadata": {},
   "source": [
    "#### Create a method to withdraw money"
   ]
  },
  {
   "cell_type": "code",
   "execution_count": null,
   "metadata": {},
   "outputs": [],
   "source": [
    "class Account:\n",
    "    \n",
    "    \"\"\"A class that represents a personal bank account.\"\"\"\n",
    "    \n",
    "    def __init__(self, name, balance):\n",
    "        \"\"\"\n",
    "        (self, str, numeric) -> None\n",
    "        Initializes a new bank account.\n",
    "        \"\"\"\n",
    "        self.name = name\n",
    "        self.balance = balance\n",
    "        \n",
    "    def deposit(self, amount):\n",
    "        \"\"\"\n",
    "        (self, numeric) -> None\n",
    "        \"\"\"\n",
    "        self.balance += amount\n",
    "            \n",
    "    def withdraw(self, amount):\n",
    "        self.balance -= amount"
   ]
  },
  {
   "cell_type": "markdown",
   "metadata": {},
   "source": [
    "Let's create an account to test out new method."
   ]
  },
  {
   "cell_type": "code",
   "execution_count": null,
   "metadata": {},
   "outputs": [],
   "source": [
    "sebs_account = Account('Sebastian', 500)"
   ]
  },
  {
   "cell_type": "markdown",
   "metadata": {},
   "source": [
    "Now, let's subtract 500 dollars from my account :(."
   ]
  },
  {
   "cell_type": "code",
   "execution_count": null,
   "metadata": {},
   "outputs": [],
   "source": [
    "sebs_account.withdraw(500)"
   ]
  },
  {
   "cell_type": "markdown",
   "metadata": {},
   "source": [
    "And let's print out the balance."
   ]
  },
  {
   "cell_type": "code",
   "execution_count": null,
   "metadata": {},
   "outputs": [],
   "source": [
    "print(sebs_account.balance)"
   ]
  },
  {
   "cell_type": "markdown",
   "metadata": {},
   "source": [
    "It worked!"
   ]
  },
  {
   "cell_type": "markdown",
   "metadata": {},
   "source": [
    "#### Create a method to print the account balance"
   ]
  },
  {
   "cell_type": "code",
   "execution_count": null,
   "metadata": {},
   "outputs": [],
   "source": [
    "class Account:\n",
    "    \n",
    "    \"\"\"A class that represents a personal bank account.\"\"\"\n",
    "    \n",
    "    def __init__(self, name, balance):\n",
    "        \"\"\"\n",
    "        (self, str, numeric) -> None\n",
    "        Initializes a new bank account.\n",
    "        \"\"\"\n",
    "        self.name = name\n",
    "        self.balance = balance\n",
    "        \n",
    "    def deposit(self, amount):\n",
    "        \"\"\"\n",
    "        (self, numeric) -> None\n",
    "        \"\"\"\n",
    "        self.balance += amount\n",
    "            \n",
    "    def withdraw(self, amount):\n",
    "        \"\"\"\n",
    "        (self, numeric) -> None\n",
    "        Subtracts amount from balance.\n",
    "        \"\"\"\n",
    "        self.balance -= amount\n",
    "        \n",
    "    def print_balance(self):\n",
    "        print('The balance is ${}'.format(self.balance))"
   ]
  },
  {
   "cell_type": "markdown",
   "metadata": {},
   "source": [
    "Let's create an account to test out new method."
   ]
  },
  {
   "cell_type": "code",
   "execution_count": null,
   "metadata": {},
   "outputs": [],
   "source": [
    "sebs_account = Account('Sebastian', 500)"
   ]
  },
  {
   "cell_type": "markdown",
   "metadata": {},
   "source": [
    "Now, let's use our new method to print the account balance."
   ]
  },
  {
   "cell_type": "code",
   "execution_count": null,
   "metadata": {},
   "outputs": [],
   "source": [
    "sebs_account.print_balance()"
   ]
  },
  {
   "cell_type": "markdown",
   "metadata": {},
   "source": [
    "**Note**: we could also do this."
   ]
  },
  {
   "cell_type": "code",
   "execution_count": null,
   "metadata": {},
   "outputs": [],
   "source": [
    "sebs_account.balance"
   ]
  },
  {
   "cell_type": "markdown",
   "metadata": {},
   "source": [
    "Lastly, we can use this new print method in the deposit and withdraw methods."
   ]
  },
  {
   "cell_type": "code",
   "execution_count": null,
   "metadata": {},
   "outputs": [],
   "source": [
    "class Account:\n",
    "    \n",
    "    \"\"\"A class that represents a personal bank account.\"\"\"\n",
    "    \n",
    "    def __init__(self, name, balance):\n",
    "        \"\"\"\n",
    "        (self, str, numeric) -> None\n",
    "        Initializes a new bank account.\n",
    "        \"\"\"\n",
    "        self.name = name\n",
    "        self.balance = balance\n",
    "        \n",
    "    def deposit(self, amount):\n",
    "        \"\"\"\n",
    "        (self, numeric) -> None\n",
    "        \"\"\"\n",
    "        self.balance += amount\n",
    "        self.print_balance()\n",
    "            \n",
    "    def withdraw(self, amount):\n",
    "        \"\"\"\n",
    "        (self, numeric) -> None\n",
    "        Subtracts amount from balance.\n",
    "        \"\"\"\n",
    "        self.balance -= amount\n",
    "        self.print_balance()\n",
    "        \n",
    "    def print_balance(self):\n",
    "        \"\"\"\n",
    "        (self) -> None\n",
    "        Prints the account balance.\n",
    "        \"\"\"\n",
    "        print(\"Account balance is $\", self.balance, sep='')"
   ]
  },
  {
   "cell_type": "markdown",
   "metadata": {},
   "source": [
    "Let's create an account to test out new method."
   ]
  },
  {
   "cell_type": "code",
   "execution_count": null,
   "metadata": {},
   "outputs": [],
   "source": [
    "sebs_account = Account('Sebastian', 500)"
   ]
  },
  {
   "cell_type": "markdown",
   "metadata": {},
   "source": [
    "Now, let's add 500 dollars to my account."
   ]
  },
  {
   "cell_type": "code",
   "execution_count": null,
   "metadata": {},
   "outputs": [],
   "source": [
    "sebs_account.deposit(500)"
   ]
  },
  {
   "cell_type": "markdown",
   "metadata": {},
   "source": [
    "It printed the balance out after I deposited the money."
   ]
  },
  {
   "cell_type": "markdown",
   "metadata": {},
   "source": [
    "#### Testing\n",
    "Let's test our `Class` with some different examples and see if the outputs make sense.\n",
    "##### Example 1"
   ]
  },
  {
   "cell_type": "code",
   "execution_count": null,
   "metadata": {},
   "outputs": [],
   "source": [
    "sebs_account = Account('Sebastian', 500)\n",
    "sebs_account.deposit(1000)\n",
    "sebs_account.withdraw(5000)"
   ]
  },
  {
   "cell_type": "markdown",
   "metadata": {},
   "source": [
    "Hmmmm, this shouldn't be possible."
   ]
  },
  {
   "cell_type": "markdown",
   "metadata": {},
   "source": [
    "##### Example 2"
   ]
  },
  {
   "cell_type": "code",
   "execution_count": null,
   "metadata": {},
   "outputs": [],
   "source": [
    "sebs_account = Account('Sebastian', 500)\n",
    "sebs_account.deposit(-100)"
   ]
  },
  {
   "cell_type": "markdown",
   "metadata": {},
   "source": [
    "Hmmmm, this shouldn't be possible.\n",
    "\n",
    "Something else that is not recorded is a record of all the transactions."
   ]
  },
  {
   "cell_type": "markdown",
   "metadata": {},
   "source": [
    "### Make improvements\n",
    "1. Record a list of transactions. (**Breakout Session 1**)\n",
    "2. Can't deposit negative amounts.\n",
    "3. Can't withdraw an amount great than the balance."
   ]
  },
  {
   "cell_type": "markdown",
   "metadata": {},
   "source": [
    "<a id='section5'></a>\n",
    "## Breakout Session 1\n",
    "#### 1. Record a list of transactions\n",
    "1. In Constructor: Create a new attribute in the contructor called `transactions` and set it equal to an empty list.\n",
    "2. In `deposit` method: After money is deposited, append a `tuple` to `transactions` (e.g. `('deposit', 240)`).\n",
    "3. In `withdraw` method: After money is withdrawn, append a `tuple` to `transactions` (e.g. `('withdraw', 370)`).\n",
    "\n",
    "The `transactions` attribute should look like this:\n",
    "```python\n",
    ">>> print(sebs_account.transactions)\n",
    "[('deposit', 240), ('deposit', 20), ('withdraw', 670), ('deposit', 10), ...]\n",
    "```\n",
    "\n",
    "Look for `...` to guide you to where you need to write your code."
   ]
  },
  {
   "cell_type": "code",
   "execution_count": 4,
   "metadata": {},
   "outputs": [],
   "source": [
    "class Account:\n",
    "    \n",
    "    \"\"\"A class that represents a personal bank account.\"\"\"\n",
    "    \n",
    "    def __init__(self, name, balance):\n",
    "        \"\"\"\n",
    "        (self, str, numeric) -> None\n",
    "        Initializes a new bank account.\n",
    "        \"\"\"\n",
    "        self.name = name\n",
    "        self.balance = balance\n",
    "        ...\n",
    "        \n",
    "    def deposit(self, amount):\n",
    "        \"\"\"\n",
    "        (self, numeric) -> None\n",
    "        \"\"\"\n",
    "        self.balance += amount\n",
    "        ...\n",
    "        self.print_balance()\n",
    "            \n",
    "    def withdraw(self, amount):\n",
    "        \"\"\"\n",
    "        (self, numeric) -> None\n",
    "        Subtracts amount from balance.\n",
    "        \"\"\"\n",
    "        self.balance -= amount\n",
    "        ...\n",
    "        self.print_balance()\n",
    "        \n",
    "    def print_balance(self):\n",
    "        \"\"\"\n",
    "        (self) -> None\n",
    "        Prints the account balance.\n",
    "        \"\"\"\n",
    "        print(\"Account balance is ${}.\".format(self.balance))\n",
    "        \n",
    "    def print_transactions(self):\n",
    "        \"\"\"\n",
    "        (self) -> None\n",
    "        Prints all transactions.\n",
    "        \"\"\"\n",
    "        for transaction_type, amount in self.transactions:\n",
    "            print(transaction_type.capitalize(), amount)"
   ]
  },
  {
   "cell_type": "markdown",
   "metadata": {},
   "source": [
    "Let's create an account to test out new method."
   ]
  },
  {
   "cell_type": "code",
   "execution_count": 2,
   "metadata": {},
   "outputs": [
    {
     "name": "stdout",
     "output_type": "stream",
     "text": [
      "Account balance is $300.\n",
      "Account balance is $200.\n",
      "Account balance is $1200.\n",
      "Account balance is $1252.\n",
      "Account balance is $1242.\n",
      "Account balance is $1340.\n",
      "Account balance is $1796.\n"
     ]
    }
   ],
   "source": [
    "sebs_account = Account('Sebastian', 500)\n",
    "sebs_account.withdraw(200)\n",
    "sebs_account.withdraw(100)\n",
    "sebs_account.deposit(1000)\n",
    "sebs_account.deposit(52)\n",
    "sebs_account.withdraw(10)\n",
    "sebs_account.deposit(98)\n",
    "sebs_account.deposit(456)"
   ]
  },
  {
   "cell_type": "markdown",
   "metadata": {},
   "source": [
    "Now, let's print out transactions."
   ]
  },
  {
   "cell_type": "code",
   "execution_count": 3,
   "metadata": {},
   "outputs": [
    {
     "ename": "AttributeError",
     "evalue": "'Account' object has no attribute 'transactions'",
     "output_type": "error",
     "traceback": [
      "\u001b[0;31m---------------------------------------------------------------------------\u001b[0m",
      "\u001b[0;31mAttributeError\u001b[0m                            Traceback (most recent call last)",
      "Cell \u001b[0;32mIn[3], line 1\u001b[0m\n\u001b[0;32m----> 1\u001b[0m \u001b[43msebs_account\u001b[49m\u001b[38;5;241;43m.\u001b[39;49m\u001b[43mprint_transactions\u001b[49m\u001b[43m(\u001b[49m\u001b[43m)\u001b[49m\n",
      "Cell \u001b[0;32mIn[1], line 43\u001b[0m, in \u001b[0;36mAccount.print_transactions\u001b[0;34m(self)\u001b[0m\n\u001b[1;32m     38\u001b[0m \u001b[38;5;28;01mdef\u001b[39;00m \u001b[38;5;21mprint_transactions\u001b[39m(\u001b[38;5;28mself\u001b[39m):\n\u001b[1;32m     39\u001b[0m     \u001b[38;5;124;03m\"\"\"\u001b[39;00m\n\u001b[1;32m     40\u001b[0m \u001b[38;5;124;03m    (self) -> None\u001b[39;00m\n\u001b[1;32m     41\u001b[0m \u001b[38;5;124;03m    Prints all transactions.\u001b[39;00m\n\u001b[1;32m     42\u001b[0m \u001b[38;5;124;03m    \"\"\"\u001b[39;00m\n\u001b[0;32m---> 43\u001b[0m     \u001b[38;5;28;01mfor\u001b[39;00m transaction_type, amount \u001b[38;5;129;01min\u001b[39;00m \u001b[38;5;28;43mself\u001b[39;49m\u001b[38;5;241;43m.\u001b[39;49m\u001b[43mtransactions\u001b[49m:\n\u001b[1;32m     44\u001b[0m         \u001b[38;5;28mprint\u001b[39m(\u001b[38;5;124m'\u001b[39m\u001b[38;5;132;01m{}\u001b[39;00m\u001b[38;5;124m: $\u001b[39m\u001b[38;5;132;01m{}\u001b[39;00m\u001b[38;5;124m'\u001b[39m\u001b[38;5;241m.\u001b[39mformat(transaction_type\u001b[38;5;241m.\u001b[39mcapitalize(), amount))\n",
      "\u001b[0;31mAttributeError\u001b[0m: 'Account' object has no attribute 'transactions'"
     ]
    }
   ],
   "source": [
    "sebs_account.print_transactions()"
   ]
  },
  {
   "cell_type": "markdown",
   "metadata": {},
   "source": [
    "And we can look at the attribute."
   ]
  },
  {
   "cell_type": "code",
   "execution_count": null,
   "metadata": {},
   "outputs": [],
   "source": [
    "sebs_account.transactions"
   ]
  },
  {
   "cell_type": "markdown",
   "metadata": {},
   "source": [
    "#### 2. Can't deposit negative amounts"
   ]
  },
  {
   "cell_type": "code",
   "execution_count": null,
   "metadata": {},
   "outputs": [],
   "source": [
    "class Account:\n",
    "    \n",
    "    \"\"\"A class that represents a personal bank account.\"\"\"\n",
    "    \n",
    "    def __init__(self, name, balance):\n",
    "        \"\"\"\n",
    "        (self, str, numeric) -> None\n",
    "        Initializes a new bank account.\n",
    "        \"\"\"\n",
    "        self.name = name\n",
    "        self.balance = balance\n",
    "        self.transations = []\n",
    "        \n",
    "    def deposit(self, amount):\n",
    "        \"\"\"\n",
    "        (self, numeric) -> None\n",
    "        \"\"\"\n",
    "        ...\n",
    "        self.balance += amount\n",
    "        self.transactions.append(('deposit', amount))\n",
    "        self.print_balance()\n",
    "        ...\n",
    "            \n",
    "    def withdraw(self, amount):\n",
    "        \"\"\"\n",
    "        (self, numeric) -> None\n",
    "        Subtracts amount from balance.\n",
    "        \"\"\"\n",
    "        self.balance -= amount\n",
    "        self.transactions.append(('withdraw', amount))\n",
    "        self.print_balance()\n",
    "        \n",
    "    def print_balance(self):\n",
    "        \"\"\"\n",
    "        (self) -> None\n",
    "        Prints the account balance.\n",
    "        \"\"\"\n",
    "        print(\"Account balance is ${}.\".format(self.balance))\n",
    "        \n",
    "    def print_transactions(self):\n",
    "        \"\"\"\n",
    "        (self) -> None\n",
    "        Prints all transactions.\n",
    "        \"\"\"\n",
    "        for transaction_type, amount in self.transactions:\n",
    "            print('{}: ${}'.format(transaction_type.capitalize(), amount))"
   ]
  },
  {
   "cell_type": "markdown",
   "metadata": {},
   "source": [
    "Let's create an account to test out new method."
   ]
  },
  {
   "cell_type": "code",
   "execution_count": null,
   "metadata": {},
   "outputs": [],
   "source": [
    "sebs_account = Account('Sebastian', 500)"
   ]
  },
  {
   "cell_type": "markdown",
   "metadata": {},
   "source": [
    "Now, let's add -500 dollars to my account."
   ]
  },
  {
   "cell_type": "code",
   "execution_count": null,
   "metadata": {},
   "outputs": [],
   "source": [
    "sebs_account.deposit(-500)"
   ]
  },
  {
   "cell_type": "markdown",
   "metadata": {},
   "source": [
    "#### 3. Can't withdraw a negative amount or an amount greater than the balance"
   ]
  },
  {
   "cell_type": "code",
   "execution_count": null,
   "metadata": {},
   "outputs": [],
   "source": [
    "class Account:\n",
    "    \n",
    "    \"\"\"A class that represents a personal bank account.\"\"\"\n",
    "    \n",
    "    def __init__(self, name, balance):\n",
    "        \"\"\"\n",
    "        (self, str, numeric) -> None\n",
    "        Initializes a new bank account.\n",
    "        \"\"\"\n",
    "        self.name = name\n",
    "        self.balance = balance\n",
    "        \n",
    "    def deposit(self, amount):\n",
    "        \"\"\"\n",
    "        (self, numeric) -> None\n",
    "        \"\"\"\n",
    "        if amount > 0:\n",
    "            self.balance += amount\n",
    "            self.transactions.append(('deposit', amount))\n",
    "            self.print_balance()\n",
    "        else:\n",
    "            print(\"You can't deposit a negative amount\")\n",
    "            \n",
    "    def withdraw(self, amount):\n",
    "        \"\"\"\n",
    "        (self, numeric) -> None\n",
    "        Subtracts amount from balance.\n",
    "        \"\"\"\n",
    "        ...\n",
    "        self.balance -= amount\n",
    "        self.transactions.append(('withdraw', amount))\n",
    "        self.print_balance()\n",
    "        ...\n",
    "        \n",
    "    def print_balance(self):\n",
    "        \"\"\"\n",
    "        (self) -> None\n",
    "        Prints the account balance.\n",
    "        \"\"\"\n",
    "        print(\"Account balance is ${}.\".format(self.balance))\n",
    "        \n",
    "    def print_transactions(self):\n",
    "        \"\"\"\n",
    "        (self) -> None\n",
    "        Prints all transactions.\n",
    "        \"\"\"\n",
    "        for transaction_type, amount in self.transactions:\n",
    "            print('{}: ${}'.format(transaction_type.capitalize(), amount))"
   ]
  },
  {
   "cell_type": "markdown",
   "metadata": {},
   "source": [
    "Let's create an account to test out new method."
   ]
  },
  {
   "cell_type": "code",
   "execution_count": null,
   "metadata": {},
   "outputs": [],
   "source": [
    "sebs_account = Account('Sebastian', 500)"
   ]
  },
  {
   "cell_type": "markdown",
   "metadata": {},
   "source": [
    "Now, let's add -500 dollars to my account."
   ]
  },
  {
   "cell_type": "code",
   "execution_count": null,
   "metadata": {},
   "outputs": [],
   "source": [
    "sebs_account.withdraw(1000)"
   ]
  }
 ],
 "metadata": {
  "kernelspec": {
   "display_name": "Python 3 (ipykernel)",
   "language": "python",
   "name": "python3"
  },
  "language_info": {
   "codemirror_mode": {
    "name": "ipython",
    "version": 3
   },
   "file_extension": ".py",
   "mimetype": "text/x-python",
   "name": "python",
   "nbconvert_exporter": "python",
   "pygments_lexer": "ipython3",
   "version": "3.10.9"
  }
 },
 "nbformat": 4,
 "nbformat_minor": 1
}
