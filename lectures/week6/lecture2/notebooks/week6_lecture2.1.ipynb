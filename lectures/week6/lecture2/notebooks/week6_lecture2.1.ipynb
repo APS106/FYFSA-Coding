{
 "cells": [
  {
   "cell_type": "markdown",
   "metadata": {
    "collapsed": true
   },
   "source": [
    "# APS106 - Fundamentals of Computer Programming\n",
    "## classes in classes, functions, and collections\n",
    "\n",
    "### Lecture Structure\n",
    "1. [Point Class](#section1)\n",
    "2. [Calling Methods](#section2)\n",
    "3. [Add Midpoint Method to Point Class](#section3)\n",
    "4. [Variable Declarations Are Optional](#section4)\n",
    "5. [Objects as Data Attributes of Classes](#section5)\n",
    "6. [Objects In Collections](#section6)\n",
    "7. [Patient Class](#section7)"
   ]
  },
  {
   "cell_type": "markdown",
   "metadata": {},
   "source": [
    "<a id='section1'></a>\n",
    "## 1. Point Class\n",
    "Let's revisit our `Point` class from last lecture."
   ]
  },
  {
   "cell_type": "code",
   "execution_count": null,
   "metadata": {},
   "outputs": [],
   "source": [
    "import math\n",
    "\n",
    "class Point:\n",
    "    \n",
    "    \"\"\"A class that represents and manipulates 2D points\"\"\"\n",
    "    \n",
    "    def __init__(self, x=0, y=0):\n",
    "        \"\"\" \n",
    "        (self, float, float) -> None\n",
    "        Initializes a new point at (0, 0)\n",
    "        \"\"\"\n",
    "        self.x = x\n",
    "        self.y = y\n",
    "        \n",
    "    def calculate_distance_to_point(self, other_point):\n",
    "        \"\"\"\n",
    "        (self, Point) -> float\n",
    "        Calculates the Euclidean distance between self and other point\n",
    "        \"\"\"\n",
    "        return (math.sqrt((self.x - other_point.x)**2 + \n",
    "                          (self.y - other_point.y)**2))"
   ]
  },
  {
   "cell_type": "markdown",
   "metadata": {},
   "source": [
    "This is how create an instance of the `Point` class."
   ]
  },
  {
   "cell_type": "code",
   "execution_count": null,
   "metadata": {},
   "outputs": [],
   "source": [
    "point1 = Point(10, 10)"
   ]
  },
  {
   "cell_type": "markdown",
   "metadata": {},
   "source": [
    "We can print the attributes of `Point`."
   ]
  },
  {
   "cell_type": "code",
   "execution_count": null,
   "metadata": {},
   "outputs": [],
   "source": [
    "print(point1.x, point1.y)"
   ]
  },
  {
   "cell_type": "markdown",
   "metadata": {},
   "source": [
    "We can use the method `calculate_distance_to_point()` to calculate the distance between two points."
   ]
  },
  {
   "cell_type": "code",
   "execution_count": null,
   "metadata": {},
   "outputs": [],
   "source": [
    "point2 = Point(5, 5)"
   ]
  },
  {
   "cell_type": "code",
   "execution_count": null,
   "metadata": {},
   "outputs": [],
   "source": [
    "point1.calculate_distance_to_point(point2)"
   ]
  },
  {
   "cell_type": "markdown",
   "metadata": {},
   "source": [
    "### Add Method\n",
    "Add a new method to calculate the Euclidean Distance to Origin `(0, 0)`."
   ]
  },
  {
   "cell_type": "code",
   "execution_count": null,
   "metadata": {},
   "outputs": [],
   "source": [
    "import math\n",
    "\n",
    "class Point:\n",
    "    \n",
    "    \"\"\"A class that represents and manipulates 2D points\"\"\"\n",
    "    \n",
    "    def __init__(self, x=0, y=0):\n",
    "        \"\"\" \n",
    "        (self, float, float) -> None\n",
    "        Initializes a new point at (0, 0)\n",
    "        \"\"\"\n",
    "        self.x = x\n",
    "        self.y = y\n",
    "        \n",
    "    def calculate_distance_to_point(self, other_point):\n",
    "        \"\"\"\n",
    "        (self, Point) -> float\n",
    "        Calculates the Euclidean distance between self and other point\n",
    "        \"\"\"\n",
    "        return (math.sqrt((self.x - other_point.x)**2 + \n",
    "                          (self.y - other_point.y)**2))\n",
    "    \n",
    "    def calculate_distance_to_origin(self):\n",
    "        \"\"\"\n",
    "        (self) -> float\n",
    "        Calculates the Euclidean distance between self and origin\n",
    "        \"\"\"\n",
    "        return self.calculate_distance_to_point(Point(0, 0))"
   ]
  },
  {
   "cell_type": "markdown",
   "metadata": {},
   "source": [
    "Let's try it!"
   ]
  },
  {
   "cell_type": "code",
   "execution_count": null,
   "metadata": {},
   "outputs": [],
   "source": [
    "point1 = Point(8, 15)\n",
    "print(point1.calculate_distance_to_origin())"
   ]
  },
  {
   "cell_type": "markdown",
   "metadata": {},
   "source": [
    "We can also collect these object in various Python collections like lists."
   ]
  },
  {
   "cell_type": "code",
   "execution_count": null,
   "metadata": {},
   "outputs": [],
   "source": [
    "p = Point(3, 4)\n",
    "print(p.x)\n",
    "print(p.y)\n",
    "print(p.calculate_distance_to_origin())"
   ]
  },
  {
   "cell_type": "code",
   "execution_count": null,
   "metadata": {},
   "outputs": [],
   "source": [
    "q = Point(5, 12)\n",
    "print(q.x)\n",
    "print(q.y)\n",
    "print(q.calculate_distance_to_origin())"
   ]
  },
  {
   "cell_type": "code",
   "execution_count": null,
   "metadata": {},
   "outputs": [],
   "source": [
    "r = Point()\n",
    "print(r.x)\n",
    "print(r.y)\n",
    "print(r.calculate_distance_to_origin())"
   ]
  },
  {
   "cell_type": "code",
   "execution_count": null,
   "metadata": {},
   "outputs": [],
   "source": [
    "point_list = [p, q, r]\n",
    "point_list"
   ]
  },
  {
   "cell_type": "markdown",
   "metadata": {},
   "source": [
    "Interesting, eh? More on this later."
   ]
  },
  {
   "cell_type": "markdown",
   "metadata": {},
   "source": [
    "<a id='section2'></a>\n",
    "## 2. Calling Methods\n",
    "Let's create an instance of the `Point` class."
   ]
  },
  {
   "cell_type": "code",
   "execution_count": null,
   "metadata": {},
   "outputs": [],
   "source": [
    "point = Point(8, 15)"
   ]
  },
  {
   "cell_type": "markdown",
   "metadata": {},
   "source": [
    "### Method 1\n",
    "One way to call methods is to access the method through the class name and pass in the object."
   ]
  },
  {
   "cell_type": "code",
   "execution_count": null,
   "metadata": {},
   "outputs": [],
   "source": [
    "Point.calculate_distance_to_origin(point)"
   ]
  },
  {
   "cell_type": "markdown",
   "metadata": {},
   "source": [
    "When we call a method in this way, `self` is not automatically passed as the first argument."
   ]
  },
  {
   "cell_type": "code",
   "execution_count": null,
   "metadata": {},
   "outputs": [],
   "source": [
    "Point.calculate_distance_to_origin(point)"
   ]
  },
  {
   "cell_type": "markdown",
   "metadata": {},
   "source": [
    "We can do something similar with methods we are familiar with."
   ]
  },
  {
   "cell_type": "code",
   "execution_count": null,
   "metadata": {},
   "outputs": [],
   "source": [
    "str.capitalize(\"hello world\")"
   ]
  },
  {
   "cell_type": "markdown",
   "metadata": {},
   "source": [
    "### Method 2\n",
    "The other way to call methods is to use object-oriented syntax."
   ]
  },
  {
   "cell_type": "code",
   "execution_count": null,
   "metadata": {},
   "outputs": [],
   "source": [
    "point.calculate_distance_to_origin()"
   ]
  },
  {
   "cell_type": "markdown",
   "metadata": {},
   "source": [
    "In this case, because I am calling the method from an instance of the class, the `self` argument is automatically passed."
   ]
  },
  {
   "cell_type": "code",
   "execution_count": null,
   "metadata": {},
   "outputs": [],
   "source": [
    "point.calculate_distance_to_origin()"
   ]
  },
  {
   "cell_type": "markdown",
   "metadata": {},
   "source": [
    "This is how we could called the `capitalize` method from a string object (an instance of the `str` class)."
   ]
  },
  {
   "cell_type": "code",
   "execution_count": null,
   "metadata": {},
   "outputs": [],
   "source": [
    "\"hello world\".capitalize()"
   ]
  },
  {
   "cell_type": "markdown",
   "metadata": {},
   "source": [
    "Personally, I always use the OO way of doing it.\n",
    "\n",
    "### self as an argument.\n",
    "Lastly, you'll notice that we don't have to pass `self` as an argument even though it is a parameter in the method. Python automatically passes it for us.\n",
    "\n",
    "```python\n",
    "def calculate_distance_to_origin(self):\n",
    "        \"\"\"\n",
    "        (self) -> float\n",
    "        Calculates the Euclidean distance between self and origin\n",
    "        \"\"\"\n",
    "        return self.calculate_distance_to_point(Point(0, 0))\n",
    "```"
   ]
  },
  {
   "cell_type": "code",
   "execution_count": null,
   "metadata": {},
   "outputs": [],
   "source": [
    "point.calculate_distance_to_origin()"
   ]
  },
  {
   "cell_type": "markdown",
   "metadata": {},
   "source": [
    "And what happens is we don't include `self` as a parameter when defining the class."
   ]
  },
  {
   "cell_type": "code",
   "execution_count": null,
   "metadata": {},
   "outputs": [],
   "source": [
    "import math\n",
    "\n",
    "class Point:\n",
    "    \n",
    "    \"\"\"A class that represents and manipulates 2D points\"\"\"\n",
    "    \n",
    "    def __init__(self, x=0, y=0):\n",
    "        \"\"\" \n",
    "        (self, float, float) -> None\n",
    "        Initializes a new point at (0, 0)\n",
    "        \"\"\"\n",
    "        self.x = x\n",
    "        self.y = y\n",
    "        \n",
    "    def calculate_distance_to_point(self, other_point):\n",
    "        \"\"\"\n",
    "        (self, Point) -> float\n",
    "        Calculates the Euclidean distance between self and other point\n",
    "        \"\"\"\n",
    "        return (math.sqrt((self.x - other_point.x)**2 + \n",
    "                          (self.y - other_point.y)**2))\n",
    "    \n",
    "    def calculate_distance_to_origin(self):\n",
    "        \"\"\"\n",
    "        (self) -> float\n",
    "        Calculates the Euclidean distance between self and origin\n",
    "        \"\"\"\n",
    "        return self.calculate_distance_to_point(Point(0, 0))"
   ]
  },
  {
   "cell_type": "markdown",
   "metadata": {},
   "source": [
    "We do not get an effor when difining the class or when we create an instance of the class."
   ]
  },
  {
   "cell_type": "code",
   "execution_count": null,
   "metadata": {},
   "outputs": [],
   "source": [
    "point = Point(8, 15)"
   ]
  },
  {
   "cell_type": "code",
   "execution_count": null,
   "metadata": {},
   "outputs": [],
   "source": [
    "point.calculate_distance_to_origin()"
   ]
  },
  {
   "cell_type": "markdown",
   "metadata": {},
   "source": [
    "But we do when I call the method. Also, notice that I recreated the `point` instance so that the methods would be up to date."
   ]
  },
  {
   "cell_type": "markdown",
   "metadata": {},
   "source": [
    "<a id='section3'></a>\n",
    "## 3. Add Midpoint Method to Point Class\n",
    "Let's start by defining our `Point` class again."
   ]
  },
  {
   "cell_type": "code",
   "execution_count": null,
   "metadata": {},
   "outputs": [],
   "source": [
    "import math\n",
    "\n",
    "class Point:\n",
    "    \n",
    "    \"\"\"A class that represents and manipulates 2D points\"\"\"\n",
    "    \n",
    "    def __init__(self, x=0, y=0):\n",
    "        \"\"\" \n",
    "        (self, float, float) -> None\n",
    "        Initializes a new point at (0, 0)\n",
    "        \"\"\"\n",
    "        self.x = x\n",
    "        self.y = y\n",
    "        \n",
    "    def calculate_distance_to_origin(self):\n",
    "        \"\"\"\n",
    "        (self) -> float\n",
    "        Calculates the Euclidean distance between self and origin\n",
    "        \"\"\"\n",
    "        return self.calculate_distance_to_point(Point(0, 0))\n",
    "    \n",
    "    def calculate_distance_to_point(self, other_point):\n",
    "        \"\"\"\n",
    "        (self, Point) -> float\n",
    "        Calculates the Euclidean distance between self and other point\n",
    "        \"\"\"\n",
    "        return (math.sqrt((self.x - other_point.x)**2 + \n",
    "                          (self.y - other_point.y)**2))\n",
    "    \n",
    "    "
   ]
  },
  {
   "cell_type": "markdown",
   "metadata": {},
   "source": [
    "#### Create a Function\n",
    "First we’ll write this as a regular function."
   ]
  },
  {
   "cell_type": "code",
   "execution_count": null,
   "metadata": {},
   "outputs": [],
   "source": [
    "def calculate_midpoint(point_1, point_2):\n",
    "    \"\"\" \n",
    "    (Point, Point) -> Point\n",
    "    Returns the midpoint of points point_1 and point_2 \n",
    "    \"\"\"\n",
    "    midpoint_x = (point_1.x + point_2.x) / 2\n",
    "    midpoint_y = (point_1.y + point_2.y) / 2\n",
    "    return Point(midpoint_x, midpoint_y)"
   ]
  },
  {
   "cell_type": "markdown",
   "metadata": {},
   "source": [
    "Let's try it out!"
   ]
  },
  {
   "cell_type": "code",
   "execution_count": null,
   "metadata": {},
   "outputs": [],
   "source": [
    "p1 = Point(3, 4)\n",
    "p2 = Point(5, 12)\n",
    "midpoint = calculate_midpoint(p1, p2)\n",
    "print(midpoint.x, midpoint.y)\n",
    "print(type(midpoint))\n",
    "print(type('hello'))"
   ]
  },
  {
   "cell_type": "markdown",
   "metadata": {},
   "source": [
    "#### Create a Function\n",
    "Let's do this as a method instead. Suppose we have a Point object, and wish to find the midpoint halfway between it and some other target point."
   ]
  },
  {
   "cell_type": "code",
   "execution_count": null,
   "metadata": {},
   "outputs": [],
   "source": [
    "import math\n",
    "\n",
    "class Point:\n",
    "    \n",
    "    \"\"\"A class that represents and manipulates 2D points\"\"\"\n",
    "    \n",
    "    def __init__(self, x=0, y=0):\n",
    "        \"\"\" \n",
    "        (self, float, float) -> None\n",
    "        Initializes a new point at (0, 0)\n",
    "        \"\"\"\n",
    "        self.x = x\n",
    "        self.y = y\n",
    "        \n",
    "    def calculate_distance_to_point(self, other_point):\n",
    "        \"\"\"\n",
    "        (self, Point) -> float\n",
    "        Calculates the Euclidean distance between self and other point\n",
    "        \"\"\"\n",
    "        return (math.sqrt((self.x - other_point.x)**2 + \n",
    "                          (self.y - other_point.y)**2))\n",
    "    \n",
    "    def calculate_distance_to_origin(self):\n",
    "        \"\"\"\n",
    "        (self) -> float\n",
    "        Calculates the Euclidean distance between self and origin\n",
    "        \"\"\"\n",
    "        return self.calculate_distance_to_point(Point(0, 0))\n",
    "    \n",
    "    def calculate_midpoint(self, other_point):\n",
    "        \"\"\"\n",
    "        (self, Point) -> Point\n",
    "        Calculates the midpoint between self and other point\n",
    "        \"\"\"\n",
    "        x_midpoint = (self.x + other_point.x) / 2\n",
    "        y_midpoint = (self.y + other_point.y) / 2\n",
    "        return Point(x_midpoint, y_midpoint)"
   ]
  },
  {
   "cell_type": "markdown",
   "metadata": {},
   "source": [
    "Let's try it out."
   ]
  },
  {
   "cell_type": "code",
   "execution_count": null,
   "metadata": {},
   "outputs": [],
   "source": [
    "point1 = Point(3, 4)\n",
    "point2 = Point(5, 12)\n",
    "point1.calculate_midpoint(point2)"
   ]
  },
  {
   "cell_type": "markdown",
   "metadata": {},
   "source": [
    "hmmmmmm, why is the point not (x, y)? Remember, we return an instance of `Point`."
   ]
  },
  {
   "cell_type": "code",
   "execution_count": null,
   "metadata": {},
   "outputs": [],
   "source": [
    "midpoint = point1.calculate_midpoint(point2)\n",
    "print(midpoint.x, midpoint.y)"
   ]
  },
  {
   "cell_type": "markdown",
   "metadata": {},
   "source": [
    "<a id='section4'></a>\n",
    "## 4. Variable Declarations Are Optional\n",
    "#### Option 1"
   ]
  },
  {
   "cell_type": "code",
   "execution_count": null,
   "metadata": {},
   "outputs": [],
   "source": [
    "p1 = Point(3, 4)\n",
    "p2 = Point(5, 12)\n",
    "p3 = p1.calculate_midpoint(p2)\n",
    "print(p3.x, p3.y)"
   ]
  },
  {
   "cell_type": "markdown",
   "metadata": {},
   "source": [
    "#### Option 2"
   ]
  },
  {
   "cell_type": "code",
   "execution_count": null,
   "metadata": {},
   "outputs": [],
   "source": [
    "p3 = Point(3, 4).calculate_midpoint(Point(5, 12))\n",
    "print(p3.x, p3.y)"
   ]
  },
  {
   "cell_type": "markdown",
   "metadata": {},
   "source": [
    "<a id='section5'></a>\n",
    "## 5. Objects as Data Attributes of Classes\n",
    "Ok, let's start of again by redefining out `Point` class."
   ]
  },
  {
   "cell_type": "code",
   "execution_count": null,
   "metadata": {},
   "outputs": [],
   "source": [
    "import math\n",
    "\n",
    "class Point:\n",
    "    \n",
    "    \"\"\"A class that represents and manipulates 2D points\"\"\"\n",
    "    \n",
    "    def __init__(self, x=0, y=0):\n",
    "        \"\"\" \n",
    "        (self, float, float) -> None\n",
    "        Initializes a new point at (0, 0)\n",
    "        \"\"\"\n",
    "        self.x = x\n",
    "        self.y = y\n",
    "        \n",
    "    def calculate_distance_to_point(self, other_point):\n",
    "        \"\"\"\n",
    "        (self, Point) -> float\n",
    "        Calculates the Euclidean distance between self and other point\n",
    "        \"\"\"\n",
    "        return (math.sqrt((self.x - other_point.x)**2 + \n",
    "                          (self.y - other_point.y)**2))\n",
    "    \n",
    "    def calculate_distance_to_origin(self):\n",
    "        \"\"\"\n",
    "        (self) -> float\n",
    "        Calculates the Euclidean distance between self and origin\n",
    "        \"\"\"\n",
    "        return self.calculate_distance_to_point(Point(0, 0))\n",
    "    \n",
    "    def calculate_midpoint(self, other_point):\n",
    "        \"\"\"\n",
    "        (self, Point) -> Point\n",
    "        Calculates the midpoint between self and other point\n",
    "        \"\"\"\n",
    "        x_midpoint = (self.x + other_point.x) / 2\n",
    "        y_midpoint = (self.y + other_point.y) / 2\n",
    "        return Point(x_midpoint, y_midpoint)"
   ]
  },
  {
   "cell_type": "markdown",
   "metadata": {},
   "source": [
    "### Square Class\n",
    "Let's define ou `Square` class.\n",
    "- **Parameters**\n",
    "    - x1 (lower left point, x)\n",
    "    - y1 (lower left point, y)\n",
    "    - x2 (upper right point, x)\n",
    "    - y2 (upper right point, y)\n",
    "- **Attributes**\n",
    "    - Lower left point\n",
    "    - Upper right point\n",
    "- **Methods**\n",
    "    - Calculate area\n",
    "    - Calculate centre\n",
    "    \n",
    "Ok, let's start with the constructor to take our inputs `x1, y1, x2, y2` and assigns them to class attributes."
   ]
  },
  {
   "cell_type": "code",
   "execution_count": null,
   "metadata": {},
   "outputs": [],
   "source": [
    "class Square:\n",
    "    \n",
    "    \"\"\"A square represent by 2 Points: lower left and upper right.\"\"\"\n",
    "    \n",
    "    def __init__(self, x1=0, y1=0, x2=0, y2=0):\n",
    "        \n",
    "        \"\"\"\n",
    "        (self, number, number, number, number) -> None\n",
    "        Initializes a point with (x1,y1) as lower left corner and \n",
    "        (x2,y2) as upper-right corner. All default to zeros.\n",
    "        \"\"\"\n",
    "        self.x1 = x1\n",
    "        self.y1 = y1\n",
    "        self.x2 = x2\n",
    "        self.y2 = y2"
   ]
  },
  {
   "cell_type": "markdown",
   "metadata": {},
   "source": [
    "Ok, the next thing we need to do is create the attributes `lower_left` and `upper_right`, which are instances of the `Point` class."
   ]
  },
  {
   "cell_type": "code",
   "execution_count": null,
   "metadata": {},
   "outputs": [],
   "source": [
    "class Square:\n",
    "    \n",
    "    \"\"\"A square represent by 2 Points: lower left and upper right.\"\"\"\n",
    "    \n",
    "    def __init__(self, x1=0, y1=0, x2=0, y2=0):\n",
    "        \n",
    "        \"\"\"\n",
    "        (self, number, number, number, number) -> None\n",
    "        Initializes a point with (x1,y1) as lower left corner and \n",
    "        (x2,y2) as upper-right corner. All default to zeros.\n",
    "        \"\"\"\n",
    "        self.x1 = x1\n",
    "        self.y1 = y1\n",
    "        self.x2 = x2\n",
    "        self.y2 = y2\n",
    "        self.lower_left = Point(self.x1, self.y1)\n",
    "        self.upper_right = Point(self.x2, self.y2)"
   ]
  },
  {
   "cell_type": "markdown",
   "metadata": {},
   "source": [
    "Looking at the code above, its clear that the attributes `x1, y1, x2, y2` are redundant and can be accessed via `self.lower_left` and `self.upper_right`.\n",
    "\n",
    "Therefore, it is not always necessary to assign all input parameters to attributes.\n",
    "\n",
    "Let's remove these attribues."
   ]
  },
  {
   "cell_type": "code",
   "execution_count": null,
   "metadata": {},
   "outputs": [],
   "source": [
    "class Square:\n",
    "    \n",
    "    \"\"\"A square represent by 2 Points: lower left and upper right.\"\"\"\n",
    "    \n",
    "    def __init__(self, x1=0, y1=0, x2=0, y2=0):\n",
    "        \n",
    "        \"\"\"\n",
    "        (self, number, number, number, number) -> None\n",
    "        Initializes a point with (x1, y1) as lower left corner and \n",
    "        (x2, y2) as upper-right corner. All default to zeros.\n",
    "        \"\"\"\n",
    "        self.lower_left = Point(x1, y1)\n",
    "        self.upper_right = Point(x2, y2)"
   ]
  },
  {
   "cell_type": "markdown",
   "metadata": {},
   "source": [
    "Let's create an instance."
   ]
  },
  {
   "cell_type": "code",
   "execution_count": null,
   "metadata": {},
   "outputs": [],
   "source": [
    "s = Square(0, 0, 5, 5)\n",
    "print(s.lower_left.x, s.lower_left.y)\n",
    "print(s.upper_right.x, s.upper_right.y)\n",
    "\n",
    "type(s)\n",
    "type(s.lower_left.x)"
   ]
  },
  {
   "cell_type": "markdown",
   "metadata": {},
   "source": [
    "#### Area Method"
   ]
  },
  {
   "cell_type": "code",
   "execution_count": null,
   "metadata": {},
   "outputs": [],
   "source": [
    "class Square:\n",
    "    \n",
    "    \"\"\"A square represent by 2 Points: lower left and upper right.\"\"\"\n",
    "    \n",
    "    def __init__(self, x1=0, y1=0, x2=0, y2=0):\n",
    "        \"\"\"\n",
    "        (self, number, number, number, number) -> None\n",
    "        Initializes a point with (x1, y1) as lower left corner and \n",
    "        (x2, y2) as upper-right corner. All default to zeros.\n",
    "        \"\"\"\n",
    "        self.lower_left = Point(x1, y1)\n",
    "        self.upper_right = Point(x2, y2)\n",
    "        \n",
    "    def area(self):\n",
    "        \"\"\"\n",
    "        (self) -> number\n",
    "        Returns the area of the square\n",
    "        \"\"\"\n",
    "        return ((self.upper_right.x - self.lower_left.x) *\n",
    "                (self.upper_right.y - self.lower_left.y))"
   ]
  },
  {
   "cell_type": "markdown",
   "metadata": {},
   "source": [
    "Let's try the `.area()` method."
   ]
  },
  {
   "cell_type": "code",
   "execution_count": null,
   "metadata": {},
   "outputs": [],
   "source": [
    "square = Square(0, 0, 5, 5)\n",
    "square.area()"
   ]
  },
  {
   "cell_type": "markdown",
   "metadata": {},
   "source": [
    "#### Centre Method"
   ]
  },
  {
   "cell_type": "code",
   "execution_count": null,
   "metadata": {},
   "outputs": [],
   "source": [
    "class Square:\n",
    "    \n",
    "    \"\"\"A square represent by 2 Points: lower left and upper right.\"\"\"\n",
    "    \n",
    "    def __init__(self, x1=0, y1=0, x2=0, y2=0):\n",
    "        \"\"\"\n",
    "        (self, number, number, number, number) -> None\n",
    "        Initializes a point with (x1, y1) as lower left corner and \n",
    "        (x2, y2) as upper-right corner. All default to zeros.\n",
    "        \"\"\"\n",
    "        self.lower_left = Point(x1, y1)\n",
    "        self.upper_right = Point(x2, y2)\n",
    "        \n",
    "    def area(self):\n",
    "        \"\"\"\n",
    "        (self) -> number\n",
    "        Returns the area of the square\n",
    "        \"\"\"\n",
    "        return ((self.upper_right.x - self.lower_left.x) *\n",
    "                (self.upper_right.y - self.lower_left.y))\n",
    "    \n",
    "    def centre(self):\n",
    "        \"\"\"\n",
    "        (self) -> Point\n",
    "        Returns the Point in the middle of the square\n",
    "        \"\"\"\n",
    "        return self.upper_right.calculate_midpoint(self.lower_left) #what is happening here?"
   ]
  },
  {
   "cell_type": "markdown",
   "metadata": {},
   "source": [
    "Let's try the `.centre()` method."
   ]
  },
  {
   "cell_type": "code",
   "execution_count": null,
   "metadata": {},
   "outputs": [],
   "source": [
    "s = Square(0, 0, 5, 5)\n",
    "print(s.centre().x, s.centre().y)"
   ]
  },
  {
   "cell_type": "markdown",
   "metadata": {},
   "source": [
    "How are we able to access an attribute of a method?\n",
    "\n",
    "```python\n",
    "square.centre().x\n",
    "```\n",
    "\n",
    "Remember, `square.centre()` returns an instance of `Point`, which has attributes we can access."
   ]
  },
  {
   "cell_type": "markdown",
   "metadata": {},
   "source": [
    "<a id='section6'></a>\n",
    "## 6. Objects In Collections\n",
    "Of course, you can put objects in lists, tuples, etc."
   ]
  },
  {
   "cell_type": "code",
   "execution_count": null,
   "metadata": {},
   "outputs": [],
   "source": [
    "points_list = [Point(), Point(25, 25), Point(50, 50), Point(-34, 21)]"
   ]
  },
  {
   "cell_type": "markdown",
   "metadata": {},
   "source": [
    "Print the distance between sequential pairs of points in `points`."
   ]
  },
  {
   "cell_type": "code",
   "execution_count": null,
   "metadata": {},
   "outputs": [],
   "source": [
    "for i in range(len(points_list)-1):\n",
    "    print(points_list[i].calculate_distance_to_point(points_list[i + 1]))"
   ]
  },
  {
   "cell_type": "markdown",
   "metadata": {},
   "source": [
    "What about dictionaries?"
   ]
  },
  {
   "cell_type": "code",
   "execution_count": null,
   "metadata": {},
   "outputs": [],
   "source": [
    "my_points = {'origin': Point(0, 0)}\n",
    "print(my_points['origin'].x, my_points['origin'].y)"
   ]
  },
  {
   "cell_type": "markdown",
   "metadata": {},
   "source": [
    "<a id='section7'></a>\n",
    "## 7. Printing Attribute Information\n",
    "For our `Point` class, let's say we want to print out the `(x, y)` coordinate of a point and avoid having to do this."
   ]
  },
  {
   "cell_type": "code",
   "execution_count": null,
   "metadata": {},
   "outputs": [],
   "source": [
    "p = Point(3, 4)\n",
    "print(p.x, p.y)"
   ]
  },
  {
   "cell_type": "markdown",
   "metadata": {},
   "source": [
    "Let's add a method called `print_point()`."
   ]
  },
  {
   "cell_type": "code",
   "execution_count": null,
   "metadata": {},
   "outputs": [],
   "source": [
    "import math\n",
    "\n",
    "class Point:\n",
    "    \n",
    "    \"\"\"A class that represents and manipulates 2D points\"\"\"\n",
    "    \n",
    "    def __init__(self, x=0, y=0):\n",
    "        \"\"\" \n",
    "        (self, float, float) -> None\n",
    "        Initializes a new point at (0, 0)\n",
    "        \"\"\"\n",
    "        self.x = x\n",
    "        self.y = y\n",
    "        \n",
    "    def calculate_distance_to_point(self, other_point):\n",
    "        \"\"\"\n",
    "        (self, Point) -> float\n",
    "        Calculates the Euclidean distance between self and other point\n",
    "        \"\"\"\n",
    "        return (math.sqrt((self.x - other_point.x)**2 + \n",
    "                          (self.y - other_point.y)**2))\n",
    "    \n",
    "    def calculate_distance_to_origin(self):\n",
    "        \"\"\"\n",
    "        (self) -> float\n",
    "        Calculates the Euclidean distance between self and origin\n",
    "        \"\"\"\n",
    "        return self.calculate_distance_to_point(Point(0, 0))\n",
    "    \n",
    "    def calculate_midpoint(self, other_point):\n",
    "        \"\"\"\n",
    "        (self, Point) -> Point\n",
    "        Calculates the midpoint between self and other point\n",
    "        \"\"\"\n",
    "        x_midpoint = (self.x + other_point.x) / 2\n",
    "        y_midpoint = (self.y + other_point.y) / 2\n",
    "        return Point(x_midpoint, y_midpoint)\n",
    "    \n",
    "    def print_point(self):\n",
    "        \"\"\"\n",
    "        (self) -> None\n",
    "        Prints the (x, y) coordinate for the point.\n",
    "        \"\"\"\n",
    "        print('x =', self.x, ', y =', self.y)"
   ]
  },
  {
   "cell_type": "markdown",
   "metadata": {},
   "source": [
    "Let's try printing the point."
   ]
  },
  {
   "cell_type": "code",
   "execution_count": null,
   "metadata": {
    "scrolled": true
   },
   "outputs": [],
   "source": [
    "point = Point(3, 4)\n",
    "point.print_point()"
   ]
  },
  {
   "cell_type": "markdown",
   "metadata": {},
   "source": [
    "<a id='section7'></a>\n",
    "## 7. Patient Class"
   ]
  },
  {
   "cell_type": "code",
   "execution_count": null,
   "metadata": {},
   "outputs": [],
   "source": [
    "class PatientData:\n",
    "    \"\"\"A class that stores and manipulates patient data.\"\"\"\n",
    "    \n",
    "    def __init__(self):\n",
    "        \"\"\"\n",
    "        (self) -> None\n",
    "        Initializes patient data to 0\n",
    "        \"\"\"\n",
    "        self.height_cm = 0\n",
    "        self.weight_kg = 0\n",
    "        \n",
    "    def print_data(self):\n",
    "        \"\"\"\n",
    "        (self) -> None\n",
    "        Print patient height and weight.\n",
    "        \"\"\"\n",
    "        print(self.height_cm, \"cm,\", self.weight_kg, \"kg\")"
   ]
  },
  {
   "cell_type": "markdown",
   "metadata": {},
   "source": [
    "Let's create a measurement."
   ]
  },
  {
   "cell_type": "code",
   "execution_count": null,
   "metadata": {},
   "outputs": [],
   "source": [
    "john_doe = PatientData()"
   ]
  },
  {
   "cell_type": "markdown",
   "metadata": {},
   "source": [
    "Next, show an updating of the patient data."
   ]
  },
  {
   "cell_type": "code",
   "execution_count": null,
   "metadata": {},
   "outputs": [],
   "source": [
    "print('Patient data (before):')\n",
    "john_doe.print_data()"
   ]
  },
  {
   "cell_type": "code",
   "execution_count": null,
   "metadata": {},
   "outputs": [],
   "source": [
    "john_doe.height_cm = 155\n",
    "john_doe.weight_kg = 52\n",
    "\n",
    "print('Patient data (after):')\n",
    "john_doe.print_data()"
   ]
  },
  {
   "cell_type": "markdown",
   "metadata": {},
   "source": [
    "#### Something is missing!\n",
    "`PatientData` does not contain any identifying information about the actual patient, just their height and weight. \n",
    "\n",
    "In a real system, we would probably want to know who the patient is.\n",
    "\n",
    "Also imagine that we want to keep medical records and so their may be multiple instances of `PatientData` for the same patient. You might get weighed and measured every year by your doctor.\n",
    "\n",
    "Given these two points (need to know who the patient is and want to record multiple instances of `PatientData`, how do you want to re-design `PatientData`?\n",
    "\n",
    "#### Create a `Patient` Class"
   ]
  },
  {
   "cell_type": "code",
   "execution_count": null,
   "metadata": {},
   "outputs": [],
   "source": [
    "class Patient:\n",
    "    \n",
    "    \"\"\"\n",
    "    A class that stores identifying and contact information \n",
    "    about a patient.\n",
    "    \"\"\"\n",
    "    \n",
    "    def __init__(self, name, family_name):\n",
    "        \"\"\"\n",
    "        (self, str, str) -> None\n",
    "        Initialized patient information.\n",
    "        \"\"\"\n",
    "        self.name = name\n",
    "        self.family_name = family_name\n",
    "        self.cell_number = \"\"\n",
    "        self.OHIP_number = \"\""
   ]
  },
  {
   "cell_type": "markdown",
   "metadata": {},
   "source": [
    "#### Update the `PatientData` Class"
   ]
  },
  {
   "cell_type": "code",
   "execution_count": null,
   "metadata": {},
   "outputs": [],
   "source": [
    "class PatientData:\n",
    "    \n",
    "    \"\"\"A class that stores and manipulates patient data.\"\"\"\n",
    "    \n",
    "    def __init__(self, patient, date_of_measurements):\n",
    "        ''' (self, Patient. tuple) -> None\n",
    "        Initializes patient with data of 0\n",
    "        '''\n",
    "        self.patient = patient\n",
    "        self.date_of_measurements = date_of_measurements\n",
    "        self.height_cm = 0\n",
    "        self.weight_kg = 0\n",
    "\n",
    "    def print_data(self):\n",
    "        ''' \n",
    "        (self) -> None\n",
    "        Print the object\n",
    "        '''        \n",
    "        print(self.patient.name, \n",
    "              self.patient.family_name, \":\", \n",
    "              self.height_cm, \"cm,\", \n",
    "              self.weight_kg, \"kg\", \n",
    "              self.date_of_measurements)"
   ]
  },
  {
   "cell_type": "markdown",
   "metadata": {},
   "source": [
    "Ok, now let's use `PatientData` and `Patient` to simulate 3 doctor appointments over 3 years.\n",
    "\n",
    "##### Year 1\n",
    "The new patient has their data input into the medical records system at the doctor's office."
   ]
  },
  {
   "cell_type": "code",
   "execution_count": null,
   "metadata": {},
   "outputs": [],
   "source": [
    "john_doe = Patient('John', 'Doe')"
   ]
  },
  {
   "cell_type": "markdown",
   "metadata": {},
   "source": [
    "They also initialize a list to collect all of John's measurements over time."
   ]
  },
  {
   "cell_type": "code",
   "execution_count": null,
   "metadata": {},
   "outputs": [],
   "source": [
    "measurements = []"
   ]
  },
  {
   "cell_type": "markdown",
   "metadata": {},
   "source": [
    "At the first appointment on `(1, 3, 2019)`, the doctor takes John's weight and height."
   ]
  },
  {
   "cell_type": "code",
   "execution_count": null,
   "metadata": {},
   "outputs": [],
   "source": [
    "measurement = PatientData(john_doe, (1, 3, 2019))\n",
    "measurement.height_cm = 154\n",
    "measurement.weight_kg = 70"
   ]
  },
  {
   "cell_type": "markdown",
   "metadata": {},
   "source": [
    "Add the measurements to Seb's list of measurements."
   ]
  },
  {
   "cell_type": "code",
   "execution_count": null,
   "metadata": {},
   "outputs": [],
   "source": [
    "measurements.append(measurement)\n",
    "print(measurement.print_data())"
   ]
  },
  {
   "cell_type": "markdown",
   "metadata": {},
   "source": [
    "##### Year 2\n",
    "At the second appointment on `(2, 6, 2020)`, the doctor takes John's weight and height."
   ]
  },
  {
   "cell_type": "code",
   "execution_count": null,
   "metadata": {},
   "outputs": [],
   "source": [
    "measurement = PatientData(john_doe, (2, 6, 2020))\n",
    "measurement.height_cm = 154\n",
    "measurement.weight_kg = 72"
   ]
  },
  {
   "cell_type": "markdown",
   "metadata": {},
   "source": [
    "Add the measurements to John's list of measurements."
   ]
  },
  {
   "cell_type": "code",
   "execution_count": null,
   "metadata": {},
   "outputs": [],
   "source": [
    "measurements.append(measurement)"
   ]
  },
  {
   "cell_type": "markdown",
   "metadata": {},
   "source": [
    "##### Year 3\n",
    "At the third appointment on `(10, 9, 2022)`, the doctor takes John's weight and height."
   ]
  },
  {
   "cell_type": "code",
   "execution_count": null,
   "metadata": {},
   "outputs": [],
   "source": [
    "measurement = PatientData(john_doe, (10, 9, 2021))\n",
    "measurement.height_cm = 154\n",
    "measurement.weight_kg = 71"
   ]
  },
  {
   "cell_type": "markdown",
   "metadata": {},
   "source": [
    "Add the measurements to John's list of measurements."
   ]
  },
  {
   "cell_type": "code",
   "execution_count": null,
   "metadata": {},
   "outputs": [],
   "source": [
    "measurements.append(measurement)"
   ]
  },
  {
   "cell_type": "markdown",
   "metadata": {},
   "source": [
    "##### Print Records"
   ]
  },
  {
   "cell_type": "code",
   "execution_count": null,
   "metadata": {},
   "outputs": [],
   "source": [
    "for measurement in measurements:\n",
    "    measurement.print_data()"
   ]
  },
  {
   "cell_type": "code",
   "execution_count": null,
   "metadata": {},
   "outputs": [],
   "source": []
  }
 ],
 "metadata": {
  "kernelspec": {
   "display_name": "Python 3 (ipykernel)",
   "language": "python",
   "name": "python3"
  },
  "language_info": {
   "codemirror_mode": {
    "name": "ipython",
    "version": 3
   },
   "file_extension": ".py",
   "mimetype": "text/x-python",
   "name": "python",
   "nbconvert_exporter": "python",
   "pygments_lexer": "ipython3",
   "version": "3.10.9"
  }
 },
 "nbformat": 4,
 "nbformat_minor": 1
}
