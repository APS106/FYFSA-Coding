{
 "cells": [
  {
   "cell_type": "markdown",
   "metadata": {},
   "source": [
    "# APS106 - Fundamentals of Computer Programming\n",
    "## Week 2 - While Loops, Build Your Own Counters\n",
    "\n",
    "\n",
    "### Lecture Structure\n",
    "1. [Asking the User a Question](#section1)\n",
    "2. [While Loops](#section2)\n",
    "3. [Infinite Loops](#section3)\n",
    "4. [Back to User Input](#section4)\n",
    "5. [Breakout Session 1](#section5)\n",
    "6. [Turtles and While Loops](#section6)\n",
    "7. [Random Module](#section7)\n",
    "8. [A Simple Guessing Game](#section8)"
   ]
  },
  {
   "cell_type": "markdown",
   "metadata": {},
   "source": [
    "<a id='section1'></a>\n",
    "## 1. Asking the User a Question\n",
    "\n",
    "Let's say you want to ask the user a question that has a yes-or-no answer. For example, \"Do you think the Toronto Maple Leafs will win the Stanley Cup in your lifetime?\"\n",
    "\n",
    "With what we have studied so far, this should be pretty easy."
   ]
  },
  {
   "cell_type": "code",
   "execution_count": null,
   "metadata": {},
   "outputs": [],
   "source": [
    "answer = input(\"Do you think the Toronto Maple Leafs will win the Stanley Cup in your lifetime? (y/n): \")\n",
    "\n",
    "if answer == 'y':\n",
    "    print(\"You are going to live for a very long time.\")\n",
    "elif answer == 'n':\n",
    "    print(\"Well, sometimes miracles happen.\")"
   ]
  },
  {
   "cell_type": "markdown",
   "metadata": {},
   "source": [
    "OK, so we've written code that satisfied our problem requirements. \n",
    "\n",
    "But, what if a user inputs a `'t'` when they meant to input a `'y'`?\n",
    "\n",
    "Well, we could add as `else` statement to catch this error."
   ]
  },
  {
   "cell_type": "code",
   "execution_count": null,
   "metadata": {},
   "outputs": [],
   "source": [
    "answer = input(\"Do you think the Toronto Maple Leafs will win the Stanley Cup in your lifetime? (y/n): \")\n",
    "\n",
    "if answer == 'y':\n",
    "    print(\"You are going to live for a very long time.\")\n",
    "elif answer == 'n':\n",
    "    print(\"Well, sometimes miracles happen.\")\n",
    "else:\n",
    "    print(\"Sorry, that was not one of the options.\")"
   ]
  },
  {
   "cell_type": "markdown",
   "metadata": {},
   "source": [
    "Ok, this kinda works.\n",
    "\n",
    "But, the user was not able to try again given they clearly made a typo.\n",
    "\n",
    "We could try copying our code again into the `else` statement."
   ]
  },
  {
   "cell_type": "code",
   "execution_count": null,
   "metadata": {},
   "outputs": [],
   "source": [
    "answer = input(\"Do you think the Toronto Maple Leafs will win the Stanley Cup in your lifetime? (y/n): \")\n",
    "\n",
    "if answer == 'y':\n",
    "    print(\"You are going to live for a very long time.\")\n",
    "elif answer == 'n':\n",
    "    print(\"Well, sometimes miracles happen.\")\n",
    "else:\n",
    "    print(\"Sorry, that was not one of the options.\")\n",
    "    \n",
    "    # Copied code\n",
    "    answer = input(\"Do you think the Toronto Maple Leafs will win the Stanley Cup in your lifetime? (y/n): \")\n",
    "\n",
    "    if answer == 'y':\n",
    "        print(\"You are going to live for a very long time.\")\n",
    "    elif answer == 'n':\n",
    "        print(\"Well, sometimes miracles happen.\")\n",
    "    else:\n",
    "        print(\"Sorry, that was not one of the options.\")\n",
    "        \n",
    "        answer = input(\"Do you think the Toronto Maple Leafs will win the Stanley Cup in your lifetime? (y/n): \")\n",
    "\n",
    "        if answer == 'y':\n",
    "            print(\"You are going to live for a very long time.\")\n",
    "        elif answer == 'n':\n",
    "            print(\"Well, sometimes miracles happen.\")\n",
    "        else:\n",
    "            print(\"Sorry, that was not one of the options.\")\n",
    "            \n",
    "            answer = input(\"Do you think the Toronto Maple Leafs will win the Stanley Cup in your lifetime? (y/n): \")\n",
    "\n",
    "            if answer == 'y':\n",
    "                print(\"You are going to live for a very long time.\")\n",
    "            elif answer == 'n':\n",
    "                print(\"Well, sometimes miracles happen.\")\n",
    "            else:\n",
    "                print(\"Sorry, that was not one of the options.\")\n",
    "                \n",
    "                answer = input(\"Do you think the Toronto Maple Leafs will win the Stanley Cup in your lifetime? (y/n): \")\n",
    "\n",
    "                if answer == 'y':\n",
    "                    print(\"You are going to live for a very long time.\")\n",
    "                elif answer == 'n':\n",
    "                    print(\"Well, sometimes miracles happen.\")\n",
    "                else:\n",
    "                    print(\"Sorry, that was not one of the options.\")"
   ]
  },
  {
   "cell_type": "markdown",
   "metadata": {},
   "source": [
    "But, what if the user inputs two incorrect values?\n",
    "\n",
    "We can keep pasting that code forever because we don't know how many mistakes a user will make.\n",
    "\n",
    "We could use a `while` loop to continue to prompt the user for an input until a correct value (either `'y'` or `'n'`) is entered.\n",
    "\n",
    "Let's learn about `while` loops and then revisit this problem."
   ]
  },
  {
   "cell_type": "markdown",
   "metadata": {},
   "source": [
    "<a id='section2'></a>\n",
    "## 2. While Loops\n",
    "The form of a while-loop is:\n",
    "\n",
    "```python\n",
    "while expression:    \n",
    "    body\n",
    "```\n",
    "\n",
    "`expression` is a boolean expression: it evaluates to `True` or `False`. While it is `True` the code in `body` is executed and then the execution returns to the `while` line and evaluates `expression` again. If it is still `True`, execute `body`, loop back, and test `expression` again. If `expression` is `False`, skip `body` and go to the next line after it.\n",
    "\n",
    "How can we use a while-loop to print the integers between 0 and 9?"
   ]
  },
  {
   "cell_type": "code",
   "execution_count": null,
   "metadata": {},
   "outputs": [],
   "source": [
    "x = 0\n",
    "while x < 10:\n",
    "    print('x is now:', x)\n",
    "    x += 1\n",
    "    \n",
    "print('\\nFinished')\n",
    "print('x =', x)"
   ]
  },
  {
   "cell_type": "markdown",
   "metadata": {},
   "source": [
    "Wow, that was fast! Let's slow things down so we can see what's going on."
   ]
  },
  {
   "cell_type": "code",
   "execution_count": null,
   "metadata": {},
   "outputs": [],
   "source": [
    "import time\n",
    "\n",
    "x = 0\n",
    "print('x is initially set to:', x)\n",
    "\n",
    "print('Starting While loop\\n')\n",
    "while x < 10:\n",
    "    \n",
    "    time.sleep(1.5)\n",
    "    print('Starting an iteration, x =', x)\n",
    "    \n",
    "    time.sleep(1.5)\n",
    "    print('Updating x,', x, '+ 1 = ', x + 1)\n",
    "    x += 1\n",
    "    \n",
    "    time.sleep(1.5)\n",
    "    if x < 10:\n",
    "        print('Condition', x, '< 10 is True')\n",
    "        print('Continuing to next iteration\\n')\n",
    "    else:\n",
    "        print('Condition', x, '< 10 is False')\n",
    "        print('Exiting While loop')"
   ]
  },
  {
   "cell_type": "markdown",
   "metadata": {},
   "source": [
    "What if we wanted to know which integers have a squared value less than 200?"
   ]
  },
  {
   "cell_type": "code",
   "execution_count": null,
   "metadata": {},
   "outputs": [],
   "source": [
    "x = 0\n",
    "while x*x < 200:\n",
    "    print(x)\n",
    "    x = x + 1"
   ]
  },
  {
   "cell_type": "markdown",
   "metadata": {},
   "source": [
    "<a id='section3'></a>\n",
    "## 3. Infinite Loops\n",
    "Let's go back to our original code and remove the indentation of `x +=1`.\n",
    "\n",
    "What do you think will happen?"
   ]
  },
  {
   "cell_type": "code",
   "execution_count": null,
   "metadata": {},
   "outputs": [],
   "source": [
    "x = 0\n",
    "while x < 10:\n",
    "    print('x is now:', x)\n",
    "    #x += 1"
   ]
  },
  {
   "cell_type": "markdown",
   "metadata": {},
   "source": [
    "Yikes! Click the `stop` button to break out of the loop.\n",
    "\n",
    "### Question: What type of error is this?\n",
    "#### Syntax, Logic, Semantic, Runtime?"
   ]
  },
  {
   "cell_type": "markdown",
   "metadata": {},
   "source": [
    "<a id='section4'></a>\n",
    "## 4. Back to User Input\n",
    "Now, let's go back to our user input example.\n",
    "\n",
    "How can we use a `while` loop to keep asking the user the question until they answer `'y'` or `'n'`?\n",
    "\n",
    "Let's start with some of the code we wrote above. How are we going to adapt it?"
   ]
  },
  {
   "cell_type": "code",
   "execution_count": null,
   "metadata": {},
   "outputs": [],
   "source": [
    "answer = input(\"Do you think the Toronto Maple Leafs will win the Stanley Cup in your lifetime? (y/n): \")\n",
    "\n",
    "if answer == 'y':\n",
    "    print(\"You are going to live for a very long time.\")\n",
    "elif answer == 'n':\n",
    "    print(\"Well, sometimes miracles happen.\")\n",
    "else:\n",
    "    print(\"Sorry, that was not one of the options.\")"
   ]
  },
  {
   "cell_type": "markdown",
   "metadata": {},
   "source": [
    "We can use a `while` loop to continue asking the question `\"Do you think the Toronto Maple Leafs will win the Stanley Cup in your lifetime? (y/n): \"` until the user enters `'y'` or `'n'`."
   ]
  },
  {
   "cell_type": "code",
   "execution_count": null,
   "metadata": {},
   "outputs": [],
   "source": [
    "answer = input(\"Do you think the Toronto Maple Leafs will win the Stanley Cup in your lifetime? (y/n): \")\n",
    "\n",
    "while answer.lower() != 'y' and answer.lower() != 'n':\n",
    "    print(\"Sorry, that was not one of the options.\")\n",
    "    answer = input(\"Do you think the Toronto Maple Leafs will win the Stanley Cup in your lifetime? (y/n): \")\n",
    "    \n",
    "if answer.lower() == 'y':\n",
    "    print(\"You are going to live for a very long time.\")\n",
    "else:\n",
    "    print(\"Well, sometimes miracles happen.\")"
   ]
  },
  {
   "cell_type": "markdown",
   "metadata": {},
   "source": [
    "### Question: Why is it OK to just use an `else` (not an `elif`)?"
   ]
  },
  {
   "cell_type": "markdown",
   "metadata": {},
   "source": [
    "<a id='section5'></a>\n",
    "## 5. Breakout Session 1\n",
    "Write code to print all the integers from 0 to 20 that aren’t evenly divisible by both 3 and 5.\n",
    "\n",
    "Zero is divisible by everything and should not appear in the output."
   ]
  },
  {
   "cell_type": "code",
   "execution_count": null,
   "metadata": {},
   "outputs": [],
   "source": [
    "# Write your code here\n"
   ]
  },
  {
   "cell_type": "markdown",
   "metadata": {},
   "source": [
    "<a id='section7'></a>\n",
    "## 7. Random Module\n",
    "Let's import the `random` module."
   ]
  },
  {
   "cell_type": "code",
   "execution_count": null,
   "metadata": {},
   "outputs": [],
   "source": [
    "import random"
   ]
  },
  {
   "cell_type": "markdown",
   "metadata": {},
   "source": [
    "Check out the `help` function."
   ]
  },
  {
   "cell_type": "code",
   "execution_count": null,
   "metadata": {},
   "outputs": [],
   "source": [
    "help(random)"
   ]
  },
  {
   "cell_type": "markdown",
   "metadata": {},
   "source": [
    "#### `randint(a, b)`\n",
    "Return a random integer N such that a <= N <= b."
   ]
  },
  {
   "cell_type": "code",
   "execution_count": null,
   "metadata": {},
   "outputs": [],
   "source": [
    "random.randint(5, 10)"
   ]
  },
  {
   "cell_type": "markdown",
   "metadata": {},
   "source": [
    "#### `random()`\n",
    "Return the next random floating point number in the range 0.0 to 1.0."
   ]
  },
  {
   "cell_type": "code",
   "execution_count": null,
   "metadata": {},
   "outputs": [],
   "source": [
    "random.random()"
   ]
  },
  {
   "cell_type": "markdown",
   "metadata": {},
   "source": [
    "#### `uniform(a, b)`\n",
    "Return a random floating point number N such that a <= N <= b."
   ]
  },
  {
   "cell_type": "code",
   "execution_count": null,
   "metadata": {},
   "outputs": [],
   "source": [
    "random.uniform(5, 10)"
   ]
  },
  {
   "cell_type": "markdown",
   "metadata": {},
   "source": [
    "<a id='section8'></a>\n",
    "## 8. A Simple Guessing Game\n",
    "### Step 1: Get the computer to choose a random integer from 0 to 100.\n",
    "Let's use another package that comes preinstalled with Python, `random`.\n",
    "\n",
    "Notice that its different every time you run the code."
   ]
  },
  {
   "cell_type": "code",
   "execution_count": null,
   "metadata": {},
   "outputs": [],
   "source": [
    "import random\n",
    "\n",
    "# Initial guess\n",
    "num_min = 0\n",
    "num_max = 100\n",
    "num_to_guess = random.randint(num_min, num_max)\n",
    "\n",
    "# Debug mode\n",
    "print('Number to guess:', num_to_guess, '(for debugging)')"
   ]
  },
  {
   "cell_type": "markdown",
   "metadata": {},
   "source": [
    "### Step 2: Ask the user for a guess and allow the user to input a guess or `'q'`.\n",
    "### &\n",
    "### Step 3: If the user inputs `'q'` print a nice message and end the program."
   ]
  },
  {
   "cell_type": "code",
   "execution_count": null,
   "metadata": {},
   "outputs": [],
   "source": [
    "import random\n",
    "\n",
    "# Initial guess\n",
    "num_min = 0\n",
    "num_max = 100\n",
    "num_to_guess = random.randint(num_min, num_max)\n",
    "\n",
    "# Debug mode\n",
    "print('Number to guess:', num_to_guess, '(for debugging)\\n')\n",
    "\n",
    "# Initial guess from user\n",
    "guess = input(\"Guess a number between \" + str(num_min) + \" and \" + str(num_max) + \" inclusive. ('q' to quit): \")\n",
    "\n",
    "# Check user input\n",
    "while guess != 'q':\n",
    "    \n",
    "    print(\"You guessed: \", guess)\n",
    "    \n",
    "    # Make another guess\n",
    "    guess = input(\"Guess a number between \" + str(num_min) + \" and \" + str(num_max) + \" inclusive. ('q' to end): \")\n",
    "\n",
    "\n",
    "print('\\nGame Over')"
   ]
  },
  {
   "cell_type": "markdown",
   "metadata": {},
   "source": [
    "### Step 4: If the user enters a guess, tell them if they should guess higher, lower, or if they got it right.\n",
    "### &\n",
    "### Step 5: If they got it right, print a nice message and quit."
   ]
  },
  {
   "cell_type": "code",
   "execution_count": null,
   "metadata": {},
   "outputs": [],
   "source": [
    "import random\n",
    "\n",
    "# Initial guess\n",
    "num_min = 0\n",
    "num_max = 100\n",
    "num_to_guess = random.randint(num_min, num_max)\n",
    "\n",
    "# Debug mode\n",
    "print('Number to guess:', num_to_guess, '(for debugging)\\n')\n",
    "\n",
    "# Initial guess from user\n",
    "guess = input(\"Guess a number between \" + str(num_min) + \" and \" + str(num_max) + \" inclusive. ('q' to end): \")\n",
    "\n",
    "# Check user input\n",
    "while guess != 'q':\n",
    "    \n",
    "    print(\"You guessed: \", guess)\n",
    "    \n",
    "    # Higher, lowers, or you got it!\n",
    "    ...\n",
    "    \n",
    "    # Make another guess\n",
    "    guess = input(\"Guess a number between \" + str(num_min) + \" and \" + str(num_max) + \" inclusive. ('q' to end): \")\n",
    "    \n",
    "print('\\nGame Over')"
   ]
  },
  {
   "cell_type": "markdown",
   "metadata": {},
   "source": [
    "OK works pretty well but asks again for a guess at the end of the game which doesn't make much sense. \n",
    "\n",
    "What can we do? We only want to ask for a guess if the user hasn't found the right number. This suggests that we should re-organize the if-statement."
   ]
  },
  {
   "cell_type": "code",
   "execution_count": null,
   "metadata": {},
   "outputs": [],
   "source": [
    "import random\n",
    "\n",
    "# Initial guess\n",
    "num_min = 0\n",
    "num_max = 100\n",
    "num_to_guess = random.randint(num_min, num_max)\n",
    "\n",
    "# Debug mode\n",
    "print('Number to guess:', num_to_guess, '(for debugging)')\n",
    "\n",
    "# Initial guess from user\n",
    "guess = input(\"Guess a number between \" + str(num_min) + \" and \" + str(num_max) + \" inclusive. ('q' to end): \")\n",
    "\n",
    "# Check user input\n",
    "while guess != 'q':\n",
    "    \n",
    "    print(\"You guessed: \", guess)\n",
    "    \n",
    "    # Higher, lowers, or you got it!\n",
    "    guess_int = int(guess) \n",
    "    \n",
    "    if guess_int == num_to_guess:\n",
    "        print(\"You got it!\")\n",
    "        \n",
    "    else:\n",
    "        ...\n",
    "        \n",
    "print('\\nGame Over')"
   ]
  },
  {
   "cell_type": "code",
   "execution_count": null,
   "metadata": {},
   "outputs": [],
   "source": []
  },
  {
   "cell_type": "code",
   "execution_count": null,
   "metadata": {},
   "outputs": [],
   "source": []
  },
  {
   "cell_type": "code",
   "execution_count": null,
   "metadata": {},
   "outputs": [],
   "source": []
  },
  {
   "cell_type": "markdown",
   "metadata": {},
   "source": [
    "Can someone explain what is going on?\n",
    "\n",
    "This is a common bug with loops. And we'll come back to this in the next lecture."
   ]
  }
 ],
 "metadata": {
  "kernelspec": {
   "display_name": "Python 3 (ipykernel)",
   "language": "python",
   "name": "python3"
  },
  "language_info": {
   "codemirror_mode": {
    "name": "ipython",
    "version": 3
   },
   "file_extension": ".py",
   "mimetype": "text/x-python",
   "name": "python",
   "nbconvert_exporter": "python",
   "pygments_lexer": "ipython3",
   "version": "3.10.9"
  }
 },
 "nbformat": 4,
 "nbformat_minor": 4
}
