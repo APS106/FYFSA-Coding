{
 "cells": [
  {
   "cell_type": "code",
   "execution_count": 1,
   "id": "8fca94ae-504a-4de8-bd9a-1aeec1a1a149",
   "metadata": {},
   "outputs": [
    {
     "ename": "FileNotFoundError",
     "evalue": "[Errno 2] No such file or directory: 'valid-wordle-words.txt'",
     "output_type": "error",
     "traceback": [
      "\u001b[0;31m---------------------------------------------------------------------------\u001b[0m",
      "\u001b[0;31mFileNotFoundError\u001b[0m                         Traceback (most recent call last)",
      "Cell \u001b[0;32mIn[1], line 2\u001b[0m\n\u001b[1;32m      1\u001b[0m valid_words \u001b[38;5;241m=\u001b[39m []\n\u001b[0;32m----> 2\u001b[0m \u001b[38;5;28;01mwith\u001b[39;00m \u001b[38;5;28;43mopen\u001b[39;49m\u001b[43m(\u001b[49m\u001b[38;5;124;43m'\u001b[39;49m\u001b[38;5;124;43mvalid-wordle-words.txt\u001b[39;49m\u001b[38;5;124;43m'\u001b[39;49m\u001b[43m,\u001b[49m\u001b[43m  \u001b[49m\u001b[38;5;124;43m'\u001b[39;49m\u001b[38;5;124;43mr\u001b[39;49m\u001b[38;5;124;43m'\u001b[39;49m\u001b[43m)\u001b[49m \u001b[38;5;28;01mas\u001b[39;00m file:\n\u001b[1;32m      3\u001b[0m     \u001b[38;5;28;01mfor\u001b[39;00m word \u001b[38;5;129;01min\u001b[39;00m file:\n\u001b[1;32m      4\u001b[0m         valid_words\u001b[38;5;241m.\u001b[39mappend(word\u001b[38;5;241m.\u001b[39mstrip())\n",
      "File \u001b[0;32m~/anaconda3/lib/python3.10/site-packages/IPython/core/interactiveshell.py:282\u001b[0m, in \u001b[0;36m_modified_open\u001b[0;34m(file, *args, **kwargs)\u001b[0m\n\u001b[1;32m    275\u001b[0m \u001b[38;5;28;01mif\u001b[39;00m file \u001b[38;5;129;01min\u001b[39;00m {\u001b[38;5;241m0\u001b[39m, \u001b[38;5;241m1\u001b[39m, \u001b[38;5;241m2\u001b[39m}:\n\u001b[1;32m    276\u001b[0m     \u001b[38;5;28;01mraise\u001b[39;00m \u001b[38;5;167;01mValueError\u001b[39;00m(\n\u001b[1;32m    277\u001b[0m         \u001b[38;5;124mf\u001b[39m\u001b[38;5;124m\"\u001b[39m\u001b[38;5;124mIPython won\u001b[39m\u001b[38;5;124m'\u001b[39m\u001b[38;5;124mt let you open fd=\u001b[39m\u001b[38;5;132;01m{\u001b[39;00mfile\u001b[38;5;132;01m}\u001b[39;00m\u001b[38;5;124m by default \u001b[39m\u001b[38;5;124m\"\u001b[39m\n\u001b[1;32m    278\u001b[0m         \u001b[38;5;124m\"\u001b[39m\u001b[38;5;124mas it is likely to crash IPython. If you know what you are doing, \u001b[39m\u001b[38;5;124m\"\u001b[39m\n\u001b[1;32m    279\u001b[0m         \u001b[38;5;124m\"\u001b[39m\u001b[38;5;124myou can use builtins\u001b[39m\u001b[38;5;124m'\u001b[39m\u001b[38;5;124m open.\u001b[39m\u001b[38;5;124m\"\u001b[39m\n\u001b[1;32m    280\u001b[0m     )\n\u001b[0;32m--> 282\u001b[0m \u001b[38;5;28;01mreturn\u001b[39;00m \u001b[43mio_open\u001b[49m\u001b[43m(\u001b[49m\u001b[43mfile\u001b[49m\u001b[43m,\u001b[49m\u001b[43m \u001b[49m\u001b[38;5;241;43m*\u001b[39;49m\u001b[43margs\u001b[49m\u001b[43m,\u001b[49m\u001b[43m \u001b[49m\u001b[38;5;241;43m*\u001b[39;49m\u001b[38;5;241;43m*\u001b[39;49m\u001b[43mkwargs\u001b[49m\u001b[43m)\u001b[49m\n",
      "\u001b[0;31mFileNotFoundError\u001b[0m: [Errno 2] No such file or directory: 'valid-wordle-words.txt'"
     ]
    }
   ],
   "source": [
    "valid_words = []\n",
    "with open('valid-wordle-words.txt',  'r') as file:\n",
    "    for word in file:\n",
    "        valid_words.append(word.strip())\n",
    "\n",
    "remainingGuesses = valid_words[:]\n",
    "\n",
    "for i in valid_words:\n",
    "    for j in i:\n",
    "        if i.count(j) > 1:\n",
    "            if i in remainingGuesses:\n",
    "                remainingGuesses.remove(i)\n",
    "\n",
    "print('''Instructions: a word will be given to you. You must enter it into a Wordle game. \n",
    "      Then, according to the results, you must return 0, 1 or 2 for each letter. \n",
    "      0 means letter is not in word, 1 means incorrect place and 2 means correct. \n",
    "      Do not insert any spaces or symbols. When 22222 is input, the game ends.''')\n",
    "print(\"\\nswirl\")\n",
    "\n",
    "currentGuess = \"swirl\"\n",
    "currentGuessResult = input()\n",
    "newRemainingGuesses = remainingGuesses[:]\n",
    "while currentGuessResult != \"22222\":\n",
    "    for i in range(5):\n",
    "        if currentGuessResult[i] == \"2\":\n",
    "            for j in remainingGuesses:\n",
    "                if j[i] != currentGuess[i]:\n",
    "                    if j in newRemainingGuesses:\n",
    "                        newRemainingGuesses.remove(j)\n",
    "        elif currentGuessResult[i] == \"1\":\n",
    "            for j in remainingGuesses:\n",
    "                if not currentGuess[i] in j:\n",
    "                    if j in newRemainingGuesses:\n",
    "                        newRemainingGuesses.remove(j)\n",
    "                elif i == j.find(currentGuess[i]):\n",
    "                    if j in newRemainingGuesses:\n",
    "                        newRemainingGuesses.remove(j)\n",
    "        elif currentGuessResult[i] == \"0\":\n",
    "            for j in remainingGuesses:\n",
    "                if currentGuess[i] in j:\n",
    "                    if j in newRemainingGuesses:\n",
    "                        newRemainingGuesses.remove(j)\n",
    "        else:\n",
    "            raise ValueError(\"Only 0, 1 and 2 is allowed.\")\n",
    "\n",
    "    remainingGuesses = newRemainingGuesses[:]\n",
    "    if len(remainingGuesses) == 0:\n",
    "        print(\"No remaining guesses\")\n",
    "        break\n",
    "    print(remainingGuesses[0])\n",
    "    currentGuess = remainingGuesses[0]\n",
    "    currentGuessResult = input()\n",
    "\n",
    "print(\"Congratulations, you did it\")"
   ]
  },
  {
   "cell_type": "code",
   "execution_count": null,
   "id": "5d181b94",
   "metadata": {},
   "outputs": [],
   "source": []
  }
 ],
 "metadata": {
  "kernelspec": {
   "display_name": "Python 3 (ipykernel)",
   "language": "python",
   "name": "python3"
  },
  "language_info": {
   "codemirror_mode": {
    "name": "ipython",
    "version": 3
   },
   "file_extension": ".py",
   "mimetype": "text/x-python",
   "name": "python",
   "nbconvert_exporter": "python",
   "pygments_lexer": "ipython3",
   "version": "3.10.9"
  }
 },
 "nbformat": 4,
 "nbformat_minor": 5
}
