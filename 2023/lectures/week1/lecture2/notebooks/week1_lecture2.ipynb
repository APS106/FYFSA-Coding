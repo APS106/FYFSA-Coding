{
 "cells": [
  {
   "cell_type": "markdown",
   "metadata": {},
   "source": [
    "# Fundamentals of Computer Programming\n",
    "\n",
    "## Week 1 | Lecture 2 (1.2) - Functions, Input & Output, Importing Modules\n",
    "\n",
    "\n",
    "### Lecture Structure\n",
    "1. [Why do we write functions?](#section1)\n",
    "2. [Function Call](#section2)\n",
    "3. [Back to Evaluation and Expressions](#section3)\n",
    "4. [Breakout Session 1](#section4)\n",
    "5. [Built-in Functions](#section5)\n",
    "6. [Function Help](#section6)\n",
    "7. [Output](#section7)\n",
    "8. [Input](#section8)\n",
    "9. [Breakout Session 2](#section9)\n",
    "10. [Importing Functions and Modules](#section10)\n",
    "11. [Defining Your Own Functions](#section11)"
   ]
  },
  {
   "cell_type": "markdown",
   "metadata": {},
   "source": [
    "<a id='section1'></a>\n",
    "## 1. Why do we write functions?\n",
    "Let's imagine that the algorithm takes 10 lines of code. It would be painful and inefficient if you had to write the exact same 10 lines of code everytime you wanted to calculate sine."
   ]
  },
  {
   "cell_type": "markdown",
   "metadata": {},
   "source": [
    "```python\n",
    "# Note: this code won't run as it is just a sketch of what you would need to do\n",
    "# without functions\n",
    "\n",
    "angle1 = 1.57 # radians\n",
    "# 10 lines to calculate sin\n",
    "# sin_angle1 = <something>\n",
    "\n",
    "angle2 = 3.14 # radians\n",
    "# 10 lines to calculate sin\n",
    "# sin_angle2 = <something>\n",
    "\n",
    "result = sin_angle1 + sin_angle2\n",
    "print(result)\n",
    "```"
   ]
  },
  {
   "cell_type": "markdown",
   "metadata": {},
   "source": [
    "Does anyone actually know how to calculate sine? This is what the code above would look like if I actually inserted code to compute the sine of an angle."
   ]
  },
  {
   "cell_type": "code",
   "execution_count": null,
   "metadata": {},
   "outputs": [],
   "source": [
    "# The first angle\n",
    "angle1 = 1.57 # radians \n",
    "\n",
    "\"\"\"\n",
    "Code to compute sine (start)\n",
    "\"\"\"\n",
    "multiplier = -1.0\n",
    "sin_angle1 = angle1\n",
    "n = 21\n",
    "factorials = []\n",
    "memoized_to = n\n",
    "prev = 1\n",
    "factorials.append(1)\n",
    "\n",
    "for i in range(1, n + 1):\n",
    "    factorials.append(i * prev)\n",
    "    prev = factorials[i]\n",
    "\n",
    "for currentdegree in range(3, (n + 1), 2):\n",
    "\n",
    "    sin_angle1 += ( (angle1 ** currentdegree) / factorials[currentdegree] * multiplier )\n",
    "\n",
    "    multiplier *= -1\n",
    "\"\"\"\n",
    "Code to compute sine (end)\n",
    "\"\"\"\n",
    "\n",
    "# The second angle\n",
    "angle2 = 3.14 # radians\n",
    "\n",
    "\"\"\"\n",
    "Code to compute sine (start)\n",
    "\"\"\"\n",
    "multiplier = -1.0\n",
    "sin_angle2 = angle2\n",
    "n = 16\n",
    "factorials = []\n",
    "memoized_to = n\n",
    "prev = 1\n",
    "factorials.append(1)\n",
    "\n",
    "for i in range(1, n + 1):\n",
    "    factorials.append(i * prev)\n",
    "    prev = factorials[i]\n",
    "\n",
    "for currentdegree in range(3, (n + 1), 2):\n",
    "\n",
    "    sin_angle2 += ( (angle2 ** currentdegree) / factorials[currentdegree] * multiplier )\n",
    "\n",
    "    multiplier *= -1  \n",
    "\"\"\"\n",
    "Code to compute sine (start)\n",
    "\"\"\"\n",
    "\n",
    "# Let's add the two sines\n",
    "result = sin_angle1 + sin_angle2\n",
    "\n",
    "# And print the results\n",
    "print('{:.4f}'.format(result))"
   ]
  },
  {
   "cell_type": "markdown",
   "metadata": {},
   "source": [
    "This is code hurts my head just looking at it. Instead, you could create (or, in fact, someone else has already created) a function called `sin` that you can \"call\" (i.e., execute the code) whenever you want to calculate the sine of an angle.\n",
    "\n",
    "And so you can write code like this (you won't understand everything in this code until the end of this lecture)."
   ]
  },
  {
   "cell_type": "code",
   "execution_count": null,
   "metadata": {},
   "outputs": [],
   "source": [
    "import math\n",
    "\n",
    "angle1 = 1.57 # radians\n",
    "angle2 = 3.14 # radians\n",
    "\n",
    "result = math.sin(angle1) + math.sin(angle2)\n",
    "\n",
    "print(result)"
   ]
  },
  {
   "cell_type": "markdown",
   "metadata": {},
   "source": [
    "The take away is simple. Functions make code:\n",
    "- easy to ready\n",
    "- easy to maintain\n",
    "- easy to write\n",
    "- easy to share\n",
    "\n",
    "You'll also notice that the above code calls the function `sin()` twice in the same expression! (As well as the the `+` operator.)"
   ]
  },
  {
   "cell_type": "markdown",
   "metadata": {},
   "source": [
    "<a id='section2'></a>\n",
    "## 2. Function Call\n",
    "#### Examples\n",
    "In the example below `abs()` is the **`function`** we are **`calling`** and `-20` is the **`argument`** that we're passing to the function."
   ]
  },
  {
   "cell_type": "code",
   "execution_count": null,
   "metadata": {},
   "outputs": [],
   "source": [
    "x = abs()\n",
    "print(x)"
   ]
  },
  {
   "cell_type": "markdown",
   "metadata": {},
   "source": [
    "And, `20` is what the function **`returns`**.\n",
    "\n",
    "In the example below, you can see we're using two functions calls in the same line of code."
   ]
  },
  {
   "cell_type": "code",
   "execution_count": null,
   "metadata": {},
   "outputs": [],
   "source": [
    "y = abs(abs(-20)) + abs(-3)\n",
    "print(y)"
   ]
  },
  {
   "cell_type": "markdown",
   "metadata": {},
   "source": [
    "Both `print()` and `abs()` are built-in function in Python."
   ]
  },
  {
   "cell_type": "markdown",
   "metadata": {},
   "source": [
    "<a id='section3'></a>\n",
    "## 3. Back to Evaluation and Expressions\n",
    "Let's take the simpler case first."
   ]
  },
  {
   "cell_type": "code",
   "execution_count": null,
   "metadata": {},
   "outputs": [],
   "source": [
    "x = abs(-20)\n",
    "print(x)"
   ]
  },
  {
   "cell_type": "markdown",
   "metadata": {},
   "source": [
    "Let's make it a bit more complicated."
   ]
  },
  {
   "cell_type": "code",
   "execution_count": null,
   "metadata": {},
   "outputs": [],
   "source": [
    "y = -20\n",
    "x = abs(y)\n",
    "print(x)"
   ]
  },
  {
   "cell_type": "markdown",
   "metadata": {},
   "source": [
    "Now the argument of the function call is not a constant (`-20`) but rather a variable (`y`). The rules for function calls are that each argument needs to be evaluated and then the function is called. \n",
    "\n",
    "1. `y` gets evaluated to its value (-20) \n",
    "2. -20 is passed to the function\n",
    "3. The function is evaluated and returns 20\n",
    "4. 20 is assignned to the variable `x`\n",
    "\n",
    "How about this?"
   ]
  },
  {
   "cell_type": "code",
   "execution_count": null,
   "metadata": {},
   "outputs": [],
   "source": [
    "y = -20\n",
    "z = -5\n",
    "x = abs(y + z)\n",
    "print(x)"
   ]
  },
  {
   "cell_type": "markdown",
   "metadata": {},
   "source": [
    "The thing in the parenthesis is an expression! And so it can be evaluated following the normal rules. That means that:\n",
    "1. `y` is evalulated to -20\n",
    "2. z is evaluated to -5\n",
    "3. the `+` operator is evaluated with -20 and -5 to result in -25\n",
    "4. -25 is passed to the `abs` function\n",
    "5. 25 is returned from the `abs` function\n",
    "6. 25 is assigned to `x`"
   ]
  },
  {
   "cell_type": "markdown",
   "metadata": {},
   "source": [
    "<a id='section4'></a>\n",
    "## 4. Breakout Session 1\n",
    "Write the following expression in the cell below and use the built-in `print()` function to print the answer.\n",
    "\n",
    "**$x = \\frac{|y + z| + |y * z|}{y^\\alpha}$**\n",
    "\n",
    "where,\n",
    "- $y$ = -20\n",
    "- $z$ = -100\n",
    "- $\\alpha$ = 2"
   ]
  },
  {
   "cell_type": "code",
   "execution_count": null,
   "metadata": {},
   "outputs": [],
   "source": [
    "# write your code here\n"
   ]
  },
  {
   "cell_type": "markdown",
   "metadata": {},
   "source": [
    "<a id='section5'></a>\n",
    "## 5. Built-in Functions"
   ]
  },
  {
   "cell_type": "markdown",
   "metadata": {},
   "source": [
    "You can see a list of built-in functions by using the function `dir`.\n",
    "\n",
    "##### Function: `dir`\n",
    "Returns list of the attributes and methods of any object. "
   ]
  },
  {
   "cell_type": "code",
   "execution_count": null,
   "metadata": {
    "scrolled": true
   },
   "outputs": [],
   "source": [
    "dir(__builtins__)"
   ]
  },
  {
   "cell_type": "markdown",
   "metadata": {},
   "source": [
    "Many of these will not make sense to you at this point - that is fine. \n",
    "\n",
    "Here are a few useful built-in functions.\n",
    "\n",
    "#### `pow()` raises a number to the power of another number"
   ]
  },
  {
   "cell_type": "code",
   "execution_count": null,
   "metadata": {},
   "outputs": [],
   "source": [
    "x = pow(2, 5) # 2**5\n",
    "print(x)\n",
    "\n",
    "y = pow(x, 2) # x**2\n",
    "print(y)"
   ]
  },
  {
   "cell_type": "markdown",
   "metadata": {},
   "source": [
    "#### `int()` converts a number to an integer - throwing away everything after the decimal"
   ]
  },
  {
   "cell_type": "code",
   "execution_count": null,
   "metadata": {},
   "outputs": [],
   "source": [
    "z = int(4.2)\n",
    "print(z)\n",
    "\n",
    "w = int(3.999)\n",
    "print(w)\n",
    "\n",
    "y = int('3')\n",
    "print(y)\n",
    "\n",
    "\n",
    "type(w)"
   ]
  },
  {
   "cell_type": "markdown",
   "metadata": {},
   "source": [
    "Because,\n",
    "\n",
    "1. **arguments of functions are expressions** \n",
    "\n",
    "2. **function calls are just expressions**\n",
    "\n",
    "we can call functions with the output of other functions like this:"
   ]
  },
  {
   "cell_type": "code",
   "execution_count": null,
   "metadata": {},
   "outputs": [],
   "source": [
    "x = pow(int(5.2), abs(-2))  # pow(5, 2)\n",
    "print(x)"
   ]
  },
  {
   "cell_type": "markdown",
   "metadata": {},
   "source": [
    "Remember: before a function is called, its arguments must be all evaluated. \n",
    "\n",
    "And so what happens above?\n",
    "\n",
    "1. `int()` is called with the value 5.2 and returns 5\n",
    "2. `abs()` is called with the value -2 and returns 2\n",
    "3. `pow()` is called with the values 5 and 2 and returns 25"
   ]
  },
  {
   "cell_type": "markdown",
   "metadata": {},
   "source": [
    "So, `x = pow(int(5.2), abs(-2))` is the same as:"
   ]
  },
  {
   "cell_type": "code",
   "execution_count": null,
   "metadata": {},
   "outputs": [],
   "source": [
    "x = pow(5, 2)\n",
    "print(x)"
   ]
  },
  {
   "cell_type": "markdown",
   "metadata": {},
   "source": [
    "You can go even further with these expressions."
   ]
  },
  {
   "cell_type": "code",
   "execution_count": null,
   "metadata": {},
   "outputs": [],
   "source": [
    "x = pow(abs(int(-5.2)), abs(-2) + 12 - pow(1, 2)) # pow(5, 13)\n",
    "print(x)"
   ]
  },
  {
   "cell_type": "markdown",
   "metadata": {},
   "source": [
    "#### Important Note\n",
    "This isn't very good code because it is hard to understand. But it is legal! **Just because Python will let you do something doesn't mean its the best way to do it.**"
   ]
  },
  {
   "cell_type": "markdown",
   "metadata": {},
   "source": [
    "<a id='section6'></a>\n",
    "## 6. Function Help\n",
    "One very useful function is `help()` which gives you documentation on functions."
   ]
  },
  {
   "cell_type": "code",
   "execution_count": null,
   "metadata": {},
   "outputs": [],
   "source": [
    "help(abs)"
   ]
  },
  {
   "cell_type": "code",
   "execution_count": null,
   "metadata": {},
   "outputs": [],
   "source": [
    "help(pow)"
   ]
  },
  {
   "cell_type": "markdown",
   "metadata": {},
   "source": [
    "Another alternative is to type **```SHIFT-TAB```** inside the function parentheses."
   ]
  },
  {
   "cell_type": "code",
   "execution_count": null,
   "metadata": {},
   "outputs": [],
   "source": [
    "pow()"
   ]
  },
  {
   "cell_type": "markdown",
   "metadata": {},
   "source": [
    "<a id='section7'></a>\n",
    "## 7. Ouput\n",
    "`print()` can do things like this."
   ]
  },
  {
   "cell_type": "code",
   "execution_count": null,
   "metadata": {},
   "outputs": [],
   "source": [
    "print(3 + 7 + abs(-5))"
   ]
  },
  {
   "cell_type": "markdown",
   "metadata": {},
   "source": [
    "`print()` can take more than one argument and its default behavior is to print each argument out, separated by a space."
   ]
  },
  {
   "cell_type": "code",
   "execution_count": null,
   "metadata": {},
   "outputs": [],
   "source": [
    "print(\"hello\", \"there\")\n",
    "print('hi')\n",
    "\n",
    "help(print)"
   ]
  },
  {
   "cell_type": "code",
   "execution_count": null,
   "metadata": {},
   "outputs": [],
   "source": [
    "print(\"hello\", \"there\", \"how\", \"are\", 'you?')"
   ]
  },
  {
   "cell_type": "markdown",
   "metadata": {},
   "source": [
    "We can mix different constant and variable types."
   ]
  },
  {
   "cell_type": "code",
   "execution_count": null,
   "metadata": {},
   "outputs": [],
   "source": [
    "name = 'Ben'\n",
    "age = 36\n",
    "print(\"Hello, my name is\", name, \"and I am age\", age, \"years old.\")"
   ]
  },
  {
   "cell_type": "markdown",
   "metadata": {},
   "source": [
    "<a id='section8'></a>\n",
    "## 8. Input"
   ]
  },
  {
   "cell_type": "code",
   "execution_count": null,
   "metadata": {},
   "outputs": [],
   "source": [
    "name = input(\"What is your age? \")"
   ]
  },
  {
   "cell_type": "code",
   "execution_count": null,
   "metadata": {},
   "outputs": [],
   "source": [
    "print(type(name))\n",
    "#print(\"Hello, my name is\", name)"
   ]
  },
  {
   "cell_type": "markdown",
   "metadata": {},
   "source": [
    "The value returned from `input` is **always** a string."
   ]
  },
  {
   "cell_type": "code",
   "execution_count": null,
   "metadata": {},
   "outputs": [],
   "source": [
    "number = '5'\n",
    "'5' + 5"
   ]
  },
  {
   "cell_type": "markdown",
   "metadata": {},
   "source": [
    "<a id='section9'></a>\n",
    "## 9. Breakout Session 2\n",
    "Write code to print out the following text:\n",
    "\n",
    "```\"Hello, my name is {} and I'm hoping to get a grade of {} in APS106 this term.\"```\n",
    "\n",
    "Where you see curly brackets `{}` you need to use the `input` function to prompt the user to enter that information."
   ]
  },
  {
   "cell_type": "code",
   "execution_count": 1,
   "metadata": {},
   "outputs": [],
   "source": [
    "# write your code here\n"
   ]
  },
  {
   "cell_type": "markdown",
   "metadata": {},
   "source": [
    "<a id='section10'></a>\n",
    "## 10. Importing Functions and Modules\n",
    "This code gets you access to the functions in the math module."
   ]
  },
  {
   "cell_type": "code",
   "execution_count": null,
   "metadata": {},
   "outputs": [],
   "source": [
    "import math"
   ]
  },
  {
   "cell_type": "markdown",
   "metadata": {},
   "source": [
    "Once you have imported the module, you can get a list of the function using the `help()` function."
   ]
  },
  {
   "cell_type": "code",
   "execution_count": null,
   "metadata": {},
   "outputs": [],
   "source": [
    "help(math)"
   ]
  },
  {
   "cell_type": "markdown",
   "metadata": {},
   "source": [
    "You can access the functions in a module by using the syntax:\n",
    "\n",
    "**`module_name.function_name(arguments)`**\n",
    "\n",
    "So for example:"
   ]
  },
  {
   "cell_type": "code",
   "execution_count": null,
   "metadata": {},
   "outputs": [],
   "source": [
    "print(math.sqrt(16))"
   ]
  },
  {
   "cell_type": "code",
   "execution_count": null,
   "metadata": {},
   "outputs": [],
   "source": [
    "degrees = 90\n",
    "print(math.sin(degrees))"
   ]
  },
  {
   "cell_type": "markdown",
   "metadata": {},
   "source": [
    "Does the above look problematic to you? Is the sine of 90 degrees correct?\n",
    "\n",
    "Maybe you are confused about the function `math.sin()`."
   ]
  },
  {
   "cell_type": "code",
   "execution_count": null,
   "metadata": {},
   "outputs": [],
   "source": [
    "help(math.sin)"
   ]
  },
  {
   "cell_type": "markdown",
   "metadata": {},
   "source": [
    "Aha! The input angle should be in radians not degrees!"
   ]
  },
  {
   "cell_type": "code",
   "execution_count": null,
   "metadata": {},
   "outputs": [],
   "source": [
    "sin90 = math.sin(math.radians(degrees))\n",
    "print(sin90)"
   ]
  },
  {
   "cell_type": "markdown",
   "metadata": {},
   "source": [
    "<a id='section11'></a>\n",
    "## 11. Defining Your Own Functions\n",
    "Let's try writing a function to take the square of a number."
   ]
  },
  {
   "cell_type": "code",
   "execution_count": null,
   "metadata": {},
   "outputs": [],
   "source": [
    "def square(x):\n",
    "    \n",
    "    output = x*x\n",
    "    \n",
    "    return output"
   ]
  },
  {
   "cell_type": "code",
   "execution_count": null,
   "metadata": {},
   "outputs": [],
   "source": [
    "num = 4\n",
    "num_sq = square(num)\n",
    "print(num, num_sq)"
   ]
  },
  {
   "cell_type": "markdown",
   "metadata": {},
   "source": [
    "And let's try one more."
   ]
  },
  {
   "cell_type": "code",
   "execution_count": null,
   "metadata": {},
   "outputs": [],
   "source": [
    "print(square(8))"
   ]
  },
  {
   "cell_type": "markdown",
   "metadata": {},
   "source": [
    "In the code above, you'll note that the variable inside the function does not have to be the same name as the variable you pass in (e.g. `square(x)` and `square(num)`).\n",
    "\n",
    "In the code code below, you will notice that the variable inside the function does not conflict with variable names outside the function. Even if they have the same name, they are different variables.\n",
    "\n",
    "Remember our simple `square` function."
   ]
  },
  {
   "cell_type": "code",
   "execution_count": null,
   "metadata": {},
   "outputs": [],
   "source": [
    "def square(x):\n",
    "    return x*"
   ]
  },
  {
   "cell_type": "markdown",
   "metadata": {},
   "source": [
    "In the code below, we have a variable `x` defined outside the function and a variable `x` in the function."
   ]
  },
  {
   "cell_type": "code",
   "execution_count": null,
   "metadata": {},
   "outputs": [],
   "source": [
    "x = 4\n",
    "num_sq = square(8)\n",
    "print(x, num_sq)"
   ]
  },
  {
   "cell_type": "markdown",
   "metadata": {},
   "source": [
    "Let's be a bit more explicit with this important concept."
   ]
  },
  {
   "cell_type": "code",
   "execution_count": null,
   "metadata": {},
   "outputs": [],
   "source": [
    "def square(x):\n",
    "    print(\"Inside function. x = \", x)\n",
    "    return x*x"
   ]
  },
  {
   "cell_type": "code",
   "execution_count": null,
   "metadata": {},
   "outputs": [],
   "source": [
    "x = 4\n",
    "print(\"Outside function. x = \", x)\n",
    "num_sq = square(8)\n",
    "print(\"Outside function. x = \", x)"
   ]
  },
  {
   "cell_type": "markdown",
   "metadata": {},
   "source": [
    "**The `x` variable inside the function and the `x` variable outside the function are completely independent!**\n",
    "\n",
    "You should think variables named in the arguments of a function and those created inside the function as living **only** in side the function. \n",
    "\n",
    "The variable does not exist before the function is called. \n",
    "\n",
    "It is created when the function is called and it is destroyed with the function ends."
   ]
  }
 ],
 "metadata": {
  "kernelspec": {
   "display_name": "Python 3 (ipykernel)",
   "language": "python",
   "name": "python3"
  },
  "language_info": {
   "codemirror_mode": {
    "name": "ipython",
    "version": 3
   },
   "file_extension": ".py",
   "mimetype": "text/x-python",
   "name": "python",
   "nbconvert_exporter": "python",
   "pygments_lexer": "ipython3",
   "version": "3.10.9"
  }
 },
 "nbformat": 4,
 "nbformat_minor": 4
}
